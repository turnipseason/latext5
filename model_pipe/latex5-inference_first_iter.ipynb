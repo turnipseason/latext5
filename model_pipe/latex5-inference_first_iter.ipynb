{
 "cells": [
  {
   "cell_type": "code",
   "execution_count": 1,
   "id": "877318ad",
   "metadata": {
    "_cell_guid": "b1076dfc-b9ad-4769-8c92-a6c4dae69d19",
    "_uuid": "8f2839f25d086af736a60e9eeb907d3b93b6e0e5",
    "execution": {
     "iopub.execute_input": "2024-05-19T02:41:30.958800Z",
     "iopub.status.busy": "2024-05-19T02:41:30.958287Z",
     "iopub.status.idle": "2024-05-19T02:41:58.929227Z",
     "shell.execute_reply": "2024-05-19T02:41:58.928372Z"
    },
    "papermill": {
     "duration": 27.995567,
     "end_time": "2024-05-19T02:41:58.931818",
     "exception": false,
     "start_time": "2024-05-19T02:41:30.936251",
     "status": "completed"
    },
    "tags": []
   },
   "outputs": [
    {
     "name": "stderr",
     "output_type": "stream",
     "text": [
      "2024-05-19 02:41:47.016958: E external/local_xla/xla/stream_executor/cuda/cuda_dnn.cc:9261] Unable to register cuDNN factory: Attempting to register factory for plugin cuDNN when one has already been registered\n",
      "2024-05-19 02:41:47.017068: E external/local_xla/xla/stream_executor/cuda/cuda_fft.cc:607] Unable to register cuFFT factory: Attempting to register factory for plugin cuFFT when one has already been registered\n",
      "2024-05-19 02:41:47.276843: E external/local_xla/xla/stream_executor/cuda/cuda_blas.cc:1515] Unable to register cuBLAS factory: Attempting to register factory for plugin cuBLAS when one has already been registered\n"
     ]
    }
   ],
   "source": [
    "import numpy as np \n",
    "import pandas as pd \n",
    "import os\n",
    "\n",
    "import torch\n",
    "from torch.utils.data import Dataset\n",
    "from torch.utils.data import DataLoader\n",
    "\n",
    "from transformers import AutoTokenizer, AutoModelForSeq2SeqLM, T5ForConditionalGeneration\n",
    "\n",
    "import torch.nn as nn\n",
    "from tensorflow.keras import activations, optimizers, losses\n"
   ]
  },
  {
   "cell_type": "code",
   "execution_count": 2,
   "id": "01d213a8",
   "metadata": {
    "execution": {
     "iopub.execute_input": "2024-05-19T02:41:58.974304Z",
     "iopub.status.busy": "2024-05-19T02:41:58.973783Z",
     "iopub.status.idle": "2024-05-19T02:42:15.237080Z",
     "shell.execute_reply": "2024-05-19T02:42:15.236085Z"
    },
    "papermill": {
     "duration": 16.287429,
     "end_time": "2024-05-19T02:42:15.239485",
     "exception": false,
     "start_time": "2024-05-19T02:41:58.952056",
     "status": "completed"
    },
    "tags": []
   },
   "outputs": [
    {
     "name": "stdout",
     "output_type": "stream",
     "text": [
      "Collecting rapidfuzz\r\n",
      "  Downloading rapidfuzz-3.9.0-cp310-cp310-manylinux_2_17_x86_64.manylinux2014_x86_64.whl.metadata (11 kB)\r\n",
      "Downloading rapidfuzz-3.9.0-cp310-cp310-manylinux_2_17_x86_64.manylinux2014_x86_64.whl (3.4 MB)\r\n",
      "\u001b[2K   \u001b[90m━━━━━━━━━━━━━━━━━━━━━━━━━━━━━━━━━━━━━━━━\u001b[0m \u001b[32m3.4/3.4 MB\u001b[0m \u001b[31m14.7 MB/s\u001b[0m eta \u001b[36m0:00:00\u001b[0m\r\n",
      "\u001b[?25hInstalling collected packages: rapidfuzz\r\n",
      "Successfully installed rapidfuzz-3.9.0\r\n"
     ]
    }
   ],
   "source": [
    "!pip install rapidfuzz"
   ]
  },
  {
   "cell_type": "code",
   "execution_count": 3,
   "id": "61436871",
   "metadata": {
    "execution": {
     "iopub.execute_input": "2024-05-19T02:42:15.281817Z",
     "iopub.status.busy": "2024-05-19T02:42:15.281438Z",
     "iopub.status.idle": "2024-05-19T02:42:15.306327Z",
     "shell.execute_reply": "2024-05-19T02:42:15.305628Z"
    },
    "papermill": {
     "duration": 0.048397,
     "end_time": "2024-05-19T02:42:15.308293",
     "exception": false,
     "start_time": "2024-05-19T02:42:15.259896",
     "status": "completed"
    },
    "tags": []
   },
   "outputs": [],
   "source": [
    "from rapidfuzz.distance import Levenshtein"
   ]
  },
  {
   "cell_type": "code",
   "execution_count": 4,
   "id": "70e8b0ac",
   "metadata": {
    "execution": {
     "iopub.execute_input": "2024-05-19T02:42:15.350877Z",
     "iopub.status.busy": "2024-05-19T02:42:15.350579Z",
     "iopub.status.idle": "2024-05-19T02:42:18.728410Z",
     "shell.execute_reply": "2024-05-19T02:42:18.727626Z"
    },
    "papermill": {
     "duration": 3.402363,
     "end_time": "2024-05-19T02:42:18.730690",
     "exception": false,
     "start_time": "2024-05-19T02:42:15.328327",
     "status": "completed"
    },
    "tags": []
   },
   "outputs": [],
   "source": [
    "model_dir = \"/kaggle/input/latex_t5/pytorch/num2word_plus_additional_trig_finetuning/1\"\n",
    "model = AutoModelForSeq2SeqLM.from_pretrained(model_dir)\n",
    "tokenizer = AutoTokenizer.from_pretrained(model_dir)"
   ]
  },
  {
   "cell_type": "code",
   "execution_count": 6,
   "id": "4bf48133",
   "metadata": {
    "execution": {
     "iopub.execute_input": "2024-05-19T02:42:18.821475Z",
     "iopub.status.busy": "2024-05-19T02:42:18.820466Z",
     "iopub.status.idle": "2024-05-19T02:42:31.758263Z",
     "shell.execute_reply": "2024-05-19T02:42:31.757185Z"
    },
    "papermill": {
     "duration": 12.961285,
     "end_time": "2024-05-19T02:42:31.760640",
     "exception": false,
     "start_time": "2024-05-19T02:42:18.799355",
     "status": "completed"
    },
    "tags": []
   },
   "outputs": [
    {
     "name": "stdout",
     "output_type": "stream",
     "text": [
      "Collecting xlsxwriter\r\n",
      "  Downloading XlsxWriter-3.2.0-py3-none-any.whl.metadata (2.6 kB)\r\n",
      "Downloading XlsxWriter-3.2.0-py3-none-any.whl (159 kB)\r\n",
      "\u001b[2K   \u001b[90m━━━━━━━━━━━━━━━━━━━━━━━━━━━━━━━━━━━━━━━━\u001b[0m \u001b[32m159.9/159.9 kB\u001b[0m \u001b[31m1.1 MB/s\u001b[0m eta \u001b[36m0:00:00\u001b[0m\r\n",
      "\u001b[?25hInstalling collected packages: xlsxwriter\r\n",
      "Successfully installed xlsxwriter-3.2.0\r\n"
     ]
    }
   ],
   "source": [
    "!pip install xlsxwriter"
   ]
  },
  {
   "cell_type": "code",
   "execution_count": 7,
   "id": "aba77c0e",
   "metadata": {
    "execution": {
     "iopub.execute_input": "2024-05-19T02:42:31.804137Z",
     "iopub.status.busy": "2024-05-19T02:42:31.803830Z",
     "iopub.status.idle": "2024-05-19T02:42:35.680562Z",
     "shell.execute_reply": "2024-05-19T02:42:35.679610Z"
    },
    "papermill": {
     "duration": 3.90117,
     "end_time": "2024-05-19T02:42:35.683042",
     "exception": false,
     "start_time": "2024-05-19T02:42:31.781872",
     "status": "completed"
    },
    "tags": []
   },
   "outputs": [],
   "source": [
    "df = pd.read_excel('/kaggle/input/15k-for-inference-raw-tags/15k_test_set_WITH_DOLLAR_AUG.xlsx').sample(frac=1)"
   ]
  },
  {
   "cell_type": "code",
   "execution_count": null,
   "id": "360e9167",
   "metadata": {
    "papermill": {
     "duration": 0.020349,
     "end_time": "2024-05-19T02:42:35.724692",
     "exception": false,
     "start_time": "2024-05-19T02:42:35.704343",
     "status": "completed"
    },
    "tags": []
   },
   "outputs": [],
   "source": []
  },
  {
   "cell_type": "code",
   "execution_count": 8,
   "id": "676bfec9",
   "metadata": {
    "execution": {
     "iopub.execute_input": "2024-05-19T02:42:35.767376Z",
     "iopub.status.busy": "2024-05-19T02:42:35.766477Z",
     "iopub.status.idle": "2024-05-19T02:42:35.886600Z",
     "shell.execute_reply": "2024-05-19T02:42:35.885571Z"
    },
    "papermill": {
     "duration": 0.143442,
     "end_time": "2024-05-19T02:42:35.888541",
     "exception": false,
     "start_time": "2024-05-19T02:42:35.745099",
     "status": "completed"
    },
    "tags": []
   },
   "outputs": [
    {
     "name": "stdout",
     "output_type": "stream",
     "text": [
      "GPU: Tesla T4\n"
     ]
    }
   ],
   "source": [
    "if torch.cuda.is_available():\n",
    "    # Get GPU device name\n",
    "    gpu_name = torch.cuda.get_device_name(0)\n",
    "    print(f\"GPU: {gpu_name}\")\n",
    "else:\n",
    "    print(\":( no gpu for u)\")"
   ]
  },
  {
   "cell_type": "code",
   "execution_count": 9,
   "id": "68f60e00",
   "metadata": {
    "execution": {
     "iopub.execute_input": "2024-05-19T02:42:35.931833Z",
     "iopub.status.busy": "2024-05-19T02:42:35.931230Z",
     "iopub.status.idle": "2024-05-19T02:42:36.222748Z",
     "shell.execute_reply": "2024-05-19T02:42:36.221848Z"
    },
    "papermill": {
     "duration": 0.315476,
     "end_time": "2024-05-19T02:42:36.224820",
     "exception": false,
     "start_time": "2024-05-19T02:42:35.909344",
     "status": "completed"
    },
    "tags": []
   },
   "outputs": [
    {
     "data": {
      "text/plain": [
       "MT5ForConditionalGeneration(\n",
       "  (shared): Embedding(20100, 512)\n",
       "  (encoder): MT5Stack(\n",
       "    (embed_tokens): Embedding(20100, 512)\n",
       "    (block): ModuleList(\n",
       "      (0): MT5Block(\n",
       "        (layer): ModuleList(\n",
       "          (0): MT5LayerSelfAttention(\n",
       "            (SelfAttention): MT5Attention(\n",
       "              (q): Linear(in_features=512, out_features=384, bias=False)\n",
       "              (k): Linear(in_features=512, out_features=384, bias=False)\n",
       "              (v): Linear(in_features=512, out_features=384, bias=False)\n",
       "              (o): Linear(in_features=384, out_features=512, bias=False)\n",
       "              (relative_attention_bias): Embedding(32, 6)\n",
       "            )\n",
       "            (layer_norm): MT5LayerNorm()\n",
       "            (dropout): Dropout(p=0.1, inplace=False)\n",
       "          )\n",
       "          (1): MT5LayerFF(\n",
       "            (DenseReluDense): MT5DenseGatedActDense(\n",
       "              (wi_0): Linear(in_features=512, out_features=1024, bias=False)\n",
       "              (wi_1): Linear(in_features=512, out_features=1024, bias=False)\n",
       "              (wo): Linear(in_features=1024, out_features=512, bias=False)\n",
       "              (dropout): Dropout(p=0.1, inplace=False)\n",
       "              (act): NewGELUActivation()\n",
       "            )\n",
       "            (layer_norm): MT5LayerNorm()\n",
       "            (dropout): Dropout(p=0.1, inplace=False)\n",
       "          )\n",
       "        )\n",
       "      )\n",
       "      (1-7): 7 x MT5Block(\n",
       "        (layer): ModuleList(\n",
       "          (0): MT5LayerSelfAttention(\n",
       "            (SelfAttention): MT5Attention(\n",
       "              (q): Linear(in_features=512, out_features=384, bias=False)\n",
       "              (k): Linear(in_features=512, out_features=384, bias=False)\n",
       "              (v): Linear(in_features=512, out_features=384, bias=False)\n",
       "              (o): Linear(in_features=384, out_features=512, bias=False)\n",
       "            )\n",
       "            (layer_norm): MT5LayerNorm()\n",
       "            (dropout): Dropout(p=0.1, inplace=False)\n",
       "          )\n",
       "          (1): MT5LayerFF(\n",
       "            (DenseReluDense): MT5DenseGatedActDense(\n",
       "              (wi_0): Linear(in_features=512, out_features=1024, bias=False)\n",
       "              (wi_1): Linear(in_features=512, out_features=1024, bias=False)\n",
       "              (wo): Linear(in_features=1024, out_features=512, bias=False)\n",
       "              (dropout): Dropout(p=0.1, inplace=False)\n",
       "              (act): NewGELUActivation()\n",
       "            )\n",
       "            (layer_norm): MT5LayerNorm()\n",
       "            (dropout): Dropout(p=0.1, inplace=False)\n",
       "          )\n",
       "        )\n",
       "      )\n",
       "    )\n",
       "    (final_layer_norm): MT5LayerNorm()\n",
       "    (dropout): Dropout(p=0.1, inplace=False)\n",
       "  )\n",
       "  (decoder): MT5Stack(\n",
       "    (embed_tokens): Embedding(20100, 512)\n",
       "    (block): ModuleList(\n",
       "      (0): MT5Block(\n",
       "        (layer): ModuleList(\n",
       "          (0): MT5LayerSelfAttention(\n",
       "            (SelfAttention): MT5Attention(\n",
       "              (q): Linear(in_features=512, out_features=384, bias=False)\n",
       "              (k): Linear(in_features=512, out_features=384, bias=False)\n",
       "              (v): Linear(in_features=512, out_features=384, bias=False)\n",
       "              (o): Linear(in_features=384, out_features=512, bias=False)\n",
       "              (relative_attention_bias): Embedding(32, 6)\n",
       "            )\n",
       "            (layer_norm): MT5LayerNorm()\n",
       "            (dropout): Dropout(p=0.1, inplace=False)\n",
       "          )\n",
       "          (1): MT5LayerCrossAttention(\n",
       "            (EncDecAttention): MT5Attention(\n",
       "              (q): Linear(in_features=512, out_features=384, bias=False)\n",
       "              (k): Linear(in_features=512, out_features=384, bias=False)\n",
       "              (v): Linear(in_features=512, out_features=384, bias=False)\n",
       "              (o): Linear(in_features=384, out_features=512, bias=False)\n",
       "            )\n",
       "            (layer_norm): MT5LayerNorm()\n",
       "            (dropout): Dropout(p=0.1, inplace=False)\n",
       "          )\n",
       "          (2): MT5LayerFF(\n",
       "            (DenseReluDense): MT5DenseGatedActDense(\n",
       "              (wi_0): Linear(in_features=512, out_features=1024, bias=False)\n",
       "              (wi_1): Linear(in_features=512, out_features=1024, bias=False)\n",
       "              (wo): Linear(in_features=1024, out_features=512, bias=False)\n",
       "              (dropout): Dropout(p=0.1, inplace=False)\n",
       "              (act): NewGELUActivation()\n",
       "            )\n",
       "            (layer_norm): MT5LayerNorm()\n",
       "            (dropout): Dropout(p=0.1, inplace=False)\n",
       "          )\n",
       "        )\n",
       "      )\n",
       "      (1-7): 7 x MT5Block(\n",
       "        (layer): ModuleList(\n",
       "          (0): MT5LayerSelfAttention(\n",
       "            (SelfAttention): MT5Attention(\n",
       "              (q): Linear(in_features=512, out_features=384, bias=False)\n",
       "              (k): Linear(in_features=512, out_features=384, bias=False)\n",
       "              (v): Linear(in_features=512, out_features=384, bias=False)\n",
       "              (o): Linear(in_features=384, out_features=512, bias=False)\n",
       "            )\n",
       "            (layer_norm): MT5LayerNorm()\n",
       "            (dropout): Dropout(p=0.1, inplace=False)\n",
       "          )\n",
       "          (1): MT5LayerCrossAttention(\n",
       "            (EncDecAttention): MT5Attention(\n",
       "              (q): Linear(in_features=512, out_features=384, bias=False)\n",
       "              (k): Linear(in_features=512, out_features=384, bias=False)\n",
       "              (v): Linear(in_features=512, out_features=384, bias=False)\n",
       "              (o): Linear(in_features=384, out_features=512, bias=False)\n",
       "            )\n",
       "            (layer_norm): MT5LayerNorm()\n",
       "            (dropout): Dropout(p=0.1, inplace=False)\n",
       "          )\n",
       "          (2): MT5LayerFF(\n",
       "            (DenseReluDense): MT5DenseGatedActDense(\n",
       "              (wi_0): Linear(in_features=512, out_features=1024, bias=False)\n",
       "              (wi_1): Linear(in_features=512, out_features=1024, bias=False)\n",
       "              (wo): Linear(in_features=1024, out_features=512, bias=False)\n",
       "              (dropout): Dropout(p=0.1, inplace=False)\n",
       "              (act): NewGELUActivation()\n",
       "            )\n",
       "            (layer_norm): MT5LayerNorm()\n",
       "            (dropout): Dropout(p=0.1, inplace=False)\n",
       "          )\n",
       "        )\n",
       "      )\n",
       "    )\n",
       "    (final_layer_norm): MT5LayerNorm()\n",
       "    (dropout): Dropout(p=0.1, inplace=False)\n",
       "  )\n",
       "  (lm_head): Linear(in_features=512, out_features=20100, bias=False)\n",
       ")"
      ]
     },
     "execution_count": 9,
     "metadata": {},
     "output_type": "execute_result"
    }
   ],
   "source": [
    "device = torch.device('cuda' if torch.cuda.is_available() else 'cpu')\n",
    "model.to(device)"
   ]
  },
  {
   "cell_type": "markdown",
   "id": "86838f09",
   "metadata": {
    "papermill": {
     "duration": 0.020699,
     "end_time": "2024-05-19T02:42:36.267237",
     "exception": false,
     "start_time": "2024-05-19T02:42:36.246538",
     "status": "completed"
    },
    "tags": []
   },
   "source": [
    "### Дальше -- сделать для основного инференса и пропустить для маленького "
   ]
  },
  {
   "cell_type": "code",
   "execution_count": 10,
   "id": "cf960aca",
   "metadata": {
    "execution": {
     "iopub.execute_input": "2024-05-19T02:42:36.310458Z",
     "iopub.status.busy": "2024-05-19T02:42:36.309978Z",
     "iopub.status.idle": "2024-05-19T02:42:36.317950Z",
     "shell.execute_reply": "2024-05-19T02:42:36.317205Z"
    },
    "papermill": {
     "duration": 0.031804,
     "end_time": "2024-05-19T02:42:36.319835",
     "exception": false,
     "start_time": "2024-05-19T02:42:36.288031",
     "status": "completed"
    },
    "tags": []
   },
   "outputs": [],
   "source": [
    "import matplotlib.pyplot as plt \n",
    "from statistics import median, mean\n",
    "from ast import literal_eval"
   ]
  },
  {
   "cell_type": "markdown",
   "id": "dc40f6df",
   "metadata": {
    "papermill": {
     "duration": 0.020662,
     "end_time": "2024-05-19T02:42:36.361410",
     "exception": false,
     "start_time": "2024-05-19T02:42:36.340748",
     "status": "completed"
    },
    "tags": []
   },
   "source": [
    "для сетов без проблем с literal_eval"
   ]
  },
  {
   "cell_type": "code",
   "execution_count": 11,
   "id": "5dcaa751",
   "metadata": {
    "execution": {
     "iopub.execute_input": "2024-05-19T02:42:36.405786Z",
     "iopub.status.busy": "2024-05-19T02:42:36.405238Z",
     "iopub.status.idle": "2024-05-19T02:42:36.411040Z",
     "shell.execute_reply": "2024-05-19T02:42:36.410102Z"
    },
    "papermill": {
     "duration": 0.029243,
     "end_time": "2024-05-19T02:42:36.412883",
     "exception": false,
     "start_time": "2024-05-19T02:42:36.383640",
     "status": "completed"
    },
    "tags": []
   },
   "outputs": [],
   "source": [
    "# находим уникальные теги\n",
    "# def get_unique_tags(df):\n",
    "#     uniques={}\n",
    "#     for tags in zip(df['tags']):\n",
    "#         # tags это тьюплы с одним элементом -- листом в виде строки\n",
    "#         # т.ч. сначала эту строку достаём\n",
    "#         # а потом literal_eval для того чтобы это было уже норм листом\n",
    "#         #print(tags[0])\n",
    "#         for tag in tags:\n",
    "#             if tag in uniques:\n",
    "#                 uniques[tag]+=1\n",
    "#             else: uniques[tag]=1\n",
    "#     return uniques"
   ]
  },
  {
   "cell_type": "markdown",
   "id": "091317fa",
   "metadata": {
    "papermill": {
     "duration": 0.020835,
     "end_time": "2024-05-19T02:42:36.454550",
     "exception": false,
     "start_time": "2024-05-19T02:42:36.433715",
     "status": "completed"
    },
    "tags": []
   },
   "source": [
    "для там где надо literal_eval"
   ]
  },
  {
   "cell_type": "code",
   "execution_count": 12,
   "id": "2bcb0c89",
   "metadata": {
    "execution": {
     "iopub.execute_input": "2024-05-19T02:42:36.497235Z",
     "iopub.status.busy": "2024-05-19T02:42:36.496989Z",
     "iopub.status.idle": "2024-05-19T02:42:36.501278Z",
     "shell.execute_reply": "2024-05-19T02:42:36.500459Z"
    },
    "papermill": {
     "duration": 0.027977,
     "end_time": "2024-05-19T02:42:36.503131",
     "exception": false,
     "start_time": "2024-05-19T02:42:36.475154",
     "status": "completed"
    },
    "tags": []
   },
   "outputs": [],
   "source": [
    "# добавление запятых в искажённые теги\n",
    "def insert_commas(tag_str):\n",
    "    tag_list = tag_str[1:-1].split(' ')\n",
    "    return '[' + ','.join(tag_list) + ']'"
   ]
  },
  {
   "cell_type": "code",
   "execution_count": 13,
   "id": "23d41326",
   "metadata": {
    "execution": {
     "iopub.execute_input": "2024-05-19T02:42:36.546747Z",
     "iopub.status.busy": "2024-05-19T02:42:36.546037Z",
     "iopub.status.idle": "2024-05-19T02:42:36.551335Z",
     "shell.execute_reply": "2024-05-19T02:42:36.550542Z"
    },
    "papermill": {
     "duration": 0.028658,
     "end_time": "2024-05-19T02:42:36.553068",
     "exception": false,
     "start_time": "2024-05-19T02:42:36.524410",
     "status": "completed"
    },
    "tags": []
   },
   "outputs": [],
   "source": [
    "def get_unique_tags(df):\n",
    "    uniques={}\n",
    "    for tags in zip(df['tags']):\n",
    "        # tags это тьюплы с одним элементом -- листом в виде строки\n",
    "        # т.ч. сначала эту строку достаём\n",
    "        # а потом literal_eval для того чтобы это было уже норм листом\n",
    "        tags = insert_commas(tags[0])\n",
    "        #print(tags)\n",
    "       # print(literal_eval(tags[0]))\n",
    "        for tag in literal_eval(tags):\n",
    "            if tag in uniques:\n",
    "                uniques[tag]+=1\n",
    "            else: uniques[tag]=1\n",
    "    return uniques"
   ]
  },
  {
   "cell_type": "code",
   "execution_count": 14,
   "id": "a59a708f",
   "metadata": {
    "_kg_hide-input": true,
    "_kg_hide-output": true,
    "execution": {
     "iopub.execute_input": "2024-05-19T02:42:36.635930Z",
     "iopub.status.busy": "2024-05-19T02:42:36.635318Z",
     "iopub.status.idle": "2024-05-19T02:42:36.848589Z",
     "shell.execute_reply": "2024-05-19T02:42:36.847752Z"
    },
    "papermill": {
     "duration": 0.237097,
     "end_time": "2024-05-19T02:42:36.850601",
     "exception": false,
     "start_time": "2024-05-19T02:42:36.613504",
     "status": "completed"
    },
    "tags": []
   },
   "outputs": [
    {
     "data": {
      "text/plain": [
       "1059"
      ]
     },
     "execution_count": 14,
     "metadata": {},
     "output_type": "execute_result"
    }
   ],
   "source": [
    "un=get_unique_tags(df)\n",
    "len(un)"
   ]
  },
  {
   "cell_type": "code",
   "execution_count": 15,
   "id": "757a7483",
   "metadata": {
    "execution": {
     "iopub.execute_input": "2024-05-19T02:42:36.895634Z",
     "iopub.status.busy": "2024-05-19T02:42:36.894835Z",
     "iopub.status.idle": "2024-05-19T02:42:36.900225Z",
     "shell.execute_reply": "2024-05-19T02:42:36.899383Z"
    },
    "papermill": {
     "duration": 0.03002,
     "end_time": "2024-05-19T02:42:36.902107",
     "exception": false,
     "start_time": "2024-05-19T02:42:36.872087",
     "status": "completed"
    },
    "tags": []
   },
   "outputs": [],
   "source": [
    "# если хотя бы в 3% записей этот тэг есть\n",
    "major_tags={key:value for key,value in un.items() if value>(len(df)*0.03)}"
   ]
  },
  {
   "cell_type": "code",
   "execution_count": 16,
   "id": "a6ccf900",
   "metadata": {
    "execution": {
     "iopub.execute_input": "2024-05-19T02:42:36.945559Z",
     "iopub.status.busy": "2024-05-19T02:42:36.944948Z",
     "iopub.status.idle": "2024-05-19T02:42:36.950746Z",
     "shell.execute_reply": "2024-05-19T02:42:36.949949Z"
    },
    "papermill": {
     "duration": 0.029482,
     "end_time": "2024-05-19T02:42:36.952553",
     "exception": false,
     "start_time": "2024-05-19T02:42:36.923071",
     "status": "completed"
    },
    "tags": []
   },
   "outputs": [
    {
     "data": {
      "text/plain": [
       "{'complex-analysis': 471,\n",
       " 'combinatorics': 551,\n",
       " 'linear-algebra': 1097,\n",
       " 'abstract-algebra': 732,\n",
       " 'limits': 645,\n",
       " 'probability': 769,\n",
       " 'real-analysis': 1388,\n",
       " 'calculus': 1693,\n",
       " 'integration': 844,\n",
       " 'matrices': 470,\n",
       " 'algebra-precalculus': 742,\n",
       " 'trigonometry': 451,\n",
       " 'number-theory': 501,\n",
       " 'sequences-and-series': 808,\n",
       " 'elementary-number-theory': 602,\n",
       " 'general-topology': 458}"
      ]
     },
     "execution_count": 16,
     "metadata": {},
     "output_type": "execute_result"
    }
   ],
   "source": [
    "major_tags"
   ]
  },
  {
   "cell_type": "code",
   "execution_count": 17,
   "id": "15f40e89",
   "metadata": {
    "execution": {
     "iopub.execute_input": "2024-05-19T02:42:36.997641Z",
     "iopub.status.busy": "2024-05-19T02:42:36.997129Z",
     "iopub.status.idle": "2024-05-19T02:42:37.550518Z",
     "shell.execute_reply": "2024-05-19T02:42:37.549632Z"
    },
    "papermill": {
     "duration": 0.577905,
     "end_time": "2024-05-19T02:42:37.552860",
     "exception": false,
     "start_time": "2024-05-19T02:42:36.974955",
     "status": "completed"
    },
    "tags": []
   },
   "outputs": [
    {
     "data": {
      "image/png": "[encoded data removed]",
      "text/plain": [
       "<Figure size 640x480 with 1 Axes>"
      ]
     },
     "metadata": {},
     "output_type": "display_data"
    }
   ],
   "source": [
    "lists = sorted(major_tags.items(),key=lambda x:x[1]) \n",
    "\n",
    "y, x = zip(*lists)\n",
    "\n",
    "fig, ax = plt.subplots()\n",
    "ax.yaxis.set_tick_params(labelsize=10) \n",
    "plt.scatter(x, y)\n",
    "plt.xlabel('Количество записей с тегом')\n",
    "plt.ylabel('Тег')\n",
    "plt.xscale('log')\n",
    "ticks = [min(major_tags.values()),lists[-2][1], max(major_tags.values())] \n",
    "tick_labels = [f'{val}' for val in ticks]\n",
    "\n",
    "plt.xticks(ticks, tick_labels)\n",
    "plt.show()"
   ]
  },
  {
   "cell_type": "code",
   "execution_count": 18,
   "id": "40d54b71",
   "metadata": {
    "execution": {
     "iopub.execute_input": "2024-05-19T02:42:37.599042Z",
     "iopub.status.busy": "2024-05-19T02:42:37.598337Z",
     "iopub.status.idle": "2024-05-19T02:42:37.615602Z",
     "shell.execute_reply": "2024-05-19T02:42:37.614765Z"
    },
    "papermill": {
     "duration": 0.04193,
     "end_time": "2024-05-19T02:42:37.617429",
     "exception": false,
     "start_time": "2024-05-19T02:42:37.575499",
     "status": "completed"
    },
    "tags": []
   },
   "outputs": [
    {
     "data": {
      "text/html": [
       "<div>\n",
       "<style scoped>\n",
       "    .dataframe tbody tr th:only-of-type {\n",
       "        vertical-align: middle;\n",
       "    }\n",
       "\n",
       "    .dataframe tbody tr th {\n",
       "        vertical-align: top;\n",
       "    }\n",
       "\n",
       "    .dataframe thead th {\n",
       "        text-align: right;\n",
       "    }\n",
       "</style>\n",
       "<table border=\"1\" class=\"dataframe\">\n",
       "  <thead>\n",
       "    <tr style=\"text-align: right;\">\n",
       "      <th></th>\n",
       "      <th>Unnamed: 0</th>\n",
       "      <th>text_id</th>\n",
       "      <th>output_texts</th>\n",
       "      <th>input_texts</th>\n",
       "      <th>tags</th>\n",
       "      <th>augmentation</th>\n",
       "      <th>formulae_only</th>\n",
       "    </tr>\n",
       "  </thead>\n",
       "  <tbody>\n",
       "    <tr>\n",
       "      <th>2776</th>\n",
       "      <td>7643</td>\n",
       "      <td>809475</td>\n",
       "      <td>Проблемы этого типа, взятые из книг, часто уяз...</td>\n",
       "      <td>Проблемы этого типа, взятые из книг, часто уяз...</td>\n",
       "      <td>['complex-analysis' 'roots']</td>\n",
       "      <td>num2word</td>\n",
       "      <td>False</td>\n",
       "    </tr>\n",
       "    <tr>\n",
       "      <th>11148</th>\n",
       "      <td>2341</td>\n",
       "      <td>806979</td>\n",
       "      <td>Чтобы две ладьи могли атаковать друг друга, он...</td>\n",
       "      <td>Чтобы две ладьи могли атаковать друг друга, он...</td>\n",
       "      <td>['combinatorics' 'problem-solving']</td>\n",
       "      <td>all_augments</td>\n",
       "      <td>False</td>\n",
       "    </tr>\n",
       "    <tr>\n",
       "      <th>4728</th>\n",
       "      <td>3345</td>\n",
       "      <td>903541</td>\n",
       "      <td>Пусть $B_W$ — базис для $W$. Расширьте его до ...</td>\n",
       "      <td>Пусть B_W — базис для W. Расширьте его до бази...</td>\n",
       "      <td>['linear-algebra' 'abstract-algebra']</td>\n",
       "      <td>rand_delet_and_typo</td>\n",
       "      <td>False</td>\n",
       "    </tr>\n",
       "    <tr>\n",
       "      <th>11692</th>\n",
       "      <td>315</td>\n",
       "      <td>109760</td>\n",
       "      <td>$$_x000D_\\n\\left(1-\\left(1-\\frac1n\\right)^{f(n...</td>\n",
       "      <td>_x000D_\\n\\left 1-\\left 1-\\frac1n\\right)^{f n...</td>\n",
       "      <td>['limits']</td>\n",
       "      <td>rand_delet_and_typo</td>\n",
       "      <td>True</td>\n",
       "    </tr>\n",
       "    <tr>\n",
       "      <th>5678</th>\n",
       "      <td>11423</td>\n",
       "      <td>113713</td>\n",
       "      <td>$$x=5\\pm2\\sqrt{6}$$</td>\n",
       "      <td>$$x=пять\\pmвторой\\sqrt{шесть}$$</td>\n",
       "      <td>['binomial-coefficients' 'binomial-theorem']</td>\n",
       "      <td>num2word</td>\n",
       "      <td>True</td>\n",
       "    </tr>\n",
       "  </tbody>\n",
       "</table>\n",
       "</div>"
      ],
      "text/plain": [
       "       Unnamed: 0  text_id                                       output_texts  \\\n",
       "2776         7643   809475  Проблемы этого типа, взятые из книг, часто уяз...   \n",
       "11148        2341   806979  Чтобы две ладьи могли атаковать друг друга, он...   \n",
       "4728         3345   903541  Пусть $B_W$ — базис для $W$. Расширьте его до ...   \n",
       "11692         315   109760  $$_x000D_\\n\\left(1-\\left(1-\\frac1n\\right)^{f(n...   \n",
       "5678        11423   113713                                $$x=5\\pm2\\sqrt{6}$$   \n",
       "\n",
       "                                             input_texts  \\\n",
       "2776   Проблемы этого типа, взятые из книг, часто уяз...   \n",
       "11148  Чтобы две ладьи могли атаковать друг друга, он...   \n",
       "4728   Пусть B_W — базис для W. Расширьте его до бази...   \n",
       "11692    _x000D_\\n\\left 1-\\left 1-\\frac1n\\right)^{f n...   \n",
       "5678                     $$x=пять\\pmвторой\\sqrt{шесть}$$   \n",
       "\n",
       "                                               tags         augmentation  \\\n",
       "2776                   ['complex-analysis' 'roots']             num2word   \n",
       "11148           ['combinatorics' 'problem-solving']         all_augments   \n",
       "4728          ['linear-algebra' 'abstract-algebra']  rand_delet_and_typo   \n",
       "11692                                    ['limits']  rand_delet_and_typo   \n",
       "5678   ['binomial-coefficients' 'binomial-theorem']             num2word   \n",
       "\n",
       "       formulae_only  \n",
       "2776           False  \n",
       "11148          False  \n",
       "4728           False  \n",
       "11692           True  \n",
       "5678            True  "
      ]
     },
     "execution_count": 18,
     "metadata": {},
     "output_type": "execute_result"
    }
   ],
   "source": [
    "df.head()"
   ]
  },
  {
   "cell_type": "code",
   "execution_count": 19,
   "id": "5f62150b",
   "metadata": {
    "execution": {
     "iopub.execute_input": "2024-05-19T02:42:37.663418Z",
     "iopub.status.busy": "2024-05-19T02:42:37.662901Z",
     "iopub.status.idle": "2024-05-19T02:42:37.668728Z",
     "shell.execute_reply": "2024-05-19T02:42:37.667800Z"
    },
    "papermill": {
     "duration": 0.030754,
     "end_time": "2024-05-19T02:42:37.670616",
     "exception": false,
     "start_time": "2024-05-19T02:42:37.639862",
     "status": "completed"
    },
    "tags": []
   },
   "outputs": [],
   "source": [
    "def reassign_tags(line, major_tags):\n",
    "    #print(line)\n",
    "    line = literal_eval(insert_commas(line))\n",
    "    # если тегов нет\n",
    "    if not len(line):\n",
    "        return 'None'\n",
    "    \n",
    "    # смотрим есть ли у нас хотя бы один популярный тег\n",
    "    populars = set(line).intersection(major_tags.keys())\n",
    "    \n",
    "    # если нет то тегаем как 'Разное'\n",
    "    if not populars:\n",
    "        return 'Other'\n",
    "    # а если да - тегаем Самым популярным\n",
    "    else:\n",
    "        most_popular = max(populars, key=lambda tag: major_tags[tag])\n",
    "        return most_popular\n"
   ]
  },
  {
   "cell_type": "code",
   "execution_count": 20,
   "id": "0a6478a9",
   "metadata": {
    "execution": {
     "iopub.execute_input": "2024-05-19T02:42:37.716590Z",
     "iopub.status.busy": "2024-05-19T02:42:37.716147Z",
     "iopub.status.idle": "2024-05-19T02:42:37.720834Z",
     "shell.execute_reply": "2024-05-19T02:42:37.720011Z"
    },
    "papermill": {
     "duration": 0.029526,
     "end_time": "2024-05-19T02:42:37.722682",
     "exception": false,
     "start_time": "2024-05-19T02:42:37.693156",
     "status": "completed"
    },
    "tags": []
   },
   "outputs": [],
   "source": [
    "from tqdm import tqdm\n",
    "tqdm.pandas()"
   ]
  },
  {
   "cell_type": "code",
   "execution_count": 21,
   "id": "5d7338e1",
   "metadata": {
    "execution": {
     "iopub.execute_input": "2024-05-19T02:42:37.767985Z",
     "iopub.status.busy": "2024-05-19T02:42:37.767731Z",
     "iopub.status.idle": "2024-05-19T02:42:38.042753Z",
     "shell.execute_reply": "2024-05-19T02:42:38.041840Z"
    },
    "papermill": {
     "duration": 0.299825,
     "end_time": "2024-05-19T02:42:38.044820",
     "exception": false,
     "start_time": "2024-05-19T02:42:37.744995",
     "status": "completed"
    },
    "tags": []
   },
   "outputs": [
    {
     "name": "stderr",
     "output_type": "stream",
     "text": [
      "100%|██████████| 15000/15000 [00:00<00:00, 56651.92it/s]\n"
     ]
    }
   ],
   "source": [
    "df['tags'] = df['tags'].progress_apply(reassign_tags, args=[major_tags])"
   ]
  },
  {
   "cell_type": "code",
   "execution_count": 22,
   "id": "597c6233",
   "metadata": {
    "execution": {
     "iopub.execute_input": "2024-05-19T02:42:38.092537Z",
     "iopub.status.busy": "2024-05-19T02:42:38.092034Z",
     "iopub.status.idle": "2024-05-19T02:42:38.108889Z",
     "shell.execute_reply": "2024-05-19T02:42:38.107969Z"
    },
    "papermill": {
     "duration": 0.043004,
     "end_time": "2024-05-19T02:42:38.110909",
     "exception": false,
     "start_time": "2024-05-19T02:42:38.067905",
     "status": "completed"
    },
    "tags": []
   },
   "outputs": [
    {
     "data": {
      "text/html": [
       "<div>\n",
       "<style scoped>\n",
       "    .dataframe tbody tr th:only-of-type {\n",
       "        vertical-align: middle;\n",
       "    }\n",
       "\n",
       "    .dataframe tbody tr th {\n",
       "        vertical-align: top;\n",
       "    }\n",
       "\n",
       "    .dataframe thead th {\n",
       "        text-align: right;\n",
       "    }\n",
       "</style>\n",
       "<table border=\"1\" class=\"dataframe\">\n",
       "  <thead>\n",
       "    <tr style=\"text-align: right;\">\n",
       "      <th></th>\n",
       "      <th>Unnamed: 0</th>\n",
       "      <th>text_id</th>\n",
       "      <th>output_texts</th>\n",
       "      <th>input_texts</th>\n",
       "      <th>tags</th>\n",
       "      <th>augmentation</th>\n",
       "      <th>formulae_only</th>\n",
       "    </tr>\n",
       "  </thead>\n",
       "  <tbody>\n",
       "    <tr>\n",
       "      <th>2776</th>\n",
       "      <td>7643</td>\n",
       "      <td>809475</td>\n",
       "      <td>Проблемы этого типа, взятые из книг, часто уяз...</td>\n",
       "      <td>Проблемы этого типа, взятые из книг, часто уяз...</td>\n",
       "      <td>complex-analysis</td>\n",
       "      <td>num2word</td>\n",
       "      <td>False</td>\n",
       "    </tr>\n",
       "    <tr>\n",
       "      <th>11148</th>\n",
       "      <td>2341</td>\n",
       "      <td>806979</td>\n",
       "      <td>Чтобы две ладьи могли атаковать друг друга, он...</td>\n",
       "      <td>Чтобы две ладьи могли атаковать друг друга, он...</td>\n",
       "      <td>combinatorics</td>\n",
       "      <td>all_augments</td>\n",
       "      <td>False</td>\n",
       "    </tr>\n",
       "    <tr>\n",
       "      <th>4728</th>\n",
       "      <td>3345</td>\n",
       "      <td>903541</td>\n",
       "      <td>Пусть $B_W$ — базис для $W$. Расширьте его до ...</td>\n",
       "      <td>Пусть B_W — базис для W. Расширьте его до бази...</td>\n",
       "      <td>linear-algebra</td>\n",
       "      <td>rand_delet_and_typo</td>\n",
       "      <td>False</td>\n",
       "    </tr>\n",
       "    <tr>\n",
       "      <th>11692</th>\n",
       "      <td>315</td>\n",
       "      <td>109760</td>\n",
       "      <td>$$_x000D_\\n\\left(1-\\left(1-\\frac1n\\right)^{f(n...</td>\n",
       "      <td>_x000D_\\n\\left 1-\\left 1-\\frac1n\\right)^{f n...</td>\n",
       "      <td>limits</td>\n",
       "      <td>rand_delet_and_typo</td>\n",
       "      <td>True</td>\n",
       "    </tr>\n",
       "    <tr>\n",
       "      <th>5678</th>\n",
       "      <td>11423</td>\n",
       "      <td>113713</td>\n",
       "      <td>$$x=5\\pm2\\sqrt{6}$$</td>\n",
       "      <td>$$x=пять\\pmвторой\\sqrt{шесть}$$</td>\n",
       "      <td>Other</td>\n",
       "      <td>num2word</td>\n",
       "      <td>True</td>\n",
       "    </tr>\n",
       "    <tr>\n",
       "      <th>...</th>\n",
       "      <td>...</td>\n",
       "      <td>...</td>\n",
       "      <td>...</td>\n",
       "      <td>...</td>\n",
       "      <td>...</td>\n",
       "      <td>...</td>\n",
       "      <td>...</td>\n",
       "    </tr>\n",
       "    <tr>\n",
       "      <th>5418</th>\n",
       "      <td>5871</td>\n",
       "      <td>135529</td>\n",
       "      <td>$$ \\sum_{n\\geq 2}\\frac{a_n^2}{2n+1}\\geq 0 \\tag...</td>\n",
       "      <td>$$ \\sum_{n\\geq два}\\frac{a_n^второй}{дваn+перв...</td>\n",
       "      <td>Other</td>\n",
       "      <td>num2word</td>\n",
       "      <td>True</td>\n",
       "    </tr>\n",
       "    <tr>\n",
       "      <th>2892</th>\n",
       "      <td>4970</td>\n",
       "      <td>83950</td>\n",
       "      <td>\\begin{align}_x000D_\\n\\lambda^*(E)+\\lambda^*(E...</td>\n",
       "      <td>\\begin{align _x000D_\\n\\lambda^*( э прописная  ...</td>\n",
       "      <td>real-analysis</td>\n",
       "      <td>all_augments</td>\n",
       "      <td>True</td>\n",
       "    </tr>\n",
       "    <tr>\n",
       "      <th>2661</th>\n",
       "      <td>669</td>\n",
       "      <td>140304</td>\n",
       "      <td>$$ = b_i*b_m+s*b*b_i-x*b*b_i+b_m*x*i+s*b*x*i-b...</td>\n",
       "      <td>$$  равняется   би _ и * бэ _ эм +s*b* бэ _i-x...</td>\n",
       "      <td>Other</td>\n",
       "      <td>synonyms</td>\n",
       "      <td>True</td>\n",
       "    </tr>\n",
       "    <tr>\n",
       "      <th>10798</th>\n",
       "      <td>9301</td>\n",
       "      <td>65347</td>\n",
       "      <td>$$ t\\leq m(U_t)\\leq t\\sum_{n=1}^{\\infty}2^{1-n...</td>\n",
       "      <td>t\\leq m(U_t)\\leq t\\sum_{n=1}У{\\infty}2^{1-n}=2t</td>\n",
       "      <td>Other</td>\n",
       "      <td>rand_delet_and_typo</td>\n",
       "      <td>True</td>\n",
       "    </tr>\n",
       "    <tr>\n",
       "      <th>9680</th>\n",
       "      <td>7702</td>\n",
       "      <td>938191</td>\n",
       "      <td>Мы знаем, что $$dx\\wedge dy= dx\\otimes dy -dy\\...</td>\n",
       "      <td>Мы знаем, что dxдwedgee dУ= dx\\otimes dУ -dУ\\o...</td>\n",
       "      <td>Other</td>\n",
       "      <td>rand_delet_and_typo</td>\n",
       "      <td>False</td>\n",
       "    </tr>\n",
       "  </tbody>\n",
       "</table>\n",
       "<p>15000 rows × 7 columns</p>\n",
       "</div>"
      ],
      "text/plain": [
       "       Unnamed: 0  text_id                                       output_texts  \\\n",
       "2776         7643   809475  Проблемы этого типа, взятые из книг, часто уяз...   \n",
       "11148        2341   806979  Чтобы две ладьи могли атаковать друг друга, он...   \n",
       "4728         3345   903541  Пусть $B_W$ — базис для $W$. Расширьте его до ...   \n",
       "11692         315   109760  $$_x000D_\\n\\left(1-\\left(1-\\frac1n\\right)^{f(n...   \n",
       "5678        11423   113713                                $$x=5\\pm2\\sqrt{6}$$   \n",
       "...           ...      ...                                                ...   \n",
       "5418         5871   135529  $$ \\sum_{n\\geq 2}\\frac{a_n^2}{2n+1}\\geq 0 \\tag...   \n",
       "2892         4970    83950  \\begin{align}_x000D_\\n\\lambda^*(E)+\\lambda^*(E...   \n",
       "2661          669   140304  $$ = b_i*b_m+s*b*b_i-x*b*b_i+b_m*x*i+s*b*x*i-b...   \n",
       "10798        9301    65347  $$ t\\leq m(U_t)\\leq t\\sum_{n=1}^{\\infty}2^{1-n...   \n",
       "9680         7702   938191  Мы знаем, что $$dx\\wedge dy= dx\\otimes dy -dy\\...   \n",
       "\n",
       "                                             input_texts              tags  \\\n",
       "2776   Проблемы этого типа, взятые из книг, часто уяз...  complex-analysis   \n",
       "11148  Чтобы две ладьи могли атаковать друг друга, он...     combinatorics   \n",
       "4728   Пусть B_W — базис для W. Расширьте его до бази...    linear-algebra   \n",
       "11692    _x000D_\\n\\left 1-\\left 1-\\frac1n\\right)^{f n...            limits   \n",
       "5678                     $$x=пять\\pmвторой\\sqrt{шесть}$$             Other   \n",
       "...                                                  ...               ...   \n",
       "5418   $$ \\sum_{n\\geq два}\\frac{a_n^второй}{дваn+перв...             Other   \n",
       "2892   \\begin{align _x000D_\\n\\lambda^*( э прописная  ...     real-analysis   \n",
       "2661   $$  равняется   би _ и * бэ _ эм +s*b* бэ _i-x...             Other   \n",
       "10798   t\\leq m(U_t)\\leq t\\sum_{n=1}У{\\infty}2^{1-n}=2t              Other   \n",
       "9680   Мы знаем, что dxдwedgee dУ= dx\\otimes dУ -dУ\\o...             Other   \n",
       "\n",
       "              augmentation  formulae_only  \n",
       "2776              num2word          False  \n",
       "11148         all_augments          False  \n",
       "4728   rand_delet_and_typo          False  \n",
       "11692  rand_delet_and_typo           True  \n",
       "5678              num2word           True  \n",
       "...                    ...            ...  \n",
       "5418              num2word           True  \n",
       "2892          all_augments           True  \n",
       "2661              synonyms           True  \n",
       "10798  rand_delet_and_typo           True  \n",
       "9680   rand_delet_and_typo          False  \n",
       "\n",
       "[15000 rows x 7 columns]"
      ]
     },
     "execution_count": 22,
     "metadata": {},
     "output_type": "execute_result"
    }
   ],
   "source": [
    "df"
   ]
  },
  {
   "cell_type": "code",
   "execution_count": 23,
   "id": "06fa6fb2",
   "metadata": {
    "execution": {
     "iopub.execute_input": "2024-05-19T02:42:38.158949Z",
     "iopub.status.busy": "2024-05-19T02:42:38.158508Z",
     "iopub.status.idle": "2024-05-19T02:42:38.518611Z",
     "shell.execute_reply": "2024-05-19T02:42:38.517685Z"
    },
    "papermill": {
     "duration": 0.387471,
     "end_time": "2024-05-19T02:42:38.521616",
     "exception": false,
     "start_time": "2024-05-19T02:42:38.134145",
     "status": "completed"
    },
    "tags": []
   },
   "outputs": [
    {
     "data": {
      "image/png": "[encoded data removed]",
      "text/plain": [
       "<Figure size 700x700 with 1 Axes>"
      ]
     },
     "metadata": {},
     "output_type": "display_data"
    }
   ],
   "source": [
    "tag_counts = df['tags'].value_counts()\n",
    "plt.figure(figsize=(7, 7))\n",
    "plt.pie(tag_counts, labels=tag_counts.index, autopct='%1.1f%%', startangle=190,\n",
    "        labeldistance=1,  textprops={'fontsize': 12}, rotatelabels=True,  wedgeprops={'edgecolor': 'black'})\n",
    "plt.title('Процентное соотношение тегов', y=1.25)\n",
    "plt.axis('equal')\n",
    "plt.show()"
   ]
  },
  {
   "cell_type": "code",
   "execution_count": 24,
   "id": "a0d66c3b",
   "metadata": {
    "execution": {
     "iopub.execute_input": "2024-05-19T02:42:38.574225Z",
     "iopub.status.busy": "2024-05-19T02:42:38.573932Z",
     "iopub.status.idle": "2024-05-19T02:42:38.588400Z",
     "shell.execute_reply": "2024-05-19T02:42:38.587543Z"
    },
    "papermill": {
     "duration": 0.042848,
     "end_time": "2024-05-19T02:42:38.590357",
     "exception": false,
     "start_time": "2024-05-19T02:42:38.547509",
     "status": "completed"
    },
    "tags": []
   },
   "outputs": [
    {
     "data": {
      "text/html": [
       "<div>\n",
       "<style scoped>\n",
       "    .dataframe tbody tr th:only-of-type {\n",
       "        vertical-align: middle;\n",
       "    }\n",
       "\n",
       "    .dataframe tbody tr th {\n",
       "        vertical-align: top;\n",
       "    }\n",
       "\n",
       "    .dataframe thead th {\n",
       "        text-align: right;\n",
       "    }\n",
       "</style>\n",
       "<table border=\"1\" class=\"dataframe\">\n",
       "  <thead>\n",
       "    <tr style=\"text-align: right;\">\n",
       "      <th></th>\n",
       "      <th>Unnamed: 0</th>\n",
       "      <th>text_id</th>\n",
       "      <th>output_texts</th>\n",
       "      <th>input_texts</th>\n",
       "      <th>tags</th>\n",
       "      <th>augmentation</th>\n",
       "      <th>formulae_only</th>\n",
       "    </tr>\n",
       "  </thead>\n",
       "  <tbody>\n",
       "    <tr>\n",
       "      <th>2776</th>\n",
       "      <td>7643</td>\n",
       "      <td>809475</td>\n",
       "      <td>Проблемы этого типа, взятые из книг, часто уяз...</td>\n",
       "      <td>Проблемы этого типа, взятые из книг, часто уяз...</td>\n",
       "      <td>complex-analysis</td>\n",
       "      <td>num2word</td>\n",
       "      <td>False</td>\n",
       "    </tr>\n",
       "    <tr>\n",
       "      <th>11148</th>\n",
       "      <td>2341</td>\n",
       "      <td>806979</td>\n",
       "      <td>Чтобы две ладьи могли атаковать друг друга, он...</td>\n",
       "      <td>Чтобы две ладьи могли атаковать друг друга, он...</td>\n",
       "      <td>combinatorics</td>\n",
       "      <td>all_augments</td>\n",
       "      <td>False</td>\n",
       "    </tr>\n",
       "    <tr>\n",
       "      <th>4728</th>\n",
       "      <td>3345</td>\n",
       "      <td>903541</td>\n",
       "      <td>Пусть $B_W$ — базис для $W$. Расширьте его до ...</td>\n",
       "      <td>Пусть B_W — базис для W. Расширьте его до бази...</td>\n",
       "      <td>linear-algebra</td>\n",
       "      <td>rand_delet_and_typo</td>\n",
       "      <td>False</td>\n",
       "    </tr>\n",
       "    <tr>\n",
       "      <th>11692</th>\n",
       "      <td>315</td>\n",
       "      <td>109760</td>\n",
       "      <td>$$_x000D_\\n\\left(1-\\left(1-\\frac1n\\right)^{f(n...</td>\n",
       "      <td>_x000D_\\n\\left 1-\\left 1-\\frac1n\\right)^{f n...</td>\n",
       "      <td>limits</td>\n",
       "      <td>rand_delet_and_typo</td>\n",
       "      <td>True</td>\n",
       "    </tr>\n",
       "    <tr>\n",
       "      <th>5678</th>\n",
       "      <td>11423</td>\n",
       "      <td>113713</td>\n",
       "      <td>$$x=5\\pm2\\sqrt{6}$$</td>\n",
       "      <td>$$x=пять\\pmвторой\\sqrt{шесть}$$</td>\n",
       "      <td>Other</td>\n",
       "      <td>num2word</td>\n",
       "      <td>True</td>\n",
       "    </tr>\n",
       "    <tr>\n",
       "      <th>...</th>\n",
       "      <td>...</td>\n",
       "      <td>...</td>\n",
       "      <td>...</td>\n",
       "      <td>...</td>\n",
       "      <td>...</td>\n",
       "      <td>...</td>\n",
       "      <td>...</td>\n",
       "    </tr>\n",
       "    <tr>\n",
       "      <th>5418</th>\n",
       "      <td>5871</td>\n",
       "      <td>135529</td>\n",
       "      <td>$$ \\sum_{n\\geq 2}\\frac{a_n^2}{2n+1}\\geq 0 \\tag...</td>\n",
       "      <td>$$ \\sum_{n\\geq два}\\frac{a_n^второй}{дваn+перв...</td>\n",
       "      <td>Other</td>\n",
       "      <td>num2word</td>\n",
       "      <td>True</td>\n",
       "    </tr>\n",
       "    <tr>\n",
       "      <th>2892</th>\n",
       "      <td>4970</td>\n",
       "      <td>83950</td>\n",
       "      <td>\\begin{align}_x000D_\\n\\lambda^*(E)+\\lambda^*(E...</td>\n",
       "      <td>\\begin{align _x000D_\\n\\lambda^*( э прописная  ...</td>\n",
       "      <td>real-analysis</td>\n",
       "      <td>all_augments</td>\n",
       "      <td>True</td>\n",
       "    </tr>\n",
       "    <tr>\n",
       "      <th>2661</th>\n",
       "      <td>669</td>\n",
       "      <td>140304</td>\n",
       "      <td>$$ = b_i*b_m+s*b*b_i-x*b*b_i+b_m*x*i+s*b*x*i-b...</td>\n",
       "      <td>$$  равняется   би _ и * бэ _ эм +s*b* бэ _i-x...</td>\n",
       "      <td>Other</td>\n",
       "      <td>synonyms</td>\n",
       "      <td>True</td>\n",
       "    </tr>\n",
       "    <tr>\n",
       "      <th>10798</th>\n",
       "      <td>9301</td>\n",
       "      <td>65347</td>\n",
       "      <td>$$ t\\leq m(U_t)\\leq t\\sum_{n=1}^{\\infty}2^{1-n...</td>\n",
       "      <td>t\\leq m(U_t)\\leq t\\sum_{n=1}У{\\infty}2^{1-n}=2t</td>\n",
       "      <td>Other</td>\n",
       "      <td>rand_delet_and_typo</td>\n",
       "      <td>True</td>\n",
       "    </tr>\n",
       "    <tr>\n",
       "      <th>9680</th>\n",
       "      <td>7702</td>\n",
       "      <td>938191</td>\n",
       "      <td>Мы знаем, что $$dx\\wedge dy= dx\\otimes dy -dy\\...</td>\n",
       "      <td>Мы знаем, что dxдwedgee dУ= dx\\otimes dУ -dУ\\o...</td>\n",
       "      <td>Other</td>\n",
       "      <td>rand_delet_and_typo</td>\n",
       "      <td>False</td>\n",
       "    </tr>\n",
       "  </tbody>\n",
       "</table>\n",
       "<p>15000 rows × 7 columns</p>\n",
       "</div>"
      ],
      "text/plain": [
       "       Unnamed: 0  text_id                                       output_texts  \\\n",
       "2776         7643   809475  Проблемы этого типа, взятые из книг, часто уяз...   \n",
       "11148        2341   806979  Чтобы две ладьи могли атаковать друг друга, он...   \n",
       "4728         3345   903541  Пусть $B_W$ — базис для $W$. Расширьте его до ...   \n",
       "11692         315   109760  $$_x000D_\\n\\left(1-\\left(1-\\frac1n\\right)^{f(n...   \n",
       "5678        11423   113713                                $$x=5\\pm2\\sqrt{6}$$   \n",
       "...           ...      ...                                                ...   \n",
       "5418         5871   135529  $$ \\sum_{n\\geq 2}\\frac{a_n^2}{2n+1}\\geq 0 \\tag...   \n",
       "2892         4970    83950  \\begin{align}_x000D_\\n\\lambda^*(E)+\\lambda^*(E...   \n",
       "2661          669   140304  $$ = b_i*b_m+s*b*b_i-x*b*b_i+b_m*x*i+s*b*x*i-b...   \n",
       "10798        9301    65347  $$ t\\leq m(U_t)\\leq t\\sum_{n=1}^{\\infty}2^{1-n...   \n",
       "9680         7702   938191  Мы знаем, что $$dx\\wedge dy= dx\\otimes dy -dy\\...   \n",
       "\n",
       "                                             input_texts              tags  \\\n",
       "2776   Проблемы этого типа, взятые из книг, часто уяз...  complex-analysis   \n",
       "11148  Чтобы две ладьи могли атаковать друг друга, он...     combinatorics   \n",
       "4728   Пусть B_W — базис для W. Расширьте его до бази...    linear-algebra   \n",
       "11692    _x000D_\\n\\left 1-\\left 1-\\frac1n\\right)^{f n...            limits   \n",
       "5678                     $$x=пять\\pmвторой\\sqrt{шесть}$$             Other   \n",
       "...                                                  ...               ...   \n",
       "5418   $$ \\sum_{n\\geq два}\\frac{a_n^второй}{дваn+перв...             Other   \n",
       "2892   \\begin{align _x000D_\\n\\lambda^*( э прописная  ...     real-analysis   \n",
       "2661   $$  равняется   би _ и * бэ _ эм +s*b* бэ _i-x...             Other   \n",
       "10798   t\\leq m(U_t)\\leq t\\sum_{n=1}У{\\infty}2^{1-n}=2t              Other   \n",
       "9680   Мы знаем, что dxдwedgee dУ= dx\\otimes dУ -dУ\\o...             Other   \n",
       "\n",
       "              augmentation  formulae_only  \n",
       "2776              num2word          False  \n",
       "11148         all_augments          False  \n",
       "4728   rand_delet_and_typo          False  \n",
       "11692  rand_delet_and_typo           True  \n",
       "5678              num2word           True  \n",
       "...                    ...            ...  \n",
       "5418              num2word           True  \n",
       "2892          all_augments           True  \n",
       "2661              synonyms           True  \n",
       "10798  rand_delet_and_typo           True  \n",
       "9680   rand_delet_and_typo          False  \n",
       "\n",
       "[15000 rows x 7 columns]"
      ]
     },
     "execution_count": 24,
     "metadata": {},
     "output_type": "execute_result"
    }
   ],
   "source": [
    "df"
   ]
  },
  {
   "cell_type": "code",
   "execution_count": 25,
   "id": "684a1e79",
   "metadata": {
    "execution": {
     "iopub.execute_input": "2024-05-19T02:42:38.645312Z",
     "iopub.status.busy": "2024-05-19T02:42:38.645047Z",
     "iopub.status.idle": "2024-05-19T02:42:38.654960Z",
     "shell.execute_reply": "2024-05-19T02:42:38.654131Z"
    },
    "papermill": {
     "duration": 0.039054,
     "end_time": "2024-05-19T02:42:38.656990",
     "exception": false,
     "start_time": "2024-05-19T02:42:38.617936",
     "status": "completed"
    },
    "tags": []
   },
   "outputs": [
    {
     "data": {
      "text/plain": [
       "tags\n",
       "Other                       36.693333\n",
       "calculus                    11.286667\n",
       "real-analysis                7.720000\n",
       "linear-algebra               7.133333\n",
       "probability                  4.820000\n",
       "abstract-algebra             4.553333\n",
       "algebra-precalculus          4.253333\n",
       "elementary-number-theory     3.620000\n",
       "sequences-and-series         3.226667\n",
       "combinatorics                2.806667\n",
       "integration                  2.680000\n",
       "general-topology             2.473333\n",
       "complex-analysis             2.353333\n",
       "number-theory                2.133333\n",
       "trigonometry                 1.813333\n",
       "limits                       1.406667\n",
       "matrices                     1.026667\n",
       "Name: count, dtype: float64"
      ]
     },
     "execution_count": 25,
     "metadata": {},
     "output_type": "execute_result"
    }
   ],
   "source": [
    "(df.tags.value_counts()/len(df))*100"
   ]
  },
  {
   "cell_type": "code",
   "execution_count": 26,
   "id": "00b375ab",
   "metadata": {
    "execution": {
     "iopub.execute_input": "2024-05-19T02:42:38.711045Z",
     "iopub.status.busy": "2024-05-19T02:42:38.710787Z",
     "iopub.status.idle": "2024-05-19T02:42:38.719496Z",
     "shell.execute_reply": "2024-05-19T02:42:38.718736Z"
    },
    "papermill": {
     "duration": 0.036952,
     "end_time": "2024-05-19T02:42:38.721379",
     "exception": false,
     "start_time": "2024-05-19T02:42:38.684427",
     "status": "completed"
    },
    "tags": []
   },
   "outputs": [
    {
     "data": {
      "text/plain": [
       "tags\n",
       "Other                       5504\n",
       "calculus                    1693\n",
       "real-analysis               1158\n",
       "linear-algebra              1070\n",
       "probability                  723\n",
       "abstract-algebra             683\n",
       "algebra-precalculus          638\n",
       "elementary-number-theory     543\n",
       "sequences-and-series         484\n",
       "combinatorics                421\n",
       "integration                  402\n",
       "general-topology             371\n",
       "complex-analysis             353\n",
       "number-theory                320\n",
       "trigonometry                 272\n",
       "limits                       211\n",
       "matrices                     154\n",
       "Name: count, dtype: int64"
      ]
     },
     "execution_count": 26,
     "metadata": {},
     "output_type": "execute_result"
    }
   ],
   "source": [
    "df.tags.value_counts()"
   ]
  },
  {
   "cell_type": "code",
   "execution_count": 27,
   "id": "373ba56d",
   "metadata": {
    "execution": {
     "iopub.execute_input": "2024-05-19T02:42:38.775025Z",
     "iopub.status.busy": "2024-05-19T02:42:38.774764Z",
     "iopub.status.idle": "2024-05-19T02:42:38.798176Z",
     "shell.execute_reply": "2024-05-19T02:42:38.797368Z"
    },
    "papermill": {
     "duration": 0.052029,
     "end_time": "2024-05-19T02:42:38.799972",
     "exception": false,
     "start_time": "2024-05-19T02:42:38.747943",
     "status": "completed"
    },
    "tags": []
   },
   "outputs": [],
   "source": [
    "med_len = df['output_texts'].str.len().median()"
   ]
  },
  {
   "cell_type": "code",
   "execution_count": 28,
   "id": "e502774f",
   "metadata": {
    "execution": {
     "iopub.execute_input": "2024-05-19T02:42:38.853325Z",
     "iopub.status.busy": "2024-05-19T02:42:38.853043Z",
     "iopub.status.idle": "2024-05-19T02:42:38.858460Z",
     "shell.execute_reply": "2024-05-19T02:42:38.857575Z"
    },
    "papermill": {
     "duration": 0.033816,
     "end_time": "2024-05-19T02:42:38.860301",
     "exception": false,
     "start_time": "2024-05-19T02:42:38.826485",
     "status": "completed"
    },
    "tags": []
   },
   "outputs": [
    {
     "data": {
      "text/plain": [
       "172.0"
      ]
     },
     "execution_count": 28,
     "metadata": {},
     "output_type": "execute_result"
    }
   ],
   "source": [
    "med_len"
   ]
  },
  {
   "cell_type": "code",
   "execution_count": 29,
   "id": "9dc26fb5",
   "metadata": {
    "execution": {
     "iopub.execute_input": "2024-05-19T02:42:38.913219Z",
     "iopub.status.busy": "2024-05-19T02:42:38.912939Z",
     "iopub.status.idle": "2024-05-19T02:42:38.920925Z",
     "shell.execute_reply": "2024-05-19T02:42:38.920234Z"
    },
    "papermill": {
     "duration": 0.036571,
     "end_time": "2024-05-19T02:42:38.922914",
     "exception": false,
     "start_time": "2024-05-19T02:42:38.886343",
     "status": "completed"
    },
    "tags": []
   },
   "outputs": [],
   "source": [
    "df[['output_texts','input_texts']]=df[['output_texts','input_texts']].astype(str)"
   ]
  },
  {
   "cell_type": "code",
   "execution_count": 30,
   "id": "fe709c46",
   "metadata": {
    "execution": {
     "iopub.execute_input": "2024-05-19T02:42:38.977792Z",
     "iopub.status.busy": "2024-05-19T02:42:38.977448Z",
     "iopub.status.idle": "2024-05-19T02:42:51.137271Z",
     "shell.execute_reply": "2024-05-19T02:42:51.135651Z"
    },
    "papermill": {
     "duration": 12.190661,
     "end_time": "2024-05-19T02:42:51.140410",
     "exception": false,
     "start_time": "2024-05-19T02:42:38.949749",
     "status": "completed"
    },
    "tags": []
   },
   "outputs": [
    {
     "name": "stdout",
     "output_type": "stream",
     "text": [
      "Requirement already satisfied: openpyxl in /opt/conda/lib/python3.10/site-packages (3.1.2)\r\n",
      "Requirement already satisfied: et-xmlfile in /opt/conda/lib/python3.10/site-packages (from openpyxl) (1.1.0)\r\n"
     ]
    }
   ],
   "source": [
    "# при возникновении проблем с экселем\n",
    "!pip install openpyxl"
   ]
  },
  {
   "cell_type": "code",
   "execution_count": 31,
   "id": "dc743553",
   "metadata": {
    "execution": {
     "iopub.execute_input": "2024-05-19T02:42:51.200184Z",
     "iopub.status.busy": "2024-05-19T02:42:51.199841Z",
     "iopub.status.idle": "2024-05-19T02:42:51.204508Z",
     "shell.execute_reply": "2024-05-19T02:42:51.203620Z"
    },
    "papermill": {
     "duration": 0.034151,
     "end_time": "2024-05-19T02:42:51.206428",
     "exception": false,
     "start_time": "2024-05-19T02:42:51.172277",
     "status": "completed"
    },
    "tags": []
   },
   "outputs": [],
   "source": [
    "from openpyxl.utils.escape import unescape"
   ]
  },
  {
   "cell_type": "code",
   "execution_count": 32,
   "id": "9e198461",
   "metadata": {
    "execution": {
     "iopub.execute_input": "2024-05-19T02:42:51.260387Z",
     "iopub.status.busy": "2024-05-19T02:42:51.260100Z",
     "iopub.status.idle": "2024-05-19T02:42:51.601551Z",
     "shell.execute_reply": "2024-05-19T02:42:51.600562Z"
    },
    "papermill": {
     "duration": 0.371051,
     "end_time": "2024-05-19T02:42:51.603830",
     "exception": false,
     "start_time": "2024-05-19T02:42:51.232779",
     "status": "completed"
    },
    "tags": []
   },
   "outputs": [],
   "source": [
    "for str_col in df.select_dtypes(include=['object']).columns:\n",
    "    df[str_col] = df[str_col].astype(str).apply(unescape)"
   ]
  },
  {
   "cell_type": "code",
   "execution_count": 33,
   "id": "47c69e4b",
   "metadata": {
    "execution": {
     "iopub.execute_input": "2024-05-19T02:42:51.659327Z",
     "iopub.status.busy": "2024-05-19T02:42:51.658812Z",
     "iopub.status.idle": "2024-05-19T02:42:51.664798Z",
     "shell.execute_reply": "2024-05-19T02:42:51.663895Z"
    },
    "papermill": {
     "duration": 0.035062,
     "end_time": "2024-05-19T02:42:51.666580",
     "exception": false,
     "start_time": "2024-05-19T02:42:51.631518",
     "status": "completed"
    },
    "tags": []
   },
   "outputs": [
    {
     "data": {
      "text/plain": [
       "15000"
      ]
     },
     "execution_count": 33,
     "metadata": {},
     "output_type": "execute_result"
    }
   ],
   "source": [
    "len(df)"
   ]
  },
  {
   "cell_type": "code",
   "execution_count": 34,
   "id": "f5def462",
   "metadata": {
    "execution": {
     "iopub.execute_input": "2024-05-19T02:42:51.720080Z",
     "iopub.status.busy": "2024-05-19T02:42:51.719571Z",
     "iopub.status.idle": "2024-05-19T02:42:51.747001Z",
     "shell.execute_reply": "2024-05-19T02:42:51.746311Z"
    },
    "papermill": {
     "duration": 0.056167,
     "end_time": "2024-05-19T02:42:51.748738",
     "exception": false,
     "start_time": "2024-05-19T02:42:51.692571",
     "status": "completed"
    },
    "tags": []
   },
   "outputs": [],
   "source": [
    "df = df[~(  (df.output_texts.str.len()==1) | (df.input_texts.str.len()==1))]"
   ]
  },
  {
   "cell_type": "code",
   "execution_count": 35,
   "id": "9ece43ff",
   "metadata": {
    "execution": {
     "iopub.execute_input": "2024-05-19T02:42:51.801956Z",
     "iopub.status.busy": "2024-05-19T02:42:51.801694Z",
     "iopub.status.idle": "2024-05-19T02:42:51.807114Z",
     "shell.execute_reply": "2024-05-19T02:42:51.806275Z"
    },
    "papermill": {
     "duration": 0.034002,
     "end_time": "2024-05-19T02:42:51.808921",
     "exception": false,
     "start_time": "2024-05-19T02:42:51.774919",
     "status": "completed"
    },
    "tags": []
   },
   "outputs": [
    {
     "data": {
      "text/plain": [
       "14982"
      ]
     },
     "execution_count": 35,
     "metadata": {},
     "output_type": "execute_result"
    }
   ],
   "source": [
    "len(df)"
   ]
  },
  {
   "cell_type": "code",
   "execution_count": 37,
   "id": "198c6683",
   "metadata": {
    "execution": {
     "iopub.execute_input": "2024-05-19T02:42:51.920936Z",
     "iopub.status.busy": "2024-05-19T02:42:51.920652Z",
     "iopub.status.idle": "2024-05-19T02:42:51.929677Z",
     "shell.execute_reply": "2024-05-19T02:42:51.928845Z"
    },
    "papermill": {
     "duration": 0.037946,
     "end_time": "2024-05-19T02:42:51.931527",
     "exception": false,
     "start_time": "2024-05-19T02:42:51.893581",
     "status": "completed"
    },
    "tags": []
   },
   "outputs": [],
   "source": [
    "class CustomDataset(Dataset):\n",
    "    def __init__(self, df, tokenizer, max_len=int(med_len)):\n",
    "        df.reset_index(drop=True, inplace=True)\n",
    "        self.outputs = df[\"output_texts\"]\n",
    "        self.inputs = df[\"input_texts\"]\n",
    "        self.tags = df['tags']\n",
    "        self.tokenizer = tokenizer\n",
    "        self.max_len=max_len\n",
    "\n",
    "    def __len__(self):\n",
    "        return len(self.inputs)\n",
    "\n",
    "    def __getitem__(self, index):\n",
    "        # для t5-small\n",
    "        item = {}\n",
    "        #print(index)\n",
    "        \n",
    "        inputs = self.tokenizer(self.inputs[index],return_tensors='pt',\n",
    "                                padding='max_length',truncation=True,\n",
    "                                return_attention_mask=True,max_length=self.max_len)\n",
    "        outputs = self.tokenizer(self.outputs[index],return_tensors='pt',\n",
    "                                 padding='max_length',truncation=True, \n",
    "                                 return_attention_mask=True,max_length=self.max_len)\n",
    "        \n",
    "        item['input_ids'] = inputs['input_ids'].squeeze().to(device)\n",
    "        item['attention_mask'] = inputs['attention_mask'].squeeze().to(device)\n",
    "        item['labels'] = outputs['input_ids'].squeeze().to(device)\n",
    "        return item\n",
    "    def get_item_tag(self,index):\n",
    "        return self.tags[index]"
   ]
  },
  {
   "cell_type": "code",
   "execution_count": 39,
   "id": "1ad57b19",
   "metadata": {
    "execution": {
     "iopub.execute_input": "2024-05-19T02:42:52.044657Z",
     "iopub.status.busy": "2024-05-19T02:42:52.044376Z",
     "iopub.status.idle": "2024-05-19T02:42:52.048025Z",
     "shell.execute_reply": "2024-05-19T02:42:52.047189Z"
    },
    "papermill": {
     "duration": 0.032873,
     "end_time": "2024-05-19T02:42:52.049987",
     "exception": false,
     "start_time": "2024-05-19T02:42:52.017114",
     "status": "completed"
    },
    "tags": []
   },
   "outputs": [],
   "source": [
    "test_dataset=df"
   ]
  },
  {
   "cell_type": "code",
   "execution_count": 40,
   "id": "6697c0e4",
   "metadata": {
    "execution": {
     "iopub.execute_input": "2024-05-19T02:42:52.104511Z",
     "iopub.status.busy": "2024-05-19T02:42:52.104238Z",
     "iopub.status.idle": "2024-05-19T02:42:52.109231Z",
     "shell.execute_reply": "2024-05-19T02:42:52.108402Z"
    },
    "papermill": {
     "duration": 0.034333,
     "end_time": "2024-05-19T02:42:52.111021",
     "exception": false,
     "start_time": "2024-05-19T02:42:52.076688",
     "status": "completed"
    },
    "tags": []
   },
   "outputs": [],
   "source": [
    "BATCH_SIZE=40\n",
    "test_dataset = CustomDataset(test_dataset, tokenizer)\n",
    "test_loader = DataLoader(test_dataset, batch_size=BATCH_SIZE, shuffle=False, pin_memory=False)"
   ]
  },
  {
   "cell_type": "code",
   "execution_count": 41,
   "id": "fdd73c9b",
   "metadata": {
    "execution": {
     "iopub.execute_input": "2024-05-19T02:42:52.165354Z",
     "iopub.status.busy": "2024-05-19T02:42:52.165073Z",
     "iopub.status.idle": "2024-05-19T02:42:52.180963Z",
     "shell.execute_reply": "2024-05-19T02:42:52.180131Z"
    },
    "papermill": {
     "duration": 0.045338,
     "end_time": "2024-05-19T02:42:52.182860",
     "exception": false,
     "start_time": "2024-05-19T02:42:52.137522",
     "status": "completed"
    },
    "tags": []
   },
   "outputs": [],
   "source": [
    "from tqdm.auto import tqdm\n",
    "from transformers import get_scheduler"
   ]
  },
  {
   "cell_type": "code",
   "execution_count": null,
   "id": "7b12bbb6",
   "metadata": {
    "papermill": {
     "duration": 0.025976,
     "end_time": "2024-05-19T02:42:52.235049",
     "exception": false,
     "start_time": "2024-05-19T02:42:52.209073",
     "status": "completed"
    },
    "tags": []
   },
   "outputs": [],
   "source": []
  },
  {
   "cell_type": "code",
   "execution_count": 42,
   "id": "642e7009",
   "metadata": {
    "execution": {
     "iopub.execute_input": "2024-05-19T02:42:52.289374Z",
     "iopub.status.busy": "2024-05-19T02:42:52.289110Z",
     "iopub.status.idle": "2024-05-19T08:55:31.396663Z",
     "shell.execute_reply": "2024-05-19T08:55:31.395679Z"
    },
    "papermill": {
     "duration": 22359.148683,
     "end_time": "2024-05-19T08:55:31.409893",
     "exception": false,
     "start_time": "2024-05-19T02:42:52.261210",
     "status": "completed"
    },
    "tags": []
   },
   "outputs": [
    {
     "data": {
      "application/vnd.jupyter.widget-view+json": {
       "model_id": "ebd18799277c44139ff012465d156fca",
       "version_major": 2,
       "version_minor": 0
      },
      "text/plain": [
       "testing:   0%|          | 0/375 [00:00<?, ?it/s]"
      ]
     },
     "metadata": {},
     "output_type": "display_data"
    },
    {
     "name": "stdout",
     "output_type": "stream",
     "text": [
      "[0.9858156028368794, 0.9840637450199203, 0.8922558922558923, 0.9523809523809523, 1.0, 1.0, 0.6553524804177546, 0.7957317073170732, 0.875, 0.5982142857142857, 0.9764705882352941, 0.9047619047619048, 0.9054054054054054, 0.730909090909091, 0.7857142857142857, 0.9781021897810219, 0.9156626506024097, 0.8333333333333334, 0.96875, 0.967741935483871, 0.9351851851851852, 0.9929328621908127, 0.9203539823008849, 0.928, 0.8787878787878788, 0.9659090909090909, 1.0, 0.9916317991631799, 0.9673202614379085, 0.9668508287292817, 0.9150326797385621, 0.9285714285714286, 0.9680851063829787, 0.7492877492877492, 0.9905660377358491, 0.8787878787878788, 0.5296803652968036, 0.9416445623342176, 0.9122807017543859, 0.9565217391304348, 0.8566037735849057, 0.968421052631579, 0.9393939393939394, 1.0, 0.9624060150375939, 0.9565217391304348, 0.9175627240143369, 0.9714285714285714, 1.0, 0.9688888888888889, 0.9767441860465116, 0.9285714285714286, 1.0, 0.9456869009584664, 1.0, 1.0, 1.0, 0.9166666666666666, 0.9054054054054054, 0.9859484777517564, 0.8620689655172413, 0.9063291139240506, 0.9556451612903226, 0.8817567567567568, 0.9857142857142858, 0.7777777777777778, 0.7480314960629921, 0.8571428571428572, 0.9168831168831169, 0.9800796812749004, 0.9473684210526316, 0.9038461538461539, 0.9577039274924471, 0.8757961783439491, 0.8664772727272727, 0.9523809523809523, 0.896774193548387, 0.8662613981762918, 0.8936170212765957, 0.9594594594594594, 0.9110070257611241, 0.8165467625899281, 0.9824561403508771, 1.0, 1.0, 0.9153846153846154, 0.6451612903225806, 0.968, 0.89937106918239, 1.0, 1.0, 0.7988826815642458, 0.92, 0.9690721649484536, 0.8421052631578947, 0.990909090909091, 0.7352112676056338, 0.9833333333333333, 0.9886363636363636, 0.9310344827586207, 0.9899497487437185, 0.9954128440366973, 1.0, 0.7588652482269503, 0.9506172839506173, 0.9892857142857143, 0.9696969696969697, 0.9872611464968153, 1.0, 0.9009287925696594, 0.940959409594096, 0.9628942486085343, 0.908675799086758, 0.9371428571428572, 0.972, 0.9956331877729258, 0.9872611464968153, 1.0, 0.9909638554216867, 1.0, 0.9153605015673981, 0.9, 0.8674698795180723, 0.9583333333333334, 0.9150141643059491, 0.9365079365079365, 0.9436274509803921, 1.0, 0.9963768115942029, 0.9375, 0.8421052631578947, 0.9888268156424581, 0.9558011049723757, 1.0, 0.8385650224215246, 1.0, 0.8340425531914893, 0.7391304347826086, 0.9358288770053476, 0.6842105263157895, 0.9711191335740073, 0.9333333333333333, 0.8533333333333333, 0.9758771929824561, 0.8877887788778878, 0.9821428571428571, 0.9447368421052632, 0.9541984732824428, 0.9454545454545454, 0.9675324675324676, 0.9966329966329966, 0.9206680584551148, 0.9784560143626571, 0.8275862068965517, 0.9724137931034482, 0.8571428571428572, 1.0, 0.898876404494382, 0.969639468690702, 0.9901960784313726, 1.0, 0.9719626168224299, 1.0, 1.0, 0.9411764705882353, 1.0, 0.8, 0.9899244332493703, 0.8881856540084389, 0.9337231968810916, 0.7878787878787878, 0.8394495412844036, 1.0, 0.9857549857549858, 1.0, 1.0, 1.0, 0.9, 1.0, 0.8490566037735849, 1.0, 1.0, 1.0, 0.9761904761904762, 0.9793388429752066, 1.0, 0.8372093023255813, 0.9393939393939394, 0.875, 0.9588607594936709, 0.8287937743190661, 0.8888888888888888, 0.9696969696969697, 0.9111111111111111, 0.875, 0.891566265060241, 0.975, 0.8654353562005277, 0.7777777777777778, 0.8164893617021276, 0.9451697127937336, 0.625, 0.8666666666666667, 0.6156716417910448, 0.924812030075188, 0.8974358974358975, 0.9230769230769231, 0.9618320610687023, 1.0, 0.95, 0.9318181818181819, 1.0, 0.9761904761904762, 0.9058823529411765, 1.0, 0.9204545454545454, 1.0, 0.8628318584070797, 0.9895833333333334, 0.6294117647058823, 1.0, 0.7169811320754718, 0.9304029304029304, 0.5952380952380952, 1.0, 0.9875311720698254, 0.9662921348314607, 0.9214659685863874, 0.7446808510638299, 0.975, 1.0, 0.8260869565217391, 0.9655870445344129, 0.8580060422960725, 0.86, 0.919431279620853, 0.8409090909090909, 0.8674351585014409, 0.6428571428571428, 0.7857142857142857, 0.9619565217391304, 0.9659090909090909, 0.9411764705882353, 0.938, 0.7872340425531915, 0.9873684210526316, 0.990215264187867, 1.0, 0.9333333333333333, 0.967741935483871, 0.9117647058823529, 0.9090909090909091, 0.9523809523809523, 0.9757575757575757, 0.9428571428571428, 1.0, 0.9867986798679867, 0.9411764705882353, 0.8787878787878788, 1.0, 0.9879518072289156, 1.0, 0.9461538461538461, 1.0, 1.0, 0.9444444444444444, 0.9691119691119691, 0.7092511013215859, 0.8919597989949749, 0.9583333333333334, 0.9444444444444444, 0.8619246861924686, 1.0, 1.0, 1.0, 0.9711191335740073, 0.9189189189189189, 0.8584905660377359, 1.0, 0.7, 0.8678414096916299, 0.7142857142857143, 0.9484029484029484, 0.9914346895074947, 1.0, 0.7902621722846441, 0.9840764331210191, 0.9270833333333334, 0.875, 0.8165374677002584, 1.0, 0.8855218855218855, 0.8625, 0.7407407407407407, 1.0, 0.9615384615384616, 0.7142857142857143, 0.9714285714285714, 0.9487179487179487, 0.9649532710280374, 0.9420289855072463, 0.9588688946015425, 0.9433333333333334, 0.9798270893371758, 0.9307875894988067, 0.8620689655172413, 0.7305555555555556, 0.9142156862745098, 1.0, 0.8, 0.8496042216358839, 0.9665809768637532, 0.96, 1.0, 1.0, 0.9333333333333333, 1.0, 0.6363636363636364, 0.9877551020408163, 0.8571428571428572, 0.8560606060606061, 0.951048951048951, 0.9822485207100592, 1.0, 1.0, 0.702842377260982, 0.9468085106382979, 0.5102040816326531, 0.6732283464566929, 0.9222972972972973, 1.0, 0.7840909090909091, 0.92, 0.9090909090909091, 0.9517241379310345, 0.8333333333333334, 0.9892665474060823, 0.9959514170040485, 0.8022388059701493, 0.9740820734341252, 0.6137071651090342, 0.375, 1.0, 0.6336633663366337, 0.946927374301676, 0.74375, 0.9285714285714286, 0.9901960784313726, 0.9970414201183432, 0.8860759493670887, 0.9310344827586207, 0.8576779026217228, 0.9642857142857143, 0.9270833333333334, 0.9443298969072165, 1.0, 0.5, 0.8909090909090909, 1.0, 0.868421052631579, 0.9978902953586498, 0.9, 1.0, 0.9846743295019157, 0.9056603773584906, 0.9866666666666667, 0.9318181818181819, 0.9117647058823529, 1.0, 0.9766839378238342, 1.0, 1.0, 0.843065693430657, 0.7132867132867133, 0.875, 0.8328445747800587, 0.9365482233502538, 0.8787878787878788, 0.7442622950819673, 0.9047619047619048, 0.9534313725490196, 0.9766949152542372, 0.9388489208633094, 0.8419618528610354, 0.7647058823529411, 0.9090909090909091, 0.7953488372093023, 0.9050847457627118, 0.95625, 0.9425287356321839, 0.9855072463768116, 0.7829787234042553, 0.9545454545454546, 1.0, 0.9671532846715328, 0.9555555555555556, 0.9705882352941176, 0.96045197740113, 0.9514348785871964, 0.7173913043478262, 0.9565217391304348, 0.5545171339563864, 1.0, 0.9168539325842696, 0.9623655913978495, 0.8609865470852018, 0.88, 0.8333333333333334, 1.0, 0.6, 0.9642857142857143, 0.8705882352941177, 1.0, 1.0, 0.952755905511811, 0.9325842696629214, 1.0, 1.0, 0.9814814814814815, 0.9196428571428571, 0.817966903073286, 0.9078947368421053, 0.9704641350210971, 0.8042328042328042, 0.9875, 0.9919517102615694, 0.9746543778801844, 1.0, 1.0, 0.9210526315789473, 1.0, 0.891640866873065, 0.9463087248322147, 1.0, 0.8416289592760181, 0.9767441860465116, 0.7878787878787878, 0.8944723618090452, 0.9911111111111112, 0.9304123711340206, 0.9686847599164927, 0.9105960264900662, 0.9259259259259259, 0.9176755447941889, 0.9375, 0.9506172839506173, 0.8958333333333334, 1.0, 0.9696969696969697, 0.963302752293578, 0.6933333333333334, 0.9830508474576272, 0.81875, 0.6486486486486487, 1.0, 0.9696969696969697, 1.0, 0.902542372881356, 0.6883116883116883, 0.9113924050632911, 0.8541666666666666, 1.0, 0.8421052631578947, 0.7830882352941176, 0.9444444444444444, 0.6470588235294117, 0.8148984198645598, 0.8666666666666667, 0.8921832884097035, 0.9076923076923077, 0.9263657957244655, 0.9559164733178654, 0.85, 0.990506329113924, 0.7222222222222222, 0.9829545454545454, 0.6594202898550725, 0.8571428571428572, 0.9362549800796813, 0.9727272727272728, 1.0, 0.8694516971279374, 0.9155672823218998, 0.9230769230769231, 0.889168765743073, 0.9285714285714286, 0.9223880597014925, 0.8857142857142857, 0.9285714285714286, 0.9696969696969697, 0.8056265984654731, 1.0, 0.8947368421052632, 0.8888888888888888, 0.8625954198473282, 1.0, 0.9487179487179487, 0.9805309734513274, 1.0, 1.0, 1.0, 0.7231638418079096, 0.6206896551724138, 1.0, 0.8599033816425121, 0.92, 0.9166666666666666, 0.8576512455516014, 0.8974358974358975, 1.0, 1.0, 0.979381443298969, 0.8947368421052632, 0.804093567251462, 0.9852941176470589, 0.9230769230769231, 0.9371069182389937, 0.9858585858585859, 0.9130434782608696, 0.9666666666666667, 0.9546827794561934, 0.9393939393939394, 0.9977924944812362, 0.9572649572649573, 0.9095607235142119, 1.0, 0.9088145896656535, 0.9736842105263158, 0.87109375, 1.0, 0.8271604938271605, 0.7711267605633803, 0.9910714285714286, 1.0, 0.7741935483870968, 0.7991071428571428, 0.9848484848484849, 0.8047619047619048, 0.9523809523809523, 0.7760416666666666, 0.9230769230769231, 0.915, 0.832, 0.967741935483871, 0.8983050847457628, 0.962962962962963, 0.984251968503937, 0.8260869565217391, 0.97, 1.0, 1.0, 0.9868913857677902, 0.9672897196261683, 0.9035714285714286, 1.0, 0.9166666666666666, 0.9230769230769231, 1.0, 0.8210116731517509, 0.9346153846153846, 0.9318181818181819, 0.8181818181818181, 1.0, 0.8461538461538461, 0.8961538461538462, 0.9032258064516129, 1.0, 0.8458498023715415, 1.0, 0.7785714285714286, 0.7090909090909091, 1.0, 0.8997995991983968, 0.97, 0.8347107438016529, 0.9184549356223176, 0.7828571428571429, 0.9514563106796117, 0.8148148148148149, 0.8571428571428572, 0.9137931034482758, 0.972972972972973, 0.9108910891089109, 1.0, 0.8753894080996885, 0.8493150684931507, 0.8857142857142857, 0.9366515837104072, 0.7373068432671082, 0.9405940594059405, 0.8914027149321266, 0.9304029304029304, 1.0, 0.9480122324159022, 0.9375, 0.830028328611898, 0.9221183800623053, 1.0, 0.9117647058823529, 0.993801652892562, 0.9, 0.9574468085106383, 0.7493112947658402, 0.984251968503937, 0.8661417322834646, 1.0, 0.75, 0.9323308270676691, 0.4778554778554779, 0.9622641509433962, 1.0, 0.9575757575757575, 0.7928571428571428, 0.935483870967742, 1.0, 0.9166666666666666, 0.9809885931558935, 0.9777777777777777, 0.9732620320855615, 0.8825757575757576, 0.7142857142857143, 0.868421052631579, 0.7777777777777778, 0.8333333333333334, 0.8488372093023255, 0.6349206349206349, 0.8888888888888888, 0.8722222222222222, 0.9, 0.8571428571428572, 0.8888888888888888, 0.85, 1.0, 0.9333333333333333, 1.0, 1.0, 0.8297872340425532, 0.804945054945055, 0.9830508474576272, 1.0, 0.9344262295081968, 0.7651515151515151, 1.0, 0.9710144927536232, 0.9801324503311258, 0.9444444444444444, 0.9765625, 1.0, 0.9562624254473161, 0.9875, 0.9743589743589743, 0.9381898454746137, 0.8909090909090909, 0.9777777777777777, 0.9846153846153847, 1.0, 0.9245283018867925, 1.0, 0.9615384615384616, 1.0, 0.9294117647058824, 0.864516129032258, 0.9224806201550387, 0.7477744807121662, 0.8235294117647058, 0.9960707269155207, 1.0, 0.9811320754716981, 0.92, 0.7849829351535836, 0.9918032786885246, 0.75, 1.0, 0.9906542056074766, 0.8552631578947368, 0.9393939393939394, 0.9694989106753813, 1.0, 0.9828850855745721, 0.9534883720930233, 0.961038961038961, 1.0, 1.0, 0.949238578680203, 1.0, 0.9121621621621622, 0.9358974358974359, 1.0, 0.8712328767123287, 1.0, 1.0, 0.9970674486803519, 0.8873239436619719, 0.9402985074626866, 0.804635761589404, 0.9782608695652174, 0.9380053908355795, 0.7975460122699387, 0.5620437956204379, 0.9835164835164835, 0.9824561403508771, 0.5859030837004405, 0.8378378378378378, 1.0, 0.9315403422982885, 0.31228070175438594, 0.9294605809128631, 0.9638297872340426, 1.0, 0.9090909090909091, 0.962962962962963, 0.9705882352941176, 1.0, 0.9544072948328267, 0.9565217391304348, 0.8125, 0.9899497487437185, 0.9166666666666666, 0.8544061302681992, 0.9069767441860466, 0.9530685920577617, 0.89171974522293, 0.9166666666666666, 1.0, 0.9347826086956522, 0.967680608365019, 0.9230769230769231, 0.9622641509433962, 1.0, 0.975, 0.9772727272727273, 0.8138138138138138, 0.9882352941176471, 0.7757847533632287, 1.0, 0.825, 0.9411764705882353, 0.7971014492753623, 0.9069767441860466, 0.9666666666666667, 1.0, 0.8947368421052632, 0.6734693877551021, 1.0, 0.9902912621359223, 0.95, 0.9880952380952381, 0.986159169550173, 0.9230769230769231, 0.9310344827586207, 0.9076923076923077, 0.9426229508196722, 0.9705882352941176, 0.9166666666666666, 1.0, 1.0, 0.9855421686746988, 1.0, 0.9307692307692308, 0.8996960486322189, 1.0, 0.9545454545454546, 0.931758530183727, 0.945054945054945, 1.0, 0.8609467455621302, 0.7555555555555555, 1.0, 0.875, 0.9331550802139037, 0.895910780669145, 0.5238095238095238, 0.9859154929577465, 0.9982698961937716, 1.0, 0.7837837837837838, 1.0, 1.0, 1.0, 0.9333333333333333, 1.0, 0.9356435643564356, 1.0, 0.8996282527881041, 0.8461538461538461, 0.924892703862661, 0.8928571428571429, 1.0, 0.8439490445859873, 0.8340611353711791, 0.8786610878661087, 0.7142857142857143, 0.9958847736625515, 0.9, 1.0, 0.9528130671506352, 0.9498069498069498, 1.0, 0.9259259259259259, 0.9393939393939394, 0.968421052631579, 0.9130434782608696, 0.9078212290502793, 0.9777777777777777, 1.0, 0.9333333333333333, 0.7654320987654322, 0.9487179487179487, 0.962962962962963, 0.9960159362549801, 1.0, 0.9624413145539906, 1.0, 0.9375, 0.9523809523809523, 0.9230769230769231, 0.7202797202797202, 0.8685258964143426, 0.9671532846715328, 0.9253731343283582, 0.955, 0.8931297709923665, 1.0, 0.9444444444444444, 0.8179775280898877, 0.9550898203592815, 0.9043478260869565, 0.9285714285714286, 0.8963210702341137, 1.0, 0.8968609865470852, 0.759581881533101, 0.8983402489626556, 1.0, 0.803030303030303, 1.0, 0.9414414414414415, 0.9661654135338346, 0.6711409395973154, 1.0, 0.9914529914529915, 0.9625935162094763, 1.0, 0.8661971830985915, 1.0, 0.8125, 0.8947368421052632, 0.735632183908046, 0.7631578947368421, 0.9946380697050938, 1.0, 0.771043771043771, 0.8033333333333333, 0.7530364372469636, 0.8888888888888888, 0.9393939393939394, 1.0, 0.9333333333333333, 0.868421052631579, 1.0, 0.5708955223880596, 0.9655172413793104, 0.8333333333333334, 0.8812095032397408, 1.0, 0.9978586723768736, 0.7627118644067796, 0.9525065963060686, 0.9090909090909091, 0.9615384615384616, 0.7312661498708011, 0.9444444444444444, 0.9464285714285714, 0.9906759906759907, 0.9047619047619048, 0.8169934640522876, 0.9622641509433962, 0.8840125391849529, 0.9915966386554622, 0.9012345679012346, 1.0, 0.8732394366197183, 1.0, 0.975, 0.9435215946843853, 0.847953216374269, 0.8669950738916257, 0.9766536964980544, 1.0, 0.9829545454545454, 0.9739776951672863, 0.9872204472843451, 0.7798165137614679, 1.0, 0.9642857142857143, 0.9285714285714286, 0.9885714285714285, 0.962962962962963, 0.7842465753424658, 0.9166666666666666, 1.0, 0.9705882352941176, 1.0, 1.0, 0.9393939393939394, 0.9840637450199203, 0.9859402460456942, 0.7790697674418605, 0.9194805194805195, 0.9642857142857143, 0.9640102827763496, 0.9597457627118644, 0.896551724137931, 0.8655737704918033, 0.7446808510638299, 1.0, 0.9382022471910112, 0.9863945578231292, 0.5806451612903225, 0.9882903981264637, 0.9636363636363636, 1.0, 0.5710594315245479, 0.9590163934426229, 1.0, 0.9, 0.9803921568627451, 0.898989898989899, 0.9871794871794872, 0.8784313725490196, 0.9292929292929293, 0.9607843137254902, 1.0, 0.7762557077625571, 0.876056338028169, 0.9765258215962441, 1.0, 0.9379652605459057, 0.8775510204081632, 0.9080188679245284, 0.9525691699604744, 0.962962962962963, 0.9495412844036697, 0.9964664310954063, 0.6401098901098901, 1.0, 0.9090909090909091, 0.6, 0.9565217391304348, 1.0, 0.9184149184149184, 0.7875457875457875, 1.0, 0.90625, 0.9527777777777777, 0.9534883720930233, 0.9257950530035336, 1.0, 0.875, 0.7530864197530864, 1.0, 0.961038961038961, 0.9333333333333333, 0.9908256880733946, 1.0, 0.8666666666666667, 0.9301310043668123, 0.8875, 0.9957983193277311, 0.926829268292683, 0.9856459330143541, 0.9772727272727273, 1.0, 0.875, 1.0, 0.7572815533980582, 0.9666666666666667, 0.8584905660377359, 0.9753086419753086, 0.9271653543307087, 1.0, 1.0, 0.8760330578512396, 0.9045801526717557, 0.9575371549893843, 0.6515151515151515, 1.0, 0.8983050847457628, 1.0, 0.9836065573770492, 0.8214285714285714, 0.725, 0.6954887218045113, 0.9285714285714286, 0.9333333333333333, 0.8947368421052632, 0.9384615384615385, 0.95, 1.0, 1.0, 0.9, 0.935, 0.9865591397849462, 0.9693877551020408, 0.9230769230769231, 0.9426229508196722, 1.0, 0.9429347826086957, 1.0, 0.9471544715447154, 0.9395465994962217, 0.936046511627907, 0.9487179487179487, 1.0, 0.8351648351648352, 0.9682539682539683, 0.9416445623342176, 0.7988505747126436, 1.0, 0.9230769230769231, 0.7524752475247525, 0.9319470699432892, 0.968609865470852, 1.0, 1.0, 0.8997867803837953, 0.9829268292682927, 0.9882352941176471, 1.0, 0.8193717277486912, 0.9037656903765691, 0.934984520123839, 0.9891774891774892, 0.6962025316455696, 0.9285714285714286, 0.9803921568627451, 0.9796511627906976, 0.8857142857142857, 0.8925831202046036, 0.967479674796748, 0.9748427672955975, 1.0, 0.9357326478149101, 0.8574257425742574, 1.0, 1.0, 0.8949579831932774, 0.8814016172506739, 0.864, 0.8842794759825328, 0.7766323024054983, 0.9888888888888889, 0.8736462093862816, 1.0, 1.0, 1.0, 0.9975429975429976, 0.944954128440367, 1.0, 0.9047619047619048, 0.95, 0.9655172413793104, 0.9651162790697675, 1.0, 0.9166666666666666, 0.962962962962963, 0.9310344827586207, 0.9006928406466512, 0.48571428571428577, 0.9473684210526316, 0.9521829521829521, 0.9183673469387755, 1.0, 0.8523489932885906, 0.8835164835164835, 1.0, 0.9020771513353116, 0.9460227272727273, 0.9450757575757576, 1.0, 0.9724770642201834, 0.9365079365079365, 0.7438271604938271, 0.8309352517985611, 0.8776041666666666, 0.8170731707317074, 0.9827586206896551, 0.9117117117117117, 0.8525641025641025, 0.9685990338164251, 0.9136363636363636, 1.0, 1.0, 0.8823529411764706, 0.9927710843373494, 0.976, 0.9536679536679536, 1.0, 0.8590308370044053, 0.9459459459459459, 1.0, 0.9634703196347032, 0.9859154929577465, 0.9534883720930233, 1.0, 0.864406779661017, 0.8598130841121495, 0.9581881533101045, 1.0, 0.8018575851393188, 0.9733333333333334, 0.9649122807017544, 0.8709677419354839, 0.8707692307692307, 1.0, 0.8260869565217391, 0.9893617021276596, 1.0, 0.9777777777777777, 0.9672131147540983, 0.978978978978979, 1.0, 0.9302325581395349, 0.7468879668049793, 0.817391304347826, 0.9375, 0.9555555555555556, 0.9733333333333334, 0.7637231503579952, 0.8206896551724138, 0.6565656565656566, 0.9230769230769231, 0.8082191780821918, 0.8489483747609943, 0.960093896713615, 0.8091286307053942, 0.9844155844155844, 0.7058823529411764, 0.7541436464088398, 0.9943181818181818, 0.9536585365853658, 0.9120171673819742, 0.9980544747081712, 0.9166666666666666, 0.7207207207207207, 0.9285714285714286, 0.9512195121951219, 0.9230769230769231, 0.978401727861771, 0.7142857142857143, 0.7712609970674487, 0.9280898876404494, 0.9029126213592233, 0.8620689655172413, 0.9540636042402827, 1.0, 0.9661016949152542, 0.9498327759197325, 0.9818840579710145, 0.9553072625698324, 1.0, 0.875, 0.9295774647887324, 1.0, 0.8556430446194225, 0.8571428571428572, 0.9305210918114144, 0.9322033898305084, 0.78125, 0.980722891566265, 0.9827586206896551, 0.8578811369509044, 0.9038461538461539, 0.8709677419354839, 0.8828828828828829, 1.0, 0.8215488215488216, 0.9516129032258065, 0.8363636363636364, 1.0, 0.9377431906614786, 0.4364820846905537, 1.0, 0.962962962962963, 0.9451697127937336, 0.8918918918918919, 0.9666666666666667, 0.9512195121951219, 0.974169741697417, 0.9454545454545454, 0.9310344827586207, 0.897196261682243, 0.9616858237547893, 0.5801526717557253, 1.0, 0.9347826086956522, 0.9850746268656716, 0.9372197309417041, 1.0, 0.9009009009009009, 0.972972972972973, 0.806366047745358, 0.9133858267716536, 1.0, 0.8260869565217391, 1.0, 0.9351851851851852, 0.8214285714285714, 0.9098591549295775, 0.912718204488778, 0.9327485380116959, 0.9591836734693877, 0.8855721393034826, 0.625, 0.9855072463768116, 0.6353790613718411, 0.9, 1.0, 0.7692307692307692, 0.88, 0.973741794310722, 0.8235294117647058, 0.916083916083916, 0.9459459459459459, 1.0, 0.9296636085626911, 0.7991071428571428, 0.9626168224299065, 0.9393063583815029, 0.8671328671328671, 0.6428571428571428, 0.972972972972973, 1.0, 0.9440993788819876, 0.689516129032258, 0.9444444444444444, 1.0, 1.0, 1.0, 0.9506578947368421, 0.9503105590062112, 1.0, 0.9853658536585366, 0.9393939393939394, 0.9312039312039312, 0.9393939393939394, 0.9702970297029703, 0.9575971731448764, 0.8571428571428572, 0.9952830188679245, 0.9507908611599297, 1.0, 0.8333333333333334, 0.9340659340659341, 0.9469026548672567, 0.8772563176895307, 1.0, 1.0, 0.7235023041474654, 0.9102990033222591, 0.8175675675675675, 0.9622093023255814, 0.7142857142857143, 0.9411764705882353, 0.7142857142857143, 1.0, 0.9754464285714286, 0.8820058997050148, 0.5304659498207885, 1.0, 0.7966507177033493, 0.9411764705882353, 0.9361702127659575, 0.6956521739130435, 0.994413407821229, 1.0, 1.0, 0.967391304347826, 0.8228782287822878, 0.8657074340527577, 0.8113207547169812, 1.0, 0.9591836734693877, 0.8666666666666667, 0.9699248120300752, 0.9523809523809523, 0.8242574257425743, 0.962962962962963, 0.9154929577464789, 0.96875, 0.8746987951807229, 1.0, 0.84375, 0.8132780082987552, 1.0, 0.9857142857142858, 0.9576547231270358, 0.9432048681541583, 1.0, 0.821882951653944, 0.9319371727748691, 0.9908256880733946, 0.967741935483871, 0.8333333333333334, 0.9897959183673469, 0.8399014778325123, 0.8127090301003345, 1.0, 0.9285714285714286, 0.8884758364312267, 0.5515463917525774, 1.0, 1.0, 0.8578947368421053, 0.8518518518518519, 0.9696969696969697, 0.7058823529411764, 0.9366197183098591, 0.9292543021032504, 0.885480572597137, 0.9817629179331308, 1.0, 0.868421052631579, 1.0, 0.9671052631578947, 0.8737201365187713, 0.9791666666666666, 1.0, 1.0, 1.0, 1.0, 0.9923076923076923, 0.6111111111111112, 0.92, 0.7777777777777778, 0.6177215189873417, 0.972972972972973, 1.0, 1.0, 0.8379446640316206, 0.9803921568627451, 0.9833333333333333, 0.9259259259259259, 0.8333333333333334, 0.6860068259385665, 0.876984126984127, 1.0, 0.9189189189189189, 0.9693251533742331, 0.868421052631579, 0.9176470588235294, 0.8064516129032258, 1.0, 0.8230088495575221, 0.8888888888888888, 1.0, 0.9, 0.8666666666666667, 0.9230769230769231, 0.8465473145780051, 0.9296875, 0.9565217391304348, 1.0, 0.9811320754716981, 0.6208651399491094, 1.0, 0.9661538461538461, 1.0, 1.0, 1.0, 1.0, 0.9375, 0.925, 0.9778761061946902, 0.75, 0.9517766497461929, 0.8287037037037037, 0.9603174603174603, 0.831858407079646, 0.8958333333333334, 0.9610136452241715, 0.8593155893536122, 0.935483870967742, 1.0, 0.9898477157360406, 0.9545454545454546, 1.0, 1.0, 0.96, 0.9012345679012346, 0.7735849056603774, 0.9520295202952029, 0.7873134328358209, 0.9681528662420382, 0.9962825278810409, 1.0, 0.9444444444444444, 1.0, 1.0, 0.9401197604790419, 0.8369829683698297, 1.0, 0.9295774647887324, 1.0, 0.906060606060606, 0.8552188552188552, 0.8401486988847584, 0.9647887323943662, 0.8333333333333334, 0.9843137254901961, 0.9125, 0.7678018575851393, 0.8888888888888888, 0.6700680272108843, 1.0, 0.8125, 1.0, 0.8888888888888888, 0.8468677494199536, 0.9433551198257081, 0.904, 0.9754098360655737, 0.9352331606217616, 0.9829351535836177, 0.8880208333333334, 0.9603960396039604, 0.8690476190476191, 0.875, 0.8757961783439491, 1.0, 1.0, 0.9516129032258065, 0.7894736842105263, 0.92, 1.0, 0.9289617486338798, 0.9315068493150684, 0.9605263157894737, 0.9523809523809523, 0.975609756097561, 0.9642857142857143, 0.9883495145631068, 0.9208791208791209, 1.0, 0.9405940594059405, 1.0, 0.9795918367346939, 0.8703703703703703, 1.0, 1.0, 0.8782894736842105, 0.925, 0.8913043478260869, 0.990909090909091, 0.9978540772532188, 1.0, 0.9876237623762376, 0.898989898989899, 0.9210526315789473, 0.625, 0.9166666666666666, 0.9258160237388724, 0.9406593406593406, 0.9308943089430894, 0.9710743801652892, 0.9545454545454546, 1.0, 0.9445983379501385, 0.9363636363636364, 1.0, 0.9470899470899471, 0.9393939393939394, 0.940809968847352, 0.6363636363636364, 1.0, 0.9726027397260274, 1.0, 0.933920704845815, 0.8666666666666667, 0.9607843137254902, 0.7753424657534247, 1.0, 0.9875, 0.9472140762463344, 0.8918918918918919, 0.9753593429158111, 1.0, 1.0, 0.9738903394255874, 1.0, 0.8222222222222222, 0.8095238095238095, 0.8285163776493256, 0.9174603174603174, 0.9761904761904762, 0.9523809523809523, 0.9725274725274725, 1.0, 0.9943977591036415, 0.8545454545454545, 0.9852941176470589, 0.84, 0.7966666666666666, 0.8461538461538461, 0.9272727272727272, 1.0, 0.9166666666666666, 0.8333333333333334, 1.0, 0.943089430894309, 0.9331395348837209, 0.9657320872274143, 0.8389057750759878, 0.9650655021834061, 1.0, 1.0, 0.8823529411764706, 1.0, 0.9130434782608696, 0.9807692307692307, 0.7906976744186046, 0.764, 0.930952380952381, 0.9733333333333334, 0.9666666666666667, 0.7722007722007722, 1.0, 0.9977272727272727, 1.0, 0.9166666666666666, 0.9769585253456221, 1.0, 1.0, 0.9701789264413518, 0.9, 0.7610921501706485, 0.9801587301587301, 0.5781990521327014, 0.819078947368421, 1.0, 0.9378531073446328, 0.88, 0.9601593625498008, 1.0, 0.9782608695652174, 0.9782608695652174, 0.9714285714285714, 1.0, 0.9230769230769231, 0.7627118644067796, 0.9497716894977168, 0.9372294372294372, 0.9754299754299754, 0.4388888888888889, 0.9166666666666666, 0.9333333333333333, 0.9467312348668281, 0.9743589743589743, 0.8723404255319149, 1.0, 1.0, 1.0, 0.9024390243902439, 1.0, 1.0, 0.8941605839416058, 0.7178683385579938, 1.0, 0.8419243986254296, 1.0, 0.9387755102040817, 0.9692307692307692, 0.92018779342723, 0.8875739644970414, 0.9595070422535211, 0.9897540983606558, 0.9943074003795066, 1.0, 0.8966244725738397, 0.9655172413793104, 0.9975845410628019, 1.0, 1.0, 1.0, 1.0, 0.6306068601583114, 0.8421052631578947, 1.0, 0.8732782369146006, 0.9898734177215189, 0.7333333333333334, 0.9090909090909091, 0.967741935483871, 0.8426966292134832, 0.8958333333333334, 0.8412698412698413, 0.8503184713375797, 0.8055555555555556, 1.0, 0.985981308411215, 0.9628865979381444, 0.9807692307692307, 0.9408740359897172, 0.9176755447941889, 0.9347826086956522, 0.9790575916230366, 1.0, 0.9530026109660574, 1.0, 0.9315068493150684, 0.9591194968553459, 1.0, 0.9025069637883009, 0.9586206896551724, 0.8285714285714285, 0.9682539682539683, 0.8, 0.8918918918918919, 0.7142857142857143, 1.0, 0.9113573407202216, 0.9163179916317992, 0.9411764705882353, 0.7389033942558747, 1.0, 0.8640350877192983, 0.752906976744186, 0.9776286353467561, 0.975669099756691, 0.9285714285714286, 0.8104575163398693, 1.0, 0.9636363636363636, 0.88, 0.972972972972973, 0.9130434782608696, 1.0, 0.88, 0.8638888888888889, 0.8769230769230769, 0.8247863247863247, 0.9233870967741935, 0.889273356401384, 0.9552238805970149, 1.0, 0.8746518105849582, 1.0, 0.927461139896373, 0.9731800766283525, 0.9612403100775194, 1.0, 0.8275862068965517, 1.0, 1.0, 0.9565217391304348, 0.9230769230769231, 0.908256880733945, 0.9645569620253165, 0.9428571428571428, 0.9722222222222222, 1.0, 1.0, 1.0, 0.9973614775725593, 0.8181818181818181, 0.9605263157894737, 0.9230769230769231, 0.8901734104046243, 0.9665492957746479, 0.9961389961389961, 0.9090909090909091, 0.8114754098360656, 0.9801084990958409, 0.5893719806763285, 0.88, 0.9201101928374655, 0.7865612648221344, 0.8446601941747574, 0.970873786407767, 0.7869565217391304, 0.9705882352941176, 1.0, 0.7896440129449838, 1.0, 0.8461538461538461, 0.8390804597701149, 0.9061032863849765, 0.95, 1.0, 0.953125, 0.956140350877193, 1.0, 0.8310344827586207, 0.994475138121547, 0.9701492537313433, 0.9849246231155779, 0.6896551724137931, 0.9583333333333334, 0.8115942028985508, 0.9724409448818898, 0.9285714285714286, 0.9834983498349835, 0.8214285714285714, 0.9411764705882353, 0.9473684210526316, 0.9269911504424779, 1.0, 0.9137931034482758, 1.0, 0.8571428571428572, 0.8709677419354839, 0.7674418604651163, 0.9891774891774892, 0.9557522123893806, 0.9166666666666666, 0.926829268292683, 0.9444444444444444, 0.9897750511247444, 0.9565217391304348, 0.8571428571428572, 0.7983193277310925, 0.9523809523809523, 0.8493975903614458, 1.0, 0.8888888888888888, 0.8585858585858586, 1.0, 0.9664804469273743, 0.9172661870503597, 0.9044368600682594, 0.8947368421052632, 1.0, 0.7164179104477613, 0.938375350140056, 0.9459459459459459, 1.0, 0.9874551971326165, 0.9328358208955224, 0.9642857142857143, 0.9676616915422885, 0.9080459770114943, 0.9142857142857143, 0.99375, 0.8141891891891893, 0.967741935483871, 0.95, 1.0, 0.9230769230769231, 0.6292682926829268, 0.9148936170212766, 0.9375, 0.9304812834224598, 1.0, 0.5294117647058824, 0.6680327868852459, 1.0, 0.8465608465608465, 0.7567567567567568, 0.9868852459016394, 0.8691588785046729, 1.0, 0.9739413680781759, 0.9795918367346939, 0.980246913580247, 0.9705882352941176, 0.9230769230769231, 0.872791519434629, 1.0, 0.9878419452887538, 0.9583333333333334, 0.8811881188118812, 0.8061674008810573, 0.7016129032258065, 0.7964601769911505, 0.9849137931034483, 0.7514792899408285, 0.9968253968253968, 1.0, 1.0, 0.8914473684210527, 0.5238095238095238, 0.9380530973451328, 0.9321663019693655, 0.8333333333333334, 0.9749478079331941, 0.8181818181818181, 0.9566265060240964, 0.9765166340508806, 1.0, 0.8787878787878788, 0.9888641425389755, 0.8269230769230769, 1.0, 0.9462809917355371, 0.8464912280701754, 0.8557457212713937, 0.8662420382165605, 0.997907949790795, 0.9395017793594306, 0.8571428571428572, 0.9861111111111112, 0.9976580796252927, 0.7994100294985251, 0.9526462395543176, 1.0, 0.9896373056994818, 0.9351351351351351, 0.8888888888888888, 0.990234375, 0.9655172413793104, 0.967741935483871, 0.982532751091703, 1.0, 1.0, 1.0, 0.9245810055865922, 0.9968847352024922, 0.9166666666666666, 0.8352941176470589, 0.9767441860465116, 0.900990099009901, 0.9738372093023255, 1.0, 1.0, 0.888, 0.9206349206349207, 0.9528301886792453, 0.9744597249508841, 0.9609120521172638, 0.9038461538461539, 0.9636363636363636, 0.7569444444444444, 0.8064516129032258, 1.0, 0.9488372093023256, 1.0, 0.9716981132075472, 1.0, 0.8023952095808383, 0.7309941520467836, 0.9924812030075187, 0.9880382775119617, 0.9191919191919192, 0.9568965517241379, 0.7692307692307692, 0.9665178571428571, 0.7325102880658436, 0.9969325153374233, 0.9310344827586207, 0.9452054794520548, 0.9148936170212766, 1.0, 0.48584905660377353, 0.9411764705882353, 0.991869918699187, 0.8295081967213115, 0.9975369458128078, 1.0, 0.84375, 0.9655172413793104, 0.9751243781094527, 0.96875, 0.9583333333333334, 0.8823529411764706, 0.8888888888888888, 1.0, 0.9789029535864979, 1.0, 0.7992125984251969, 0.8949152542372881, 0.8723404255319149, 0.9696969696969697, 1.0, 0.6656534954407295, 0.9236947791164658, 0.88, 0.9411764705882353, 0.8534798534798534, 1.0, 0.8858267716535433, 0.855072463768116, 0.9481481481481482, 0.95, 0.9515789473684211, 0.8571428571428572, 0.7375, 0.995850622406639, 0.9493243243243243, 1.0, 1.0, 1.0, 1.0, 0.9940119760479041, 0.625, 1.0, 0.9396551724137931, 1.0, 0.9680851063829787, 0.8579545454545454, 0.9734513274336283, 0.9601328903654485, 1.0, 0.9766949152542372, 0.9552238805970149, 0.9848484848484849, 0.9086294416243654, 0.7037037037037037, 0.8287153652392947, 0.8647058823529412, 1.0, 0.931350114416476, 1.0, 0.978125, 0.8888888888888888, 1.0, 0.9375, 1.0, 1.0, 0.9308943089430894, 0.9791666666666666, 0.793233082706767, 1.0, 0.7692307692307692, 0.9088729016786571, 0.9411764705882353, 0.946524064171123, 1.0, 0.9770408163265306, 1.0, 1.0, 1.0, 0.8672316384180792, 0.9473684210526316, 0.9863387978142076, 1.0, 0.9803921568627451, 1.0, 0.822265625, 0.6201923076923077, 0.975609756097561, 0.7388535031847134, 0.9330143540669856, 1.0, 0.9963768115942029, 0.7950819672131147, 0.941747572815534, 0.9436619718309859, 0.9076923076923077, 0.96875, 0.9870967741935484, 0.7558139534883721, 0.9811320754716981, 1.0, 1.0, 0.9336188436830835, 0.9457364341085271, 0.9857482185273159, 1.0, 0.7924528301886793, 0.9343065693430657, 1.0, 1.0, 0.94, 0.9848024316109423, 0.7747747747747747, 0.9743589743589743, 0.9581497797356828, 1.0, 0.40740740740740744, 1.0, 0.9714285714285714, 0.8905109489051095, 0.833729216152019, 0.8713968957871396, 0.7710843373493976, 1.0, 1.0, 0.9829059829059829, 1.0, 0.8841309823677582, 0.9936305732484076, 0.8504672897196262, 0.9509803921568627, 1.0, 0.9047619047619048, 0.8775510204081632, 1.0, 0.8260869565217391, 0.9504716981132075, 0.9090909090909091, 0.8181818181818181, 0.5836298932384342, 0.6086956521739131, 0.8913043478260869, 0.9841269841269842, 0.9553571428571429, 1.0, 1.0, 0.9265091863517061, 1.0, 0.948170731707317, 0.9785407725321889, 0.9681528662420382, 1.0, 0.5, 0.9210526315789473, 0.9877800407331976, 1.0, 0.9577464788732395, 0.8642533936651584, 0.9761904761904762, 1.0, 0.8757575757575757, 0.7592592592592593, 1.0, 1.0, 0.7950819672131147, 0.912568306010929, 1.0, 0.8333333333333334, 1.0, 0.8571428571428572, 0.7, 0.9071925754060325, 0.8903508771929824, 0.9934640522875817, 0.8880778588807786, 0.6977777777777778, 0.9892183288409704, 0.8297872340425532, 0.8611111111111112, 0.9531531531531532, 1.0, 0.975, 0.9250936329588015, 1.0, 1.0, 0.9548872180451128, 0.9473684210526316, 1.0, 0.8214285714285714, 1.0, 1.0, 0.8858695652173914, 0.8947368421052632, 0.8790849673202614, 0.7529880478087649, 1.0, 0.7280701754385965, 1.0, 0.9, 1.0, 1.0, 1.0, 0.9553571428571429, 1.0, 0.9545454545454546, 1.0, 0.9213483146067416, 0.732824427480916, 0.875, 1.0, 0.9230769230769231, 0.9162790697674419, 1.0, 0.9803921568627451, 0.9636363636363636, 0.9632352941176471, 0.9411764705882353, 0.9495798319327731, 0.958974358974359, 0.9969512195121951, 0.9842342342342343, 0.9159159159159159, 1.0, 0.9053497942386831, 1.0, 0.9795918367346939, 0.8981481481481481, 0.9614243323442137, 0.85, 1.0, 0.9313725490196079, 1.0, 0.7925311203319502, 0.8354430379746836, 0.9784172661870504, 0.6428571428571428, 1.0, 0.7832699619771863, 0.9701492537313433, 0.8541666666666666, 0.9655172413793104, 0.9119638826185101, 0.9717868338557993, 0.9682539682539683, 0.9539295392953929, 0.7739463601532567, 0.9714285714285714, 0.9324324324324325, 0.972972972972973, 0.7198443579766537, 0.9513274336283186, 0.944954128440367, 0.9101123595505618, 0.9472140762463344, 0.8303249097472925, 0.8986486486486487, 0.967741935483871, 0.6161137440758293, 0.9885057471264368, 0.9710144927536232, 0.7058823529411764, 0.907563025210084, 0.9417249417249417, 0.8958333333333334, 0.970074812967581, 0.9572649572649573, 0.887459807073955, 0.9703703703703703, 0.7040816326530612, 0.9369369369369369, 0.7287581699346406, 0.9285714285714286, 0.9762931034482759, 0.9509594882729211, 0.96875, 1.0, 0.994535519125683, 0.8231707317073171, 0.9285714285714286, 0.8235294117647058, 1.0, 0.9130434782608696, 0.990990990990991, 1.0, 0.8309523809523809, 0.9534883720930233, 1.0, 0.96875, 0.8696808510638298, 0.8722627737226277, 0.8333333333333334, 1.0, 0.9545454545454546, 1.0, 0.9375, 1.0, 0.9375, 0.9103139013452914, 0.8055555555555556, 0.9829683698296837, 0.9530516431924883, 0.9615384615384616, 0.9365079365079365, 0.6099585062240664, 0.9838187702265372, 0.9705882352941176, 0.752808988764045, 1.0, 0.9825, 0.95, 1.0, 0.9230769230769231, 1.0, 0.9554794520547946, 0.8606356968215159, 1.0, 0.7918088737201365, 0.9838709677419355, 0.9138461538461539, 0.9504950495049505, 0.9560439560439561, 0.9259259259259259, 1.0, 1.0, 0.9856850715746421, 1.0, 0.9790209790209791, 0.914572864321608, 1.0, 1.0, 0.7896341463414634, 0.8044692737430168, 0.9130434782608696, 0.8333333333333334, 1.0, 0.77, 1.0, 0.901840490797546, 0.9428044280442804, 0.930635838150289, 0.7992277992277992, 0.7840909090909091, 1.0, 0.9782608695652174, 0.9666666666666667, 0.9, 0.96, 0.9734513274336283, 0.9565217391304348, 0.5768115942028986, 0.9349593495934959, 0.8852459016393442, 1.0, 1.0, 0.9214285714285715, 0.9552238805970149, 1.0, 0.8461538461538461, 0.9605263157894737, 1.0, 0.9777777777777777, 0.9753086419753086, 0.9553072625698324, 0.7489711934156378, 0.6666666666666667, 0.9661016949152542, 0.6666666666666667, 0.6721311475409837, 0.8846153846153846, 1.0, 0.9400921658986175, 1.0, 1.0, 0.81875, 0.8932038834951457, 1.0, 0.8478260869565217, 1.0, 0.9627659574468085, 1.0, 0.9900990099009901, 0.9469026548672567, 0.8934010152284264, 0.8148148148148149, 0.7554585152838428, 0.5682382133995036, 0.9565217391304348, 0.75, 1.0, 0.9978260869565218, 0.8666666666666667, 0.9473684210526316, 0.7731958762886598, 0.8755186721991701, 0.8669354838709677, 1.0, 0.975, 1.0, 0.9589442815249267, 0.9230769230769231, 0.9, 1.0, 0.9615384615384616, 1.0, 1.0, 1.0, 1.0, 0.9263157894736842, 0.9611231101511879, 0.9786324786324786, 0.9529411764705882, 0.9783037475345168, 0.9889807162534435, 0.9772727272727273, 1.0, 0.9526627218934911, 0.7915309446254072, 0.9238329238329238, 1.0, 0.8505747126436781, 1.0, 0.9787985865724381, 0.9366197183098591, 0.9952380952380953, 0.782608695652174, 0.8135593220338984, 0.8823529411764706, 1.0, 0.9469026548672567, 0.9545454545454546, 0.9591836734693877, 0.9, 0.9838709677419355, 1.0, 0.9183303085299456, 0.9215686274509804, 0.9752321981424149, 0.8527131782945736, 0.9943977591036415, 0.9442622950819672, 0.9310344827586207, 0.8823529411764706, 0.8195488721804511, 0.9444444444444444, 0.9331103678929766, 0.9090909090909091, 0.9530791788856305, 0.868995633187773, 1.0, 1.0, 1.0, 1.0, 0.9746835443037974, 0.9327354260089686, 0.9791666666666666, 0.9090909090909091, 0.9782608695652174, 0.5066162570888468, 1.0, 1.0, 0.6666666666666667, 0.9801587301587301, 0.7755102040816326, 1.0, 1.0, 0.9696969696969697, 0.9943181818181818, 0.9584664536741214, 0.9788732394366197, 0.9473684210526316, 0.9608294930875576, 0.9813084112149533, 0.8851540616246498, 0.9516129032258065, 0.8656716417910448, 0.9850187265917603, 0.9783783783783784, 0.9438943894389439, 0.9741379310344828, 0.890625, 1.0, 1.0, 0.9444444444444444, 0.9457013574660633, 1.0, 1.0, 0.7407407407407407, 0.9819004524886877, 0.8727272727272728, 1.0, 1.0, 0.8823529411764706, 0.9393939393939394, 0.9642857142857143, 1.0, 0.9771309771309771, 1.0, 0.9666666666666667, 0.8269896193771626, 0.9384615384615385, 0.9397590361445783, 1.0, 1.0, 0.8796680497925311, 0.6636363636363636, 0.9458762886597938, 0.96875, 0.6666666666666667, 0.8677966101694915, 0.8710407239819005, 0.8466666666666667, 0.8976982097186701, 0.9166666666666666, 0.9090909090909091, 0.8399014778325123, 0.6858974358974359, 0.8566176470588236, 0.7558528428093645, 0.9857142857142858, 0.9887640449438202, 0.9556650246305418, 0.9, 1.0, 0.9076305220883534, 0.93058568329718, 1.0, 1.0, 0.990909090909091, 1.0, 0.868421052631579, 0.9444444444444444, 0.95, 0.9864864864864865, 1.0, 0.782608695652174, 0.9767441860465116, 0.9960079840319361, 0.8828828828828829, 0.8315789473684211, 0.9496567505720824, 1.0, 0.7428571428571429, 0.953125, 0.8674698795180723, 0.7076271186440678, 0.45833333333333337, 0.9310344827586207, 0.9708029197080292, 0.9038961038961039, 0.9779874213836478, 0.9696969696969697, 0.8317757009345794, 0.8062283737024222, 1.0, 0.9911111111111112, 0.8715596330275229, 1.0, 0.95, 0.9523809523809523, 1.0, 0.7242647058823529, 0.8936170212765957, 0.9111111111111111, 0.9616519174041298, 0.8966789667896679, 0.7300613496932515, 0.9545454545454546, 1.0, 0.9874213836477987, 0.8953488372093024, 0.8591549295774648, 0.8888888888888888, 0.9791666666666666, 0.9836065573770492, 0.75, 0.982051282051282, 0.875, 0.9333333333333333, 0.9651741293532339, 0.912037037037037, 0.8571428571428572, 0.9507042253521126, 0.9333333333333333, 0.8666666666666667, 0.9929577464788732, 0.8581235697940504, 0.957983193277311, 0.9362139917695473, 0.9523809523809523, 0.9640718562874252, 0.9761904761904762, 0.9304123711340206, 0.839344262295082, 0.8607594936708861, 0.7857142857142857, 0.9037037037037037, 0.8947368421052632, 0.9859154929577465, 1.0, 0.9304347826086956, 0.9636363636363636, 0.9490616621983914, 0.6268115942028986, 0.9495798319327731, 0.9335443037974683, 0.9069767441860466, 1.0, 0.904109589041096, 0.9037800687285223, 0.8870056497175142, 0.9820627802690582, 0.8773584905660378, 0.9543269230769231, 1.0, 0.8764044943820225, 1.0, 0.883177570093458, 0.9645390070921985, 1.0, 1.0, 0.9539748953974896, 0.9399477806788512, 0.7389830508474576, 1.0, 0.85, 0.9978401727861771, 0.9385749385749386, 1.0, 1.0, 0.8401162790697674, 0.972972972972973, 0.9591280653950953, 1.0, 1.0, 0.9230769230769231, 0.8516129032258064, 0.8333333333333334, 0.5714285714285714, 0.8421052631578947, 0.9950738916256158, 0.8181818181818181, 0.8110599078341014, 1.0, 0.9366197183098591, 0.9615384615384616, 1.0, 0.9810874704491725, 0.9136690647482014, 0.8174807197943444, 0.990990990990991, 1.0, 0.9692307692307692, 1.0, 0.9761904761904762, 0.9781420765027322, 0.875, 0.7972972972972973, 0.9772727272727273, 0.9594594594594594, 0.9216589861751152, 0.9212598425196851, 1.0, 1.0, 0.8446601941747574, 0.9473684210526316, 0.9719626168224299, 0.9473684210526316, 0.9047619047619048, 0.79182156133829, 1.0, 0.8203592814371258, 0.8970588235294118, 0.975, 0.9319899244332494, 0.9340659340659341, 0.9421965317919075, 0.92, 0.8202764976958525, 0.918848167539267, 0.8313253012048193, 0.9467213114754098, 0.889589905362776, 0.9804560260586319, 0.9444444444444444, 0.8604651162790697, 0.9074074074074074, 1.0, 0.967741935483871, 0.96875, 0.9534883720930233, 1.0, 0.9589041095890412, 0.8853118712273642, 0.9397590361445783, 0.45517241379310347, 1.0, 0.9032258064516129, 0.9377162629757786, 0.9513513513513514, 0.9401709401709402, 0.9318181818181819, 0.926829268292683, 0.9117647058823529, 0.5882352941176471, 0.9455252918287937, 0.8297297297297297, 0.7916666666666666, 0.9776536312849162, 1.0, 0.8208092485549133, 0.9550561797752809, 0.9703947368421053, 0.9059633027522935, 0.9226190476190477, 0.974903474903475, 0.5829383886255924, 1.0, 0.8, 0.9523809523809523, 1.0, 0.8777777777777778, 0.9646017699115044, 0.9642857142857143, 0.7428571428571429, 0.9459459459459459, 0.996039603960396, 1.0, 0.8814016172506739, 1.0, 0.9621212121212122, 0.967741935483871, 0.8275862068965517, 0.789873417721519, 0.7573333333333333, 0.9488636363636364, 0.9377431906614786, 0.9375, 0.9282945736434108, 1.0, 0.9217391304347826, 0.8716577540106951, 0.9333333333333333, 1.0, 1.0, 0.9922779922779923, 0.9730769230769231, 0.9583333333333334, 0.9828850855745721, 1.0, 1.0, 0.9735294117647059, 1.0, 0.71, 0.9880382775119617, 1.0, 1.0, 1.0, 0.8033898305084746, 0.9651162790697675, 0.828125, 1.0, 0.7202072538860104, 0.9090909090909091, 1.0, 0.9241071428571429, 1.0, 0.8, 0.940251572327044, 0.8832684824902723, 0.875, 0.9920634920634921, 0.9751552795031055, 0.9546827794561934, 0.7875, 0.9285714285714286, 0.8268398268398268, 0.8427672955974843, 1.0, 0.9407407407407408, 0.9931972789115646, 1.0, 0.86, 1.0, 0.9320388349514563, 1.0, 0.9399477806788512, 1.0, 1.0, 0.9419354838709677, 0.8038793103448276, 0.95, 0.9583333333333334, 0.8270042194092827, 1.0, 0.946058091286307, 0.9761904761904762, 0.8844984802431611, 0.8181818181818181, 0.9047619047619048, 0.9291338582677166, 0.9427312775330396, 1.0, 0.8611111111111112, 0.9210526315789473, 0.9833333333333333, 0.9614457831325302, 0.7642585551330798, 0.8855218855218855, 0.9376770538243626, 0.9845261121856866, 1.0, 1.0, 1.0, 0.9940298507462687, 1.0, 1.0, 0.9436619718309859, 0.8869565217391304, 1.0, 0.9880478087649402, 1.0, 0.9214092140921409, 1.0, 0.6945337620578778, 0.7392996108949417, 0.52, 1.0, 1.0, 0.78, 0.9925742574257426, 1.0, 0.9631336405529954, 0.9565217391304348, 0.961352657004831, 0.9864864864864865, 0.8465909090909091, 0.930835734870317, 0.8980392156862745, 0.9757575757575757, 0.8565022421524664, 0.9498806682577565, 1.0, 0.9436997319034852, 1.0, 0.9722222222222222, 0.9875, 0.8918918918918919, 1.0, 0.9583333333333334, 0.6417910447761195, 1.0, 0.8558823529411765, 1.0, 0.6269430051813472, 0.9850746268656716, 0.9696969696969697, 0.875, 0.9508196721311475, 0.9587628865979382, 0.8587257617728532, 0.9557522123893806, 0.9692307692307692, 1.0, 0.8638613861386139, 0.9680232558139534, 0.9393939393939394, 0.9583333333333334, 1.0, 0.33333333333333337, 1.0, 0.9931972789115646, 0.92, 0.940959409594096, 0.7695852534562212, 0.9473684210526316, 1.0, 0.9965870307167235, 1.0, 0.9733333333333334, 0.8436363636363636, 0.8795180722891567, 0.9951690821256038, 1.0, 0.825, 0.9836829836829837, 0.9818181818181818, 0.927710843373494, 0.9738955823293173, 0.9852941176470589, 0.9933333333333333, 0.9344262295081968, 0.7665706051873199, 0.9919571045576407, 0.725, 0.7872340425531915, 1.0, 1.0, 0.7915194346289752, 0.9375, 0.9622641509433962, 0.8518518518518519, 1.0, 0.6, 0.9512195121951219, 0.9615384615384616, 1.0, 0.9950980392156863, 0.8809034907597536, 0.971830985915493, 0.8340248962655602, 0.9166666666666666, 0.9082969432314411, 1.0, 0.9566395663956639, 1.0, 0.9634408602150537, 0.9531772575250836, 0.935483870967742, 0.8491620111731844, 0.984375, 0.9037735849056604, 0.7935483870967742, 0.675, 0.9799107142857143, 1.0, 1.0, 0.9901477832512315, 0.8947368421052632, 0.888235294117647, 1.0, 1.0, 1.0, 0.9183673469387755, 0.8732394366197183, 0.8333333333333334, 0.96, 0.9523809523809523, 0.9835390946502057, 0.9146341463414634, 0.8508474576271187, 0.9111111111111111, 0.9923469387755102, 1.0, 0.8084415584415584, 0.949238578680203, 0.9148936170212766, 0.9453125, 1.0, 0.971830985915493, 0.9883381924198251, 0.9787234042553191, 1.0, 0.9375, 1.0, 0.9477124183006536, 1.0, 0.875, 0.9714285714285714, 0.9636363636363636, 1.0, 0.8727272727272728, 0.9535452322738386, 1.0, 0.7951070336391437, 0.967741935483871, 0.9264305177111717, 0.7954545454545454, 0.798469387755102, 0.9265822784810127, 1.0, 0.9506172839506173, 0.912621359223301, 0.9052924791086351, 0.709375, 0.9816849816849816, 1.0, 0.9646017699115044, 0.9671532846715328, 0.95, 1.0, 0.8808290155440415, 0.9810126582278481, 1.0, 1.0, 0.8295454545454546, 0.9415384615384615, 0.9288389513108615, 0.9, 0.8914285714285715, 0.6129032258064516, 0.9174041297935103, 0.9548693586698337, 0.85, 0.907035175879397, 0.9404145077720207, 0.9565217391304348, 0.8666666666666667, 0.975, 1.0, 0.7954545454545454, 1.0, 1.0, 0.9867256637168141, 0.9516129032258065, 0.8370044052863437, 1.0, 0.935064935064935, 1.0, 0.6952380952380952, 1.0, 0.9210526315789473, 1.0, 0.7918367346938775, 0.9920948616600791, 0.8307692307692307, 0.930921052631579, 1.0, 1.0, 1.0, 0.9493670886075949, 0.9393939393939394, 1.0, 0.9313725490196079, 0.8765432098765432, 0.9784615384615385, 1.0, 0.9, 1.0, 0.7901234567901234, 1.0, 0.9090909090909091, 0.96875, 0.7710526315789474, 0.9516129032258065, 0.9395348837209302, 0.8901869158878505, 0.9655172413793104, 0.936768149882904, 0.7464114832535885, 0.9865951742627346, 0.9830508474576272, 0.8478964401294499, 0.9674185463659148, 0.9493975903614458, 0.6527196652719665, 0.96, 0.9642857142857143, 0.7991071428571428, 0.7232558139534884, 0.1428571428571429, 1.0, 0.966804979253112, 0.8605263157894737, 0.8588709677419355, 0.9586776859504132, 0.9553571428571429, 1.0, 1.0, 0.8574468085106383, 0.978813559322034, 1.0, 1.0, 0.9166666666666666, 0.7916666666666666, 0.9900596421471173, 0.7777777777777778, 0.9656357388316151, 0.8823529411764706, 0.8607954545454546, 0.9337016574585635, 0.6, 0.9517241379310345, 0.9492753623188406, 0.9424657534246575, 0.7191011235955056, 0.7394736842105263, 1.0, 0.7663230240549828, 0.9051094890510949, 0.5164835164835164, 1.0, 0.974025974025974, 0.952054794520548, 0.9466666666666667, 0.9662447257383966, 0.8210526315789474, 1.0, 0.8424242424242424, 0.9859550561797753, 1.0, 0.9615384615384616, 1.0, 0.9230769230769231, 0.7161016949152542, 1.0, 1.0, 0.8866666666666667, 0.9638009049773756, 0.9010989010989011, 0.9734513274336283, 0.9442815249266863, 0.5714285714285714, 0.9365079365079365, 1.0, 0.8888888888888888, 0.9495798319327731, 0.7567567567567568, 0.685131195335277, 0.9384615384615385, 0.9577464788732395, 0.9897959183673469, 1.0, 0.9979633401221996, 0.8672566371681416, 0.7740585774058577, 0.9920634920634921, 0.678343949044586, 0.8717948717948718, 1.0, 0.9771689497716896, 0.9217081850533808, 0.8888888888888888, 0.9652509652509652, 0.6982968369829683, 0.7493036211699164, 0.9924242424242424, 0.8666666666666667, 0.9611650485436893, 0.9444444444444444, 0.967032967032967, 1.0, 0.8199445983379501, 0.9864864864864865, 0.8892508143322475, 0.9973190348525469, 0.5070422535211268, 0.9291338582677166, 1.0, 0.9285714285714286, 0.9728395061728395, 0.9069767441860466, 0.9680851063829787, 0.7250755287009063, 0.9888268156424581, 0.75, 0.9282868525896414, 0.9566160520607375, 0.8736842105263158, 0.8633879781420765, 0.9803921568627451, 0.7060810810810811, 1.0, 0.8734693877551021, 0.9941860465116279, 0.9675925925925926, 0.96, 0.8346774193548387, 0.9459459459459459, 0.9070796460176991, 0.8095238095238095, 0.8863636363636364, 1.0, 1.0, 0.9946236559139785, 0.9791666666666666, 0.9436619718309859, 0.9824561403508771, 0.9584569732937686, 0.9494584837545126, 0.8364312267657993, 0.9189189189189189, 0.9784366576819407, 0.9737609329446064, 0.9621993127147767, 0.9492753623188406, 1.0, 0.935251798561151, 0.9577777777777777, 1.0, 0.5864197530864197, 0.9816849816849816, 0.8836363636363637, 0.9625, 1.0, 0.9852579852579852, 0.8886597938144329, 0.9523809523809523, 0.8206896551724138, 0.5555555555555556, 0.8521303258145363, 0.9490445859872612, 1.0, 0.9148936170212766, 0.9895833333333334, 0.9782608695652174, 0.8856088560885609, 1.0, 0.9923664122137404, 0.9411764705882353, 0.9511002444987775, 0.8893805309734513, 0.9753086419753086, 0.6285714285714286, 1.0, 0.9936305732484076, 1.0, 1.0, 0.6751592356687899, 0.7884615384615384, 0.6027397260273972, 1.0, 0.9375, 0.8843537414965986, 0.8421052631578947, 0.7021276595744681, 0.595360824742268, 0.582089552238806, 1.0, 0.8090909090909091, 0.9035087719298246, 0.972972972972973, 0.9147869674185464, 0.9166666666666666, 0.9678456591639871, 0.8220338983050848, 0.8143712574850299, 0.9510703363914373, 0.8892508143322475, 1.0, 0.9783783783783784, 0.9864864864864865, 0.5181818181818182, 0.9643835616438357, 0.990990990990991, 0.9646799116997793, 1.0, 0.8990825688073394, 1.0, 0.9703947368421053, 0.7931034482758621, 1.0, 1.0, 0.9562841530054644, 0.8244897959183674, 0.9169960474308301, 0.9722222222222222, 0.7333333333333334, 0.9122807017543859, 0.790625, 0.9444444444444444, 0.9617224880382775, 0.8970588235294118, 0.8421052631578947, 1.0, 1.0, 0.8123076923076923, 0.9609236234458259, 0.8820754716981132, 0.998220640569395, 0.7468354430379747, 0.9204545454545454, 0.92, 0.9607843137254902, 0.9970501474926253, 1.0, 0.9431137724550899, 1.0, 0.4933774834437086, 0.8838951310861423, 1.0, 0.9565217391304348, 1.0, 0.9559585492227979, 0.9512195121951219, 0.9666666666666667, 0.9130434782608696, 0.972972972972973, 1.0, 0.9741176470588235, 1.0, 0.9489795918367347, 1.0, 0.9054054054054054, 0.8994252873563219, 0.8736462093862816, 0.8904428904428905, 0.9189189189189189, 0.7953890489913544, 0.8484848484848485, 0.9741935483870968, 0.7412280701754386, 1.0, 0.9605263157894737, 0.8787878787878788, 1.0, 1.0, 0.9772727272727273, 0.8461538461538461, 0.9069767441860466, 0.8645418326693227, 1.0, 0.9361702127659575, 0.958128078817734, 1.0, 0.9659090909090909, 0.9728260869565217, 0.9932659932659933, 1.0, 0.9049079754601227, 0.8515901060070672, 0.9444444444444444, 1.0, 0.8552631578947368, 1.0, 0.8668831168831169, 0.8828451882845189, 0.9348659003831418, 0.9671232876712329, 0.8409090909090909, 0.9322033898305084, 0.925531914893617, 0.9464285714285714, 1.0, 0.994413407821229, 0.982, 0.9262295081967213, 0.9236641221374046, 1.0, 0.9117647058823529, 0.9333333333333333, 0.7347826086956522, 1.0, 0.8666666666666667, 0.6038461538461539, 0.9401197604790419, 0.9493670886075949, 0.8285714285714285, 0.988950276243094, 0.8260869565217391, 0.9620253164556962, 0.8914473684210527, 0.801007556675063, 0.6431718061674009, 1.0, 0.9245283018867925, 0.8, 0.7463414634146341, 0.815028901734104, 0.7850241545893719, 1.0, 0.804416403785489, 1.0, 0.961038961038961, 0.9556786703601108, 0.9696969696969697, 0.9734513274336283, 0.9666011787819253, 0.9285714285714286, 0.9482758620689655, 0.98, 0.9032258064516129, 1.0, 1.0, 1.0, 1.0, 0.7586206896551724, 0.904109589041096, 0.9684813753581661, 0.90625, 0.9097472924187726, 0.9707207207207207, 0.9715909090909091, 1.0, 0.6804123711340206, 0.9494949494949495, 1.0, 0.849009900990099, 0.9859154929577465, 0.9887387387387387, 0.9710144927536232, 0.819672131147541, 0.9534883720930233, 0.9933481152993349, 0.5, 0.9038461538461539, 0.9028213166144201, 0.9680232558139534, 1.0, 0.9921414538310412, 1.0, 0.9282178217821783, 0.8173076923076923, 0.8857142857142857, 0.736842105263158, 1.0, 0.9512195121951219, 0.9863013698630136, 0.956, 0.9727722772277227, 0.9273927392739274, 1.0, 0.9459459459459459, 0.9534883720930233, 0.8620689655172413, 0.8242424242424242, 1.0, 0.9172413793103449, 0.9680851063829787, 0.9557522123893806, 1.0, 0.875, 0.9889807162534435, 0.984375, 0.9411764705882353, 0.8939393939393939, 0.8333333333333334, 0.9225589225589226, 0.9217391304347826, 0.9295774647887324, 0.8297872340425532, 1.0, 1.0, 0.96, 0.7087912087912087, 0.9795081967213115, 1.0, 1.0, 0.9767441860465116, 0.9262899262899262, 0.9719101123595506, 0.9446902654867256, 0.9903846153846154, 1.0, 0.9831223628691983, 0.4765625, 0.4936386768447837, 0.9655172413793104, 0.9023809523809524, 0.9192307692307692, 1.0, 0.9714285714285714, 0.95, 1.0, 0.8578680203045685, 0.9837837837837837, 1.0, 0.8333333333333334, 0.7959770114942528, 0.8076923076923077, 0.9492753623188406, 1.0, 1.0, 0.7262357414448669, 0.9711538461538461, 0.972972972972973, 0.8359621451104101, 0.9259259259259259, 0.8888888888888888, 1.0, 0.8622754491017964, 1.0, 0.9022082018927444, 0.9339622641509434, 0.8074712643678161, 0.9285714285714286, 1.0, 0.7683823529411764, 0.7948717948717949, 0.8406374501992032, 0.9523809523809523, 0.9692307692307692, 0.9230769230769231, 1.0, 0.9579439252336449, 0.8018018018018018, 0.6956521739130435, 0.9073170731707317, 0.962962962962963, 0.950199203187251, 0.8607594936708861, 0.8831521739130435, 0.9583333333333334, 0.8322440087145969, 0.8671586715867159, 0.9278996865203761, 1.0, 0.884272997032641, 0.9880668257756563, 1.0, 1.0, 0.901565995525727, 0.6799999999999999, 0.5, 0.7058823529411764, 0.9130434782608696, 1.0, 0.9663865546218487, 0.9310344827586207, 0.7443609022556391, 1.0, 0.9538461538461538, 0.7647058823529411, 0.9210526315789473, 0.7808219178082192, 0.973293768545994, 0.9861111111111112, 0.9845559845559846, 0.9807692307692307, 0.9775280898876404, 0.898360655737705, 0.927536231884058, 0.9132075471698113, 0.85, 0.961038961038961, 0.9104477611940298, 1.0, 0.9642857142857143, 0.7293729372937294, 1.0, 0.9501246882793017, 0.8235294117647058, 0.9482758620689655, 0.8717948717948718, 0.9603174603174603, 0.9444444444444444, 0.42105263157894735, 0.9021406727828746, 0.9879518072289156, 0.9919517102615694, 0.9586776859504132, 0.6445497630331753, 1.0, 0.96875, 0.9090909090909091, 0.9538461538461538, 0.6571428571428571, 0.9428571428571428, 0.9774127310061602, 0.9909502262443439, 0.7750865051903114, 0.8576923076923078, 1.0, 0.9122807017543859, 0.9675925925925926, 1.0, 1.0, 0.9459459459459459, 0.9593023255813954, 1.0, 0.8924050632911392, 0.994535519125683, 0.9515151515151515, 0.9485714285714286, 0.8723404255319149, 0.9518518518518518, 0.9545454545454546, 1.0, 0.9230769230769231, 0.8796296296296297, 0.7047619047619047, 0.9434782608695652, 0.9028776978417266, 0.8947368421052632, 1.0, 0.8978102189781022, 0.6996336996336996, 0.9088937093275488, 1.0, 0.9444444444444444, 1.0, 1.0, 0.9393939393939394, 0.9907407407407407, 0.8181818181818181, 1.0, 0.9707317073170731, 0.6666666666666667, 0.9956140350877193, 0.8947368421052632, 1.0, 0.9047619047619048, 0.9310344827586207, 0.9333333333333333, 1.0, 1.0, 0.9908256880733946, 0.9532374100719424, 0.9359605911330049, 0.9285714285714286, 0.9966555183946488, 0.7352941176470589, 1.0, 0.9047619047619048, 0.9600886917960089, 0.7009966777408638, 0.9895833333333334, 1.0, 0.9565217391304348, 0.9117647058823529, 0.7575000000000001, 0.9710743801652892, 0.8888888888888888, 0.96, 1.0, 1.0, 0.9577114427860697, 0.935483870967742, 1.0, 0.9892183288409704, 1.0, 0.9360730593607306, 1.0, 1.0, 0.9450867052023122, 0.9285714285714286, 0.96875, 0.9563106796116505, 0.9387755102040817, 0.9812734082397003, 1.0, 0.8983739837398375, 0.4980237154150198, 1.0, 0.9440298507462687, 0.9473684210526316, 0.821522309711286, 0.9739130434782609, 1.0, 1.0, 1.0, 0.8896713615023474, 0.8888888888888888, 1.0, 0.9589041095890412, 0.8064516129032258, 0.5984555984555985, 0.47904191616766467, 1.0, 1.0, 0.9685314685314685, 0.8012422360248448, 0.9782608695652174, 1.0, 0.9512635379061372, 0.9333333333333333, 0.9090909090909091, 0.7127272727272727, 1.0, 0.8594771241830066, 0.8979591836734694, 0.967741935483871, 0.935483870967742, 0.9130434782608696, 1.0, 0.7167630057803468, 1.0, 0.8571428571428572, 0.6631016042780749, 0.9743589743589743, 0.9090909090909091, 1.0, 0.6666666666666667, 1.0, 1.0, 1.0, 1.0, 1.0, 0.9462809917355371, 1.0, 1.0, 0.7314487632508834, 0.9864130434782609, 0.8909574468085106, 0.9382716049382716, 0.8249158249158249, 0.8402061855670103, 0.9111111111111111, 0.8723404255319149, 0.9651162790697675, 0.8405063291139241, 1.0, 1.0, 0.9408284023668639, 0.8134715025906736, 0.9736842105263158, 1.0, 0.9333333333333333, 0.8181818181818181, 1.0, 0.9090909090909091, 0.7359550561797753, 0.8415637860082305, 0.9025270758122743, 0.9642857142857143, 0.9315068493150684, 0.9333333333333333, 0.9114583333333334, 1.0, 0.9222222222222223, 0.961038961038961, 0.9678899082568807, 1.0, 1.0, 0.8285714285714285, 0.375, 0.9592391304347826, 0.9193548387096774, 0.9166666666666666, 0.9672131147540983, 0.9821428571428571, 0.9420289855072463, 0.9158878504672897, 1.0, 0.9920948616600791, 1.0, 0.9552238805970149, 0.9444444444444444, 0.936768149882904, 0.9949748743718593, 0.9452380952380952, 0.95, 0.8148148148148149, 0.9572192513368984, 1.0, 1.0, 0.805921052631579, 0.8830645161290323, 0.9536423841059603, 0.9372384937238494, 0.9692307692307692, 0.9290322580645162, 0.9828693790149893, 0.927038626609442, 0.95625, 1.0, 1.0, 0.9196940726577438, 0.9391634980988594, 1.0, 1.0, 0.8360655737704918, 0.9625, 0.9656019656019657, 0.9423076923076923, 0.9558823529411765, 0.8109243697478992, 0.9764705882352941, 0.9069767441860466, 0.9508196721311475, 0.9070422535211268, 1.0, 0.9261213720316622, 0.9554794520547946, 1.0, 0.9840909090909091, 0.9092827004219409, 0.9005376344086021, 0.6763636363636364, 0.9956140350877193, 1.0, 0.9333333333333333, 0.968421052631579, 0.9893617021276596, 0.9844961240310077, 0.3921568627450981, 0.8333333333333334, 0.9893617021276596, 0.96875, 1.0, 0.6888888888888889, 0.8275862068965517, 0.995575221238938, 0.6875, 0.8898678414096917, 0.9095022624434389, 1.0, 0.9264214046822743, 0.9736842105263158, 0.9436619718309859, 0.92, 0.8955223880597015, 0.9732620320855615, 0.9609756097560975, 0.9569288389513109, 0.7745901639344263, 0.975609756097561, 0.9120879120879121, 0.8571428571428572, 0.7910958904109588, 0.8914285714285715, 0.9903846153846154, 0.976878612716763, 0.5454545454545454, 1.0, 1.0, 0.8351648351648352, 0.96, 0.9757575757575757, 0.8461538461538461, 0.9849137931034483, 0.9210526315789473, 0.9075144508670521, 1.0, 0.8387096774193549, 0.8894230769230769, 0.8809523809523809, 0.9330143540669856, 0.9384615384615385, 0.9953917050691244, 0.9666666666666667, 0.8240740740740741, 0.9409722222222222, 1.0, 0.9375, 1.0, 0.9630872483221476, 0.9609375, 0.9178082191780822, 0.9642857142857143, 0.9423076923076923, 0.9570552147239264, 0.8455882352941176, 0.8494623655913979, 0.9833333333333333, 0.8029739776951673, 0.7170418006430868, 0.8695652173913043, 0.9427083333333334, 0.6047430830039526, 0.875, 1.0, 0.8409090909090909, 0.93125, 0.9264069264069263, 0.8888888888888888, 0.9026915113871635, 0.9090909090909091, 0.8727272727272728, 0.8333333333333334, 0.9297052154195011, 0.910025706940874, 0.9643835616438357, 0.9310344827586207, 0.916923076923077, 0.6785714285714286, 0.923943661971831, 0.926829268292683, 0.85, 0.9073359073359073, 0.8421052631578947, 0.9038461538461539, 0.8571428571428572, 0.932258064516129, 0.9693877551020408, 0.7, 0.9090909090909091, 0.7877094972067039, 0.984, 0.8482142857142857, 0.5958549222797928, 0.7164179104477613, 1.0, 0.9734513274336283, 1.0, 0.9142857142857143, 0.9696969696969697, 0.707774798927614, 0.868020304568528, 0.9508196721311475, 0.9523809523809523, 0.9735849056603774, 0.8238095238095238, 1.0, 1.0, 0.6, 0.9038461538461539, 0.9497716894977168, 0.92, 0.864406779661017, 0.882903981264637, 0.8863636363636364, 0.8612903225806452, 1.0, 1.0, 0.8488372093023255, 1.0, 1.0, 1.0, 0.9192307692307692, 0.7347670250896057, 0.9690265486725663, 0.9401408450704225, 0.9497907949790795, 1.0, 0.8936170212765957, 1.0, 0.9729166666666667, 0.9937888198757764, 0.95, 0.8505338078291815, 1.0, 0.8888888888888888, 1.0, 0.9178082191780822, 0.9615384615384616, 0.7058823529411764, 1.0, 1.0, 0.8214285714285714, 0.729559748427673, 0.8411214953271028, 1.0, 0.8076923076923077, 0.8577405857740585, 0.9522613065326633, 1.0, 0.9253731343283582, 0.6923076923076923, 0.8780487804878049, 0.976401179941003, 0.9838709677419355, 0.7234513274336283, 0.8788927335640139, 0.8244047619047619, 1.0, 1.0, 0.9428571428571428, 0.9308176100628931, 0.7017543859649122, 1.0, 0.7832369942196532, 0.8208955223880597, 0.9589041095890412, 1.0, 0.989247311827957, 0.933579335793358, 0.8333333333333334, 1.0, 1.0, 0.9105145413870246, 0.9893238434163701, 0.8862275449101796, 0.8107142857142857, 0.9375, 0.674074074074074, 0.9664804469273743, 0.9444444444444444, 0.875, 1.0, 0.9077490774907749, 0.89171974522293, 0.8622448979591837, 0.9626168224299065, 0.7690631808278867, 0.8299595141700404, 0.8230958230958231, 0.95, 0.950920245398773, 0.8094117647058824, 0.8235294117647058, 1.0, 0.9819639278557114, 0.9672131147540983, 0.9786324786324786, 0.9023136246786633, 0.7682926829268293, 0.875, 1.0, 0.7377049180327868, 1.0, 0.6666666666666667, 1.0, 0.9607843137254902, 0.8953488372093024, 1.0, 1.0, 1.0, 1.0, 0.9560439560439561, 0.9831081081081081, 0.9565217391304348, 0.8148148148148149, 0.9306122448979592, 0.9, 0.9413680781758957, 0.8580441640378549, 1.0, 1.0, 0.7058823529411764, 0.9613899613899614, 1.0, 0.9878542510121457, 0.9, 0.8888888888888888, 0.875, 1.0, 0.9067796610169492, 0.845771144278607, 0.9758064516129032, 0.9, 1.0, 0.9333333333333333, 0.9615384615384616, 0.9591836734693877, 0.9299516908212561, 0.9565217391304348, 1.0, 0.9663865546218487, 0.9619883040935673, 1.0, 0.75, 0.9867021276595744, 0.9130434782608696, 0.9090909090909091, 0.7474402730375427, 0.9498607242339833, 0.7582938388625593, 1.0, 0.9454545454545454, 0.9826989619377162, 0.8571428571428572, 0.8833333333333333, 0.9707112970711297, 0.962962962962963, 0.9665071770334929, 0.9305993690851735, 0.8421052631578947, 0.9743589743589743, 0.9772151898734177, 0.828125, 1.0, 0.9403409090909091, 1.0, 0.998, 0.8947368421052632, 0.7639593908629442, 1.0, 0.8622047244094488, 0.9555555555555556, 1.0, 0.781578947368421, 0.9503916449086162, 0.9206349206349207, 0.8936170212765957, 0.9565217391304348, 0.8571428571428572, 0.9137931034482758, 1.0, 0.886039886039886, 0.8956521739130435, 0.8249258160237389, 0.9534883720930233, 0.6462882096069869, 0.9536784741144414, 1.0, 0.9090909090909091, 1.0, 1.0, 0.9166666666666666, 0.9714285714285714, 1.0, 0.7828054298642534, 0.9331103678929766, 0.967741935483871, 0.8333333333333334, 0.9304123711340206, 0.9361702127659575, 1.0, 0.5518672199170125, 1.0, 0.4285714285714286, 0.9732824427480916, 0.9411764705882353, 0.9335548172757475, 0.7687074829931972, 1.0, 0.8085106382978724, 0.948948948948949, 0.975609756097561, 1.0, 0.9130434782608696, 0.9649122807017544, 0.8461538461538461, 0.7956989247311828, 0.9637462235649547, 0.9523809523809523, 0.8625954198473282, 0.6666666666666667, 1.0, 0.9612903225806452, 1.0, 0.9701149425287356, 0.6511627906976745, 1.0, 0.9776536312849162, 0.9930555555555556, 1.0, 0.977491961414791, 0.9777777777777777, 0.8638297872340426, 0.5692307692307692, 0.65625, 0.9574468085106383, 0.9777070063694268, 1.0, 0.7897196261682243, 0.9682539682539683, 1.0, 0.7345454545454546, 0.964735516372796, 0.9137931034482758, 0.9473684210526316, 0.9042553191489362, 1.0, 0.9811320754716981, 0.9017199017199017, 0.8089887640449438, 0.9502487562189055, 0.7936507936507937, 0.9, 0.9551820728291317, 0.9333333333333333, 0.9841269841269842, 0.75, 0.9656652360515021, 0.9393939393939394, 0.8947368421052632, 0.8973509933774835, 1.0, 1.0, 0.8452380952380952, 0.986737400530504, 0.7696078431372549, 0.9865771812080537, 0.9411764705882353, 0.9166666666666666, 0.9014084507042254, 0.8353293413173652, 0.9416666666666667, 1.0, 0.9530791788856305, 1.0, 0.5185185185185186, 1.0, 0.9679633867276888, 0.7741935483870968, 0.95, 1.0, 0.906158357771261, 1.0, 0.7583892617449665, 0.8970588235294118, 1.0, 1.0, 0.9662650602409638, 0.993127147766323, 0.9317738791423003, 0.5534591194968553, 0.9255014326647565, 1.0, 0.94, 0.9491916859122402, 1.0, 1.0, 1.0, 0.9585798816568047, 0.9051094890510949, 0.944954128440367, 0.9512987012987013, 0.9581151832460733, 0.8980169971671388, 0.9979550102249489, 0.9029126213592233, 0.9166666666666666, 0.9053030303030303, 0.9375, 1.0, 0.6615384615384615, 0.9115281501340482, 0.9920634920634921, 1.0, 0.9732142857142857, 0.9545454545454546, 0.9166666666666666, 0.9189189189189189, 0.875, 0.9433333333333334, 0.7906976744186046, 1.0, 0.908256880733945, 0.9950738916256158, 0.9730639730639731, 0.6666666666666667, 1.0, 1.0, 0.9314720812182741, 0.8634361233480177, 0.8235294117647058, 0.9624060150375939, 1.0, 0.7272727272727273, 0.9736842105263158, 0.7575757575757576, 1.0, 0.9840182648401826, 0.9746835443037974, 0.9415584415584416, 0.625, 1.0, 0.8979591836734694, 0.5789473684210527, 0.9594272076372315, 0.9520295202952029, 1.0, 1.0, 0.778894472361809, 0.95, 0.9090909090909091, 0.9024390243902439, 0.9, 0.9452054794520548, 0.6470588235294117, 0.9565217391304348, 0.9487179487179487, 1.0, 0.9647058823529412, 1.0, 0.8166089965397924, 1.0, 0.9373493975903614, 0.9565217391304348, 1.0, 0.9193548387096774, 0.8603988603988604, 0.9523809523809523, 0.8618677042801557, 0.8571428571428572, 0.8294573643410853, 0.8333333333333334, 0.8004807692307692, 0.913151364764268, 0.9384615384615385, 0.8632478632478633, 1.0, 0.8709677419354839, 0.9583333333333334, 1.0, 0.8128654970760234, 0.6162361623616236, 0.9626168224299065, 0.9921875, 0.9099378881987578, 0.972027972027972, 0.9036144578313253, 0.8929663608562691, 0.9516129032258065, 0.9891304347826086, 0.9285714285714286, 0.9924242424242424, 0.9333333333333333, 0.8620689655172413, 0.9427609427609428, 0.9953917050691244, 0.8673469387755102, 0.9715302491103203, 0.973404255319149, 0.8591885441527446, 0.9847036328871893, 0.8263157894736842, 0.9888888888888889, 0.8625730994152047, 0.9565217391304348, 0.7933884297520661, 1.0, 0.9615384615384616, 0.8823529411764706, 0.9032258064516129, 0.898989898989899, 0.9331476323119777, 0.7658227848101266, 0.9215686274509804, 0.696875, 0.9398496240601504, 1.0, 1.0, 0.9137931034482758, 0.9461077844311377, 0.6505190311418685, 0.9183673469387755, 0.8681818181818182, 0.9473684210526316, 0.6914893617021276, 0.935064935064935, 0.9507575757575758, 0.822429906542056, 0.9264705882352942, 0.9824561403508771, 0.979381443298969, 0.8, 0.9444444444444444, 1.0, 1.0, 0.9824561403508771, 0.970873786407767, 0.9463519313304721, 1.0, 0.9855072463768116, 0.768595041322314, 0.9516129032258065, 0.9314720812182741, 0.96875, 0.9583333333333334, 1.0, 0.8901408450704226, 0.9381443298969072, 0.8017429193899782, 0.8688524590163934, 0.9130434782608696, 1.0, 0.928, 0.9320652173913043, 1.0, 1.0, 1.0, 0.8888888888888888, 0.95, 0.8636363636363636, 0.8782051282051282, 1.0, 0.781021897810219, 0.7894736842105263, 0.9902439024390244, 0.8797814207650273, 1.0, 1.0, 0.9166666666666666, 1.0, 0.9523809523809523, 0.9915966386554622, 0.9305993690851735, 0.8305084745762712, 0.7142857142857143, 0.7104247104247104, 1.0, 1.0, 1.0, 0.9725085910652921, 0.8705882352941177, 0.9322033898305084, 0.845360824742268, 0.8181818181818181, 0.9528795811518325, 0.893048128342246, 0.9610027855153204, 0.9808612440191388, 0.9719298245614035, 1.0, 0.8571428571428572, 0.990228013029316, 1.0, 0.9404761904761905, 0.987012987012987, 0.1333333333333333, 1.0, 1.0, 0.9805825242718447, 1.0, 0.9615384615384616, 0.7438423645320197, 0.9977628635346756, 0.92, 1.0, 0.7708333333333334, 0.8401486988847584, 1.0, 0.8961038961038961, 1.0, 1.0, 0.9090909090909091, 0.780373831775701, 1.0, 1.0, 0.9069767441860466, 0.835016835016835, 0.9182561307901907, 0.8250825082508251, 0.9722863741339491, 1.0, 0.8419452887537994, 0.9411764705882353, 0.967741935483871, 0.974910394265233, 0.8140243902439024, 0.90625, 0.8677685950413223, 0.9860383944153578, 0.6666666666666667, 1.0, 1.0, 0.9467084639498433, 0.9841688654353562, 0.8235294117647058, 0.972972972972973, 0.8769230769230769, 0.8333333333333334, 0.7955555555555556, 0.8888888888888888, 0.9750623441396509, 1.0, 0.875, 0.8181818181818181, 0.8636363636363636, 0.9523809523809523, 1.0, 0.9090909090909091, 1.0, 0.7173913043478262, 0.9297297297297298, 0.9615384615384616, 0.9130434782608696, 1.0, 0.9542619542619543, 0.8360655737704918, 0.9545454545454546, 0.9852941176470589, 0.8888888888888888, 0.925, 0.9443298969072165, 1.0, 1.0, 1.0, 0.8888888888888888, 0.9335106382978724, 1.0, 0.9889705882352942, 0.9075907590759076, 0.9135802469135803, 1.0, 0.5, 0.8637602179836512, 1.0, 0.7487179487179487, 0.8762886597938144, 0.7669376693766938, 0.6666666666666667, 0.9047619047619048, 0.7134831460674158, 0.9714285714285714, 0.9523809523809523, 1.0, 0.8888888888888888, 0.9661538461538461, 0.967948717948718, 0.9489795918367347, 0.9339622641509434, 0.9237668161434978, 0.9315789473684211, 1.0, 0.9523809523809523, 0.9978540772532188, 0.7275641025641026, 0.9793103448275862, 0.9090909090909091, 0.7694805194805194, 0.8048048048048049, 0.875, 0.9361702127659575, 0.9090909090909091, 1.0, 0.9321148825065274, 0.8801089918256131, 1.0, 0.9333333333333333, 0.7752442996742671, 0.8580645161290322, 1.0, 1.0, 0.954639175257732, 0.927360774818402, 0.9333333333333333, 1.0, 1.0, 0.9104938271604939, 1.0, 0.9640718562874252, 0.9828326180257511, 0.992822966507177, 0.9069767441860466, 0.967741935483871, 0.7567567567567568, 0.9064039408866995, 0.982363315696649, 0.7, 1.0, 0.9361702127659575, 0.8918918918918919, 0.9726443768996961, 0.9044776119402985, 0.9622641509433962, 0.8677685950413223, 1.0, 0.9454545454545454, 0.7333333333333334, 0.9056603773584906, 1.0, 1.0, 0.925, 0.9714285714285714, 0.8636363636363636, 0.9935897435897436, 0.9512195121951219, 1.0, 0.9928825622775801, 0.8458646616541353, 0.9814814814814815, 0.950920245398773, 0.9090909090909091, 0.8696883852691218, 1.0, 0.9769230769230769, 1.0, 0.8571428571428572, 0.8511904761904762, 0.8433734939759037, 0.8471502590673575, 0.932475884244373, 0.9090909090909091, 0.9703264094955489, 0.8285714285714285, 0.9285714285714286, 0.8528428093645485, 0.9545454545454546, 0.9086294416243654, 1.0, 0.7894736842105263, 0.95625, 1.0, 1.0, 0.8503937007874016, 0.9957627118644068, 0.959349593495935, 0.963855421686747, 0.974025974025974, 0.7345971563981042, 0.9463087248322147, 0.9666666666666667, 1.0, 0.9024390243902439, 0.9473684210526316, 0.8798586572438163, 0.9336609336609336, 1.0, 0.9, 0.8378378378378378, 0.9771689497716896, 0.9028871391076115, 0.8790496760259179, 0.9047619047619048, 0.9636363636363636, 0.9681528662420382, 0.8947368421052632, 0.975609756097561, 0.9189189189189189, 0.8419540229885057, 0.8674698795180723, 0.9166666666666666, 0.8947368421052632, 1.0, 0.75, 1.0, 0.8256227758007118, 0.9561128526645768, 0.7357859531772575, 0.9071428571428571, 0.9963503649635036, 1.0, 0.9788235294117648, 1.0, 1.0, 0.8604651162790697, 0.9166666666666666, 0.9090909090909091, 1.0, 0.9168975069252078, 0.9242424242424242, 0.8333333333333334, 1.0, 0.8733624454148472, 0.825, 0.8181818181818181, 0.9490196078431372, 0.9770642201834863, 1.0, 0.95, 0.9615384615384616, 0.9705882352941176, 1.0, 1.0, 0.9457627118644067, 1.0, 0.7677725118483412, 0.9662921348314607, 1.0, 0.9157894736842105, 1.0, 0.9722222222222222, 1.0, 0.9523809523809523, 0.5833333333333333, 1.0, 0.957983193277311, 0.9333333333333333, 0.7, 0.9347258485639687, 0.923728813559322, 0.9032258064516129, 0.9122807017543859, 0.8535211267605634, 0.9097560975609756, 0.974025974025974, 0.6304347826086957, 0.9795918367346939, 0.5317919075144508, 0.9205479452054794, 0.8648648648648649, 1.0, 0.9805194805194806, 1.0, 0.9385964912280702, 0.7894736842105263, 0.5483870967741935, 0.923728813559322, 1.0, 0.9230769230769231, 0.8837209302325582, 0.953757225433526, 0.7070063694267517, 1.0, 0.9722222222222222, 0.9333333333333333, 1.0, 0.9620535714285714, 1.0, 0.9388489208633094, 1.0, 1.0, 1.0, 0.8765432098765432, 0.9739130434782609, 0.9761904761904762, 1.0, 1.0, 1.0, 0.948936170212766, 0.9473684210526316, 0.7727272727272727, 0.8548387096774194, 0.923728813559322, 0.9537037037037037, 0.8237547892720307, 1.0, 0.9714285714285714, 0.865979381443299, 0.9785407725321889, 0.9626168224299065, 1.0, 0.9606003752345216, 0.9655172413793104, 0.9442231075697212, 1.0, 0.910958904109589, 0.9520958083832335, 0.8035714285714286, 1.0, 0.9696969696969697, 0.7431906614785992, 1.0, 0.7716535433070866, 0.9429429429429429, 1.0, 1.0, 0.935483870967742, 0.6774193548387097, 0.8856209150326797, 1.0, 0.9710144927536232, 0.902200488997555, 0.5, 0.9358024691358025, 0.8380566801619433, 0.95, 0.896551724137931, 0.9442379182156134, 0.6829268292682926, 0.7843137254901961, 0.9866666666666667, 1.0, 0.8352272727272727, 0.8223234624145785, 0.8, 0.572992700729927, 0.9479905437352246, 0.8260869565217391, 0.931350114416476, 0.9920318725099602, 0.9587628865979382, 0.8301282051282051, 0.9754098360655737, 0.5912596401028278, 0.9428571428571428, 0.5769230769230769, 0.92, 1.0, 0.943089430894309, 0.7307692307692308, 0.9333333333333333, 1.0, 1.0, 1.0, 1.0, 0.9736842105263158, 1.0, 0.8648648648648649, 0.5680933852140078, 0.7045454545454546, 1.0, 0.8344827586206897, 1.0, 0.8148148148148149, 0.9795918367346939, 1.0, 1.0, 1.0, 0.7252252252252251, 1.0, 0.9470899470899471, 0.9389312977099237, 0.8895027624309393, 0.9663299663299664, 1.0, 0.9962825278810409, 0.8260869565217391, 1.0, 1.0, 0.9565217391304348, 0.7777777777777778, 0.8560460652591171, 0.875, 1.0, 0.8125, 0.8831460674157303, 0.9043062200956937, 1.0, 0.9973890339425587, 1.0, 0.9714285714285714, 0.9696969696969697, 1.0, 0.9822485207100592, 0.996, 0.8714596949891067, 0.8830409356725146, 1.0, 0.9620253164556962, 1.0, 1.0, 0.9805194805194806, 0.95, 1.0, 0.9620253164556962, 0.8666666666666667, 0.8916083916083917, 1.0, 0.9333333333333333, 0.9506172839506173, 1.0, 0.9672131147540983, 1.0, 0.953125, 0.9433962264150944, 0.9557522123893806, 0.9661016949152542, 0.7272727272727273, 0.9166666666666666, 0.8513513513513513, 0.9693877551020408, 1.0, 0.9333333333333333, 0.79182156133829, 1.0, 0.9347368421052632, 0.9875, 0.9839228295819936, 0.9387755102040817, 0.835820895522388, 1.0, 0.8888888888888888, 0.9117647058823529, 0.5896656534954408, 0.8371559633027523, 0.9523809523809523, 0.5238095238095238, 1.0, 1.0, 1.0, 0.9620253164556962, 0.8837209302325582, 0.7518427518427518, 0.9971671388101983, 0.9384164222873901, 0.9444444444444444, 1.0, 0.9090909090909091, 0.963963963963964, 0.9045936395759717, 1.0, 1.0, 0.9504950495049505, 0.9356223175965666, 0.968421052631579, 1.0, 0.8627450980392157, 1.0, 1.0, 0.8870967741935484, 0.7574850299401198, 0.7735849056603774, 0.9, 0.9152542372881356, 0.9150943396226415, 0.9230769230769231, 0.9022727272727272, 0.9777777777777777, 1.0, 1.0, 0.8888888888888888, 0.9560439560439561, 0.6428571428571428, 0.9761273209549072, 1.0, 0.9294117647058824, 1.0, 0.96875, 0.9137931034482758, 0.9635258358662614, 1.0, 0.7566844919786097, 0.78125, 0.8431372549019608, 0.9981447124304267, 0.9140811455847255, 0.9903660886319846, 0.9896907216494846, 1.0, 0.6739130434782609, 0.9384615384615385, 0.8138957816377171, 0.9333333333333333, 0.9435736677115988, 1.0, 0.7142857142857143, 0.9973045822102425, 0.9587301587301588, 0.9120879120879121, 0.7984189723320159, 0.9545454545454546, 0.8266666666666667, 0.8706896551724138, 0.851063829787234, 0.8452380952380952, 1.0, 0.9762340036563071, 0.8179487179487179, 0.7690288713910761, 0.991130820399113, 0.9757869249394673, 0.9864864864864865, 0.8272727272727273, 0.994750656167979, 0.7194719471947195, 0.9779411764705882, 0.9202453987730062, 1.0, 0.8888888888888888, 1.0, 0.930635838150289, 1.0, 0.90744920993228, 0.6819571865443426, 0.9292237442922374, 1.0, 0.8089430894308943, 1.0, 1.0, 0.9696969696969697, 1.0, 0.9411764705882353, 0.7320754716981133, 0.9909502262443439, 1.0, 1.0, 0.9514563106796117, 1.0, 0.8431372549019608, 0.8991935483870968, 0.7941176470588236, 0.9283387622149837, 0.9941291585127201, 0.9641693811074918, 1.0, 1.0, 0.989247311827957, 0.939209726443769, 0.962962962962963, 0.7631578947368421, 0.9782082324455206, 0.9583333333333334, 0.8285714285714285, 0.9035087719298246, 0.70625, 0.9794871794871794, 0.9556135770234987, 0.8857142857142857, 1.0, 1.0, 0.676923076923077, 0.976878612716763, 0.8958333333333334, 0.8394793926247288, 0.8818181818181818, 1.0, 0.92, 0.9777777777777777, 0.9666666666666667, 0.9152542372881356, 1.0, 1.0, 0.9346938775510204, 0.9322033898305084, 0.5174129353233831, 0.9363057324840764, 0.9107142857142857, 1.0, 0.9411764705882353, 0.7211155378486056, 0.9473684210526316, 0.9836065573770492, 0.8624078624078624, 1.0, 1.0, 0.9905660377358491, 1.0, 1.0, 0.9423076923076923, 0.8993055555555556, 0.8571428571428572, 0.7412140575079873, 0.9873417721518988, 0.8761061946902655, 0.8461538461538461, 0.9525773195876288, 0.9333333333333333, 1.0, 0.8494983277591973, 0.7666666666666666, 1.0, 0.8695652173913043, 1.0, 0.8791208791208791, 0.9701149425287356, 0.9221411192214112, 0.9583333333333334, 0.7084468664850136, 0.6135693215339233, 0.95, 0.9191919191919192, 0.9090909090909091, 0.8767123287671232, 0.9602649006622517, 0.9190140845070423, 0.9090909090909091, 1.0, 1.0, 0.7542662116040956, 0.9288025889967637, 0.9761904761904762, 1.0, 0.8634615384615385, 0.9473684210526316, 1.0, 0.7042801556420233, 0.7684210526315789, 1.0, 0.9333333333333333, 0.9655172413793104, 0.9308510638297872, 1.0, 1.0, 0.9029126213592233, 0.9856115107913669, 0.9195402298850575, 1.0, 0.8050541516245487, 1.0, 0.9913232104121475, 0.7339449541284404, 1.0, 0.8990990990990991, 0.9919571045576407, 1.0, 0.8598726114649682, 1.0, 1.0, 0.9519230769230769, 0.9067164179104478, 0.9375, 1.0, 0.9182242990654206, 0.9650872817955112, 0.9722222222222222, 0.806896551724138, 1.0, 0.983974358974359, 0.7207547169811321, 0.9444444444444444, 0.9182242990654206, 0.9631067961165048, 0.9230769230769231, 0.8229665071770335, 0.9240506329113924, 1.0, 0.9154929577464789, 0.9711538461538461, 0.9261083743842364, 0.756578947368421, 0.9930232558139535, 0.416058394160584, 0.8333333333333334, 0.6973684210526316, 0.9891304347826086, 0.9879518072289156, 1.0, 0.984251968503937, 0.8571428571428572, 1.0, 0.9622641509433962, 0.9383259911894273, 0.990506329113924, 0.9478827361563518, 0.9259259259259259, 0.78125, 1.0, 1.0, 0.9353448275862069, 0.5625, 0.8985074626865672, 0.9523809523809523, 0.6578947368421053, 1.0, 0.8181818181818181, 1.0, 0.7941176470588236, 0.7653958944281525, 1.0, 0.9271523178807947, 0.2222222222222222, 0.6802325581395349, 0.9807692307692307, 0.837037037037037, 0.8211920529801324, 0.9770114942528736, 0.9877300613496932, 1.0, 0.9743589743589743, 0.9435215946843853, 0.9027777777777778, 0.9215686274509804, 0.8617511520737327, 0.9444444444444444, 0.8675213675213675, 0.9090909090909091, 0.8767123287671232, 0.9540229885057472, 0.8034482758620689, 1.0, 1.0, 0.975, 0.9734939759036144, 0.8727272727272728, 0.8928571428571429, 0.9074074074074074, 1.0, 0.6904761904761905, 0.7916666666666666, 0.8955223880597015, 0.9434447300771208, 1.0, 0.5735735735735736, 0.9704301075268817, 1.0, 0.9901960784313726, 0.8181818181818181, 0.6097560975609756, 0.986013986013986, 0.9620253164556962, 0.8799076212471132, 0.9787234042553191, 0.99, 0.9926470588235294, 0.9458823529411765, 1.0, 1.0, 0.9375, 0.8861788617886179, 0.7441860465116279, 1.0, 0.7777777777777778, 0.9912280701754386, 0.96, 0.47120418848167545, 0.9130434782608696, 0.8478260869565217, 0.9694656488549618, 0.9395348837209302, 0.9775280898876404, 1.0, 0.9853747714808044, 0.9793233082706767, 0.963963963963964, 0.9276315789473684, 0.9509803921568627, 0.9069767441860466, 0.8833333333333333, 0.9866666666666667, 1.0, 0.9696969696969697, 0.9583333333333334, 0.9430199430199431, 0.9302325581395349, 0.813953488372093, 0.8839590443686007, 0.9201183431952663, 0.9664429530201343, 0.9655172413793104, 0.9723404255319149, 0.9278996865203761, 0.9582366589327146, 0.8591954022988506, 0.9912587412587412, 0.7606382978723404, 0.8571428571428572, 1.0, 1.0, 0.9835680751173709, 0.875, 0.9193899782135077, 0.4242424242424242, 0.972972972972973, 0.9666666666666667, 0.9078947368421053, 0.9140127388535032, 0.9418604651162791, 0.9936305732484076, 1.0, 0.9096774193548387, 0.7878787878787878, 0.7857142857142857, 0.8164794007490637, 1.0, 0.8837209302325582, 1.0, 0.9519774011299436, 0.9661016949152542, 0.9285714285714286, 0.9254658385093167, 1.0, 0.9384615384615385, 1.0, 0.6871345029239766, 0.9696969696969697, 0.9473684210526316, 0.9324009324009324, 0.9924812030075187, 0.9744897959183674, 0.9877551020408163, 1.0, 0.9436997319034852, 0.9451476793248945, 0.8793774319066148, 0.9688311688311688, 0.9919137466307277, 0.9506172839506173, 0.9245689655172413, 0.8461538461538461, 1.0, 0.8921052631578947, 0.9715447154471545, 0.9485294117647058, 0.9545454545454546, 0.8953488372093024, 0.8412698412698413, 0.8372781065088757, 0.9259259259259259, 0.8251533742331288, 0.889763779527559, 0.7790697674418605, 0.7857142857142857, 0.9266409266409267, 0.851764705882353, 0.9346733668341709, 0.8347457627118644, 0.7787610619469026, 0.9315960912052117, 0.7647058823529411, 0.8493506493506493, 0.9714285714285714, 1.0, 0.9431818181818182, 0.9608540925266904, 0.9384615384615385, 0.8823529411764706, 1.0, 0.9844559585492227, 0.979381443298969, 1.0, 1.0, 0.9646017699115044, 0.9566929133858267, 0.8983516483516484, 0.9146757679180887, 0.9477272727272728, 0.8884892086330936, 0.9069767441860466, 1.0, 1.0, 1.0, 0.946031746031746, 1.0, 0.973134328358209, 1.0, 0.9230769230769231, 1.0, 0.8947368421052632, 0.9695431472081218, 0.8953846153846154, 0.7602905569007263, 1.0, 0.9531615925058547, 0.9735449735449735, 0.875, 0.9372384937238494, 0.9915254237288136, 0.9583333333333334, 0.876, 1.0, 0.9347826086956522, 0.9251700680272109, 1.0, 0.9047619047619048, 0.9310344827586207, 0.9107142857142857, 0.9705882352941176, 0.7371601208459215, 0.9444444444444444, 0.8241758241758241, 0.9285714285714286, 0.9748953974895398, 0.9181286549707602, 0.6816326530612244, 0.9066147859922179, 0.9148936170212766, 0.7683923705722071, 0.9474940334128878, 0.9495412844036697, 1.0, 0.8571428571428572, 0.9174311926605505, 0.9589442815249267, 0.8888888888888888, 0.9466950959488273, 0.953125, 0.9045226130653267, 1.0, 0.959493670886076, 0.9855371900826446, 0.9485714285714286, 0.9144981412639406, 1.0, 1.0, 1.0, 0.9, 0.7206896551724138, 0.8461538461538461, 0.8085714285714286, 1.0, 0.9842696629213483, 0.8125, 0.975, 0.8384146341463414, 0.96, 0.8918918918918919, 0.9240506329113924, 0.9722222222222222, 0.9811320754716981, 0.9247311827956989, 1.0, 0.8430034129692833, 0.8461538461538461, 0.8817966903073287, 0.7027027027027026, 1.0, 0.994413407821229, 0.6785714285714286, 0.9444444444444444, 1.0, 0.902127659574468, 0.8899521531100478, 0.9262295081967213, 0.9979296066252588, 0.9473684210526316, 0.9675324675324676, 0.8741721854304636, 0.9148936170212766, 0.9783653846153846, 0.9047619047619048, 0.8735632183908046, 0.8444444444444444, 0.9577464788732395, 0.950561797752809, 0.9696969696969697, 0.9608433734939759, 0.9904580152671756, 0.8602620087336245, 0.9244444444444444, 0.9525423728813559, 0.975, 0.8977272727272727, 1.0, 0.7681818181818182, 0.9654427645788337, 0.972972972972973, 0.9615384615384616, 0.7681159420289855, 0.9931506849315068, 1.0, 0.9622641509433962, 0.7819548872180451, 1.0, 0.8122977346278317, 0.9178082191780822, 1.0, 0.8297872340425532, 1.0, 0.9937106918238994, 0.9008264462809917, 0.7647058823529411, 0.7037037037037037, 0.95822454308094, 1.0, 0.9, 0.9310344827586207, 0.84, 0.9404466501240695, 0.7875457875457875, 0.9722222222222222, 1.0, 1.0, 0.9253731343283582, 1.0, 0.8947368421052632, 0.9375, 0.9333333333333333, 0.9147727272727273, 0.782051282051282, 0.9709302325581395, 0.7927272727272727, 0.8820058997050148, 0.9372384937238494, 0.9791044776119403, 0.95, 0.9877049180327869, 0.9802955665024631, 0.967741935483871, 0.923728813559322, 0.9858757062146892, 0.8888888888888888, 0.9288888888888889, 0.9715302491103203, 0.9774774774774775, 0.937799043062201, 0.7552447552447552, 0.8034398034398035, 0.8216374269005848, 1.0, 0.8917647058823529, 0.8811475409836066, 0.9628099173553719, 0.8235294117647058, 0.9967637540453075, 0.8403755868544601, 1.0, 0.9784172661870504, 0.9240837696335078, 0.9090909090909091, 0.9328358208955224, 0.9189189189189189, 0.8867924528301887, 0.9975669099756691, 1.0, 0.9411764705882353, 0.8333333333333334, 0.9166666666666666, 1.0, 1.0, 1.0, 1.0, 0.9028571428571428, 0.9896103896103896, 0.9315068493150684, 1.0, 0.9847560975609756, 0.9772727272727273, 0.9722222222222222, 0.9491525423728814, 0.912718204488778, 1.0, 1.0, 0.8235294117647058, 0.8684807256235828, 0.9230769230769231, 0.9906976744186047, 0.9329388560157791, 0.9659685863874345, 0.9651162790697675, 0.8333333333333334, 0.8691588785046729, 0.8181818181818181, 1.0, 1.0, 0.8043478260869565, 1.0, 0.895774647887324, 1.0, 0.9162011173184358, 0.97, 0.9385964912280702, 0.7813620071684588, 0.8789625360230547, 1.0, 1.0, 1.0, 0.76, 0.9808917197452229, 0.8571428571428572, 0.9794238683127572, 0.7666666666666666, 0.9746835443037974, 0.9098143236074271, 1.0, 0.8566308243727598, 0.9642857142857143, 0.9527272727272728, 0.9846153846153847, 0.9106382978723404, 1.0, 0.9207459207459208, 0.9298245614035088, 0.94, 0.9617021276595745, 0.99581589958159, 0.9384965831435079, 0.9285714285714286, 0.9586776859504132, 0.8157894736842105, 0.890625, 1.0, 0.986870897155361, 1.0, 0.9487179487179487, 0.9709762532981531, 0.9833333333333333, 0.9659090909090909, 0.9395770392749244, 0.9387755102040817, 0.8955223880597015, 0.8770833333333333, 0.9859154929577465, 0.9777777777777777, 0.9174603174603174, 0.9842931937172775, 0.8415300546448088, 0.6950354609929078, 0.8842105263157894, 0.9285714285714286, 0.9011194029850746, 0.9818840579710145, 1.0, 0.8136200716845878, 0.7837837837837838, 0.9655172413793104, 1.0, 0.9863013698630136, 0.875, 0.9709302325581395, 0.7101449275362319, 0.9444444444444444, 1.0, 0.8492063492063492, 0.5538461538461539, 0.9694323144104804, 0.8686131386861313, 0.9900990099009901, 0.9541284403669725, 0.9565217391304348, 0.8028673835125448, 0.9966777408637874, 0.9263157894736842, 0.8322981366459627, 0.9273255813953488, 0.9659090909090909, 0.957983193277311, 1.0, 1.0, 1.0, 0.9493670886075949, 1.0, 0.96875, 1.0, 0.9886363636363636, 0.9641025641025641, 0.9605263157894737, 0.9393939393939394, 1.0, 0.9098591549295775, 0.8571428571428572, 0.8185840707964602, 0.84, 0.9879518072289156, 0.9166666666666666, 0.696319018404908, 1.0, 1.0, 0.9514563106796117, 0.9014084507042254, 1.0, 0.8349056603773585, 0.9697802197802198, 0.9396551724137931, 0.9183673469387755, 0.9285714285714286, 0.8888888888888888, 1.0, 0.9230769230769231, 0.8783269961977186, 0.9870689655172413, 0.7476190476190476, 0.9957894736842106, 0.8626609442060086, 0.9658314350797267, 0.9818181818181818, 0.8537859007832898, 0.9333333333333333, 0.9714285714285714, 0.7142857142857143, 0.960431654676259, 0.9459459459459459, 0.9245283018867925, 0.7983539094650206, 0.9794520547945206, 0.9506903353057199, 0.9197994987468672, 1.0, 0.926984126984127, 1.0, 0.9833948339483395, 1.0, 1.0, 1.0, 1.0, 1.0, 0.688622754491018, 0.7534246575342466, 0.9257950530035336, 0.9565217391304348, 0.8677966101694915, 0.896551724137931, 0.9209039548022598, 1.0, 0.9257028112449799, 0.9914529914529915, 0.9272727272727272, 0.8269230769230769, 0.8421052631578947, 0.8927444794952681, 0.9921671018276762, 0.8964497041420119, 0.8, 1.0, 0.952755905511811, 0.9925650557620818, 0.7441860465116279, 0.75, 0.8125, 0.984984984984985, 0.9267515923566879, 0.9565217391304348, 0.972972972972973, 0.6176470588235294, 0.9714285714285714, 1.0, 0.9691516709511568, 0.9898477157360406, 0.92, 0.9654377880184332, 0.9918200408997955, 0.9523809523809523, 0.9489795918367347, 0.967741935483871, 0.9444444444444444, 0.9863387978142076, 0.9688644688644689, 0.95, 0.8825214899713467, 0.875, 0.8065134099616859, 0.9534883720930233, 1.0, 0.8264840182648402, 0.9296636085626911, 0.8823529411764706, 1.0, 1.0, 0.9953379953379954, 0.9741935483870968, 1.0, 0.8571428571428572, 0.9096385542168675, 0.7547892720306514, 1.0, 0.6642857142857144, 0.967741935483871, 0.8, 0.375, 1.0, 1.0, 0.8571428571428572, 0.9979919678714859, 1.0, 0.9663865546218487, 0.8421052631578947, 0.8888888888888888, 0.9226361031518625, 0.9436619718309859, 0.7704485488126649, 1.0, 0.8947368421052632, 0.7951070336391437, 1.0, 0.8888888888888888, 1.0, 0.9330855018587361, 0.9950980392156863, 0.996268656716418, 0.9848484848484849, 0.9329896907216495, 0.996415770609319, 1.0, 1.0, 0.9573333333333334, 0.9852579852579852, 0.8116438356164384, 1.0, 1.0, 0.909952606635071, 0.8045602605863192, 0.9038461538461539, 1.0, 0.941747572815534, 0.9824561403508771, 1.0, 0.7241379310344828, 0.9672131147540983, 0.8827160493827161, 0.6360424028268552, 0.8962962962962963, 1.0, 0.9777777777777777, 0.9832635983263598, 1.0, 0.8571428571428572, 1.0, 0.9836065573770492, 0.9393939393939394, 0.9788867562380038, 0.6892430278884463, 0.9408866995073891, 1.0, 0.8786516853932584, 0.9913793103448276, 0.8344370860927153, 0.9869281045751634, 0.926829268292683, 1.0, 0.9473684210526316, 0.8918918918918919, 0.9438202247191011, 0.9443037974683545, 0.9351535836177475, 1.0, 0.6486486486486487, 1.0, 0.9711538461538461, 0.9978165938864629, 0.9491017964071856, 0.9839357429718876, 0.9912434325744308, 0.9870967741935484, 0.8928571428571429, 1.0, 0.9059633027522935, 0.7574626865671642, 0.9444444444444444, 0.9137931034482758, 0.8915989159891599, 1.0, 0.8776041666666666, 1.0, 0.9927884615384616, 0.9981308411214953, 0.8299120234604106, 0.9339622641509434, 0.9453125, 0.925, 0.9714285714285714, 0.9944341372912802, 0.9462102689486552, 0.6970443349753694, 0.96875, 0.9172932330827068, 1.0, 1.0, 0.9528023598820059, 0.9842931937172775, 0.7864583333333334, 0.9135135135135135, 0.8951219512195122, 0.8689458689458689, 0.8892405063291139, 1.0, 0.9333333333333333, 0.9605263157894737, 0.8888888888888888, 0.9811320754716981, 0.9758551307847082, 0.9617224880382775, 0.8870967741935484, 0.6935483870967742, 0.7840909090909091, 0.9764705882352941, 0.9772209567198178, 0.9473684210526316, 0.8760330578512396, 1.0, 1.0, 0.962962962962963, 0.8580508474576272, 0.9655172413793104, 0.9722222222222222, 0.7420212765957447, 0.937037037037037, 0.8493150684931507, 0.8571428571428572, 1.0, 0.9328358208955224, 0.972972972972973, 0.7222222222222222, 0.9668508287292817, 0.518840579710145, 0.8883928571428571, 1.0, 1.0, 0.7793103448275862, 1.0, 0.5666666666666667, 0.9324324324324325, 1.0, 0.9, 1.0, 0.9509803921568627, 1.0, 0.8904109589041096, 0.8, 1.0, 0.9206896551724137, 0.5897435897435898, 0.9407744874715261, 1.0, 0.9, 0.9610091743119266, 0.9047619047619048, 0.7427536231884058, 0.8859649122807017, 0.8312236286919832, 0.8, 0.9732739420935412, 0.8389830508474576, 1.0, 1.0, 0.9032258064516129, 0.9931972789115646, 1.0, 0.9834710743801653, 0.9545454545454546, 0.8809523809523809, 1.0, 0.9936708860759493, 0.9428571428571428, 0.9937106918238994, 0.6536144578313253, 0.9573863636363636, 1.0, 0.9894459102902374, 0.8125, 1.0, 1.0, 0.9428571428571428, 1.0, 0.946949602122016, 0.849002849002849, 0.9747706422018348, 0.9292035398230089, 1.0, 0.8333333333333334, 0.9497041420118343, 0.7894736842105263, 0.9023136246786633, 1.0, 0.8924302788844621, 0.935483870967742, 0.9107142857142857, 0.9381443298969072, 1.0, 0.9107142857142857, 0.9597315436241611, 0.9146341463414634, 0.8333333333333334, 0.9811320754716981, 0.9217391304347826, 0.9454545454545454, 0.9423076923076923, 0.96875, 1.0, 0.9130434782608696, 0.7658402203856749, 0.8713692946058091, 1.0, 0.7222222222222222, 0.962962962962963, 0.7142857142857143, 0.8811369509043928, 0.8857142857142857, 0.962962962962963, 1.0, 0.9517819706498952, 0.430379746835443, 0.9144736842105263, 0.8628571428571429, 1.0, 0.9745042492917847, 0.7975708502024291, 0.8858695652173914, 0.9888888888888889, 0.9828009828009828, 0.711864406779661, 0.8419540229885057, 0.9935622317596566, 0.9851380042462845, 1.0, 1.0, 1.0, 1.0, 0.9, 0.900375939849624, 0.9831081081081081, 1.0, 1.0, 0.9090909090909091, 0.9115646258503401, 0.8796992481203008, 0.9088397790055248, 0.8902439024390244, 1.0, 0.7760416666666666, 1.0, 1.0, 0.5789473684210527, 0.9233333333333333, 0.8075471698113208, 0.9090909090909091, 1.0, 0.9, 1.0, 0.9895833333333334, 0.9957716701902748, 0.9974874371859297, 0.8888888888888888, 0.9482758620689655, 1.0, 0.9783393501805054, 0.7080536912751678, 1.0, 1.0, 0.8, 1.0, 0.9501557632398754, 0.9933184855233853, 0.9333333333333333, 0.8777173913043478, 0.904109589041096, 0.8198433420365535, 1.0, 1.0, 0.8262411347517731, 0.875, 0.9583333333333334, 0.963963963963964, 0.8780487804878049, 0.768637532133676, 0.9652173913043478, 0.9821428571428571, 0.8636363636363636, 1.0, 0.975609756097561, 0.8876404494382022, 0.9949238578680203, 0.9933920704845814, 0.9302325581395349, 0.9509803921568627, 0.9470404984423676, 1.0, 0.9, 0.9934065934065934, 0.8892307692307693, 0.9584905660377359, 0.8835978835978836, 1.0, 1.0, 0.946927374301676, 0.8538812785388128, 0.993103448275862, 1.0, 0.7640845070422535, 0.9259259259259259, 0.7741935483870968, 0.9468302658486708, 0.9353932584269663, 0.7982832618025751, 0.9537275064267352, 0.8857142857142857, 0.9444444444444444, 0.9945945945945946, 0.9628378378378378, 0.9230769230769231, 0.46341463414634143, 0.9848484848484849, 0.9753086419753086, 1.0, 0.9956043956043956, 1.0, 1.0, 0.9186046511627907, 0.875, 0.88, 1.0, 0.8689458689458689, 0.9667590027700831, 0.9230769230769231, 0.9645390070921985, 0.8866396761133604, 0.9523809523809523, 1.0, 0.8888888888888888, 0.88, 0.9291338582677166, 0.6428571428571428, 0.9473684210526316, 1.0, 0.7222222222222222, 0.8775510204081632, 1.0, 0.9852941176470589, 1.0, 0.9612403100775194, 1.0, 0.991304347826087, 0.8708920187793427, 0.888283378746594, 0.991166077738516, 0.696969696969697, 0.9661016949152542, 0.9766839378238342, 0.5342960288808665, 0.9510309278350515, 0.7954545454545454, 0.7758007117437722, 0.9760147601476015, 0.8510158013544018, 0.9722222222222222, 0.9214145383104125, 0.9060773480662984, 0.9319899244332494, 1.0, 0.985663082437276, 0.5333333333333333, 0.9523809523809523, 0.7571428571428571, 0.972972972972973, 1.0, 0.8316582914572864, 1.0, 0.9235294117647059, 0.85, 0.9876543209876543, 0.994, 1.0, 0.7640845070422535, 1.0, 1.0, 0.9873949579831933, 1.0, 1.0, 0.6381322957198443, 1.0, 1.0, 0.8947368421052632, 1.0, 0.8867924528301887, 0.901595744680851, 0.9, 1.0, 0.9710982658959537, 1.0, 0.9411764705882353, 0.9327102803738317, 0.9166666666666666, 0.8898305084745762, 0.9941348973607038, 0.9121813031161473, 1.0, 1.0, 0.995575221238938, 0.9919191919191919, 1.0, 1.0, 0.9927007299270073, 0.9593301435406698, 0.9946808510638298, 0.8697829716193656, 0.9605263157894737, 0.9182692307692307, 0.8235294117647058, 0.972972972972973, 1.0, 0.9166666666666666, 0.9884169884169884, 0.8883495145631068, 0.9090909090909091, 0.9487179487179487, 0.9728353140916808, 0.9047619047619048, 0.7223796033994334, 0.9696969696969697, 0.7067448680351907, 1.0, 0.8571428571428572, 1.0, 0.9459459459459459, 1.0, 1.0, 0.8907563025210083, 0.9787234042553191, 1.0, 0.8803088803088803, 0.864963503649635, 1.0, 0.9520833333333333, 0.8700564971751412, 1.0, 0.9726027397260274, 0.9655913978494624, 0.9413793103448276, 0.8076923076923077, 0.8571428571428572, 0.9242718446601942, 0.4006968641114983, 0.9411764705882353, 0.9574468085106383, 0.9032258064516129, 0.4536741214057508, 0.7692307692307692, 0.9585798816568047, 0.9972527472527473, 0.9481481481481482, 0.9918032786885246, 0.9545454545454546, 0.9428571428571428, 0.9320843091334895, 0.8620689655172413, 1.0, 0.7055555555555555, 0.9285714285714286, 0.3872180451127819, 0.9822485207100592, 1.0, 0.8767908309455588, 0.9297658862876255, 0.631578947368421, 0.955, 0.935860058309038, 0.9381443298969072, 0.967391304347826, 0.9826086956521739, 0.963302752293578, 1.0, 1.0, 0.8213166144200628, 0.8235294117647058, 1.0, 0.8818565400843882, 0.794392523364486, 0.8980263157894737, 0.7391304347826086, 0.7589285714285714, 0.8918918918918919, 0.9434782608695652, 0.9095890410958904, 1.0, 0.7431906614785992, 0.9164926931106472, 0.8651162790697674, 0.9534883720930233, 0.8918918918918919, 0.9344262295081968, 0.9458823529411765, 1.0, 0.9744897959183674, 0.9854545454545455, 1.0, 0.6005586592178771, 1.0, 0.9980916030534351, 1.0, 0.9618320610687023, 1.0, 0.9611231101511879, 0.8607954545454546, 0.94921875, 0.9545454545454546, 0.9376623376623376, 0.8313253012048193, 0.9821428571428571, 0.9607843137254902, 0.9186046511627907, 0.9243498817966903, 1.0, 0.8356807511737089, 0.8610271903323263, 1.0, 0.7956521739130434, 1.0, 0.9769230769230769, 0.85, 0.8697916666666666, 1.0, 0.9921259842519685, 0.8959390862944162, 0.9428571428571428, 0.955026455026455, 0.9282178217821783, 0.8153846153846154, 1.0, 0.8609958506224067, 1.0, 0.8972162740899358, 0.931924882629108, 0.967741935483871, 0.86875, 0.8547008547008547, 0.741839762611276, 0.9371534195933456, 0.8571428571428572, 0.9047619047619048, 1.0, 1.0, 1.0, 0.9909420289855072, 0.9757785467128027, 0.9890710382513661, 0.9060402684563759, 0.9228070175438596, 0.8829268292682927, 1.0, 0.8492462311557789, 0.9365994236311239, 1.0, 0.7458333333333333, 0.9071729957805907, 0.9277566539923955, 0.8679245283018868, 0.9523809523809523, 0.96, 0.8, 0.9689922480620154, 0.8496503496503497, 0.8188153310104529, 0.9815950920245399, 0.8943089430894309, 0.96, 0.8697478991596639, 1.0, 1.0, 0.9413793103448276, 1.0, 0.9487179487179487, 0.9748201438848921, 0.7348484848484849, 0.9537037037037037, 1.0, 1.0, 0.9850746268656716, 0.7307692307692308, 1.0, 0.9391304347826087, 0.9090909090909091, 0.989406779661017, 0.8378378378378378, 0.935483870967742, 1.0, 1.0, 0.9577464788732395, 0.8615916955017301, 0.9734748010610079, 0.8939393939393939, 0.8190045248868778, 0.6818181818181819, 0.9908814589665653, 0.9436619718309859, 0.9786096256684492, 0.9427860696517413, 0.9411764705882353, 0.9751131221719457, 0.6609442060085837, 0.9621621621621621, 0.967930029154519, 1.0, 1.0, 0.8, 0.9680851063829787, 1.0, 1.0, 1.0, 0.9856733524355301, 0.7840909090909091, 0.875, 1.0, 1.0, 0.9604743083003953, 1.0, 0.9753593429158111, 0.9090909090909091, 1.0, 0.77, 0.8823529411764706, 0.859504132231405, 1.0, 0.9294871794871795, 0.9545454545454546, 0.8728323699421965, 1.0, 0.6060606060606061, 0.8463476070528967, 0.8106995884773662, 0.9567099567099567, 0.7049180327868853, 1.0, 0.9285714285714286, 0.8372093023255813, 0.8531073446327684, 0.9230769230769231, 0.8235294117647058, 0.8250591016548463, 0.7120253164556962, 0.9867549668874173, 0.7457142857142858, 0.7916666666666666, 1.0, 1.0, 0.8863636363636364, 0.8571428571428572, 0.9272727272727272, 0.9745042492917847, 0.9014084507042254, 0.9056603773584906, 0.868421052631579, 1.0, 1.0, 0.927536231884058, 0.9536082474226804, 0.9693877551020408, 0.9838709677419355, 1.0, 0.9897959183673469, 1.0, 0.8387096774193549, 0.9579207920792079, 1.0, 0.9393939393939394, 0.8, 0.6363636363636364, 1.0, 0.9444444444444444, 0.946969696969697, 0.948051948051948, 1.0, 0.8993288590604027, 0.8260869565217391, 0.9849624060150376, 1.0, 0.9966101694915255, 0.9664634146341463, 0.9948186528497409, 1.0, 0.9398280802292264, 0.9270833333333334, 0.8477508650519031, 0.948509485094851, 0.9545454545454546, 0.83, 0.9696969696969697, 0.9333333333333333, 0.9811320754716981, 0.8928571428571429, 0.7985611510791367, 1.0, 1.0, 0.9792207792207792, 0.9111111111111111, 0.9351032448377581, 0.9711538461538461, 0.8823529411764706, 0.9375, 1.0, 0.9641434262948207, 0.8838383838383839, 0.9272727272727272, 0.9383697813121272, 0.823943661971831, 1.0, 1.0, 1.0, 0.9560878243512974, 0.9761904761904762, 0.9399038461538461, 0.9606557377049181, 0.9473684210526316, 0.9723320158102767, 0.8571428571428572, 0.9713603818615751, 0.8387909319899245, 0.7619047619047619, 0.9745098039215686, 0.8780487804878049, 1.0, 1.0, 0.9814814814814815, 0.9686411149825784, 0.8846153846153846, 0.9538461538461538, 1.0, 0.6609195402298851, 0.940983606557377, 0.9047619047619048, 0.9583333333333334, 0.9090909090909091, 1.0, 1.0, 1.0, 0.8903225806451613, 0.9682539682539683, 0.8530612244897959, 0.9523809523809523, 0.885593220338983, 0.9565217391304348, 0.8947368421052632, 0.9333333333333333, 1.0, 0.9, 0.9013605442176871, 0.9118773946360154, 0.9017857142857143, 0.9411764705882353, 0.6440677966101696, 0.9625, 0.9125, 0.909967845659164, 1.0, 1.0, 0.9223744292237444, 0.9507389162561576, 0.8905579399141631, 0.7777777777777778, 1.0, 0.9544419134396356, 0.9081967213114754, 1.0, 1.0, 0.9347181008902077, 0.9696969696969697, 1.0, 0.8666666666666667, 0.9814814814814815, 1.0, 0.8620689655172413, 0.8571428571428572, 1.0, 0.92, 1.0, 0.9230769230769231, 0.9463276836158192, 0.975609756097561, 0.718987341772152, 1.0, 1.0, 1.0, 0.8285714285714285, 0.9817767653758542, 0.8571428571428572, 0.9235880398671097, 0.8348214285714286, 0.75, 0.9873188405797102, 0.6, 0.8294573643410853, 0.85, 0.9437939110070258, 0.9310344827586207, 1.0, 0.8620689655172413, 0.8217391304347826, 0.8636363636363636, 0.9411764705882353, 0.9235474006116208, 0.9473684210526316, 0.9438202247191011, 0.789237668161435, 0.9716312056737588, 1.0, 1.0, 0.96, 0.976303317535545, 0.9555555555555556, 1.0, 0.9285714285714286, 0.7222222222222222, 0.8823529411764706, 0.7619047619047619, 0.9313186813186813, 0.868312757201646, 0.7672413793103449, 0.9, 0.9403508771929825, 0.9102564102564102, 0.9612403100775194, 0.9892761394101877, 0.9552238805970149, 0.968421052631579, 0.9434782608695652, 0.9166666666666666, 1.0, 0.9935205183585313, 0.9766355140186916, 0.9090909090909091, 0.9769673704414588, 0.7736389684813754, 0.8205980066445182, 0.8125, 0.7837837837837838, 0.9688796680497925, 1.0, 0.8484848484848485, 0.8878504672897196, 1.0, 0.8314606741573034, 0.9245283018867925, 1.0, 1.0, 1.0, 1.0, 0.676923076923077, 0.9166666666666666, 0.9268817204301075, 0.89375, 0.9405940594059405, 1.0, 0.9705882352941176, 0.975, 0.8888888888888888, 1.0, 0.9148936170212766, 1.0, 0.9555555555555556, 1.0, 0.9444444444444444, 0.9615384615384616, 0.9411764705882353, 1.0, 0.8233082706766918, 0.8651685393258427, 0.9178082191780822, 1.0, 0.9487179487179487, 0.8899521531100478, 1.0, 0.9285714285714286, 0.9259259259259259, 0.8648648648648649, 0.7777777777777778, 0.9148936170212766, 0.9518518518518518, 0.9822485207100592, 0.9285714285714286, 1.0, 0.9896907216494846, 0.7551020408163265, 0.768348623853211, 0.978515625, 0.7476923076923077, 0.981651376146789, 0.9668508287292817, 0.736842105263158, 0.8269230769230769, 0.8888888888888888, 0.8442211055276382, 0.9633251833740831, 0.9122807017543859, 0.962962962962963, 0.8775510204081632, 0.875, 0.9616858237547893, 0.7873015873015873, 0.971830985915493, 0.8333333333333334, 0.9963768115942029, 0.7468354430379747, 0.9545454545454546, 1.0, 0.6428571428571428, 0.935483870967742, 0.8633333333333333, 1.0, 1.0, 0.8494208494208494, 0.939873417721519, 1.0, 0.9473684210526316, 0.9613636363636364, 0.9444444444444444, 0.737037037037037, 0.8247978436657681, 0.8635014836795252, 0.9727272727272728, 0.9043280182232346, 0.8888888888888888, 0.9838709677419355, 0.9313725490196079, 0.9458128078817734, 0.700657894736842, 1.0, 0.7442748091603053, 0.9714285714285714, 0.9649122807017544, 1.0, 0.9444444444444444, 0.8333333333333334, 0.9830508474576272, 0.8484848484848485, 0.8862068965517241, 1.0, 0.8709677419354839, 0.9743589743589743, 0.9555555555555556, 0.9036697247706422, 0.8837209302325582, 1.0, 0.7333333333333334, 0.9708333333333333, 0.9515789473684211, 0.8987341772151899, 0.9627039627039627, 0.9672131147540983, 0.9764453961456103, 0.9880478087649402, 1.0, 1.0, 0.7894736842105263, 0.7083333333333333, 1.0, 1.0, 0.987146529562982, 0.8571428571428572, 0.9772727272727273, 0.9661458333333334, 0.8939393939393939, 0.6666666666666667, 1.0, 0.9714285714285714, 0.888135593220339, 0.8076923076923077, 0.9, 0.9702380952380952, 0.6692015209125475, 0.9236363636363636, 0.9853556485355649, 0.9666666666666667, 0.9584055459272097, 0.9491525423728814, 1.0, 1.0, 1.0, 0.8597122302158273, 0.875, 0.8163265306122449, 0.98989898989899, 1.0, 0.9617021276595745, 0.8977955911823647, 0.889487870619946, 1.0, 0.9259259259259259, 0.9393939393939394, 1.0, 0.84, 0.8767123287671232, 0.9214145383104125, 1.0, 0.9375, 1.0, 0.625, 0.9565217391304348, 0.6836363636363636, 0.6962025316455696, 0.9866666666666667, 1.0, 0.9411764705882353, 0.948905109489051, 0.9142857142857143, 0.842741935483871, 0.8485576923076923, 0.875, 0.927536231884058, 0.875, 0.9113924050632911, 0.8395061728395061, 0.8327272727272728, 0.8907563025210083, 0.9857954545454546, 0.8033898305084746, 0.8355555555555556, 0.8920704845814977, 0.9433962264150944, 0.996551724137931, 0.9657320872274143, 0.9478827361563518, 1.0, 1.0, 0.8695652173913043, 0.9409937888198758, 0.9552238805970149, 0.8323699421965318, 0.7155963302752293, 0.8148148148148149, 0.8604651162790697, 0.9307479224376731, 1.0, 0.9957983193277311, 0.9117647058823529, 0.8333333333333334, 0.75, 0.7525773195876289, 0.8571428571428572, 0.8571428571428572, 0.9911699779249448, 0.96, 1.0, 0.8451178451178452, 0.8956043956043956, 0.9570200573065902, 0.6260162601626016, 0.5846153846153845, 1.0, 0.9299065420560748, 1.0, 1.0, 1.0, 1.0, 0.978494623655914, 0.7235772357723578, 0.73109243697479, 0.8379446640316206, 1.0, 0.875, 1.0, 0.994535519125683, 0.8222222222222222, 0.789795918367347, 0.9949579831932773, 0.7849740932642487, 0.8117977528089888, 0.7577937649880095, 0.6389891696750902, 1.0, 0.9956989247311828, 1.0, 0.8421052631578947, 1.0, 0.9411764705882353, 1.0, 0.8987854251012146, 1.0, 0.7988668555240793, 1.0, 1.0, 0.97, 0.916030534351145, 0.9443099273607748, 1.0, 0.9529411764705882, 0.8943396226415095, 1.0, 0.8823529411764706, 0.7818181818181819, 0.9662162162162162, 0.9090909090909091, 0.9375, 0.9688888888888889, 0.6518518518518519, 0.974304068522484, 0.9101796407185628, 0.98, 0.9458128078817734, 0.9488054607508533, 0.8130434782608695, 0.9440298507462687, 0.9351351351351351, 1.0, 0.9734513274336283, 0.6754716981132076, 0.888663967611336, 0.8382352941176471, 0.9658792650918635, 1.0, 0.9630681818181818, 1.0, 1.0, 0.7857142857142857, 0.9953051643192489, 0.9833333333333333, 0.9798792756539235, 0.9976190476190476, 0.8974358974358975, 0.9802631578947368, 0.8485523385300668, 0.9583333333333334, 0.9379310344827586, 0.9469387755102041, 0.9615384615384616, 0.9649122807017544, 1.0, 1.0, 0.9791666666666666, 0.908695652173913, 0.8920704845814977, 0.8953771289537713, 0.993963782696177, 0.944, 1.0, 0.814569536423841, 0.8534201954397393, 0.8409090909090909, 0.9282296650717703, 0.09999999999999998, 0.9555555555555556, 0.8692098092643052, 1.0, 1.0, 0.9743589743589743, 0.9305555555555556, 0.9038461538461539, 1.0, 1.0, 0.8805970149253731, 0.9719101123595506, 0.967816091954023, 0.9785407725321889, 0.8289473684210527, 0.7323943661971831, 0.9196675900277008, 0.9739130434782609, 0.9278131634819533, 0.877284595300261, 0.8898305084745762, 1.0, 0.949468085106383, 1.0, 0.925, 0.6756756756756757, 0.9785932721712538, 0.9433962264150944, 1.0, 0.8827751196172249, 0.8845315904139434, 0.9305555555555556, 0.9792099792099792, 0.6277602523659306, 0.8936170212765957, 0.9887640449438202, 1.0, 0.8439897698209718, 0.7524271844660194, 0.967948717948718, 0.9497816593886463, 1.0, 0.9122807017543859, 0.65, 0.8709677419354839, 0.9411764705882353, 0.9072164948453608, 0.9312977099236641, 0.926829268292683, 0.9917127071823204, 0.8978388998035364, 0.9333333333333333, 0.9836956521739131, 0.9190283400809717, 0.9727272727272728, 0.9292035398230089, 0.9924812030075187, 0.8987654320987655, 0.8484848484848485, 1.0, 0.9746835443037974, 0.9313186813186813, 0.49367088607594933, 1.0, 0.8983050847457628, 0.8888888888888888, 1.0, 0.8076923076923077, 0.9581589958158996, 0.8456375838926175, 0.9014598540145985, 0.875, 0.967948717948718, 0.9022801302931596, 0.9735099337748344, 1.0, 0.8481848184818481, 0.7242990654205608, 0.9205776173285198, 1.0, 0.9757575757575757, 0.9090909090909091, 0.9619047619047619, 0.9054054054054054, 0.926829268292683, 0.8888888888888888, 1.0, 0.9942857142857143, 1.0, 0.9014084507042254, 1.0, 0.8481012658227848, 0.984375, 0.9782608695652174, 0.9393939393939394, 0.7757731958762887, 0.9649122807017544, 1.0, 0.9051724137931034, 0.9452054794520548, 0.8007662835249042, 0.7857142857142857, 0.9728601252609603, 0.9512195121951219, 1.0, 0.75, 0.8611111111111112, 0.7089201877934272, 0.8157894736842105, 0.5777777777777777, 1.0, 0.7, 0.7292069632495164, 0.8513513513513513, 0.9315068493150684, 0.8333333333333334, 0.7625, 0.9, 0.9281045751633987, 0.9509345794392523, 1.0, 0.9111111111111111, 0.9615384615384616, 0.8888888888888888, 0.9882352941176471, 0.8036175710594315, 0.6683417085427136, 0.8893129770992366, 0.9123287671232877, 1.0, 1.0, 0.9333333333333333, 0.88, 0.9620253164556962, 0.9195402298850575, 0.9333333333333333, 0.9285714285714286, 0.9318181818181819, 1.0, 0.8761061946902655, 0.9300411522633745, 0.9285714285714286, 0.8244897959183674, 0.946236559139785, 0.8976377952755905, 1.0, 0.9885057471264368, 0.9411764705882353, 0.9253731343283582, 0.7585139318885449, 0.9245283018867925, 1.0, 0.9717314487632509, 1.0, 0.9369627507163324, 0.86328125, 0.9230769230769231, 0.7835051546391752, 0.9473684210526316, 0.757201646090535, 1.0, 0.9583333333333334, 1.0, 0.8793774319066148, 0.8034188034188035, 0.9185185185185185, 0.9435294117647058, 0.9310344827586207, 0.6, 0.9402985074626866, 1.0, 0.8695652173913043, 1.0, 0.9033707865168539, 0.9365079365079365, 0.8660714285714286, 0.9038461538461539, 0.6538461538461539, 0.9290953545232274, 0.8988095238095238, 0.9880952380952381, 0.9358108108108109, 1.0, 0.8668341708542714, 0.9111842105263158, 1.0, 1.0, 0.9693877551020408, 0.75, 0.8579545454545454, 0.8823529411764706, 0.8571428571428572, 1.0, 0.9074074074074074, 1.0, 0.9473684210526316, 0.9959677419354839, 1.0, 0.781578947368421, 0.9825242718446602, 0.972972972972973, 0.9477756286266925, 0.8863636363636364, 1.0, 0.9434523809523809, 0.9032258064516129, 0.9870967741935484, 0.9285714285714286, 1.0, 1.0, 0.8823529411764706, 0.7642276422764227, 0.8643533123028391, 0.875, 0.9589041095890412, 0.9748110831234257, 0.7777777777777778, 0.8928571428571429, 0.85, 0.9828571428571429, 0.9518413597733711, 0.7666666666666666, 0.8425531914893617, 0.8601190476190477, 1.0, 0.9230769230769231, 0.9783080260303688, 0.9791666666666666, 0.8538461538461538, 0.9850107066381156, 0.9554896142433235, 1.0, 0.9846827133479212, 0.9318181818181819, 0.9090909090909091, 1.0, 1.0, 0.9855072463768116, 1.0, 1.0, 0.8297872340425532, 0.9574468085106383, 1.0, 1.0, 0.990990990990991, 0.8888888888888888, 0.6538461538461539, 0.8836363636363637, 0.962962962962963, 0.9575757575757575, 0.9140625, 1.0, 0.9163424124513618, 1.0, 1.0, 0.9159663865546218, 0.9845679012345679, 1.0, 0.9585062240663901, 0.8846153846153846, 1.0, 0.9175257731958762, 0.759493670886076, 0.9623824451410659, 0.8632075471698113, 0.8345323741007195, 0.8904109589041096, 0.8224543080939948, 1.0, 0.4906166219839142, 1.0, 0.925, 0.9578947368421052, 0.78, 0.9704797047970479, 1.0, 0.9516407599309153, 1.0, 0.8717948717948718, 0.935, 1.0, 1.0, 0.9787234042553191, 0.9444444444444444, 0.9569230769230769, 0.927038626609442, 0.8666666666666667, 0.9700854700854701, 1.0, 0.8666666666666667, 0.8627450980392157, 0.8385093167701864, 1.0, 0.9322033898305084, 0.78125, 0.9565217391304348, 0.875, 0.6599099099099099, 1.0, 0.9302325581395349, 0.8526912181303117, 0.948849104859335, 0.9375, 0.9696969696969697, 0.92, 0.9661016949152542, 0.9029535864978903, 1.0, 0.8888888888888888, 0.9534883720930233, 0.9779559118236473, 0.9243697478991597, 0.8809523809523809, 0.9657534246575342, 1.0, 0.8975741239892183, 0.9285714285714286, 1.0, 0.9348314606741573, 0.964735516372796, 0.9233870967741935, 0.8884758364312267, 0.8641114982578397, 0.7272727272727273, 0.9411764705882353, 1.0, 1.0, 0.7644444444444445, 0.9891304347826086, 0.9523809523809523, 0.5555555555555556, 1.0, 0.7530864197530864, 1.0, 0.8616600790513834, 0.7538461538461538, 0.8099173553719008, 1.0, 0.9184952978056427, 0.9309309309309309, 1.0, 0.8689839572192514, 0.8528610354223434, 0.7638888888888888, 0.6550387596899225, 0.8507462686567164, 0.9672619047619048, 0.8585209003215434, 0.9285714285714286, 0.8741258741258742, 0.9047619047619048, 0.910377358490566, 1.0, 0.7916666666666666, 1.0, 0.9872611464968153, 1.0, 0.9732824427480916, 0.9553903345724907, 0.8536585365853658, 0.9285714285714286, 0.9372822299651568, 0.9975186104218362, 0.7816901408450705, 0.9598540145985401, 0.9981060606060606, 1.0, 0.9, 0.8983050847457628, 0.9057971014492754, 1.0, 0.8512820512820513, 0.8717948717948718, 0.9121621621621622, 0.9016949152542373, 1.0, 0.694006309148265, 0.9819277108433735, 1.0, 0.9393939393939394, 0.980246913580247, 0.876750700280112, 0.9808153477218226, 0.8461538461538461, 0.8123249299719888, 1.0, 0.9795918367346939, 0.9937106918238994, 0.8610038610038611, 0.8, 0.8552631578947368, 0.9919678714859438, 1.0, 0.9666666666666667, 0.9540229885057472, 1.0, 0.9862068965517241, 0.9235294117647059, 0.9814814814814815, 1.0, 0.9333333333333333, 0.9411764705882353, 0.9938271604938271, 1.0, 1.0, 0.9873417721518988, 0.966542750929368, 0.9444444444444444, 0.756838905775076, 0.9752577319587629, 0.7796610169491526, 1.0, 0.7941176470588236, 1.0, 0.8979591836734694, 0.9734748010610079, 1.0, 0.8846153846153846, 0.9148936170212766, 0.953405017921147, 0.9130434782608696, 1.0, 1.0, 0.9560439560439561, 1.0, 0.804953560371517, 0.9898477157360406, 0.9738717339667459, 0.8472222222222222, 1.0, 0.926829268292683, 0.6498422712933754, 0.8695652173913043, 0.9753694581280788, 1.0, 0.9932659932659933, 0.9471890971039182, 0.8850574712643678, 0.8194842406876791, 1.0, 0.9700854700854701, 0.8717948717948718, 0.8888888888888888, 0.8733031674208145, 0.8535353535353536, 0.8823529411764706, 0.96, 0.9375, 1.0, 0.9552572706935123, 0.9566787003610109, 0.7142857142857143, 0.95, 0.8466135458167331, 0.98, 1.0, 1.0, 0.982725527831094, 0.9814814814814815, 0.9473684210526316, 0.8245033112582781, 0.9333333333333333, 0.9712230215827338, 0.8098434004474273, 1.0, 0.9437652811735942, 1.0, 0.9833333333333333, 0.8936170212765957, 1.0, 0.9714285714285714, 1.0, 1.0, 0.9230769230769231, 1.0, 1.0, 0.8679245283018868, 1.0, 0.9881656804733728, 0.9815950920245399, 0.8294573643410853, 0.9130434782608696, 0.9148351648351648, 1.0, 0.8941798941798942, 0.9141630901287554, 0.9933774834437086, 0.9568627450980393, 0.9518716577540107, 0.9824902723735408, 0.8781609195402299, 1.0, 0.6923076923076923, 0.9142857142857143, 0.9140127388535032, 0.9557522123893806, 0.9285714285714286, 0.8717948717948718, 0.8633879781420765, 0.7890625, 0.9596774193548387, 0.8928571428571429, 0.9652173913043478, 0.8833333333333333, 0.9230769230769231, 0.9956043956043956, 0.8947368421052632, 0.9454976303317536, 0.9565217391304348, 0.8958837772397095, 0.9473684210526316, 1.0, 0.8949579831932774, 0.9509803921568627, 0.9963031423290203, 0.8978328173374613, 0.9517241379310345, 0.9699453551912568, 0.9360730593607306, 0.848605577689243, 0.8953488372093024, 0.9730848861283644, 0.8838383838383839, 0.875, 0.9936170212765958, 0.9652605459057072, 0.4285714285714286, 0.9565217391304348, 0.9095238095238095, 0.6666666666666667, 0.8947368421052632, 1.0, 0.935064935064935, 1.0, 0.8816901408450705, 0.9102990033222591, 0.8, 0.9969325153374233, 0.9361022364217253, 0.9565217391304348, 0.5087719298245614, 0.7730496453900709, 0.8582375478927203, 1.0, 0.7421875, 0.9977011494252873, 0.9462915601023018, 0.9582366589327146, 0.9978448275862069, 0.9855072463768116, 0.9726027397260274, 0.9404517453798767, 1.0, 1.0, 0.9411764705882353, 0.9473684210526316, 0.9782608695652174, 0.9936170212765958, 0.7751937984496124, 0.8478260869565217, 0.9411764705882353, 0.9341176470588235, 0.9380733944954128, 0.7893258426966292, 0.9655172413793104, 1.0, 0.8279569892473118, 1.0, 0.6857142857142857, 0.975, 0.9523809523809523, 0.9166666666666666, 1.0, 1.0, 1.0, 0.9333333333333333, 0.6504424778761062, 0.9931818181818182, 0.9722222222222222, 0.8611825192802056, 0.9790419161676647, 0.9978858350951374, 0.9563492063492064, 0.9132653061224489, 0.9150943396226415, 0.8515406162464986, 1.0, 0.7317073170731707, 0.7419354838709677, 1.0, 1.0, 0.921875, 0.7165991902834008, 0.9857723577235772, 0.9, 0.9833333333333333, 0.9210526315789473, 0.9661016949152542, 0.8589211618257262, 0.9809069212410502, 0.9166666666666666, 0.9411764705882353, 1.0, 0.9069767441860466, 1.0, 0.5757575757575757, 0.9585798816568047, 0.9177377892030848, 0.940809968847352, 0.8795986622073578, 1.0, 0.7740585774058577, 0.9228650137741047, 0.9721518987341772, 1.0, 0.6666666666666667, 0.9811320754716981, 0.988950276243094, 0.9884393063583815, 0.8478260869565217, 1.0, 1.0, 0.7214765100671141, 1.0, 1.0, 0.5143884892086331, 0.9285714285714286, 0.9661016949152542, 0.8659517426273459, 0.6799999999999999, 0.6081081081081081, 0.975, 0.9498069498069498, 1.0, 0.7864406779661017, 0.9710982658959537, 1.0, 0.9767441860465116, 0.8611111111111112, 0.8736263736263736, 0.9764705882352941, 0.972972972972973, 0.6997084548104957, 0.9748427672955975, 0.9157894736842105, 1.0, 1.0, 1.0, 1.0, 0.9154929577464789, 0.962962962962963, 0.9285714285714286, 0.9047619047619048, 0.9743589743589743, 0.9436619718309859, 0.9512195121951219, 0.9444444444444444, 1.0, 1.0, 0.9132075471698113, 1.0, 0.8915187376725838, 1.0, 0.8471760797342193, 0.9889807162534435, 0.6666666666666667, 0.9662921348314607, 0.9735294117647059, 1.0, 0.9333333333333333, 1.0, 1.0, 0.9552238805970149, 1.0, 1.0, 0.8726415094339622, 0.95, 1.0, 0.9714285714285714, 0.9967320261437909, 0.965625, 0.8163672654690619, 0.9193954659949622, 0.8372093023255813, 0.9685990338164251, 0.9527186761229315, 1.0, 1.0, 0.9201183431952663, 0.9887005649717514, 0.875, 0.6696832579185521, 0.9292929292929293, 1.0, 0.9770992366412213, 0.8387096774193549, 0.9693654266958425, 0.9142857142857143, 1.0, 0.9191176470588235, 1.0, 0.9369369369369369, 0.8971291866028708, 1.0, 0.9473684210526316, 0.5447154471544715, 0.9242424242424242, 1.0, 0.7326388888888888, 0.9635416666666666, 1.0, 0.9364705882352942, 0.9078947368421053, 0.9764309764309764, 0.9771241830065359, 0.9038461538461539, 1.0, 0.9666666666666667, 1.0, 0.862295081967213, 0.9430147058823529, 0.9710144927536232, 0.8409090909090909, 1.0, 0.8177966101694916, 0.9213483146067416, 0.9908256880733946, 0.9863945578231292, 0.9625, 0.9477911646586346, 0.8977272727272727, 0.8009950248756219, 0.9615384615384616, 1.0, 0.9673590504451038, 0.7905405405405406, 0.956953642384106, 0.9633507853403142, 1.0, 1.0, 0.9611650485436893, 0.8888888888888888, 1.0, 0.8475750577367206, 0.9234449760765551, 0.976401179941003, 0.9, 0.7868852459016393, 0.9850746268656716, 1.0, 0.8518518518518519, 0.9545454545454546, 0.875, 1.0, 0.9550561797752809, 0.8657718120805369, 0.9523809523809523, 0.9405204460966543, 0.9924242424242424, 0.9881656804733728, 1.0, 0.8571428571428572, 0.9631336405529954, 0.725, 0.9090909090909091, 0.8461538461538461, 0.8113207547169812, 0.95, 0.725, 0.8273809523809523, 0.8848484848484849, 0.8968481375358166, 0.9298245614035088, 0.8347826086956522, 0.875, 0.8829787234042553, 0.967741935483871, 0.9473684210526316, 0.9400544959128065, 0.9589552238805971, 0.817258883248731, 0.6289752650176679, 0.9029649595687331, 0.9710144927536232, 0.8627450980392157, 0.8884615384615384, 0.8716216216216216, 0.8405172413793103, 0.9634146341463414, 0.8717948717948718, 0.9191919191919192, 1.0, 0.9737470167064439, 0.9833333333333333, 0.9530386740331491, 0.9130434782608696, 0.9946140035906643, 0.875, 0.8666666666666667, 1.0, 0.7727272727272727, 0.9336016096579477, 0.915057915057915, 0.9368421052631579, 0.8888888888888888, 0.927536231884058, 0.9594594594594594, 0.9186046511627907, 0.8942731277533039, 1.0, 0.9574468085106383, 0.7297297297297297, 0.7296296296296296, 0.9935064935064936, 0.962962962962963, 0.9743119266055046, 0.9315068493150684, 0.9086294416243654, 0.9375, 1.0, 0.8113207547169812, 0.5253456221198156, 0.9411764705882353, 0.9333333333333333, 0.9938775510204082, 0.8461538461538461, 0.9384615384615385, 0.9493670886075949, 0.8513119533527697, 0.9021739130434783, 0.6458333333333333, 0.5, 1.0, 0.9731800766283525, 0.8260869565217391, 0.9939516129032258, 1.0, 0.8, 1.0, 0.8029197080291971, 0.9954648526077098, 0.7681818181818182, 0.915129151291513, 0.9784172661870504, 0.9787735849056604, 0.8928571428571429, 0.7538461538461538, 0.9581151832460733, 0.9117647058823529, 1.0, 0.7857142857142857, 0.9689922480620154, 1.0, 0.9255533199195171, 1.0, 1.0, 0.9166666666666666, 0.9444444444444444, 0.9586776859504132, 1.0, 0.875, 1.0, 0.9078498293515358, 0.7574468085106383, 0.8652482269503546, 0.8928571428571429, 0.9337349397590361, 0.6482939632545932, 0.9545454545454546, 1.0, 1.0, 0.8676470588235294, 0.6762589928057554, 0.9473684210526316, 0.7125890736342042, 0.9202127659574468, 0.8888888888888888, 0.8621700879765396, 1.0, 0.9742268041237113, 1.0, 0.9322033898305084, 0.9666666666666667, 1.0, 0.9666666666666667, 0.8620689655172413, 0.8888888888888888, 0.9314420803782506, 0.9655172413793104, 0.9259259259259259, 0.7391304347826086, 0.96875, 0.9006622516556292, 0.9920634920634921, 1.0, 0.9865470852017937, 1.0, 0.94, 1.0, 0.9384328358208955, 0.924, 0.8217391304347826, 0.9393939393939394, 0.9, 0.9760869565217392, 0.9017857142857143, 0.875, 0.8734177215189873, 0.9565217391304348, 1.0, 0.9919354838709677, 0.9423076923076923, 0.7, 0.7792792792792793, 0.7058823529411764, 0.8709677419354839, 0.9503105590062112, 0.9743589743589743, 0.9423868312757202, 0.9, 0.9185393258426966, 1.0, 0.9745222929936306, 0.9058441558441559, 0.8626760563380281, 0.8947368421052632, 0.7437722419928825, 0.8235294117647058, 0.6308243727598566, 0.8305084745762712, 1.0, 0.890625, 0.9700272479564033, 0.8848920863309353, 0.9266862170087976, 1.0, 0.9565217391304348, 0.8158995815899581, 0.9876543209876543, 0.8601398601398601, 0.8054607508532423, 0.9090909090909091, 0.9818840579710145, 0.9287598944591029, 0.8205128205128205, 0.8961748633879781, 0.96, 0.910377358490566, 0.9148936170212766, 0.96, 1.0, 0.48058252427184467, 0.9336099585062241, 0.9867986798679867, 1.0, 0.9099378881987578, 0.8627450980392157, 1.0, 0.8571428571428572, 0.8844765342960289, 1.0, 1.0, 0.926829268292683, 0.9905660377358491, 0.9007832898172323, 0.8611111111111112, 1.0, 0.76, 0.92, 1.0, 0.9512195121951219, 0.9899193548387096, 1.0, 0.7450199203187251, 1.0, 0.9398663697104677, 0.6821192052980132, 0.8989690721649485, 0.7936507936507937, 0.9228295819935691, 0.9259259259259259, 1.0, 1.0, 0.8574712643678161, 1.0, 0.8776595744680851, 0.991130820399113, 0.9134020618556701, 0.9434782608695652, 0.9375, 0.9802631578947368, 1.0, 1.0, 0.9130434782608696, 0.7272727272727273, 0.8956310679611651, 0.9012345679012346, 0.9090909090909091, 0.9887892376681614, 0.9721254355400697, 1.0, 0.8859934853420195, 0.962962962962963, 0.7927631578947368, 0.9230769230769231, 0.8552631578947368, 1.0, 0.9411764705882353, 0.9870848708487084, 0.5357142857142857, 1.0, 0.9932885906040269, 0.9411764705882353, 0.9441176470588235, 1.0, 0.9210526315789473, 1.0, 0.8964705882352941, 0.9828080229226361, 0.96, 0.9020332717190388, 0.7021276595744681, 1.0, 0.9193548387096774, 0.9558011049723757, 1.0, 0.9759615384615384, 0.8765432098765432, 0.8778409090909091, 1.0, 0.9397590361445783, 0.8082901554404145, 0.9940476190476191, 0.9880952380952381, 0.8469945355191257, 0.43321299638989175, 0.9293478260869565, 0.9779179810725552, 1.0, 0.9166666666666666, 0.9318181818181819, 0.8626760563380281, 0.9397590361445783, 0.9900990099009901, 0.7301038062283737, 0.8870967741935484, 0.7857142857142857, 0.9735449735449735, 0.6607142857142857, 0.9333333333333333, 1.0, 1.0, 0.961218836565097, 0.9291553133514986, 0.9242424242424242, 0.9615384615384616, 0.7961783439490446, 0.9304556354916067, 1.0, 0.9044289044289044, 0.9917582417582418, 0.9273743016759777, 1.0, 0.9822485207100592, 1.0, 0.9663865546218487, 0.9378238341968912, 0.890625, 0.9545454545454546, 0.9821882951653944, 0.7857142857142857, 0.926829268292683, 0.8161290322580645, 0.9310344827586207, 0.9972067039106145, 0.9436936936936937, 0.8027681660899654, 0.7627627627627628, 1.0, 0.9720670391061452, 0.9747899159663865, 0.9798387096774194, 0.8964497041420119, 1.0, 0.9978902953586498, 0.9491525423728814, 0.975, 0.9836956521739131, 0.997229916897507, 0.6796875, 0.898876404494382, 0.8817204301075269, 1.0, 0.993103448275862, 1.0, 0.7938718662952646, 0.9940119760479041, 0.9117647058823529, 0.7830985915492958, 0.7785467128027681, 0.8706624605678234, 0.9090909090909091, 0.864516129032258, 0.9322033898305084, 0.8447837150127226, 0.8468085106382979, 1.0, 0.7647058823529411, 0.9424460431654677, 0.9613733905579399, 1.0, 0.7866004962779156, 0.9002849002849003, 0.9285714285714286, 0.9770114942528736, 0.9574468085106383, 0.8176943699731903, 0.9402061855670103, 1.0, 1.0, 0.9077490774907749, 1.0, 0.9367088607594937, 0.984, 0.9285714285714286, 0.8333333333333334, 0.9719101123595506, 0.9273182957393484, 0.9838187702265372, 0.6, 0.9825783972125436, 0.9655172413793104, 0.9895833333333334, 0.9490445859872612, 1.0, 0.9880382775119617, 0.9852941176470589, 1.0, 1.0, 0.7452830188679245, 0.917981072555205, 0.8745387453874539, 0.861764705882353, 0.9565217391304348, 1.0, 0.9705882352941176, 1.0, 0.6377952755905512, 0.9090909090909091, 0.8062953995157385, 0.9930394431554525, 0.8333333333333334, 0.8636363636363636, 0.8888888888888888, 0.9787234042553191, 0.9415384615384615, 0.9811320754716981, 1.0, 0.9779874213836478, 0.9, 0.9047619047619048, 0.8083623693379791, 0.9805352798053528, 0.8, 0.9777227722772277, 0.9340659340659341, 0.9514563106796117, 1.0, 0.921875, 0.9556786703601108, 0.9907834101382489, 0.961038961038961, 1.0, 0.9411764705882353, 0.922077922077922, 1.0, 0.9744318181818182, 0.8820058997050148, 1.0, 0.9782608695652174, 0.7374517374517375, 0.9857142857142858, 0.9444444444444444, 0.9090909090909091, 1.0, 1.0, 0.9819494584837545, 0.8947368421052632, 0.8306451612903226, 0.9763779527559056, 1.0, 0.9, 0.8286604361370716, 0.9254079254079254, 0.8571428571428572, 0.9545454545454546, 0.797979797979798, 0.9473684210526316, 0.757085020242915, 0.9705882352941176, 0.9568733153638814, 0.9906759906759907, 1.0, 1.0, 0.8436213991769548, 0.9924528301886792, 0.8171428571428572, 0.9939393939393939, 0.9166666666666666, 0.9836065573770492, 0.9885057471264368, 0.6774193548387097, 0.7621951219512195, 0.9189189189189189, 0.9322916666666666, 1.0, 0.9783132530120482, 0.95, 0.948339483394834, 1.0, 0.875, 0.9433962264150944, 0.9090909090909091, 0.9423076923076923, 1.0, 0.9252873563218391, 0.8922413793103449, 0.905, 0.9366197183098591, 1.0, 0.6847457627118644, 0.8834355828220859, 0.9491525423728814, 1.0, 0.7843137254901961, 1.0, 0.9142857142857143, 0.9692671394799054, 1.0, 0.8868894601542416, 0.9887323943661972, 1.0, 1.0, 0.9583333333333334, 0.9444444444444444, 0.8421052631578947, 0.9777777777777777, 0.9761904761904762, 0.8947368421052632, 0.9701492537313433, 0.9861431870669746, 0.7931937172774869, 0.9921875, 0.8888888888888888, 0.8512396694214877, 0.9696969696969697, 1.0, 0.9894366197183099, 0.9405940594059405, 0.9478827361563518, 0.9622641509433962, 1.0, 0.5240384615384616, 0.9333333333333333, 0.90625, 1.0, 0.978401727861771, 0.9705882352941176, 0.9387755102040817, 0.9625292740046838, 0.9767441860465116, 0.991701244813278, 0.9117647058823529, 0.7647058823529411, 0.8333333333333334, 1.0, 0.9647887323943662, 0.9836065573770492, 0.8405315614617941, 0.972972972972973, 0.9705882352941176, 0.992, 1.0, 0.7528735632183908, 0.7523364485981309, 0.9943977591036415, 1.0, 0.9181141439205955, 0.8805970149253731, 0.9880239520958084, 0.7848101265822784, 0.9473684210526316, 0.9285714285714286, 0.9490196078431372, 1.0, 0.8280871670702179, 0.858974358974359, 0.9487179487179487, 0.9849137931034483, 0.9411764705882353, 0.996309963099631, 0.9433106575963719, 0.8297872340425532, 1.0, 0.991869918699187, 1.0, 0.9577464788732395, 1.0, 0.9411764705882353, 1.0, 0.8327645051194539, 0.9333333333333333, 0.9512195121951219, 0.9533678756476685, 0.7934782608695652, 0.8888888888888888, 0.7369668246445498, 0.95, 0.8369565217391304, 0.9041769041769042, 0.9761904761904762, 1.0, 0.9963768115942029, 1.0, 1.0, 0.9935483870967742, 0.9574468085106383, 0.847682119205298, 0.9615384615384616, 0.9960707269155207, 0.9678456591639871, 0.7292576419213974, 0.7952380952380953, 0.96875, 0.9593220338983051, 1.0, 1.0, 0.9865771812080537, 0.9045346062052506, 0.8688524590163934, 0.9530201342281879, 0.8888888888888888, 0.9680589680589681, 0.9543269230769231, 0.967032967032967, 0.8666666666666667, 1.0, 0.9466666666666667, 0.6567164179104478, 0.9785407725321889, 0.9701492537313433, 0.9230769230769231, 0.8469135802469135, 0.7692307692307692, 1.0, 0.9641873278236914, 0.9545454545454546, 0.9420289855072463, 0.8914956011730205, 0.9906542056074766, 0.9795454545454545, 0.9583333333333334, 0.9952153110047847, 0.9333333333333333, 0.9253731343283582, 0.946236559139785, 0.959409594095941, 0.935483870967742, 0.8333333333333334, 0.9285714285714286, 1.0, 1.0, 0.932475884244373, 1.0, 1.0, 0.9401709401709402, 0.8610038610038611, 1.0, 0.9848484848484849, 0.9672131147540983, 0.9298780487804879, 0.9090909090909091, 0.9498327759197325, 0.9602446483180428, 0.972972972972973, 0.8, 0.9939577039274925, 0.8983050847457628, 1.0, 0.8433734939759037, 0.9559228650137741, 0.9722222222222222, 0.8484848484848485, 0.9237668161434978, 1.0, 0.8865979381443299, 0.8919597989949749, 0.7901907356948229, 1.0, 0.984251968503937, 0.8666666666666667, 0.9302325581395349, 0.7843137254901961, 1.0, 0.9576612903225806, 0.8525345622119815, 0.951310861423221, 0.9326923076923077, 0.8784119106699751, 0.8461538461538461, 0.8978328173374613, 0.574468085106383, 0.9176470588235294, 0.8375, 0.8611111111111112, 0.9771784232365145, 0.9193548387096774, 1.0, 0.39057239057239057, 0.9967793880837359, 1.0, 0.9370629370629371, 0.8235294117647058, 0.875, 0.9613733905579399, 0.907258064516129, 0.96, 0.9183098591549296, 0.930379746835443, 0.9745222929936306, 0.9430199430199431, 0.8847583643122676, 0.8014705882352942, 0.7708333333333334, 1.0, 0.8658536585365854, 0.9163763066202091, 1.0, 0.9337748344370861, 0.9767441860465116, 0.8179012345679012, 0.9928571428571429, 1.0, 0.9725085910652921, 0.7757731958762887, 0.9597315436241611, 0.9565217391304348, 0.9166666666666666, 0.9909502262443439, 0.962962962962963, 1.0, 0.9916897506925207, 0.9736842105263158, 0.9863013698630136, 0.9444444444444444, 1.0, 0.9923076923076923, 0.5870445344129555, 0.8901098901098901, 0.9722222222222222, 0.9333333333333333, 0.9090909090909091, 0.9686847599164927, 0.9765625, 0.8518518518518519, 0.916, 0.9748953974895398, 0.9612903225806452, 1.0, 0.8928571428571429, 0.875, 0.8676056338028169, 1.0, 0.9047619047619048, 0.875, 0.9940476190476191, 0.9012345679012346, 0.9448275862068966, 1.0, 1.0, 1.0, 0.8615384615384616, 0.92, 0.9591836734693877, 0.9126984126984127, 0.9337016574585635, 0.9540540540540541, 1.0, 0.6333333333333333, 0.7808219178082192, 0.9368191721132898, 0.9774436090225564, 0.9382352941176471, 1.0, 1.0, 0.930622009569378, 1.0, 0.9341317365269461, 0.9822134387351779, 0.995475113122172, 0.9342105263157895, 0.9727891156462585, 1.0, 0.9722222222222222, 0.7529411764705882, 1.0, 0.9727272727272728, 0.9002433090024331, 0.9119318181818181, 0.8262548262548263, 1.0, 0.9847715736040609, 0.9375, 0.9157509157509157, 0.9910714285714286, 0.9064039408866995, 0.8666666666666667, 0.9795918367346939, 1.0, 0.9865771812080537, 0.6886543535620053, 0.9375, 0.9648562300319489, 1.0, 0.9543859649122807, 0.8793103448275862, 0.8888888888888888, 0.875, 1.0, 0.975, 0.8823529411764706, 0.7840909090909091, 1.0, 0.9701492537313433, 0.9326923076923077, 0.7777777777777778, 0.9617977528089887, 0.8752886836027713, 0.9166666666666666, 0.975609756097561, 0.771505376344086, 0.9591836734693877, 0.7976653696498055, 0.9895833333333334, 1.0, 0.9777777777777777, 1.0, 0.8823529411764706, 1.0, 0.8594470046082949, 0.9247572815533981, 0.8476190476190476, 1.0, 0.9666666666666667, 0.8125, 0.9326923076923077, 0.937888198757764, 0.6693877551020408, 0.9866666666666667, 0.9416243654822335, 0.7641509433962264, 0.9692307692307692, 0.631578947368421, 0.8983451536643026, 0.8991596638655462, 0.8425655976676385, 1.0, 1.0, 0.6444444444444444, 0.8888888888888888, 0.7708333333333334, 0.8888888888888888, 1.0, 0.9606060606060606, 0.8994974874371859, 0.8442906574394464, 0.9573170731707317, 0.8537170263788969, 0.9707446808510638, 0.96, 0.8480565371024735, 0.9941176470588236, 0.967741935483871, 0.9745596868884541, 1.0, 1.0, 0.8382352941176471, 0.9705882352941176, 0.9772727272727273, 0.9782608695652174, 1.0, 0.9297872340425531, 0.8280542986425339, 0.963302752293578, 0.75, 0.90625, 0.92, 0.9827586206896551, 1.0, 1.0, 0.8431372549019608, 0.9899497487437185, 0.8174157303370786, 0.8597285067873304, 0.9166666666666666, 0.9962546816479401, 0.6995708154506437, 0.9494949494949495, 1.0, 0.8413978494623656, 0.9615384615384616, 0.962962962962963, 0.9770114942528736, 1.0, 1.0, 1.0, 0.9220183486238532, 0.9900990099009901, 0.9032258064516129, 0.8571428571428572, 0.8230088495575221, 0.9892086330935251, 1.0, 0.962962962962963, 0.8448905109489051, 0.9433106575963719, 0.9809523809523809, 0.7575000000000001, 1.0, 1.0, 0.9230769230769231, 0.75, 0.7624113475177305, 0.9363636363636364, 0.945619335347432, 1.0, 0.8010899182561309, 0.7517985611510791, 0.9230769230769231, 0.7380952380952381, 1.0, 0.8463414634146341, 0.84, 0.9636363636363636, 0.9736842105263158, 0.9666666666666667, 0.8260869565217391, 0.7429718875502008, 0.8461538461538461, 1.0, 0.982646420824295, 0.9545454545454546, 0.75, 0.8, 0.9975, 0.9482758620689655, 1.0, 0.9234567901234568, 0.9640102827763496, 0.8350515463917526, 1.0, 0.9841269841269842, 1.0, 0.9487179487179487, 0.994535519125683, 1.0, 0.9285714285714286, 0.9220183486238532, 0.9170305676855895, 0.8928571428571429, 0.9517684887459807, 0.9047619047619048, 0.9069767441860466, 0.87890625, 0.9189189189189189, 0.9803921568627451, 0.9473684210526316, 0.6693766937669376, 1.0, 0.9233226837060703, 0.9849246231155779, 1.0, 1.0, 0.9699248120300752, 0.9361702127659575, 0.7142857142857143, 0.9084249084249084, 1.0, 1.0, 0.9811827956989247, 0.7659574468085106, 0.8920308483290489, 0.9459459459459459, 0.9761904761904762, 0.9090909090909091, 0.9545454545454546, 0.7875, 1.0, 0.8304347826086956, 0.5714285714285714, 0.887719298245614, 0.9125, 1.0, 0.9705882352941176, 1.0, 1.0, 0.9761904761904762, 0.7162162162162162, 0.9904458598726115, 0.9924433249370277, 0.9285714285714286, 0.9416058394160584, 0.8623188405797102, 0.9804305283757339, 0.9876160990712074, 1.0, 0.9451476793248945, 0.9251207729468599, 0.8888888888888888, 1.0, 0.9920424403183024, 0.9834254143646409, 0.9959595959595959, 1.0, 0.875, 0.7684887459807074, 0.8947368421052632, 0.9115384615384615, 1.0, 0.9125, 1.0, 0.8832116788321168, 0.7267759562841529, 0.760806916426513, 1.0, 0.9642857142857143, 0.8235294117647058, 0.947265625, 0.8888888888888888, 1.0, 0.9, 1.0, 0.7975609756097561, 0.7467811158798283, 0.9833333333333333, 1.0, 0.8520547945205479, 1.0, 0.9166666666666666, 1.0, 0.92, 0.9545454545454546, 0.84, 0.8837209302325582, 0.976, 0.9863945578231292, 0.7889688249400479, 0.9, 0.9457013574660633, 0.98, 1.0, 1.0, 1.0, 0.9361702127659575, 0.671875, 0.9842105263157894, 1.0, 0.8121212121212121, 0.8181818181818181, 0.975609756097561, 0.8805460750853242, 0.9951377633711507, 0.9184549356223176, 0.9473684210526316, 0.9099378881987578, 0.963855421686747, 0.8579387186629527, 0.9760956175298805, 0.9873417721518988, 1.0, 0.8461538461538461, 0.9696428571428571, 1.0, 0.8770226537216829, 1.0, 0.967551622418879, 0.7415730337078652, 0.978494623655914, 0.967741935483871, 1.0, 0.7097902097902098, 0.95, 0.8888888888888888, 1.0, 0.8809523809523809, 0.7761194029850746, 0.9090909090909091, 0.75, 0.992619926199262, 0.9166666666666666, 0.9, 0.7619047619047619, 0.8513513513513513, 0.8342857142857143, 0.9927007299270073, 1.0, 0.8159203980099503, 1.0, 0.943359375, 0.9708520179372198, 0.9552238805970149, 0.9839034205231388, 0.9877300613496932, 0.9619686800894854, 0.9242424242424242, 0.9791666666666666, 0.45114942528735635, 0.9525316455696202, 0.6136363636363636, 0.928082191780822, 1.0, 0.9728395061728395, 0.9904988123515439, 0.6730158730158731, 0.9398148148148148, 0.6776315789473684, 0.9220055710306406, 1.0, 0.7789473684210526, 1.0, 0.9655172413793104, 0.9166666666666666, 0.7162534435261708, 1.0, 0.8947368421052632, 1.0, 1.0, 0.904320987654321, 0.935483870967742, 0.92, 0.8723404255319149, 0.9957805907172996, 0.9834710743801653, 0.953168044077135, 0.9636363636363636, 0.9262295081967213, 0.8773584905660378, 0.8, 0.8364116094986808, 0.896551724137931, 0.8260869565217391, 0.8616071428571428, 1.0, 0.9, 1.0, 0.9840425531914894, 0.9363957597173145, 0.8, 0.9776785714285714, 0.8163841807909604, 0.8345588235294118, 0.9831460674157303, 0.9219600725952813, 0.7047619047619047, 0.9528619528619529, 0.9262948207171314, 1.0, 1.0, 0.9238754325259515, 0.659400544959128, 0.9605263157894737, 0.9836363636363636, 0.9409937888198758, 0.9213051823416507, 0.7777777777777778, 0.9412955465587045, 0.9926289926289926, 0.962962962962963, 0.8708920187793427, 0.8804347826086957, 0.8703703703703703, 0.9243243243243243, 0.9565217391304348, 0.9906542056074766, 0.8888888888888888, 0.9539007092198581, 1.0, 1.0, 0.9, 0.9014084507042254, 1.0, 0.8657844990548205, 0.9424460431654677, 0.8411552346570397, 0.8773234200743494, 1.0, 1.0, 0.9666666666666667, 1.0, 0.8493150684931507, 1.0, 0.930327868852459, 0.9785867237687366, 0.6865671641791045, 1.0, 0.8383838383838383, 0.8363636363636364, 0.978494623655914, 0.8255451713395638, 0.8571428571428572, 1.0, 1.0, 0.9019607843137255, 0.835820895522388, 0.8888888888888888, 0.8947368421052632, 0.989010989010989, 0.5174603174603174, 0.9153225806451613, 0.8439306358381503, 0.9411764705882353, 0.9650655021834061, 1.0, 0.96875, 1.0, 1.0, 1.0, 0.9978165938864629, 0.96, 0.9934640522875817, 0.7947976878612717, 0.92, 0.8875598086124402, 1.0, 0.9852941176470589, 1.0, 1.0, 0.9444444444444444, 0.9642857142857143, 0.7, 0.901565995525727, 0.9019073569482289, 0.9753914988814317, 0.8888888888888888, 1.0, 0.967391304347826, 0.6875, 1.0, 0.9166666666666666, 0.9562289562289562, 0.8333333333333334, 0.9473684210526316, 0.8333333333333334, 0.9390243902439024, 1.0, 0.9716312056737588, 0.9777777777777777, 0.5974842767295597, 0.8537859007832898, 0.6495726495726496, 1.0, 0.9545454545454546, 0.8582677165354331, 1.0, 0.9565217391304348, 1.0, 0.9210526315789473, 0.9201101928374655, 0.9206349206349207, 0.7142857142857143, 1.0, 0.8870967741935484, 1.0, 1.0, 0.9375, 0.8880866425992779, 0.9411764705882353, 0.9852941176470589, 0.8888888888888888, 1.0, 0.9329608938547486, 1.0, 0.8888888888888888, 0.6704545454545454, 0.8626506024096385, 0.8312101910828026, 0.844776119402985, 0.9811320754716981, 1.0, 0.9473684210526316, 0.8227513227513228, 1.0, 0.7094594594594594, 0.7598944591029024, 0.9090909090909091, 0.9767441860465116, 0.9605263157894737, 1.0, 0.923728813559322, 0.9722222222222222, 1.0, 0.9322033898305084, 1.0, 0.9351464435146444, 0.8571428571428572, 0.8484848484848485, 0.5714285714285714, 1.0, 0.9945652173913043, 0.8291666666666666, 0.7579617834394905, 0.9262295081967213, 0.7446808510638299, 0.972972972972973, 1.0, 0.7777777777777778, 0.8151815181518152, 1.0, 0.9395770392749244, 0.8702290076335878, 0.9681697612732095, 0.9211618257261411, 0.9606879606879607, 1.0, 0.7638888888888888, 0.9790209790209791, 0.9186991869918699, 0.9375, 1.0, 0.8841463414634146, 0.8936170212765957, 1.0, 0.9717514124293786, 0.9375, 0.9393939393939394, 0.8461538461538461, 0.9197080291970803, 1.0, 0.9945553539019963, 0.9373848987108655, 0.9166666666666666, 0.9497354497354498, 0.9346153846153846, 0.8181818181818181, 0.9302325581395349, 1.0, 0.971830985915493, 1.0, 0.9428571428571428, 0.8791208791208791, 0.9771689497716896, 1.0, 1.0, 0.6899696048632219, 0.9230769230769231, 1.0, 0.9562363238512035, 0.8700696055684455, 0.997229916897507, 0.9774436090225564, 0.9427860696517413, 0.9495798319327731, 0.88, 0.9783653846153846, 0.9829424307036247, 0.9384615384615385, 1.0, 0.9660714285714286, 0.8344594594594594, 0.9938650306748467, 0.8816254416961131, 0.9932279909706546, 0.9698630136986301, 0.5551948051948052, 1.0, 0.9634146341463414, 1.0, 0.9090909090909091, 1.0, 0.9788732394366197, 0.9682926829268292, 1.0, 0.7639344262295082, 0.9475806451612904, 0.9821428571428571, 0.8888888888888888, 1.0, 1.0, 0.9166666666666666, 0.9111111111111111, 0.3688699360341151, 0.9565217391304348, 0.8486997635933806, 0.9863547758284601, 0.873015873015873, 0.6481481481481481, 0.7727272727272727, 1.0, 1.0, 0.9935897435897436, 0.9444444444444444, 0.9944444444444445, 0.9840425531914894, 0.9565217391304348, 0.9556962025316456, 0.852589641434263, 1.0, 0.9281553398058252, 0.9920634920634921, 1.0, 0.958498023715415, 0.972972972972973, 0.9090909090909091, 0.8237704918032787, 0.9310344827586207, 0.8518518518518519, 0.3913043478260869, 0.9478672985781991, 0.6376811594202898, 0.9587628865979382, 0.8607594936708861, 0.8373493975903614, 0.8689655172413793, 0.9189189189189189, 0.791044776119403, 0.6942148760330579, 0.9502487562189055, 0.541501976284585, 1.0, 0.8666666666666667, 0.8482758620689655, 0.8061797752808989, 1.0, 1.0, 0.9938080495356038, 1.0, 0.9314420803782506, 0.9473684210526316, 1.0, 0.9230769230769231, 0.9735099337748344, 0.5, 1.0, 0.9310344827586207, 0.9278996865203761, 0.8461538461538461, 1.0, 0.9966887417218543, 0.9950738916256158, 0.992619926199262, 0.910761154855643, 0.9224806201550387, 0.9747899159663865, 0.7696335078534031, 0.7643097643097643, 0.8646788990825688, 0.8693181818181819, 0.8766666666666667, 0.9874055415617129, 1.0, 0.8928571428571429, 0.7415730337078652, 0.9735449735449735, 0.9980952380952381, 0.868235294117647, 0.9875, 0.9861111111111112, 0.9947229551451188, 1.0, 1.0, 0.7732558139534884, 1.0, 0.9803921568627451, 0.8421052631578947, 0.94, 0.9259259259259259, 1.0, 1.0, 0.9375, 0.9222689075630253, 0.9710144927536232, 0.8072727272727273, 0.8493449781659389, 0.9631236442516269, 0.96, 0.9818181818181818, 0.8269230769230769, 0.8333333333333334, 0.9530612244897959, 0.9468599033816425, 1.0, 0.9209302325581395, 0.7272727272727273, 0.9746835443037974, 0.9230769230769231, 0.8945454545454545, 0.9285714285714286, 0.9444444444444444, 0.9285714285714286, 0.8795620437956204, 0.9913606911447084, 0.8502673796791445, 0.9795501022494888, 0.6085271317829457, 0.9775280898876404, 0.9379562043795621, 0.8125, 1.0, 0.8360655737704918, 0.8211009174311926, 0.8373333333333334, 0.9148418491484185, 0.9775280898876404, 1.0, 0.9497206703910615, 0.9662921348314607, 0.9572446555819477, 0.9112149532710281, 0.7671232876712328, 0.6445182724252492, 1.0, 0.6363636363636364, 0.9887323943661972, 0.9659367396593674, 0.7647058823529411, 0.9495798319327731, 0.9807280513918629, 0.6299212598425197, 0.6363636363636364, 0.9956043956043956, 0.9069767441860466, 0.9664634146341463, 1.0, 0.8855421686746988, 0.8604651162790697, 1.0, 0.9756944444444444, 0.9670050761421319, 0.9162303664921466, 0.9563106796116505, 0.962962962962963, 1.0, 0.9662650602409638, 0.972972972972973, 0.9748603351955307, 0.9190751445086706, 1.0, 0.9471264367816092, 0.8888888888888888, 0.8391812865497076, 0.9473684210526316, 0.9678899082568807, 0.9094922737306843, 0.9130434782608696, 0.7437325905292479, 1.0, 0.8183673469387756, 0.9384615384615385, 0.8942917547568711, 1.0, 0.9943396226415094, 1.0, 0.953757225433526, 1.0, 0.9852941176470589, 0.9263803680981595, 1.0, 0.7647058823529411, 0.9705882352941176, 1.0, 0.9123931623931624, 1.0, 1.0, 1.0, 0.8535564853556485, 0.9473684210526316, 1.0, 0.955719557195572, 0.875, 1.0, 1.0, 0.948019801980198, 0.8608695652173913, 1.0, 0.7768924302788844, 0.8823529411764706, 1.0, 1.0, 0.9227166276346604, 0.7690058479532164, 0.9130434782608696, 0.55, 0.9473684210526316, 0.9814814814814815, 0.9453125, 1.0, 0.9787234042553191, 0.9961538461538462, 0.5144694533762058, 0.9069767441860466, 0.7, 0.9398280802292264, 0.9820224719101124, 0.8111455108359134, 0.9197396963123644, 0.9495412844036697, 0.891500904159132, 0.96, 0.75, 0.75, 0.8627450980392157, 0.8745247148288974, 0.9550561797752809, 0.9275, 0.9152542372881356, 0.8333333333333334, 0.9613259668508287, 0.9210526315789473, 0.95, 0.868421052631579, 1.0, 0.7727272727272727, 0.88, 0.9587628865979382, 1.0, 0.8722741433021807, 0.960431654676259, 0.4, 0.9462025316455697, 1.0, 1.0, 0.8695652173913043, 0.794344473007712, 0.9531914893617022, 1.0, 1.0, 0.850909090909091, 0.9621212121212122, 1.0, 0.9770114942528736, 0.918859649122807, 0.9444444444444444, 1.0, 0.8176100628930818, 0.7855227882037533, 1.0, 0.9583333333333334, 0.9458823529411765, 0.9808743169398907, 0.9861751152073732, 0.9090909090909091, 0.9751131221719457, 0.9534883720930233, 0.9141274238227147, 1.0, 0.9590643274853801, 0.9411764705882353, 1.0, 1.0, 1.0, 0.8904109589041096, 0.9126984126984127, 0.8940886699507389, 0.9671532846715328, 0.9368421052631579, 0.9609375, 0.9710144927536232, 0.9496402877697842, 0.9439775910364145, 0.9137466307277629, 1.0, 0.9391304347826087, 0.9457547169811321, 1.0, 0.875, 0.972972972972973, 0.9764705882352941, 0.9457364341085271, 0.9736842105263158, 0.9538461538461538, 0.9366391184573003, 0.8125, 0.8043478260869565, 0.9929577464788732, 0.9877049180327869, 0.9963436928702011, 0.9838709677419355, 0.8721227621483376, 0.9, 0.9046153846153846, 0.8795180722891567, 0.9959595959595959, 0.956656346749226, 0.9555555555555556, 1.0, 0.9142857142857143, 1.0, 0.9363636363636364, 0.7352941176470589, 0.9981916817359855, 1.0, 0.9975903614457832, 0.9904306220095693, 1.0, 0.8235294117647058, 0.9767441860465116, 0.9534883720930233, 0.9132947976878613, 0.9715099715099715, 0.9587073608617595, 0.9725274725274725, 0.9411764705882353, 1.0, 0.9696969696969697, 0.935483870967742, 0.8333333333333334, 1.0, 0.8920308483290489, 0.9431818181818182, 0.9545454545454546, 1.0, 0.7983425414364641, 1.0, 0.9333333333333333, 0.9833729216152018, 0.8765432098765432, 0.9960238568588469, 0.6784660766961652, 0.8971631205673759, 0.8948863636363636, 0.9388888888888889, 1.0, 0.69140625, 0.9906890130353817, 1.0, 0.9320388349514563, 0.908745247148289, 0.9523809523809523, 0.8529411764705882, 1.0, 0.8571428571428572, 0.9045454545454545, 0.8075601374570447, 0.9804560260586319, 0.954954954954955, 0.9583333333333334, 0.9615384615384616, 0.8292682926829268, 0.9358974358974359, 0.9486486486486486, 0.9635761589403974, 0.9601769911504425, 0.9631449631449631, 0.8723404255319149, 1.0, 0.6065162907268171, 0.9760479041916168, 0.8888888888888888, 0.972972972972973, 0.8666666666666667, 0.8812664907651715, 0.9922480620155039, 0.9818181818181818, 0.975, 1.0, 0.771875, 1.0, 0.8820960698689957, 1.0, 0.9530026109660574, 0.9390862944162437, 0.9203821656050956, 0.7545126353790614, 0.9749552772808586, 0.904109589041096, 1.0, 0.6296296296296297, 0.7793103448275862, 0.6956521739130435, 1.0, 0.9527027027027027, 0.9186440677966101, 0.9113924050632911, 0.9096774193548387, 1.0, 0.9438202247191011, 1.0, 0.9046610169491526, 0.9100204498977505, 0.971830985915493, 0.9234042553191489, 0.7894736842105263, 1.0, 0.9828431372549019, 0.9615384615384616, 0.8678571428571429, 0.9601593625498008, 0.9865771812080537, 0.706043956043956, 0.9107981220657277, 0.9691516709511568, 0.9797979797979798, 0.9822485207100592, 0.9047619047619048, 0.8974358974358975, 0.98, 0.850828729281768, 0.9392624728850325, 0.825, 0.8754208754208754, 0.8445378151260504, 0.8035714285714286, 1.0, 0.8620689655172413, 0.9153225806451613, 0.9612403100775194, 0.9460431654676259, 0.6510538641686183, 0.9791666666666666, 0.9502487562189055, 0.9333333333333333, 0.9714285714285714, 0.2857142857142857, 0.9591836734693877, 0.875, 0.9759036144578314, 0.6547945205479452, 1.0, 1.0, 0.8275862068965517, 0.9714285714285714, 0.8359375, 0.921875, 1.0, 0.8548387096774194, 0.4722222222222222, 0.8571428571428572, 1.0, 1.0, 0.9633507853403142, 0.927710843373494, 0.9736842105263158, 0.9864864864864865, 1.0, 0.9310344827586207, 0.8651399491094147, 0.9628099173553719, 0.8779342723004695, 0.9577039274924471, 0.936026936026936, 0.96, 0.7121951219512195, 0.6080246913580247, 1.0, 0.9722222222222222, 0.9, 1.0, 1.0, 0.968, 1.0, 0.9375, 0.9166666666666666, 0.944954128440367, 0.9411764705882353, 0.9419642857142857, 0.6440677966101696, 0.6600660066006601, 0.8149171270718232, 0.8888888888888888, 0.9523809523809523, 0.8960176991150443, 0.9147869674185464, 0.5555555555555556, 0.8605442176870748, 0.9215686274509804, 1.0, 0.9826302729528535, 0.9932735426008968, 0.9285714285714286, 0.7491289198606272, 0.8651026392961877, 0.9767441860465116, 0.9088145896656535, 0.6470588235294117, 0.8, 0.8740554156171285, 0.9766536964980544, 0.8522012578616353, 0.975, 0.8048780487804879, 0.8333333333333334, 0.9090909090909091, 0.9315068493150684, 0.6601307189542484, 0.9164619164619164, 0.9166666666666666, 0.9273743016759777, 0.8378378378378378, 0.7420634920634921, 0.9778393351800554, 0.9601063829787234, 0.9814814814814815, 0.95, 0.9375, 0.956989247311828, 0.6947674418604651, 0.7333333333333334, 0.95, 0.9667673716012084, 0.8601398601398601, 1.0, 1.0, 0.8444444444444444, 1.0, 0.9823008849557522, 1.0, 1.0, 0.9722222222222222, 1.0, 0.8725274725274725, 0.711864406779661, 1.0, 1.0, 0.9782135076252724, 0.339622641509434, 1.0, 1.0, 1.0, 0.8923512747875354, 0.8787878787878788, 0.5, 0.9730769230769231, 1.0, 0.9716312056737588, 0.9117647058823529, 0.9754098360655737, 0.8947368421052632, 0.9699812382739212, 0.7768361581920904, 0.38636363636363635, 0.9302325581395349, 1.0, 0.9816849816849816, 0.9610136452241715, 0.9333333333333333, 0.8857142857142857, 1.0, 0.9588014981273408, 0.9438444924406048, 0.9758713136729222, 0.9594882729211087, 1.0, 0.9006479481641468, 1.0, 0.9201520912547528, 0.9134615384615384, 0.877284595300261, 0.8581314878892734, 0.9891107078039928, 0.886214442013129, 0.8378378378378378, 0.8543046357615894, 0.9975845410628019, 0.8461538461538461, 0.9110576923076923, 0.74, 0.9459459459459459, 0.7851002865329513, 0.9130434782608696, 1.0, 1.0, 1.0, 0.8354430379746836, 0.9013157894736842, 0.9210526315789473, 0.9482758620689655, 0.9958762886597938, 0.5751295336787565, 0.9228187919463087, 0.9953810623556582, 0.7423312883435582, 0.9579207920792079, 0.9703703703703703, 0.9789029535864979, 0.8078078078078078, 0.9642857142857143, 1.0, 0.8728070175438596, 0.8990825688073394, 0.8970588235294118, 0.9333333333333333, 0.9576271186440678, 0.9810725552050473, 1.0, 0.978813559322034, 0.8823529411764706, 1.0, 0.8731343283582089, 0.9530791788856305, 1.0, 1.0, 0.9770114942528736, 0.9736842105263158, 0.9469026548672567, 0.92, 1.0, 1.0, 0.9558823529411765, 0.7307692307692308, 1.0, 0.9646302250803859, 0.7716346153846154, 0.9630350194552529, 0.9646017699115044, 0.7905982905982906, 0.805352798053528, 0.9, 0.898876404494382, 0.8144329896907216, 1.0, 0.9954233409610984, 0.7192982456140351, 0.961038961038961, 0.94750656167979, 0.7096774193548387, 1.0, 0.8434163701067616, 0.9884057971014493, 0.9535783365570599, 0.9285714285714286, 1.0, 0.9683257918552036, 0.8825396825396825, 0.8333333333333334, 0.9384615384615385, 0.9884726224783862, 0.8321678321678322, 0.8675213675213675, 0.8529411764705882, 0.9405940594059405, 0.962962962962963, 0.9315068493150684, 0.78125, 1.0, 0.9830188679245283, 0.9529411764705882, 0.9789473684210527, 0.9814814814814815, 0.9, 0.9, 0.8518518518518519, 0.7889447236180904, 1.0, 0.9411764705882353, 0.6714285714285715, 0.7592592592592593, 0.9619047619047619, 0.8454545454545455, 0.8461538461538461, 1.0, 0.9411764705882353, 1.0, 0.952054794520548, 1.0, 0.9395604395604396, 0.9285714285714286, 0.9633333333333334, 0.9811320754716981, 1.0, 0.8974358974358975, 0.935064935064935, 0.8360655737704918, 1.0, 0.9143730886850153, 1.0, 0.9583333333333334, 0.8955823293172691, 0.9782608695652174, 0.9512195121951219, 1.0, 0.9805068226120858, 0.977491961414791, 0.8153846153846154, 0.8181818181818181, 0.6923076923076923, 0.8275862068965517, 0.9539007092198581, 0.9733333333333334, 1.0, 0.7982954545454546, 0.975609756097561, 0.9558823529411765, 0.55, 0.7747440273037542, 0.9597523219814241, 0.9808612440191388, 0.9176136363636364, 1.0, 1.0, 1.0, 0.9130434782608696, 1.0, 0.9584664536741214, 0.9047619047619048, 0.9913544668587896, 0.8770949720670391, 0.9195402298850575, 0.9636363636363636, 1.0, 1.0, 1.0, 0.9705882352941176, 0.8525345622119815, 1.0, 0.736842105263158, 0.981203007518797, 0.9888888888888889, 0.2647058823529411, 1.0, 0.8828451882845189, 0.8286516853932584, 0.8571428571428572, 0.9320113314447592, 1.0, 0.9313432835820895, 0.8494623655913979, 0.8823529411764706, 0.7333333333333334, 0.6629213483146068, 0.9793103448275862, 0.8260869565217391, 0.7155963302752293, 0.8888888888888888, 0.9942196531791907, 1.0, 0.9959839357429718, 1.0, 0.7492957746478873, 1.0, 0.9855595667870036, 0.9943502824858758, 0.9918256130790191, 0.9893899204244032, 0.8781869688385269, 0.9882352941176471, 0.92, 1.0, 0.8951612903225806, 1.0, 0.9090909090909091, 0.9833333333333333, 0.7795275590551181, 0.8154506437768241, 0.978813559322034, 0.9382716049382716, 1.0, 0.9119170984455959, 0.9253731343283582, 0.9655172413793104, 0.9857723577235772, 0.8057553956834532, 0.7479674796747968, 0.8034188034188035, 1.0, 0.6470588235294117, 0.8873239436619719, 0.8975903614457832, 0.89419795221843, 0.7272727272727273, 0.9658119658119658, 0.9224652087475149, 0.9295499021526419, 1.0, 0.890625, 0.9166666666666666, 0.8622754491017964, 0.9387755102040817, 0.9711538461538461, 0.9047619047619048, 0.992467043314501, 1.0, 0.9090909090909091, 0.6666666666666667, 0.983402489626556, 0.8470873786407767, 1.0, 0.9752066115702479, 0.875, 0.9117647058823529, 0.9616788321167883, 1.0, 0.9913793103448276, 1.0, 0.9411764705882353, 1.0, 0.9594272076372315, 1.0, 0.9902200488997555, 0.968421052631579, 1.0, 0.7920792079207921, 0.8865979381443299, 0.839344262295082, 0.9424920127795527, 0.8, 0.9607250755287009, 0.925, 0.9559902200488998, 1.0, 0.8181818181818181, 0.9142857142857143, 0.9, 0.8530259365994236, 0.9654178674351584, 1.0, 0.8235294117647058, 0.9636363636363636, 1.0, 1.0, 1.0, 0.8982630272952854, 1.0, 0.9113924050632911, 0.9696969696969697, 0.841726618705036, 0.97, 0.9127906976744186, 0.9862542955326461, 1.0, 0.96875, 0.9603960396039604, 0.8953488372093024, 1.0, 1.0, 1.0, 0.9523809523809523, 0.9759615384615384, 0.9137931034482758, 0.872852233676976, 0.8722358722358723, 0.8575129533678756, 0.8349056603773585, 0.9802955665024631, 1.0, 0.8823529411764706, 0.9883268482490273, 0.93993993993994, 0.8213507625272332, 0.7711442786069651, 1.0, 1.0, 0.9743589743589743, 0.4920127795527156, 1.0, 0.6601941747572815, 0.9739130434782609, 0.9653679653679653, 0.8211382113821138, 0.8888888888888888, 0.6825396825396826, 0.9696969696969697, 0.7889908256880733, 1.0, 0.6944444444444444, 0.984375, 0.9428571428571428, 0.9266666666666666, 0.9444444444444444, 0.9667774086378738, 0.9903381642512077, 0.956221198156682, 0.9641943734015346, 0.896551724137931, 0.788659793814433, 0.9015384615384615, 0.7464788732394366, 0.9817629179331308, 1.0, 0.9920634920634921, 0.9686924493554327, 1.0, 1.0, 0.9812382739212008, 0.7272727272727273, 0.9368635437881874, 0.9245283018867925, 0.971830985915493, 0.9124579124579124, 0.9088785046728972, 0.9868995633187773, 0.9656357388316151, 0.9957983193277311, 0.9808917197452229, 1.0, 0.7386934673366834, 0.9626168224299065, 0.7215189873417722, 0.8245614035087719, 0.9489795918367347, 0.8849557522123894, 0.9692307692307692, 0.8663366336633663, 1.0, 0.953125, 0.8932806324110671, 0.941952506596306, 0.8522727272727273, 0.9523809523809523, 0.9040404040404041, 0.8809523809523809, 1.0, 0.9634615384615385, 0.8333333333333334, 0.9802955665024631, 1.0, 0.9036697247706422, 1.0, 0.9827586206896551, 0.9312714776632303, 0.8888888888888888, 0.9400479616306955, 1.0, 1.0, 1.0, 0.801418439716312, 0.9722222222222222, 0.6388888888888888, 1.0, 0.9193548387096774, 0.9299610894941635, 0.96, 0.9476439790575917, 0.8489208633093526, 0.7517241379310344, 0.9636363636363636, 0.9202127659574468, 0.9545454545454546, 0.8899082568807339, 0.9325842696629214, 1.0, 0.9565217391304348, 0.8924418604651163, 0.9696969696969697, 0.7763157894736842, 0.9242424242424242, 0.9574468085106383, 0.9514563106796117, 1.0, 0.8375286041189931, 0.791005291005291, 0.8658536585365854, 0.9714964370546318, 0.975, 0.9117647058823529, 0.9665871121718377, 1.0, 0.997737556561086, 0.9958246346555324, 0.9705882352941176, 0.9411764705882353, 0.7692307692307692, 0.6923076923076923, 0.9802816901408451, 0.8411214953271028, 0.7995444191343963, 0.8830845771144279, 0.9523809523809523, 0.8899521531100478, 0.5454545454545454, 1.0, 0.8939828080229226, 0.703125, 0.8852459016393442, 0.9230769230769231, 0.9090909090909091, 0.9322033898305084, 0.696969696969697, 1.0, 0.9761904761904762, 0.9791666666666666, 0.8909657320872274, 1.0, 0.6441717791411044, 0.7647058823529411, 1.0, 0.9333333333333333, 0.9050131926121372, 1.0, 0.9972144846796658, 1.0, 0.979381443298969, 0.8666666666666667, 0.8919667590027701, 0.9885496183206107, 0.9482758620689655, 0.95, 0.8746987951807229, 1.0, 0.90625, 0.9147869674185464, 0.8888888888888888, 0.9424242424242424, 0.9583333333333334, 0.8532110091743119, 0.8419452887537994, 0.8547854785478548, 0.9377049180327869, 1.0, 0.9307692307692308, 0.9642857142857143, 0.9672619047619048, 0.9512195121951219, 0.9924242424242424, 0.9722222222222222, 0.9565217391304348, 0.9166666666666666, 1.0, 1.0, 1.0, 1.0, 0.75, 0.9565217391304348, 1.0, 0.9761904761904762, 0.9981718464351006, 0.7402597402597403, 1.0, 1.0, 1.0, 0.9846153846153847, 0.9347826086956522, 0.9607843137254902, 0.8825503355704698, 1.0, 0.9691011235955056, 0.9013157894736842, 0.8975903614457832, 0.8210526315789474, 0.9822485207100592, 0.8260869565217391, 0.809116809116809, 0.9616858237547893, 0.9086294416243654, 0.9399585921325052, 0.9705882352941176, 0.961038961038961, 0.659846547314578, 1.0, 0.9259259259259259, 0.8442622950819672, 0.9617346938775511, 0.9398496240601504, 0.9347408829174664, 0.9535714285714285, 0.9891304347826086, 1.0, 0.8990610328638498, 0.9469026548672567, 0.933184855233853, 0.8575418994413408, 1.0, 0.8333333333333334, 0.9516129032258065, 0.9077490774907749, 0.7676348547717842, 0.92, 0.9541284403669725, 1.0, 0.869281045751634, 0.7958477508650519, 0.9491525423728814, 1.0, 0.8648648648648649, 0.8628048780487805, 0.8333333333333334, 0.6725978647686832, 0.9287833827893175, 0.9624664879356568, 1.0, 0.6618357487922706, 0.9469387755102041, 0.925, 0.930635838150289, 0.9385474860335196, 0.75, 0.994535519125683, 1.0, 1.0, 0.926829268292683, 0.9215686274509804, 0.9661016949152542, 0.981549815498155, 0.8173076923076923, 0.9833795013850416, 0.7925531914893618, 0.9626168224299065, 0.9915254237288136, 0.9604743083003953, 0.9117647058823529, 0.9875, 1.0, 1.0, 0.8106312292358804, 1.0, 0.9615384615384616, 0.9230769230769231, 0.9615384615384616, 0.9214285714285715, 0.9607843137254902, 0.9886363636363636, 0.9856115107913669, 0.9946808510638298, 0.8809523809523809, 0.92, 0.936734693877551, 0.7254237288135593, 0.9498525073746312, 0.9393939393939394, 0.9821428571428571, 0.962962962962963, 0.8837209302325582, 0.631578947368421, 1.0, 0.8392857142857143, 0.7781818181818182, 0.9649122807017544, 1.0, 0.847980997624703, 0.8743016759776536, 0.9272727272727272, 0.8888888888888888, 0.8947368421052632, 0.925, 0.974609375, 0.9868421052631579, 0.9384615384615385, 1.0, 0.8722741433021807, 0.9468085106382979, 0.9825783972125436, 1.0, 0.9777777777777777, 0.5656324582338902, 0.8888888888888888, 1.0, 0.875, 1.0, 0.868421052631579, 0.9375, 1.0, 0.6963696369636964, 0.9654377880184332, 0.8123569794050343, 0.914, 0.8518518518518519, 0.9704301075268817, 0.9786729857819905, 1.0, 1.0, 1.0, 1.0, 0.8904109589041096, 0.8493150684931507, 1.0, 1.0, 0.8666666666666667, 0.8807017543859649, 0.7790973871733967, 0.8979591836734694, 0.95, 0.9636363636363636, 0.9495268138801262, 0.9626865671641791, 0.9621993127147767, 0.9924812030075187, 0.979757085020243, 0.9769820971867008, 1.0, 1.0, 1.0, 0.8852459016393442, 0.7430167597765363, 1.0, 0.9548872180451128, 1.0, 1.0, 1.0, 0.9807692307692307, 0.9723618090452262, 0.935483870967742, 0.940625, 0.9285714285714286, 0.8489425981873112, 0.9594594594594594, 1.0, 0.96, 0.9648093841642229, 0.8934426229508197, 0.9855072463768116, 0.8328173374613004, 0.9676258992805755, 0.940677966101695, 1.0, 0.896551724137931, 0.9343283582089552, 0.9411764705882353, 1.0, 0.8794520547945206, 0.8333333333333334, 0.962962962962963, 0.9428571428571428, 0.944954128440367, 0.9551724137931035, 0.9586776859504132, 0.8229166666666666, 0.8085106382978724, 0.96, 0.972972972972973, 1.0, 1.0, 0.9, 0.9787234042553191, 0.8740359897172236, 1.0, 0.8633333333333333, 0.9805825242718447, 0.8032786885245902, 0.893719806763285, 0.9452449567723343, 0.9111111111111111, 0.9613970588235294, 0.93125, 0.9658119658119658, 1.0, 1.0, 1.0, 1.0, 0.8620689655172413, 0.7378640776699029, 0.768, 0.909952606635071, 0.936231884057971, 0.9728395061728395, 0.8443579766536965, 1.0, 1.0, 0.8714859437751004, 0.9891891891891892, 0.8357142857142857, 0.6363636363636364, 0.9882352941176471, 0.7483660130718954, 0.76953125, 1.0, 0.9937369519832986, 0.9659090909090909, 1.0, 0.6, 0.8666666666666667, 0.9850107066381156, 1.0, 0.9660574412532636, 0.9692307692307692, 0.9333333333333333, 0.9, 0.896457765667575, 0.803680981595092, 0.9236641221374046, 0.9259259259259259, 0.9213836477987422, 1.0, 0.825136612021858, 1.0, 0.90625, 0.7335907335907336, 0.9795918367346939, 0.972972972972973, 0.9616935483870968, 0.6604361370716512, 0.9782608695652174, 0.8366013071895425, 1.0, 0.9983870967741936, 0.9811320754716981, 0.9730941704035875, 0.9694656488549618, 0.6919191919191919, 0.865, 0.8548387096774194, 0.3261538461538461, 0.9284064665127021, 0.8622222222222222, 0.8767123287671232, 0.75, 0.875, 0.9565217391304348, 0.8896882494004796, 0.8368298368298368, 0.92, 0.8235294117647058, 0.9823529411764705, 0.7530120481927711, 1.0, 0.8214285714285714, 0.8620689655172413, 0.965183752417795, 0.6972281449893389, 0.8205128205128205, 1.0, 0.9405405405405405, 1.0, 0.9583333333333334, 1.0, 0.9319899244332494, 0.8755760368663594, 0.9666666666666667, 0.9866666666666667, 0.9166666666666666, 0.9632034632034632, 0.8062015503875969, 0.9, 1.0, 0.9067524115755627, 0.625, 0.9010989010989011, 0.8165938864628821, 0.9333333333333333, 0.9565217391304348, 1.0, 0.9295774647887324, 0.9669421487603306, 1.0, 0.9466666666666667, 0.9661016949152542, 0.7741228070175439, 1.0, 0.8918918918918919, 0.9904458598726115, 1.0, 0.5708955223880596, 0.9090909090909091, 0.7903225806451613, 0.9743589743589743, 0.7784090909090909, 0.9311926605504587, 0.9397590361445783, 0.7050147492625369, 0.848297213622291, 0.844559585492228, 0.9256198347107438, 0.9534883720930233, 0.9545454545454546, 0.9444444444444444, 0.975609756097561, 0.8571428571428572, 0.930622009569378, 0.9578947368421052, 0.9772727272727273, 0.8787878787878788, 0.9970760233918129, 0.9166666666666666, 1.0, 0.9333333333333333, 0.8795180722891567, 1.0, 1.0, 1.0, 0.8254847645429363, 0.9591836734693877, 0.9132947976878613, 0.9285714285714286, 1.0, 0.7809798270893371, 0.9338842975206612, 1.0, 0.979757085020243, 0.9747292418772563, 0.8616071428571428, 0.8653846153846154, 0.9383561643835616, 0.9707446808510638, 0.7788778877887789, 0.9285714285714286, 0.9506172839506173, 0.60790273556231, 0.9594594594594594, 0.7891566265060241, 0.5102040816326531, 1.0, 0.7734375, 0.9791666666666666, 0.7490636704119851, 0.9743589743589743, 0.7630331753554502, 0.9764705882352941, 0.9840954274353877, 1.0, 0.900990099009901, 0.7037037037037037, 0.9469964664310954, 0.8214285714285714, 0.9950413223140496, 1.0, 0.96, 1.0, 0.9663865546218487, 1.0, 0.9098039215686274, 0.38888888888888884, 0.9219512195121952, 1.0, 0.8333333333333334, 0.9930555555555556, 0.883008356545961, 1.0, 0.8166089965397924, 0.8508064516129032, 0.9142857142857143, 0.995260663507109, 0.7204724409448819, 0.8885793871866295, 0.95, 0.8888888888888888, 0.9755501222493888, 0.9024390243902439, 0.928082191780822, 0.5185185185185186, 0.9576547231270358, 0.9891696750902527, 1.0, 0.9444444444444444, 0.8870431893687708, 1.0, 0.9473684210526316, 0.9655172413793104, 0.9516129032258065, 0.9253246753246753, 0.7219251336898396, 0.9705882352941176, 1.0, 1.0, 0.9798387096774194, 0.875, 0.9144736842105263, 1.0, 0.8333333333333334, 1.0, 0.9343065693430657, 0.8888888888888888, 1.0, 0.9180790960451978, 0.951310861423221, 0.9830508474576272, 0.8441558441558441, 0.9969512195121951, 0.99079754601227, 0.65, 1.0, 1.0, 0.8823529411764706, 0.9384615384615385, 0.9583333333333334, 0.976303317535545, 0.9575371549893843, 0.9230769230769231, 1.0, 0.8178913738019169, 1.0, 0.8888888888888888, 0.8867924528301887, 0.8461538461538461, 0.92, 0.6538461538461539, 0.9910514541387024, 0.99375, 1.0, 0.8666666666666667, 0.9615384615384616, 0.9259259259259259, 0.9681093394077449, 1.0, 0.7123595505617977, 0.8848167539267016, 0.8960396039603961, 0.9469214437367304, 1.0, 0.8673835125448028, 1.0, 1.0, 1.0, 1.0, 0.9758064516129032, 1.0, 0.9411764705882353, 0.9020618556701031, 0.8305084745762712, 1.0, 0.8612099644128114, 0.992633517495396, 0.9933333333333333, 0.8066037735849056, 0.9937694704049844, 0.8235294117647058, 0.912568306010929, 0.9607843137254902, 0.4660633484162896, 0.9412955465587045, 0.7318181818181818, 0.7407407407407407, 1.0, 0.9845132743362832, 0.9702602230483272, 0.9382716049382716, 0.6607669616519174, 0.9743589743589743, 0.9715447154471545, 0.7951807228915663, 0.9444444444444444, 1.0, 0.8372881355932204, 0.9821029082774049, 0.978494623655914, 1.0, 0.9769874476987448, 1.0, 0.9253731343283582, 0.9504643962848297, 0.9473684210526316, 0.9212410501193318, 0.9731543624161074, 0.9511627906976744, 0.7547892720306514, 1.0, 1.0, 0.8907363420427553, 1.0, 0.9876543209876543, 0.9841269841269842, 1.0, 0.9890829694323144, 0.9541984732824428, 0.9411764705882353, 0.9373219373219374, 1.0, 0.974169741697417, 0.9781021897810219, 0.9583333333333334, 0.9828571428571429, 0.9166666666666666, 0.8857142857142857, 0.33333333333333337, 0.7857142857142857, 0.8743961352657005, 1.0, 0.8859934853420195, 1.0, 1.0, 0.9680851063829787, 0.9869646182495344, 0.8888888888888888, 0.8507462686567164, 0.9619883040935673, 0.9523809523809523, 0.9522673031026253, 1.0, 0.9472049689440993, 0.867595818815331, 1.0, 0.5923076923076923, 0.9349112426035503, 1.0, 0.9850746268656716, 0.8833333333333333, 1.0, 0.9264705882352942, 1.0, 0.9177631578947368, 0.7927170868347339, 0.9976359338061466, 0.8341708542713568, 1.0, 0.9310344827586207, 0.9704016913319239, 0.9342105263157895, 0.9246575342465754, 0.9619047619047619, 0.8084291187739463, 0.47754137115839246, 0.9497354497354498, 0.9571428571428572, 0.9363867684478372, 1.0, 0.88, 0.8620689655172413, 1.0, 0.9868421052631579, 0.7949526813880126, 0.9785714285714285, 0.9466666666666667, 0.6143497757847534, 0.9534883720930233, 1.0, 0.9473684210526316, 0.9127725856697819, 0.7811320754716982, 0.9365079365079365, 0.9253731343283582, 0.8, 0.9960159362549801, 0.921146953405018, 0.9037656903765691, 1.0, 1.0, 0.9235294117647059, 0.8888888888888888, 0.8888888888888888, 1.0, 0.6166666666666667, 0.8333333333333334, 0.9795918367346939, 0.9914285714285714, 0.8680851063829788, 0.773109243697479, 0.9913606911447084, 0.8536585365853658, 1.0, 0.889795918367347, 0.9754253308128544, 0.946058091286307, 1.0, 1.0, 1.0, 0.7692307692307692, 0.9933481152993349, 0.889487870619946, 0.9166666666666666, 0.9661016949152542, 1.0, 0.2551020408163265, 1.0, 0.9130434782608696, 0.9285714285714286, 1.0, 0.7948717948717949, 0.9038461538461539, 0.9083969465648855, 0.9597315436241611, 0.9224806201550387, 0.8982035928143712, 0.956140350877193, 0.9181818181818182, 0.7755102040816326, 0.9888268156424581, 0.9452054794520548, 0.7676348547717842, 0.98, 0.919093851132686, 0.7272727272727273, 0.919047619047619, 0.8740157480314961, 0.9081272084805654, 0.7094594594594594, 0.9206349206349207, 0.9586776859504132, 1.0, 0.975609756097561, 0.8329355608591885, 0.9430051813471503, 0.9024390243902439, 0.7471264367816092, 0.9223300970873787, 0.9492957746478873, 1.0, 0.9899193548387096, 0.6599999999999999, 1.0, 0.8853211009174312, 0.9767441860465116, 0.8650137741046832, 0.9145907473309609, 0.95, 0.962962962962963, 0.84, 0.9726027397260274, 1.0, 0.9664804469273743, 0.8461538461538461, 0.8888888888888888, 0.9130434782608696, 0.986013986013986, 0.9074550128534704, 1.0, 1.0, 0.9695121951219512, 1.0, 0.9705882352941176, 0.9558823529411765, 0.9819004524886877, 1.0, 0.956989247311828, 1.0, 0.8421052631578947, 1.0, 0.9696969696969697, 0.8840579710144928, 0.8300220750551877, 0.9090909090909091, 0.875, 0.9056603773584906, 0.9322429906542056, 0.8539823008849557, 0.9573170731707317, 0.8848758465011287, 1.0, 1.0, 0.9393939393939394, 1.0, 0.8787878787878788, 0.9051724137931034, 1.0, 0.9956236323851203, 0.890625, 0.9487179487179487, 0.9513888888888888, 0.9230769230769231, 0.9493243243243243, 0.9672131147540983, 1.0, 0.793939393939394, 0.9183673469387755, 0.8247422680412371, 0.8688524590163934, 0.8857142857142857, 0.9571865443425076, 0.6178343949044586, 0.7317073170731707, 1.0, 0.9, 1.0, 0.8114035087719298, 0.9428571428571428, 1.0, 0.94, 0.8260869565217391, 0.8, 0.4285714285714286, 1.0, 1.0, 0.9077669902912622, 0.9744408945686901, 1.0, 0.8827838827838828, 0.6363636363636364, 0.9222972972972973, 0.8975903614457832, 1.0, 1.0, 0.6046511627906976, 0.995049504950495, 0.9859154929577465, 1.0, 0.8885793871866295, 0.7142857142857143, 0.9142011834319527, 0.7777777777777778, 0.9207920792079208, 0.9516129032258065, 0.9180672268907563, 0.9174852652259332, 1.0, 0.9375, 0.9176954732510288, 1.0, 0.9896907216494846, 0.8119402985074626, 0.7333333333333334, 0.9090909090909091, 1.0, 0.8611111111111112, 0.8064516129032258, 0.6697892271662764, 1.0, 1.0, 0.9704641350210971, 0.8727272727272728, 0.9096045197740112, 0.8837209302325582, 0.9473684210526316, 0.9891891891891892, 0.88, 0.925531914893617, 0.8168498168498168, 0.675, 0.8583333333333334, 0.9428571428571428, 0.9389830508474576, 1.0, 1.0, 0.8996865203761756, 1.0, 0.6521739130434783, 0.9090909090909091, 1.0, 0.9623015873015873, 0.9951807228915662, 0.9234234234234234, 0.8928571428571429, 0.9187817258883249, 0.8454545454545455, 0.9689922480620154, 1.0, 0.9344978165938864, 0.929637526652452, 0.95, 0.9340659340659341, 0.923728813559322, 0.875, 0.974155069582505, 1.0, 0.9530201342281879, 0.8854489164086687, 0.9459459459459459, 0.9367088607594937, 1.0, 0.9747292418772563, 0.924812030075188, 0.9166666666666666, 0.9852941176470589, 0.9531772575250836, 0.7846153846153846, 0.6440129449838188, 0.997920997920998, 0.7755905511811023, 0.9048442906574394, 0.9697674418604652, 1.0, 0.967741935483871, 1.0, 1.0, 0.9472140762463344, 0.9841269841269842, 0.8125, 0.9555555555555556, 0.9916666666666667, 0.8571428571428572, 0.8571428571428572, 1.0, 0.9833795013850416, 0.8761904761904762, 0.8918918918918919, 1.0, 0.9, 0.8823529411764706, 0.6126984126984127, 0.8640595903165735, 0.9310344827586207, 1.0, 1.0, 1.0, 1.0, 1.0, 0.9826302729528535, 0.9925093632958801, 1.0, 0.9709762532981531, 1.0, 1.0, 0.6551724137931034, 0.9272300469483568, 0.8596491228070176, 0.8586572438162544, 0.8947368421052632, 0.8303571428571428, 0.9591836734693877, 0.8318840579710145, 0.9572649572649573, 0.9597315436241611, 1.0, 0.9743589743589743, 0.9047619047619048, 0.8888888888888888, 1.0, 0.8571428571428572, 0.7374631268436578, 0.9333333333333333, 0.8851174934725848, 0.8507936507936508, 0.9956803455723542, 0.7857142857142857, 1.0, 0.9505703422053232, 0.9982935153583617, 0.9465648854961832, 0.9218241042345277, 0.9693877551020408, 0.8709677419354839, 0.9444444444444444, 0.9797979797979798, 0.8620689655172413, 0.963855421686747, 0.9841269841269842, 0.8876404494382022, 0.8421052631578947, 0.9886621315192744, 1.0, 0.7647058823529411, 0.8947368421052632, 1.0, 0.990909090909091, 0.625, 0.9568627450980393, 0.95, 0.9114391143911439, 0.9230769230769231, 0.8868778280542986, 0.849624060150376, 0.9764705882352941, 0.9396551724137931, 0.8666666666666667, 1.0, 0.9814814814814815, 0.9528619528619529, 0.9333333333333333, 0.8429752066115702, 0.9824561403508771, 0.9166666666666666, 0.8676122931442081, 0.9, 0.9425287356321839, 0.8371501272264631, 0.9042821158690176, 0.9672131147540983, 0.9298245614035088, 0.7333333333333334, 0.9032258064516129, 0.8714652956298201, 0.8411764705882353, 1.0, 0.8613138686131387, 1.0, 0.9545454545454546, 0.9525316455696202, 0.891566265060241, 0.864516129032258, 0.9714285714285714, 0.42307692307692313, 0.9090909090909091, 0.9444444444444444, 0.7448275862068965, 0.2542372881355932, 1.0, 0.9, 0.9857549857549858, 0.2941176470588235, 1.0, 0.9764150943396226, 1.0, 0.6786786786786787, 0.9063444108761329, 0.9843137254901961, 0.8770491803278688, 0.8738738738738738, 0.7304347826086957, 0.9369627507163324, 0.9697674418604652, 0.9957805907172996, 1.0, 0.9393939393939394, 0.8090909090909091, 1.0, 0.9797979797979798, 1.0, 0.7579908675799087, 0.8823529411764706, 0.8602941176470589, 0.9683698296836983, 0.9393939393939394, 0.9215686274509804, 0.6299212598425197, 1.0, 0.9880597014925373, 0.7801047120418848, 0.8918918918918919, 0.9942028985507246, 1.0, 0.9224598930481284, 1.0, 1.0, 0.8983666061705989, 0.9155555555555556, 0.9333333333333333, 1.0, 1.0, 0.9375, 1.0, 1.0, 0.9018181818181819, 0.935483870967742, 0.9260869565217391, 1.0, 0.9511111111111111, 0.9714285714285714, 0.8995433789954338, 1.0, 1.0, 0.6491228070175439, 0.9166666666666666, 0.6355932203389831, 0.9915254237288136, 1.0, 0.8571428571428572, 0.9117647058823529, 0.9230769230769231, 0.6690140845070423, 0.8205128205128205, 0.9024390243902439, 1.0, 0.6428571428571428, 1.0, 1.0, 0.9644444444444444, 0.6460481099656357, 0.9876796714579056, 0.9682539682539683, 0.9390519187358917, 0.8760330578512396, 0.9032258064516129, 0.9055555555555556, 0.7723214285714286, 0.8560411311053985, 0.9786780383795309, 0.7241379310344828, 0.893719806763285, 0.8367346938775511, 0.7058823529411764, 0.9186046511627907, 0.9635416666666666, 0.9683908045977011, 1.0, 0.7777777777777778, 0.9166666666666666, 0.9761431411530815, 0.9707602339181287, 0.8333333333333334, 1.0, 0.8264840182648402, 0.9775510204081632, 0.8942307692307693, 0.9143730886850153, 0.8846153846153846, 0.8888888888888888, 0.9142857142857143, 0.940625, 0.9333333333333333, 0.8813559322033898, 0.962962962962963, 0.9484536082474226, 0.9891774891774892, 1.0, 0.6518218623481782, 0.9008264462809917, 0.9611307420494699, 0.9646799116997793, 1.0, 1.0, 0.9352226720647774, 0.9278996865203761, 0.7535545023696683, 0.8821292775665399, 0.5601659751037344, 0.9076923076923077, 1.0, 0.8405797101449275, 0.8571428571428572, 0.8043478260869565, 1.0, 0.9545454545454546, 0.9473684210526316, 0.972568578553616, 0.8846153846153846, 0.9944029850746269, 0.9956709956709957, 0.9513618677042801, 0.7836734693877551, 0.9146757679180887, 0.7446043165467626, 0.8808139534883721, 0.9615384615384616, 0.782608695652174, 0.9543859649122807, 0.9294403892944039, 0.824468085106383, 1.0, 0.9661016949152542, 0.9161290322580645, 0.9615384615384616, 0.9592592592592593, 0.9467680608365019, 1.0, 0.8703703703703703, 0.9970414201183432, 0.9929577464788732, 0.9834710743801653, 0.8845144356955381, 0.9642857142857143, 0.986784140969163, 0.921875, 0.7854984894259819, 0.6363636363636364, 0.8666666666666667, 0.9454094292803971, 0.9439775910364145, 0.9468085106382979, 0.9137380191693291, 0.9968454258675079, 0.7627118644067796, 0.8717948717948718, 0.9230769230769231, 0.9027355623100304, 0.9090909090909091, 0.9411764705882353, 0.9754098360655737, 0.9758620689655172, 0.8732394366197183, 0.9090909090909091, 0.8888888888888888, 1.0, 0.75, 0.9545454545454546, 0.875, 0.9285714285714286, 0.9466192170818505, 0.7204030226700252, 1.0, 1.0, 0.9100418410041841, 0.9935344827586207, 0.9802513464991023, 0.983739837398374, 0.9455128205128205, 0.9649122807017544, 1.0, 0.96875, 1.0, 0.840782122905028, 0.9310344827586207, 1.0, 1.0, 1.0, 0.9921671018276762, 0.9280575539568345, 1.0, 0.6756756756756757, 0.9448275862068966, 1.0, 0.9263157894736842, 0.9420289855072463, 0.9741935483870968, 0.8461538461538461, 1.0, 0.9766355140186916, 0.9898373983739838, 1.0, 0.9669603524229075, 0.8392857142857143, 0.975609756097561, 0.925, 1.0, 0.95, 1.0, 0.9630434782608696, 0.7964601769911505, 0.7364341085271318, 0.9975903614457832, 0.9119638826185101, 1.0, 0.98989898989899, 0.936127744510978, 0.8466135458167331, 0.9310344827586207, 0.819327731092437, 0.9980842911877394, 0.9921414538310412, 0.8306878306878307, 0.9166666666666666, 0.8720238095238095, 0.96875, 0.8731343283582089, 1.0, 0.7815126050420168, 1.0, 1.0, 0.9607843137254902, 1.0, 0.9705882352941176, 1.0, 0.8896103896103896, 0.9331941544885177, 0.9818181818181818, 0.9365079365079365, 1.0, 0.9473684210526316, 0.8523076923076923, 0.9735849056603774, 1.0, 0.9411764705882353, 0.9765013054830287, 0.9056603773584906, 0.5970695970695971, 0.8366336633663366, 0.8584474885844748, 0.9809523809523809, 0.9347079037800687, 1.0, 0.8348214285714286, 1.0, 1.0, 0.9318181818181819, 0.984375, 0.7949790794979079, 0.8571428571428572, 0.9047619047619048, 0.7647058823529411, 0.7142857142857143, 0.96875, 0.9659090909090909, 1.0, 0.8571428571428572, 0.9642857142857143, 1.0, 0.9871794871794872, 0.8831168831168831, 0.9806576402321083, 0.9453376205787781, 1.0, 0.9626168224299065, 0.9040590405904059, 0.9628099173553719, 0.9318181818181819, 0.9411764705882353, 1.0, 0.7909090909090909, 0.9539951573849879, 0.986046511627907, 1.0, 0.6666666666666667, 1.0, 0.9620493358633776, 0.9, 0.8847262247838616, 0.8513931888544892, 0.99, 1.0, 0.94, 0.8888888888888888, 0.8317757009345794, 0.8333333333333334, 0.9612903225806452, 0.540983606557377, 1.0, 0.9605263157894737, 0.8961352657004831, 0.967741935483871, 0.949290060851927, 1.0, 0.7272727272727273, 0.8475177304964538, 0.9842931937172775, 1.0, 0.9843444227005871, 0.9955456570155902, 0.6181229773462783, 0.9663865546218487, 1.0, 0.9809523809523809, 1.0, 0.7966101694915254, 0.8064516129032258, 0.9473684210526316, 1.0, 1.0, 0.9047619047619048, 1.0, 0.7884615384615384, 0.926829268292683, 0.9166666666666666, 0.9957446808510638, 0.9965277777777778, 0.9401197604790419, 1.0, 1.0, 0.8978102189781022, 0.6879432624113475, 1.0, 0.9813084112149533, 0.9010238907849829, 0.9636363636363636, 0.8118811881188119, 0.9010416666666666, 0.9703703703703703, 0.962962962962963, 0.9371980676328502, 0.8888888888888888, 0.7746478873239436, 0.9, 0.9606126914660832, 0.9117647058823529, 0.9037800687285223, 0.9367945823927766, 0.9285714285714286, 1.0, 0.9975186104218362, 0.8552036199095022, 0.9375, 0.9780821917808219, 1.0, 0.7420924574209246, 0.9285714285714286, 0.9148936170212766, 0.8450363196125907, 0.711764705882353, 0.9050847457627118, 0.992462311557789, 0.9924242424242424, 0.8949044585987261, 0.9855072463768116, 0.9189189189189189, 0.9572649572649573, 0.926829268292683, 0.9014084507042254, 0.7096774193548387, 0.875, 0.8888888888888888, 0.8571428571428572, 1.0, 0.8979591836734694, 0.9290123456790124, 1.0, 1.0, 0.875, 0.9131313131313131, 0.8666666666666667, 0.8846153846153846, 0.7582417582417582, 0.9692307692307692, 1.0, 0.9731543624161074, 1.0, 0.8740359897172236, 1.0, 1.0, 0.9504504504504504, 0.9135802469135803, 1.0, 0.8648648648648649, 1.0, 0.875, 0.8564705882352941, 0.8727272727272728, 0.9642857142857143, 0.8866396761133604, 0.9375, 0.989501312335958, 0.8659217877094972, 0.8689320388349515, 0.8888888888888888, 0.6785714285714286, 0.9037433155080214, 0.9714285714285714, 0.9824561403508771, 0.8857142857142857, 0.9936102236421726, 0.8791208791208791, 0.8518518518518519, 0.9, 1.0, 0.8571428571428572, 1.0, 0.962962962962963, 1.0, 1.0, 1.0, 0.9375, 0.875, 0.8063583815028902, 0.8873873873873874, 0.8444444444444444, 0.9803921568627451, 0.8509316770186335, 0.9722222222222222, 0.9318181818181819, 0.9615384615384616, 0.9076433121019108, 0.9800664451827242, 0.9907749077490775, 0.9737704918032787, 1.0, 0.8074324324324325, 0.9220183486238532, 1.0, 0.671957671957672, 0.9459459459459459, 0.9007220216606499, 0.9333333333333333, 0.8754325259515571, 1.0, 1.0, 0.9618320610687023, 1.0, 1.0, 0.7448453608247423, 0.9, 0.9387755102040817, 0.9189189189189189, 0.7326007326007327, 0.8657243816254416, 1.0, 0.9683972911963883, 0.9814814814814815, 1.0, 0.9238683127572016, 0.8125, 0.9007352941176471, 0.9523809523809523, 0.9515151515151515, 0.9090909090909091, 0.9210526315789473, 0.9915966386554622, 0.9459459459459459, 1.0, 0.9680170575692963, 0.9465875370919882, 0.9829683698296837, 0.9739130434782609, 0.8813559322033898, 0.9387755102040817, 0.9672131147540983, 0.9845679012345679, 0.7386934673366834, 0.8918918918918919, 0.25, 1.0, 0.8423236514522822, 0.9734513274336283, 0.9090909090909091, 0.9105431309904153, 0.6714285714285715, 0.738562091503268, 0.9090909090909091, 0.8936605316973415, 0.6775510204081633, 0.8740740740740741, 1.0, 0.9705882352941176, 0.9166666666666666, 0.978494623655914, 0.935483870967742, 0.9591836734693877, 0.7813953488372093, 0.875, 0.9779735682819384, 0.9756756756756757, 1.0, 1.0, 1.0, 0.8627450980392157, 0.9545454545454546, 0.9142857142857143, 1.0, 0.8708333333333333, 0.923728813559322, 0.875, 0.9333333333333333, 1.0, 0.9356060606060606, 1.0, 0.900355871886121, 0.9601769911504425, 1.0, 0.8617710583153347, 0.7727272727272727, 0.9166666666666666, 0.9215686274509804, 0.9030837004405287, 0.9708994708994709, 0.9736842105263158, 0.8786885245901639, 0.8, 0.8691588785046729, 0.96, 0.9385113268608414, 1.0, 0.9681159420289855, 0.9459459459459459, 1.0, 0.9090909090909091, 1.0, 0.9787234042553191, 1.0, 0.7733333333333333, 0.7272727272727273, 0.9214876033057852, 0.7003257328990228, 1.0, 0.9267605633802817, 0.7795275590551181, 0.855191256830601, 0.979328165374677, 1.0, 1.0, 0.7406593406593407, 1.0, 0.941320293398533, 0.9020408163265307, 0.7853403141361257, 0.8538681948424068, 0.8320209973753281, 0.987603305785124, 1.0, 0.9959839357429718, 1.0, 0.7636363636363637, 0.9314285714285714, 0.6666666666666667, 0.9787234042553191, 1.0, 0.6888888888888889, 0.8864864864864865, 0.9598997493734336, 0.9761904761904762, 1.0, 0.5206611570247934, 0.6732954545454546, 0.9854014598540146, 0.9387755102040817, 0.9206349206349207, 0.9438202247191011, 0.8275862068965517, 0.9656357388316151, 0.9464285714285714, 0.9375, 0.9628482972136223, 0.9657794676806084, 0.9913793103448276, 0.8596491228070176, 0.8076923076923077, 0.9152542372881356, 0.8296529968454258, 0.9726027397260274, 0.95, 0.9787644787644788, 0.9941176470588236, 0.7862407862407863, 0.8888888888888888, 1.0, 0.8666666666666667, 1.0, 1.0, 0.7264150943396226, 0.9365079365079365, 0.9270833333333334, 0.9217391304347826, 0.9860788863109049, 0.7272727272727273, 0.9652173913043478, 0.86875, 0.4899598393574297, 0.8620689655172413, 0.9736842105263158, 0.992, 1.0, 0.9682539682539683, 0.937984496124031, 0.8555240793201133, 0.9328859060402684, 0.962962962962963, 0.8571428571428572, 0.9377289377289377, 0.875, 0.8857142857142857, 0.875, 0.8919753086419753, 0.9606986899563319, 0.8333333333333334, 0.988, 0.9204152249134948, 1.0, 0.8823529411764706, 1.0, 0.775, 1.0, 0.9473684210526316, 0.9708222811671088, 0.940677966101695, 0.8944099378881988, 0.8, 0.9726651480637813, 0.9363636363636364, 0.9882352941176471, 0.9754601226993865, 0.9959016393442623, 1.0, 1.0, 0.9605263157894737, 0.947565543071161, 0.864406779661017, 0.9655172413793104, 0.43000000000000005, 0.8810810810810811, 0.941747572815534, 1.0, 0.9342465753424658, 0.9506578947368421, 1.0, 1.0, 0.9606557377049181, 0.7692307692307692, 1.0, 0.8, 0.9774647887323944, 0.8227848101265822, 0.8947368421052632, 0.9583333333333334, 0.8727272727272728, 0.7808764940239044, 0.9807692307692307, 0.9545454545454546, 0.35913312693498456, 0.8461538461538461, 0.9285714285714286, 0.6731517509727627, 0.9893333333333333, 0.9742268041237113, 0.9836065573770492, 0.9038461538461539, 1.0, 0.7, 1.0, 1.0, 0.8949579831932774, 0.8955223880597015, 0.9208333333333334, 0.8527131782945736, 1.0, 1.0, 0.984375, 0.9008620689655172, 0.8022813688212928, 1.0, 0.9565217391304348, 1.0, 0.9544364508393285, 0.9555555555555556, 1.0, 0.9735449735449735, 1.0, 1.0, 0.8673469387755102, 1.0, 0.8461538461538461, 0.9617834394904459, 0.9880715705765407, 0.8422273781902552, 0.8992248062015504, 0.9758454106280193, 0.8905263157894737, 1.0, 0.9301587301587302, 0.7582417582417582, 0.8812260536398467, 1.0, 0.9923076923076923, 0.9373601789709172, 0.9405940594059405, 0.8955223880597015, 0.9181818181818182, 0.9245283018867925, 0.7021276595744681, 0.9498861047835991, 1.0, 0.8816568047337279, 0.8666666666666667, 0.9, 1.0, 1.0, 1.0, 1.0, 1.0, 0.96, 0.956140350877193, 0.9205128205128206, 0.9473684210526316, 1.0, 0.9594594594594594, 1.0, 0.9625935162094763, 1.0, 1.0, 0.96, 0.9903846153846154, 0.7701492537313432, 1.0, 0.9230769230769231, 1.0, 0.9927536231884058, 0.8461538461538461, 0.9098143236074271, 0.9324324324324325, 0.8864628820960698, 0.896551724137931, 0.9900596421471173, 0.8438818565400844, 0.9820359281437125, 0.6842105263157895, 0.98828125, 0.9605263157894737, 1.0, 0.8333333333333334, 0.9181494661921709, 0.9635258358662614, 1.0, 0.8175355450236967, 0.8780487804878049, 0.6971830985915493, 0.8928571428571429, 0.9682539682539683, 0.9899396378269618, 0.5, 0.8645833333333334, 0.9751861042183623, 0.8214285714285714, 0.7741935483870968, 0.94, 0.975975975975976, 1.0, 0.8175, 0.7763157894736842, 0.8380952380952381, 1.0, 0.8922651933701657, 0.984375, 0.7509727626459144, 0.9647058823529412, 0.8571428571428572, 1.0, 1.0, 1.0, 0.5396341463414633, 0.9323943661971831, 0.9761904761904762, 1.0, 1.0, 0.9580952380952381, 1.0, 0.9481481481481482, 1.0, 1.0, 0.9666666666666667, 0.987146529562982, 0.958997722095672, 0.934156378600823, 0.9615384615384616, 0.7482014388489209, 1.0, 0.8918918918918919, 0.9261477045908184, 0.8125, 0.9095744680851063, 0.9090909090909091, 0.9613095238095238, 0.9758771929824561, 0.822742474916388, 0.9732142857142857, 0.9796954314720813, 0.9813084112149533, 0.94, 1.0, 0.9452054794520548, 0.9393139841688655, 0.9404761904761905, 0.935483870967742, 1.0, 0.7560975609756098, 0.6566523605150214, 0.9278350515463918, 1.0, 0.9310344827586207, 1.0, 1.0, 0.8823529411764706, 0.8938775510204082, 0.9090909090909091, 1.0, 1.0, 1.0, 0.96, 0.8856589147286822, 0.7616822429906542, 1.0, 0.9869281045751634, 0.9289099526066351, 1.0, 1.0, 0.5806451612903225, 1.0, 0.7916666666666666, 0.9761904761904762, 0.7298578199052133, 0.9705882352941176, 0.9714285714285714, 0.9219858156028369, 1.0, 0.9429928741092637, 1.0, 0.908641975308642, 0.9722222222222222, 0.7777777777777778, 0.875, 0.99, 0.9281045751633987, 0.9473684210526316, 0.20454545454545459, 0.9555555555555556, 0.9712460063897763, 0.8718861209964412, 1.0, 0.789838337182448, 0.8469656992084433, 0.9459459459459459, 0.9723320158102767, 0.9692307692307692, 0.9016393442622951, 0.9523809523809523, 0.6428571428571428, 0.8680351906158358, 0.6538461538461539, 0.9436619718309859, 1.0, 0.859504132231405, 0.9429065743944637, 1.0, 0.9924385633270322, 0.9420289855072463, 0.9666666666666667, 0.9259259259259259, 0.9795918367346939, 1.0, 0.962962962962963, 1.0, 0.9705882352941176, 0.9591836734693877, 0.628099173553719, 0.967479674796748, 0.9820359281437125, 1.0, 1.0, 1.0, 1.0, 1.0, 0.8028673835125448, 0.9662921348314607, 0.5714285714285714, 0.959079283887468, 0.9760765550239234, 0.6111111111111112, 0.7803030303030303, 0.774869109947644, 1.0, 0.966789667896679, 0.8815028901734104, 0.9279279279279279, 0.8959276018099548, 1.0, 0.9736842105263158, 0.9755434782608695, 0.7941176470588236, 0.9515418502202643, 0.998019801980198, 0.7415254237288136, 0.8507462686567164, 0.8823529411764706, 0.9901960784313726, 0.9914163090128756, 0.8983050847457628, 0.9968553459119497, 0.9259259259259259, 0.963855421686747, 0.7924528301886793, 0.7560975609756098, 0.8181818181818181, 0.8125, 1.0, 1.0, 0.9409282700421941, 1.0, 1.0, 1.0, 0.926056338028169, 1.0, 0.935483870967742, 0.9703703703703703, 0.7633587786259541, 0.9793103448275862, 1.0, 0.8571428571428572, 0.9798994974874372, 1.0, 0.8042704626334519, 0.997289972899729, 0.9433962264150944, 0.875, 0.8908296943231441, 1.0, 0.9047619047619048, 1.0, 0.9884169884169884, 0.9347826086956522, 0.8325581395348838, 0.9578947368421052, 0.9830508474576272, 0.96875, 0.8867924528301887, 0.853731343283582, 0.9910313901345291, 1.0, 0.9166666666666666, 0.98, 1.0, 1.0, 0.7799352750809061, 0.8653846153846154, 0.8333333333333334, 0.8197424892703863, 0.9819819819819819, 0.9025069637883009, 0.9523809523809523, 1.0, 0.9152542372881356, 0.9438202247191011, 0.875, 0.8888888888888888, 1.0, 0.9545454545454546, 0.9436619718309859, 0.8095238095238095, 0.972, 0.832807570977918, 0.6414342629482072, 0.8928571428571429, 1.0, 1.0, 0.9655172413793104, 0.8773234200743494, 0.9832535885167464, 0.868421052631579, 0.76, 0.975609756097561, 0.8461538461538461, 0.9234449760765551, 0.9, 0.8327645051194539, 0.9459459459459459, 0.7702349869451697, 0.96875, 0.8387096774193549, 0.9211618257261411, 0.967479674796748, 0.9230769230769231, 1.0, 1.0, 0.65625, 0.9, 0.7068403908794788, 1.0, 0.9469026548672567, 0.9639830508474576, 0.8235294117647058, 0.94, 0.8297101449275363, 1.0, 0.9657534246575342, 0.927536231884058, 0.7480916030534351, 0.984304932735426, 1.0, 1.0, 0.7931034482758621, 1.0, 0.9573033707865168, 0.7206703910614525, 0.8333333333333334, 0.9166666666666666, 0.8146718146718147, 1.0, 1.0, 0.964516129032258, 0.9686192468619247, 0.8571428571428572, 0.9615384615384616, 0.7272727272727273, 0.9487179487179487, 0.7371007371007371, 1.0, 0.85, 0.8814102564102564, 0.8888888888888888, 0.5959821428571428, 0.9625, 0.8467741935483871, 0.96, 0.9329896907216495, 0.9914529914529915, 0.8858447488584476, 1.0, 1.0, 0.8823529411764706, 0.8921933085501859, 0.7703180212014135, 0.9703196347031964, 0.9719626168224299, 0.9142857142857143, 1.0, 0.9212121212121213, 1.0, 0.9923664122137404, 0.8, 1.0, 0.96, 0.9141414141414141, 0.9237804878048781, 0.8283582089552239, 0.9770992366412213, 0.9358974358974359, 0.9862385321100917, 1.0, 1.0, 0.9242053789731052, 0.8921832884097035, 0.8734567901234568, 1.0, 0.9838969404186796, 0.8989071038251366, 0.8861386138613861, 0.9466666666666667, 0.9734513274336283, 0.9148264984227129, 1.0, 1.0, 1.0, 0.9303482587064676, 1.0, 0.8227848101265822, 0.8628158844765343, 0.9570815450643777, 1.0, 0.6986301369863014, 0.913894324853229, 1.0, 0.9732142857142857, 0.9117647058823529, 0.8571428571428572, 0.9050925925925926, 0.696969696969697, 1.0, 0.9672131147540983, 0.952054794520548, 0.7894736842105263, 0.9375, 0.8823529411764706, 0.7321428571428572, 0.8181818181818181, 1.0, 0.8505747126436781, 0.9070796460176991, 0.721938775510204, 0.8468085106382979, 0.9973190348525469, 0.7644539614561028, 0.76, 0.7945736434108527, 0.939622641509434, 0.9287833827893175, 0.9871794871794872, 0.9659574468085106, 0.7951807228915663, 0.6937669376693767, 0.8857142857142857, 0.9566666666666667, 0.9257641921397379, 1.0, 0.9584295612009238, 0.9702970297029703, 0.8333333333333334, 1.0, 0.9701492537313433, 0.9053708439897699, 1.0, 0.9504504504504504, 0.9090909090909091, 0.8333333333333334, 0.8333333333333334, 0.9772727272727273, 0.983957219251337, 0.8636363636363636, 0.8645320197044335, 1.0, 1.0, 0.9230769230769231, 0.8, 0.9285714285714286, 0.9787234042553191, 1.0, 1.0, 1.0, 1.0, 1.0, 0.8837209302325582, 0.9606299212598425, 0.9565217391304348, 0.8363636363636364, 0.9746300211416491, 0.5724381625441697, 0.7270408163265306, 0.8901734104046243, 0.8411552346570397, 0.8806451612903226, 0.8387096774193549, 0.9869281045751634, 0.8252032520325203, 0.9130434782608696, 0.9841269841269842, 0.8509174311926606, 0.9674418604651163, 0.9368029739776952, 0.9733009708737864, 1.0, 0.8988235294117647, 0.8095238095238095, 0.770440251572327, 0.9797047970479705, 0.7682403433476395, 0.8662952646239555, 1.0, 1.0, 0.9626865671641791, 0.43870967741935485, 0.6603773584905661, 1.0, 0.8611111111111112, 0.92, 1.0, 0.8877551020408163, 0.852, 0.8269230769230769, 0.985200845665962, 1.0, 0.9866310160427807, 0.8333333333333334, 1.0, 0.9336734693877551, 0.967032967032967, 0.9304812834224598, 0.9411764705882353, 0.8858024691358025, 0.7784431137724551, 0.7692307692307692, 0.8012618296529969, 1.0, 1.0, 0.7790697674418605, 0.7307692307692308, 0.9735449735449735, 0.9658848614072495, 1.0, 0.9601226993865031, 0.970074812967581, 0.8578199052132701, 0.8103448275862069, 0.9154589371980676, 0.8975, 1.0, 0.9956896551724138, 1.0, 0.9230769230769231, 0.8333333333333334, 0.8409090909090909, 0.8823529411764706, 1.0, 0.9051094890510949, 1.0, 0.8488745980707395, 1.0, 0.921875, 0.8779840848806366, 0.9821882951653944, 0.8703703703703703, 0.7909604519774012, 0.8518518518518519, 0.7975206611570248, 0.9301801801801802, 1.0, 0.834355828220859, 1.0, 0.9528535980148883, 0.9652173913043478, 0.755223880597015, 0.9558823529411765, 0.903125, 1.0, 1.0, 0.9, 1.0, 0.9928057553956835, 0.9090909090909091, 0.9375, 0.9047619047619048, 0.7777777777777778, 1.0, 0.5714285714285714, 0.9807692307692307, 0.935672514619883, 1.0, 0.7335164835164836, 0.9100642398286938, 0.75, 0.9435483870967742, 0.9721254355400697, 0.9189189189189189, 1.0, 0.990521327014218, 1.0, 0.9251497005988024, 0.925, 0.953125, 0.7944664031620553, 0.9459459459459459, 0.9155844155844156, 0.8046272493573265, 1.0, 0.875, 0.8809523809523809, 0.8070175438596492, 0.9366812227074236, 0.9699115044247788, 1.0, 0.924901185770751, 0.8466666666666667, 0.9842105263157894, 0.9658119658119658, 0.9013157894736842, 1.0, 1.0, 1.0, 1.0, 0.7, 0.8664772727272727, 1.0, 0.9326599326599326, 0.8153409090909091, 0.8, 0.875, 0.9818731117824774, 0.8371335504885994, 0.8596491228070176, 1.0, 0.7878787878787878, 0.9967320261437909, 0.884297520661157, 0.9230769230769231, 0.875, 0.9411764705882353, 1.0, 0.8982558139534884, 1.0, 0.9490084985835694, 0.97, 0.93125, 0.7855072463768116, 0.875, 0.967741935483871, 0.8236559139784947, 0.8501628664495113, 0.9376344086021505, 0.8881278538812786, 0.9744897959183674, 1.0, 0.7014388489208634, 0.9444444444444444, 0.7596153846153846, 1.0, 1.0, 0.9546925566343042, 1.0, 0.8817966903073287, 0.9223300970873787, 1.0, 0.6666666666666667, 1.0, 0.9070631970260223, 1.0, 0.9591836734693877, 0.919831223628692, 0.9421487603305785, 0.9140127388535032, 0.7197802197802198, 0.9210526315789473, 0.9267241379310345, 0.4878048780487805, 0.9117647058823529, 0.9476309226932669, 0.8461538461538461, 0.9473684210526316, 0.6214689265536724, 0.9480249480249481, 0.930379746835443, 1.0, 1.0, 0.8687258687258688, 0.9787735849056604, 0.8123456790123457, 0.9787234042553191, 1.0, 0.8770491803278688, 0.9790419161676647, 0.8888888888888888, 0.9963235294117647, 0.963963963963964, 0.959375, 0.9939024390243902, 0.6937984496124031, 1.0, 1.0, 1.0, 0.9962264150943396, 0.8666666666666667, 1.0, 0.8255159474671669, 1.0, 0.8241469816272966, 1.0, 1.0, 0.8888888888888888, 1.0, 0.9111111111111111, 0.9051724137931034, 0.9123287671232877, 0.9230769230769231, 0.98, 1.0, 0.6707818930041152, 0.9345794392523364, 0.7695167286245354, 0.9046321525885559, 0.8537414965986394, 0.7692307692307692, 0.8300395256916996, 0.9814814814814815, 0.9545454545454546, 1.0, 0.7494199535962878, 1.0, 0.7413127413127414, 0.779783393501805, 0.9786666666666667, 1.0, 0.9090909090909091, 0.921875, 0.9914040114613181, 0.7291666666666667, 0.8992248062015504, 0.8387096774193549, 0.8064516129032258, 0.9230769230769231, 0.9258064516129032, 0.8661616161616161, 0.9814814814814815, 0.7227722772277227, 1.0, 1.0, 0.9411764705882353, 0.9043715846994536, 0.98, 0.907258064516129, 1.0, 0.9433198380566802, 0.8636363636363636, 1.0, 0.7088122605363985, 0.9236641221374046, 0.9433962264150944, 0.8171206225680934, 0.8388278388278388, 0.9130434782608696, 0.8787878787878788, 0.9090909090909091, 0.9512195121951219, 0.9964028776978417, 0.8125, 0.9515418502202643, 1.0, 0.9711538461538461, 0.9535864978902954, 0.9382716049382716, 0.9772727272727273, 0.9295774647887324, 0.9909502262443439, 0.889967637540453, 0.9786476868327402, 0.7777777777777778, 0.7894736842105263, 0.7488789237668161, 0.8484848484848485, 0.9523809523809523, 0.9251700680272109, 0.8676056338028169, 0.98125, 0.928, 0.9090909090909091, 0.9090909090909091, 0.9005102040816326, 0.9032258064516129, 1.0, 0.9473684210526316, 0.9695290858725761, 0.9047619047619048, 0.9888268156424581, 1.0, 0.9612676056338029, 0.875, 0.749090909090909, 1.0, 0.9230769230769231, 0.9856115107913669, 0.9808917197452229, 0.9854014598540146, 0.9142857142857143, 0.8703703703703703, 0.875, 0.96, 1.0, 0.8809523809523809, 0.9615384615384616, 1.0, 0.9897959183673469, 1.0, 0.5714285714285714, 0.8888888888888888, 0.6677524429967427, 0.9787234042553191, 0.8028455284552846, 1.0, 0.9621749408983451, 0.8601036269430051, 1.0, 0.9622641509433962, 0.9824046920821115, 0.9927797833935018, 1.0, 0.773972602739726, 0.6875, 0.9473684210526316, 0.98, 0.9565217391304348, 1.0, 1.0, 0.8421052631578947, 0.9908883826879271, 0.9736842105263158, 0.9150943396226415, 0.987468671679198, 0.9486081370449679, 0.9039301310043668, 0.9901960784313726, 0.8870967741935484, 1.0, 0.7418181818181818, 1.0, 0.9666666666666667, 0.9864864864864865, 0.9393939393939394, 1.0, 0.7777777777777778, 0.9090909090909091, 0.9902439024390244, 0.9501661129568106, 1.0, 0.9836065573770492, 0.805352798053528, 0.6301369863013699, 0.9509043927648578, 0.9411764705882353, 0.7829099307159353, 0.9402390438247012, 0.8798185941043084, 1.0, 0.9879518072289156, 0.85, 0.9533898305084746, 0.9468085106382979, 0.7837837837837838, 0.9523809523809523, 0.9480968858131488, 1.0, 1.0, 0.9590443686006827, 0.9959016393442623, 0.9035087719298246, 1.0, 0.95, 0.9577981651376146, 0.9340659340659341, 0.9413489736070382, 0.7942386831275721, 0.8546255506607929, 1.0, 0.935483870967742, 0.7688442211055276, 0.8160000000000001, 1.0, 1.0, 1.0, 0.7677165354330708, 0.9078014184397163, 0.9453376205787781, 0.9391634980988594, 1.0, 0.9124087591240876, 0.8157894736842105, 1.0, 0.9965397923875432, 0.9259259259259259, 1.0, 0.9215686274509804, 0.896551724137931, 0.8006644518272426, 0.8990147783251231, 0.7100840336134453, 0.9826388888888888, 0.8923076923076922, 0.9633867276887872, 0.9358288770053476, 0.9789473684210527, 0.9831460674157303, 0.9523809523809523, 0.9649122807017544, 0.935483870967742, 0.9375, 0.975, 0.9705882352941176, 0.8235294117647058, 1.0, 0.962962962962963, 0.9779005524861879, 1.0, 0.9466666666666667, 0.9545454545454546, 0.8, 0.8666666666666667, 1.0, 0.8225806451612903, 0.9420289855072463, 0.9578163771712159, 0.8947368421052632, 0.7876923076923077, 1.0, 0.975609756097561, 0.9743589743589743, 0.7561837455830389, 0.97, 0.8888888888888888, 0.9833333333333333, 0.7795031055900621, 0.9237804878048781, 0.8033333333333333, 0.8695652173913043, 1.0, 0.7355371900826446, 0.7777777777777778, 0.9493670886075949, 1.0, 0.9555555555555556, 0.9097472924187726, 1.0, 0.9743589743589743, 0.9090909090909091, 0.9875, 1.0, 0.8793650793650793, 1.0, 1.0, 0.9104477611940298, 1.0, 0.8553191489361702, 0.9473684210526316, 1.0, 0.9746543778801844, 0.9507692307692308, 0.9113924050632911, 0.9545454545454546, 0.9758064516129032, 0.9919517102615694, 1.0, 1.0, 1.0, 1.0, 0.8394648829431438, 1.0, 0.9600997506234414, 0.8571428571428572, 0.8442622950819672, 0.9633507853403142, 0.9401709401709402, 0.9676724137931034, 0.7576687116564418, 0.9285714285714286, 0.8798586572438163, 0.8745519713261649, 0.9957894736842106, 1.0, 1.0, 0.9058441558441559, 0.8316582914572864, 1.0, 1.0, 0.9090909090909091, 0.8823529411764706, 0.5722543352601156, 0.8972602739726028, 0.8855218855218855, 0.9198218262806236, 0.7941176470588236, 1.0, 1.0, 1.0, 0.7482014388489209, 0.8888888888888888, 0.9534883720930233, 1.0, 1.0, 0.7142857142857143, 0.8571428571428572, 0.9815950920245399, 0.9944444444444445, 0.974025974025974, 0.962962962962963, 0.8888888888888888, 1.0, 0.9069767441860466, 0.9191176470588235, 0.9710144927536232, 0.9960707269155207, 0.8588588588588588, 0.6875, 0.7696793002915452, 1.0, 0.962882096069869, 0.899795501022495, 0.872, 0.9835390946502057, 0.9619565217391304, 0.984, 0.7696335078534031, 0.9076923076923077, 0.9361702127659575, 1.0, 0.9761904761904762, 0.978494623655914, 0.13194444444444442, 1.0, 0.9543568464730291, 0.9589552238805971, 0.8522012578616353, 0.9836065573770492, 0.9298245614035088, 1.0, 0.7283950617283951, 1.0, 0.9333333333333333, 0.9038461538461539, 0.9808917197452229, 1.0, 0.982078853046595, 0.9642857142857143, 0.9375, 0.91015625, 0.7593220338983051, 1.0, 0.7657657657657657, 0.9571428571428572, 0.8938906752411575, 0.982, 0.8888888888888888, 0.7706422018348624, 0.9681697612732095, 0.8888888888888888, 0.9047619047619048, 0.9528301886792453, 0.963882618510158, 0.9672131147540983, 0.9702127659574468, 1.0, 0.9163179916317992, 0.9523809523809523, 0.8614457831325302, 0.9143835616438356, 0.9830508474576272, 0.984375, 0.7058823529411764, 0.9371584699453552, 0.935483870967742, 0.8865248226950355, 0.9655172413793104, 0.8, 1.0, 0.8488888888888889, 0.8857142857142857, 0.9666666666666667, 1.0, 0.9919678714859438, 1.0, 1.0, 0.8518518518518519, 0.9508196721311475, 1.0, 0.7749360613810742, 0.8214285714285714, 0.8095238095238095, 0.8040540540540541, 0.9979633401221996, 0.6773162939297125, 1.0, 1.0, 0.851010101010101, 0.9903846153846154, 0.9772727272727273, 0.9488636363636364, 0.9333333333333333, 0.9090909090909091, 0.8709677419354839, 0.8066666666666666, 0.9, 1.0, 0.9109730848861284, 1.0, 1.0, 0.9859154929577465, 0.9194805194805195, 0.930921052631579, 0.9696969696969697, 0.875, 1.0, 0.963855421686747, 0.9473684210526316, 0.9464285714285714, 0.7127659574468085, 0.9487179487179487, 0.9694656488549618, 0.8581081081081081, 0.9892241379310345, 1.0, 0.9963963963963964, 0.9235294117647059, 0.975609756097561, 0.8956043956043956, 0.7209302325581395, 0.9052631578947369, 0.8860759493670887, 0.8095238095238095, 0.9377777777777778, 1.0, 0.9310344827586207, 0.4035714285714286, 0.8333333333333334, 0.9310344827586207, 1.0, 0.6705882352941177, 0.9665271966527197, 0.9195402298850575, 0.8993135011441648, 0.9815668202764977, 1.0, 1.0, 0.9672131147540983, 0.983957219251337, 0.9705882352941176, 0.9521739130434783, 0.9130434782608696, 0.9886363636363636, 0.8053097345132744, 0.8983050847457628, 1.0, 0.9294117647058824, 0.9166666666666666, 0.9929411764705882, 1.0, 0.991304347826087, 0.7804878048780488, 0.9223300970873787, 0.734982332155477, 0.6744186046511628, 0.9891696750902527, 0.9361702127659575, 0.9285714285714286, 0.7215189873417722, 0.9411764705882353, 0.9518716577540107, 0.6842105263157895, 0.7964601769911505, 1.0, 0.9724770642201834, 0.9411764705882353, 0.9739130434782609, 1.0, 0.9888888888888889, 0.9861751152073732, 1.0, 0.9504132231404958, 0.9636363636363636, 0.7241379310344828, 0.9442379182156134, 0.9560439560439561, 0.8769230769230769, 1.0, 0.993103448275862, 0.875, 0.9692307692307692, 0.9861111111111112, 0.7047619047619047, 0.8571428571428572, 0.935483870967742, 1.0, 0.9808429118773946, 1.0, 1.0, 0.9097744360902256, 0.9, 0.9644268774703557, 0.9709443099273608, 0.9859154929577465, 0.967032967032967, 0.9814814814814815, 0.9264214046822743, 0.894927536231884, 0.8888888888888888, 0.7846153846153846, 0.9315068493150684, 0.9113475177304965, 0.94, 0.9459459459459459, 0.8936170212765957, 1.0, 1.0, 1.0, 0.7924050632911392, 0.9, 1.0, 0.9941520467836258, 0.9645569620253165, 0.925, 0.6041666666666667, 1.0, 0.9857723577235772, 0.9752066115702479, 0.7586206896551724, 0.9318181818181819, 0.9302325581395349, 0.9447115384615384, 0.9814126394052045, 1.0, 0.7777777777777778, 0.9464285714285714, 0.9047619047619048, 0.9097744360902256, 0.9224806201550387, 0.9722222222222222, 0.9150943396226415, 0.9683098591549296, 0.9278350515463918, 0.9873949579831933, 1.0, 0.9820971867007673, 1.0, 0.9761904761904762, 0.9393939393939394, 0.9867986798679867, 0.9044585987261147, 0.975609756097561, 0.724233983286908, 1.0, 0.765625, 0.9838709677419355, 0.8502202643171806, 0.9435215946843853, 0.9166666666666666, 1.0, 0.9278350515463918, 0.8723404255319149, 0.9411764705882353, 0.9375, 0.9920948616600791, 0.6666666666666667, 0.9655172413793104, 1.0, 0.9356060606060606, 1.0, 0.896551724137931, 1.0, 0.8990825688073394, 1.0, 1.0, 0.8951406649616368, 0.8888888888888888, 0.9748743718592965, 1.0, 0.9090909090909091, 0.9105145413870246, 0.8888888888888888, 1.0, 0.9298245614035088, 0.9695817490494296, 1.0, 0.9770992366412213, 0.9866666666666667, 0.9333333333333333, 0.6996336996336996, 0.8333333333333334, 0.9782608695652174, 0.8636363636363636, 0.9955555555555555, 0.8070175438596492, 0.9090909090909091, 0.9302325581395349, 0.961038961038961, 0.7871720116618076, 0.922077922077922, 0.7572463768115942, 0.9178743961352657, 0.9423076923076923, 1.0, 0.9971751412429378, 0.9506172839506173, 0.9333333333333333, 1.0, 0.975, 0.9736842105263158, 0.9846153846153847, 0.8057142857142857, 0.8551724137931034, 0.8181818181818181, 0.8960244648318043, 1.0, 0.9934497816593887, 0.900709219858156, 0.9301587301587302, 0.9155251141552512, 0.9333333333333333, 0.9304635761589404, 0.9926470588235294, 0.9836512261580381, 0.9189189189189189, 0.96996996996997, 1.0, 0.8963730569948186, 0.9490445859872612, 0.950920245398773, 0.98046875, 0.8351648351648352, 0.8721227621483376, 1.0, 0.8126520681265207, 0.973134328358209, 0.9828897338403042, 0.8484848484848485, 0.9704142011834319, 1.0, 0.8677685950413223, 0.9367088607594937, 1.0, 1.0, 1.0, 0.9333333333333333, 0.7410714285714286, 0.7804878048780488, 0.9782135076252724, 1.0, 0.9789473684210527, 0.9565217391304348, 0.8888888888888888, 1.0, 0.9582504970178927, 0.8154506437768241, 0.9210526315789473, 0.9736842105263158, 0.9921671018276762, 0.9566037735849057, 0.928388746803069, 1.0, 0.9545454545454546, 0.9805825242718447, 0.9516616314199395, 1.0, 0.9264705882352942, 0.7434944237918215, 0.8686440677966102, 1.0, 1.0, 1.0, 0.6228813559322034, 1.0, 0.935483870967742, 0.9580838323353293, 0.6470588235294117, 0.9184466019417475, 0.84, 1.0, 0.9829931972789115, 1.0, 1.0, 1.0, 0.9454545454545454, 1.0, 0.8982456140350877, 0.8993288590604027, 1.0, 1.0, 0.962962962962963, 1.0, 0.8305555555555555, 0.9146341463414634, 0.8666666666666667, 0.96, 0.974937343358396, 0.9159090909090909, 0.9235668789808917, 0.7922077922077921, 0.9256198347107438, 0.9479166666666666, 1.0, 0.8061224489795918, 0.9795918367346939, 0.9551020408163265, 1.0, 1.0, 0.7131367292225201, 1.0, 0.8362068965517242, 1.0, 0.8522727272727273, 1.0, 0.9869848156182213, 1.0, 0.9182156133828996, 0.9970149253731343, 0.6693766937669376, 1.0, 0.869281045751634, 0.9534883720930233, 0.967741935483871, 1.0, 0.937799043062201, 0.9896265560165975, 0.9902439024390244, 1.0, 0.8918918918918919, 0.975, 0.9813664596273292, 0.9176470588235294, 1.0, 0.9702970297029703, 0.8426150121065376, 0.7784256559766763, 0.935483870967742, 0.7651821862348178, 0.7792207792207793, 0.96875, 0.8701298701298701, 1.0, 1.0, 1.0, 0.987012987012987, 0.9859154929577465, 0.8609022556390977, 0.7768361581920904, 0.9622641509433962, 0.9347826086956522, 0.9931506849315068, 0.8580060422960725, 1.0, 0.9943396226415094, 0.9517684887459807, 1.0, 0.865546218487395, 0.8108108108108107, 0.9649122807017544, 0.96875, 0.9622641509433962, 0.9492273730684326, 0.7528409090909091, 0.7644787644787645, 0.7083333333333333, 1.0, 0.9583333333333334, 0.9512195121951219, 1.0, 0.7321428571428572, 1.0, 0.4444444444444444, 0.8718861209964412, 0.9894291754756871, 0.9915966386554622, 0.6440677966101696, 0.7244094488188977, 0.705607476635514, 0.9716494845360825, 0.6909090909090909, 0.9579439252336449, 0.9166666666666666, 1.0, 0.92, 0.9459459459459459, 0.9358974358974359, 1.0, 1.0, 0.9518072289156626, 1.0, 0.825, 0.868421052631579, 0.8376068376068376, 0.6451612903225806, 0.8920863309352518, 1.0, 0.9183673469387755, 1.0, 0.9210526315789473, 0.9433962264150944, 1.0, 0.9610027855153204, 0.9607843137254902, 0.9017199017199017, 0.8109965635738832, 0.942, 0.9928571428571429, 0.847887323943662, 1.0, 0.9292035398230089, 1.0, 0.9770992366412213, 1.0, 0.9523809523809523, 0.7941176470588236, 0.8571428571428572, 0.9313929313929314, 0.9545454545454546, 0.9090909090909091, 0.9333333333333333, 0.894878706199461, 0.8272425249169435, 0.8333333333333334, 1.0, 0.9408284023668639, 0.9176829268292683, 0.9375, 0.7333333333333334, 0.9, 1.0, 0.9444444444444444, 0.9689922480620154, 0.7222222222222222, 0.7948717948717949, 0.9047619047619048, 0.9978118161925602, 0.8461538461538461, 0.976, 0.8211920529801324, 0.6331877729257642, 1.0, 0.7, 0.9583333333333334, 0.9739130434782609, 0.8340080971659919, 0.891566265060241, 0.7916666666666666, 0.8857142857142857, 1.0, 0.875, 1.0, 1.0, 0.9333333333333333, 0.83984375, 0.6082474226804124, 0.9052631578947369, 0.9463087248322147, 0.9152542372881356, 0.9244712990936556, 0.9802371541501976, 0.9549071618037135, 0.95, 0.9730848861283644, 0.9545454545454546, 0.8367346938775511, 0.9637305699481865, 0.7081545064377682, 0.8082191780821918, 0.972972972972973, 0.936026936026936, 1.0, 0.90625, 0.967479674796748, 0.9, 0.92, 0.9842829076620825, 0.9166666666666666, 1.0, 0.8955223880597015, 1.0, 0.9821428571428571, 0.9666666666666667, 0.9805825242718447, 0.9761904761904762, 0.9956709956709957, 1.0, 1.0, 0.9310344827586207, 1.0, 0.8125, 0.7611940298507462, 0.9307228915662651, 0.9807692307692307, 0.9, 0.8081180811808117, 0.9172413793103449, 0.7, 0.7448559670781894, 0.9023255813953488, 1.0, 0.9855072463768116, 1.0, 0.951048951048951, 0.8666666666666667, 0.6, 0.8095238095238095, 0.8888888888888888, 0.9166666666666666, 1.0, 0.9786729857819905, 0.8773006134969326, 0.7214484679665738, 0.9240506329113924, 0.9734513274336283, 0.8648648648648649, 0.9551569506726457, 0.9352112676056338, 0.863013698630137, 0.9679144385026738, 0.9565217391304348, 0.9377289377289377, 0.8974358974358975, 0.9824561403508771, 0.9964476021314387, 0.9382022471910112, 0.85, 0.782608695652174, 0.8846153846153846, 0.8805970149253731, 0.652027027027027, 0.9639344262295082, 0.9785522788203753, 0.8084577114427861, 0.9806451612903225, 0.9431137724550899, 0.9705882352941176, 0.9702602230483272, 0.9523809523809523, 0.9565217391304348, 0.9797979797979798, 0.75, 0.8562091503267975, 1.0, 0.16666666666666663, 0.6, 1.0, 1.0, 0.9463414634146341, 0.9523809523809523, 0.9444444444444444, 0.9464285714285714, 0.926829268292683, 1.0, 0.867007672634271, 0.9745454545454545, 0.7301587301587302, 0.9512195121951219, 0.9708520179372198, 0.8, 0.7014925373134329, 0.7887323943661972, 1.0, 0.8821292775665399, 1.0, 0.8217821782178218, 0.7283372365339578, 0.9333333333333333, 0.8888888888888888, 0.9699248120300752, 0.9375, 0.875, 0.85, 0.9029126213592233, 0.9067164179104478, 0.8762886597938144, 0.9789473684210527, 1.0, 0.8423076923076923, 1.0, 1.0, 0.9551282051282052, 1.0, 0.99375, 0.8614864864864865, 0.9733333333333334, 0.9026548672566371, 1.0, 0.6306818181818181, 0.7983539094650206, 0.9535714285714285, 0.8571428571428572, 0.8860759493670887, 0.8389057750759878, 0.5062240663900415, 0.8797814207650273, 1.0, 1.0, 0.9651162790697675, 0.9852941176470589, 0.9676470588235294, 0.8963210702341137, 1.0, 0.9769820971867008, 1.0, 0.9795918367346939, 0.95, 0.8, 1.0, 0.9926650366748166, 0.8685121107266436, 1.0, 0.8636363636363636, 0.9324324324324325, 0.9858490566037735, 0.9772727272727273, 0.9636752136752137, 1.0, 0.9090909090909091, 0.9938837920489296, 1.0, 0.7976653696498055, 0.9791666666666666, 0.979539641943734, 0.75, 0.8813559322033898, 0.9824561403508771, 0.8181818181818181, 0.8333333333333334, 0.8947368421052632, 0.9506849315068493, 0.941712204007286, 1.0, 0.728, 0.9, 0.8930817610062893, 1.0, 0.7796610169491526, 0.7714285714285715, 0.9080459770114943, 1.0, 1.0, 0.9821782178217822, 0.9333333333333333, 0.9271255060728745, 0.8058968058968059, 0.9459459459459459, 0.9879518072289156, 0.9310344827586207, 0.9763313609467456, 0.9736842105263158, 0.9857954545454546, 0.967479674796748, 0.9166666666666666, 0.9393939393939394, 1.0, 0.927038626609442, 0.9602272727272727, 0.9868421052631579, 0.8760806916426513, 0.8422619047619048, 0.8457446808510638, 0.7659574468085106, 0.7651331719128329, 0.9551122194513716, 0.9846938775510204, 0.9705882352941176, 0.8333333333333334, 0.9166666666666666, 0.9, 1.0, 0.9818181818181818, 1.0, 1.0, 0.9696969696969697, 0.9511677282377919, 0.9081364829396326, 0.8477011494252873, 1.0, 1.0, 0.9398907103825137, 0.9834983498349835, 0.9258312020460358, 0.9310344827586207, 0.8992248062015504, 1.0, 0.92, 0.8464912280701754, 0.9638242894056848, 0.9333333333333333, 0.9795918367346939, 0.9632107023411371, 0.9459459459459459, 0.9883720930232558, 1.0, 0.9848484848484849, 0.875, 0.948905109489051, 1.0, 0.9646464646464646, 0.9553903345724907, 0.9743589743589743, 0.9482758620689655, 1.0, 0.9, 1.0, 0.9714285714285714, 0.9375, 0.9230769230769231, 0.9245283018867925, 1.0, 0.9059233449477352, 0.9078947368421053, 1.0, 0.9828326180257511, 1.0, 0.9, 0.8962264150943396, 0.9771428571428571, 1.0, 0.9577464788732395, 0.9439252336448598, 0.9831460674157303, 0.7718631178707225, 0.9521531100478469, 0.9760765550239234, 0.9545454545454546, 0.9365482233502538, 1.0, 0.9789473684210527, 0.9696969696969697, 1.0, 0.9071428571428571, 0.9158163265306123, 0.936734693877551, 1.0, 0.9339622641509434, 1.0, 0.8947368421052632, 0.8571428571428572, 0.8947368421052632, 0.9859550561797753, 0.8717948717948718, 1.0, 0.963302752293578, 0.9323529411764706, 0.9773755656108597, 0.8913043478260869, 0.8125, 0.7641921397379913, 0.9545454545454546, 0.9605263157894737, 0.991304347826087, 0.8620689655172413, 0.976027397260274, 0.8260869565217391, 0.9560975609756097, 0.8925373134328358, 0.9545454545454546, 0.8333333333333334, 0.925, 0.9761904761904762, 0.985781990521327, 0.841688654353562, 0.9375, 0.9285714285714286, 0.9545454545454546, 0.9641791044776119, 0.8061797752808989, 1.0, 0.9047619047619048, 1.0, 0.9652173913043478, 0.9226069246435845, 1.0, 0.962962962962963, 0.9823321554770318, 0.8333333333333334, 0.9725490196078431, 0.9808917197452229, 0.9772727272727273, 1.0, 0.9540816326530612, 0.9685990338164251, 0.9038461538461539, 0.9382022471910112, 0.9036144578313253, 0.7619047619047619, 1.0, 0.9454545454545454, 0.9707446808510638, 0.7459459459459459, 0.884, 1.0, 0.975, 0.8274111675126904, 0.9090909090909091, 1.0, 0.8484107579462102, 0.9938524590163934, 0.9832214765100671, 0.875, 0.8826291079812206, 0.972318339100346, 0.5357142857142857, 0.993103448275862, 0.7777777777777778, 1.0, 0.9758454106280193, 1.0, 0.9047619047619048, 0.9340659340659341, 0.9959514170040485, 0.9882352941176471, 1.0, 0.9476439790575917, 0.9230769230769231, 0.92, 1.0, 1.0, 0.9454545454545454, 0.9870848708487084, 0.9736842105263158, 0.9722222222222222, 0.937888198757764, 0.9056603773584906, 0.8538812785388128, 0.948051948051948, 0.935064935064935, 0.9806451612903225, 0.91005291005291, 1.0, 0.9977827050997783, 1.0, 0.9017094017094017, 0.84375, 0.9391534391534392, 0.9916434540389972, 0.9863636363636363, 1.0, 0.6627450980392157, 0.9546436285097192, 0.9090909090909091, 0.8985507246376812, 0.8854166666666666, 0.9300411522633745, 0.9583333333333334, 0.7071129707112971, 0.9862745098039216, 0.9818181818181818, 0.8844621513944223, 1.0, 1.0, 0.912718204488778, 0.8834688346883469, 0.8125, 0.9121813031161473, 0.7828054298642534, 0.9230769230769231, 0.9908256880733946, 0.9222222222222223, 0.91324200913242, 0.9555555555555556, 0.9176201372997712, 0.9136690647482014, 0.84, 0.9946043165467626, 0.8936170212765957, 1.0, 0.64, 0.9565217391304348, 0.8850931677018634, 1.0, 0.8461538461538461, 0.9483204134366925, 0.9655172413793104, 0.9418886198547215, 0.8357487922705313, 0.9, 0.8393285371702638, 0.9458483754512635, 0.8357664233576643, 1.0, 0.8248407643312102, 0.906832298136646, 0.5677233429394812, 0.75, 1.0, 0.8730569948186528, 0.6830357142857143, 0.9808429118773946, 0.8863636363636364, 0.8181818181818181, 0.8260869565217391, 0.6984126984126984, 0.9451612903225807, 0.75, 1.0, 1.0, 0.9968051118210862, 0.6109589041095891, 0.9333333333333333, 0.9789029535864979, 0.9680511182108626, 0.9333333333333333, 0.9862700228832952, 1.0, 0.9823008849557522, 0.8007246376811594, 0.9450867052023122, 0.96, 0.81, 0.9905437352245863, 0.9184397163120568, 0.9444444444444444, 0.9875776397515528, 0.9725400457665904, 0.8409893992932862, 0.8421052631578947, 0.935860058309038, 0.9111111111111111, 0.8557046979865772, 0.9929577464788732, 0.8413597733711048, 0.9532710280373832, 0.9210526315789473, 0.9594594594594594, 0.2093023255813954, 0.84, 0.8194842406876791, 0.72, 0.8669064748201438, 0.9901315789473685, 0.9876796714579056, 0.7601476014760148, 0.9960159362549801, 0.9005847953216375, 0.9583333333333334, 0.9871134020618557, 0.9861111111111112, 0.9714285714285714, 0.9004329004329005, 0.9108910891089109, 0.941031941031941, 0.8947368421052632, 0.9604221635883905, 0.8387096774193549, 0.9166666666666666, 1.0, 0.948051948051948, 0.9344262295081968, 0.8885630498533724, 0.7472527472527473, 1.0, 0.9106628242074928, 0.9583333333333334, 1.0, 0.9904761904761905, 0.990234375, 1.0, 1.0, 0.8098859315589354, 0.808, 0.9375, 0.8734567901234568, 0.9873949579831933, 0.978813559322034, 1.0, 0.8823529411764706, 1.0, 0.9878787878787879, 0.9655172413793104, 0.8333333333333334, 0.7317073170731707, 0.9705882352941176, 0.943089430894309, 0.875, 0.9375, 0.9655172413793104, 0.9495412844036697, 0.9666666666666667, 0.8888888888888888, 0.8358490566037736, 0.972972972972973, 1.0, 0.72, 0.9151943462897526, 0.9865384615384616, 1.0, 0.7672413793103449, 0.75, 0.919889502762431, 1.0, 0.979047619047619, 1.0, 0.9498327759197325, 0.9897959183673469, 0.9764705882352941, 0.7991967871485943, 1.0, 0.9, 0.9584905660377359, 0.5555555555555556, 0.9207920792079208, 1.0, 0.8106508875739645, 0.6758409785932722, 0.853125, 0.9542857142857143, 0.673728813559322, 0.9675675675675676, 1.0, 1.0, 0.9222614840989399, 0.9164265129682997, 1.0, 0.9637096774193549, 0.8461538461538461, 1.0, 1.0, 0.9230769230769231, 0.8209302325581396, 1.0, 1.0, 0.8710801393728222, 1.0, 0.8688046647230321, 0.7442748091603053, 1.0, 0.8042813455657493, 0.9731051344743277, 0.9789029535864979, 0.9758064516129032, 0.9862068965517241, 0.9594882729211087, 0.9375, 0.9090909090909091, 0.8176229508196722, 0.9473684210526316, 1.0, 0.9901960784313726, 0.9784172661870504, 0.8277777777777777, 0.9761904761904762, 0.9727272727272728, 0.8627450980392157, 0.9014084507042254, 0.8760683760683761, 0.9375, 0.8861788617886179, 0.9782608695652174, 1.0, 0.9230769230769231, 0.9607843137254902, 1.0, 0.9042553191489362, 0.9876543209876543, 0.9032258064516129, 0.9111969111969112, 0.9426987060998152, 0.9636363636363636, 0.987146529562982, 0.9230769230769231, 0.8485915492957746, 1.0, 0.9375, 0.9515418502202643, 0.9630541871921182, 0.9310344827586207, 0.7553191489361702, 1.0, 0.8106060606060606, 0.9458917835671343, 0.6860986547085202, 0.966824644549763, 1.0, 0.8744186046511628, 0.9739583333333334, 0.9104046242774566, 0.8054054054054054, 0.8072289156626506, 1.0, 0.9105691056910569, 1.0, 0.9761904761904762, 0.9420654911838791, 0.96, 1.0, 0.784, 0.8918918918918919, 0.8764044943820225, 0.7142857142857143, 0.75, 1.0, 0.708185053380783, 0.7057057057057057, 0.5945945945945945, 0.96, 0.8835616438356164, 0.9047619047619048, 0.9501246882793017, 0.8762214983713354, 0.9908675799086758, 0.7596899224806202, 1.0, 0.9615384615384616, 0.986046511627907, 0.9520958083832335, 0.9758064516129032, 0.78125, 0.9862068965517241, 0.8378378378378378, 1.0, 0.9615384615384616, 1.0, 0.9654320987654321, 0.7634408602150538, 0.9, 1.0, 0.8666666666666667, 0.9600840336134454, 1.0, 0.7784615384615384, 0.9655172413793104, 0.7991452991452992, 1.0, 1.0, 0.9, 0.8947368421052632, 0.8070866141732284, 0.9313304721030042, 0.9800884955752213, 0.9798994974874372, 0.8461538461538461, 0.6219839142091153, 1.0, 0.9034334763948498, 0.7619047619047619, 0.9767441860465116, 0.9950738916256158, 0.8235294117647058, 0.9326923076923077, 0.7535714285714286, 1.0, 0.9411764705882353, 0.9585635359116023, 0.9577777777777777, 1.0, 0.9741379310344828, 0.7385159010600706, 0.5296296296296297, 0.9609756097560975, 0.7263157894736842, 1.0, 0.9224806201550387, 0.7384615384615385, 0.7965517241379311, 0.875, 0.9841628959276019, 1.0, 1.0, 0.6666666666666667, 0.9710144927536232, 0.9980582524271845, 1.0, 0.9420289855072463, 0.7946666666666666, 0.6786786786786787, 0.9794520547945206, 0.8602150537634409, 0.9904397705544933, 0.9411764705882353, 0.8732782369146006, 1.0, 0.9111111111111111, 0.8871595330739299, 0.8027210884353742, 1.0, 0.990521327014218, 0.9523809523809523, 0.7317073170731707, 0.9487179487179487, 0.9906191369606003, 0.9862068965517241, 0.9495192307692307, 0.9911816578483246, 0.9309309309309309, 0.8446969696969697, 0.9170731707317074, 0.8475609756097561, 0.8092485549132948, 1.0, 0.9393939393939394, 0.7761904761904762, 0.875, 0.9166666666666666, 0.8535353535353536, 0.6571428571428571, 1.0, 0.8493150684931507, 0.8681318681318682, 0.8012820512820513, 0.8979591836734694, 0.8179487179487179, 0.9841269841269842, 0.9963833634719711, 0.7619047619047619, 0.9615384615384616, 1.0, 0.7225433526011561, 0.9574468085106383, 0.9200913242009132, 0.8571428571428572, 1.0, 0.9583333333333334, 0.8928571428571429, 0.9192546583850931, 1.0, 0.9696969696969697, 0.9411764705882353, 1.0, 0.9461538461538461, 0.9402985074626866, 0.9550561797752809, 0.9294117647058824, 0.9711191335740073, 0.9602888086642599, 0.9545454545454546, 0.7647058823529411, 0.9968354430379747, 0.9, 0.9360613810741688, 1.0, 0.75, 0.8621794871794872, 0.8910505836575875, 0.9307692307692308, 0.7627118644067796, 1.0, 0.9481981981981982, 0.8592057761732852, 0.9844236760124611, 0.9641350210970464, 0.9301075268817205, 0.96875, 0.75, 0.9850427350427351, 0.9230769230769231, 0.9605263157894737, 1.0, 1.0, 0.9107142857142857, 1.0, 0.7355371900826446, 0.9387755102040817, 0.946236559139785, 1.0, 0.9663865546218487, 1.0, 0.9933920704845814, 0.9679633867276888, 1.0, 0.9930313588850174, 0.9647058823529412, 1.0, 0.9154929577464789, 0.665644171779141, 0.8947368421052632, 1.0, 0.9166666666666666, 0.9024390243902439, 0.9642857142857143, 0.781021897810219, 0.896, 0.9166666666666666, 0.9551820728291317, 0.9444444444444444, 0.9825, 1.0, 0.9368421052631579, 0.9393939393939394, 0.9538461538461538, 1.0, 0.75, 0.8790322580645161, 0.9618320610687023, 1.0, 0.9749430523917996, 1.0, 1.0, 0.9722222222222222, 0.8197278911564626, 1.0, 0.8169014084507042, 0.806930693069307, 0.7777777777777778, 0.741860465116279, 0.9090909090909091, 0.9959183673469387, 0.9316037735849056, 0.8529411764705882, 0.957983193277311, 0.8, 0.8666666666666667, 0.8662420382165605, 0.9453551912568307, 0.9119318181818181, 0.8284789644012945, 0.6527196652719665, 0.8823529411764706, 0.92, 0.9775051124744376, 0.7903225806451613, 0.8181818181818181, 0.8809523809523809, 0.8991596638655462, 0.9464788732394366, 0.8960244648318043, 0.9333333333333333, 1.0, 0.9259259259259259, 1.0, 0.9670588235294117, 0.8761904761904762, 1.0, 0.7857142857142857, 0.9504643962848297, 0.9191011235955057, 1.0, 0.976063829787234, 0.75, 1.0, 0.7655786350148368, 0.9090909090909091, 1.0, 0.8888888888888888, 0.9746835443037974, 0.9626168224299065, 0.9963235294117647, 0.6503067484662577, 0.9163498098859315, 1.0, 0.87, 0.9375, 0.7692307692307692, 1.0, 1.0, 0.9607843137254902, 0.9875444839857651, 0.6474576271186441, 0.9696969696969697, 0.9, 1.0, 1.0, 0.8080495356037152, 0.9722222222222222, 1.0, 0.9375, 0.6799999999999999, 1.0, 0.96, 0.9444444444444444, 0.875, 0.8223684210526316, 0.8219780219780219, 1.0, 0.9457013574660633, 1.0, 0.765625, 0.7575757575757576, 0.8333333333333334, 1.0, 0.8, 1.0, 0.9472295514511874, 0.9907407407407407, 0.9150943396226415, 1.0, 0.9566160520607375, 1.0, 0.8974358974358975, 0.9680365296803652, 0.9491525423728814, 0.9473684210526316, 0.9514563106796117, 1.0, 0.8738738738738738, 0.9808917197452229, 0.9748743718592965, 0.612781954887218, 0.7606060606060606, 0.8960739030023095, 1.0, 1.0, 1.0, 0.8917050691244239, 1.0, 1.0, 0.996661101836394, 0.901840490797546, 0.8945686900958466, 0.8817891373801917, 0.9836065573770492, 0.8163265306122449, 0.9926470588235294, 0.8571428571428572, 0.9565217391304348, 0.7866108786610879, 0.9523809523809523, 0.9210526315789473, 0.9230769230769231, 1.0, 1.0, 1.0, 1.0, 0.805111821086262, 0.9875389408099688, 0.9214501510574018, 0.8571428571428572, 1.0, 1.0, 0.9934640522875817, 0.896640826873385, 0.9704142011834319, 1.0, 0.9239130434782609, 0.9038461538461539, 0.9460227272727273, 0.9385113268608414, 0.867704280155642, 0.975609756097561, 0.9680365296803652, 0.9746835443037974, 0.8654545454545455, 0.9071618037135278, 0.79296875, 0.9807692307692307, 0.6941176470588235, 0.9977924944812362, 0.9375, 0.8757961783439491, 0.8442367601246106, 0.9512195121951219, 0.9944954128440366, 0.9579288025889967, 0.8828125, 0.6972281449893389, 0.8666666666666667, 0.9545454545454546, 0.9383259911894273, 0.9154518950437318, 0.7234042553191489, 0.8125, 0.9804347826086957, 0.9197707736389684, 0.9029411764705882, 0.8817204301075269, 1.0, 0.9894736842105263, 0.9123287671232877, 0.6190476190476191, 1.0, 1.0, 0.8615384615384616, 0.897196261682243, 1.0, 1.0, 1.0, 1.0, 0.9285714285714286, 0.95578231292517, 0.7426470588235294, 0.9666666666666667, 1.0, 0.6610169491525424, 0.9450980392156862, 0.684887459807074, 0.9545454545454546, 0.9423076923076923, 1.0, 0.8787878787878788, 1.0, 1.0, 1.0, 1.0, 0.9882075471698113, 0.906158357771261, 1.0, 1.0, 0.9436619718309859, 1.0, 1.0, 0.9317269076305221, 0.9375, 0.7948717948717949, 1.0, 1.0, 1.0, 0.6086956521739131, 0.9486404833836858, 0.9459459459459459, 0.9592668024439919, 0.7527272727272727, 0.9166666666666666, 1.0, 0.9570552147239264, 0.8042328042328042, 0.9902723735408561, 0.9565217391304348, 1.0, 0.9765625, 0.8888888888888888, 0.9666666666666667, 0.8780487804878049, 0.9741935483870968, 0.9232613908872902, 0.92, 0.9545454545454546, 0.9767441860465116, 0.8823529411764706, 0.9390243902439024, 0.9781420765027322, 0.9767441860465116, 0.8571428571428572, 0.9074074074074074, 0.9340659340659341, 0.6173913043478261, 0.8013245033112583, 0.98, 0.972972972972973, 0.84375, 0.8926380368098159, 0.8958333333333334, 0.6863270777479893, 0.8205128205128205, 1.0, 0.9887387387387387, 0.9454545454545454, 0.9665271966527197, 0.9880478087649402, 0.8214285714285714, 0.7674418604651163, 0.9710144927536232, 1.0, 0.9817708333333334, 1.0, 0.9935064935064936, 0.7647058823529411, 1.0, 0.8702290076335878, 0.9, 0.8866279069767442, 0.8846153846153846, 1.0, 0.965, 1.0, 0.9365384615384615, 0.9876543209876543, 0.9773462783171522, 0.6631016042780749, 0.9941690962099126, 1.0, 0.7340153452685422, 0.9064748201438849, 0.7721518987341772, 0.9444444444444444, 0.9183673469387755, 1.0, 1.0, 0.9856115107913669, 0.8082191780821918, 0.9529702970297029, 1.0, 0.9194139194139194, 1.0, 0.8571428571428572, 0.9302325581395349, 1.0, 0.9028571428571428, 0.7666666666666666, 0.8125, 1.0, 1.0, 0.9235474006116208, 0.9516129032258065, 0.9264705882352942, 0.9940476190476191, 0.9390243902439024, 1.0, 1.0, 0.9772727272727273, 1.0, 0.9722222222222222, 0.9642857142857143, 0.9914163090128756, 0.9423868312757202, 0.9459459459459459, 0.8333333333333334, 0.9285714285714286, 0.8666666666666667, 0.9858585858585859, 0.9761194029850746, 0.962962962962963, 0.9271844660194175, 0.9810996563573883, 0.8939929328621908, 0.9362416107382551, 0.8784119106699751, 0.9274924471299093, 0.9476190476190476, 0.8620689655172413, 0.8408408408408409, 0.9209302325581395, 0.8525641025641025, 0.9615384615384616, 0.8868613138686131, 0.9655172413793104, 0.9980988593155894, 1.0, 1.0, 0.7910863509749304, 0.9143518518518519, 1.0, 0.9948453608247423, 0.8859223300970873, 0.7191780821917808, 0.75, 0.8888888888888888, 1.0, 1.0, 0.8746177370030581, 1.0, 0.94375, 0.9773462783171522, 0.935483870967742, 0.967741935483871, 0.9464285714285714, 0.875, 0.921875, 1.0, 0.8552188552188552, 0.9444444444444444, 0.8235294117647058, 1.0, 0.96, 0.8648648648648649, 0.9044585987261147, 0.9842767295597484, 0.8103448275862069, 0.897196261682243, 0.9213483146067416, 0.5977011494252873, 0.962962962962963, 0.8775510204081632, 0.954070981210856, 1.0, 0.8690476190476191, 0.8089887640449438, 0.9440298507462687, 0.9285714285714286, 1.0, 1.0, 1.0, 1.0, 0.9342915811088296, 1.0, 0.9086651053864169, 1.0, 1.0, 0.8902439024390244, 0.7859778597785978, 1.0, 0.9, 0.962962962962963, 0.9803921568627451, 0.9340909090909091, 0.8464566929133859, 1.0, 0.7446808510638299, 0.9318181818181819, 0.9032258064516129, 0.9482758620689655, 1.0, 0.9344262295081968, 0.8121212121212121, 0.5988023952095809, 0.9057142857142857, 0.7647058823529411, 0.7692307692307692, 0.9150326797385621, 0.9836065573770492, 1.0, 0.9166666666666666, 1.0, 0.9413407821229051, 0.9661354581673307, 0.9459459459459459, 0.90625, 0.9736842105263158, 0.9183098591549296, 1.0, 1.0, 0.8376068376068376, 0.8305084745762712, 0.9766081871345029, 0.9579579579579579, 0.9818181818181818, 0.9375, 0.9580645161290322, 0.9686800894854586, 1.0, 0.8443396226415094, 0.5812807881773399, 0.8991097922848664, 0.8622754491017964, 0.9143835616438356, 0.9375, 0.7492877492877492, 0.9256900212314225, 0.8333333333333334, 1.0, 0.9210526315789473, 1.0, 1.0, 0.9565217391304348, 0.9466666666666667, 0.6754098360655738, 0.9497816593886463, 1.0, 1.0, 0.9090909090909091, 1.0, 0.9424083769633508, 0.8869565217391304, 0.7956989247311828, 0.892018779342723, 1.0, 1.0, 0.9682539682539683, 0.9895287958115183, 0.9230769230769231, 0.84, 0.9499036608863198, 0.8298969072164948, 0.9227373068432672, 1.0, 0.875, 0.9912280701754386, 0.9103448275862069, 0.972972972972973, 1.0, 0.8738532110091743, 0.9382239382239382, 1.0, 0.9250585480093677, 1.0, 1.0, 0.6964285714285714, 0.9305135951661632, 0.7013698630136986, 0.9436619718309859, 1.0, 1.0, 0.9166666666666666, 0.9801324503311258, 0.8519736842105263, 0.7440944881889764, 1.0, 0.9158878504672897, 0.8771929824561404, 0.9270833333333334, 1.0, 0.9656862745098039, 1.0, 0.8096446700507615, 0.8720538720538721, 0.9647058823529412, 0.9166666666666666, 0.9609375, 0.9254658385093167, 0.9426229508196722, 0.9485294117647058, 1.0, 0.887905604719764, 0.9180327868852459, 0.8526315789473684, 0.7382075471698113, 0.9164556962025316, 0.9744186046511628, 0.960093896713615, 1.0, 1.0, 0.8351648351648352, 0.7246376811594203, 1.0, 0.8518518518518519, 1.0, 0.9642857142857143, 1.0, 0.8442028985507246, 1.0, 0.782608695652174, 0.8412698412698413, 0.9642857142857143, 1.0, 0.9653679653679653, 1.0, 0.8865671641791044, 1.0, 1.0, 0.9844961240310077, 0.7936507936507937, 0.9774193548387097, 0.9816849816849816, 0.888268156424581, 0.9452054794520548, 0.7428571428571429, 0.25, 1.0, 0.9202279202279202, 0.7857142857142857, 0.7681159420289855, 0.8912280701754386, 0.9090909090909091, 0.9908256880733946, 1.0, 0.9137931034482758, 0.8189655172413793, 0.8415300546448088, 1.0, 0.9028571428571428, 0.8066528066528067, 1.0, 0.926923076923077, 0.989247311827957, 0.8181818181818181, 0.9741176470588235, 0.9695121951219512, 0.927360774818402, 1.0, 0.9184397163120568, 1.0, 0.9, 0.6097560975609756, 0.7, 0.8539325842696629, 0.8571428571428572, 1.0, 0.7837837837837838, 1.0, 1.0, 0.9618138424821002, 0.9553571428571429, 0.9465020576131687, 0.9705159705159705, 0.8370786516853932, 0.95, 0.9375, 0.9831932773109243, 0.9459459459459459, 0.957983193277311, 0.9238095238095239, 1.0, 0.9733727810650887, 0.8902743142144638, 0.9189189189189189, 0.9156327543424317, 0.8242677824267782, 0.9655172413793104, 0.9090909090909091, 0.8275862068965517, 1.0, 1.0, 0.6419437340153453, 0.95, 0.9281767955801105, 0.9676674364896074, 0.8595317725752508, 0.9716981132075472, 1.0, 0.7833333333333333, 1.0, 1.0, 0.7962962962962963, 1.0, 0.9593908629441624, 0.8562091503267975, 0.9528619528619529, 0.968944099378882, 0.9166666666666666, 0.9672131147540983, 0.9122807017543859, 0.8713692946058091, 0.7948717948717949, 1.0, 0.993920972644377, 0.9888059701492538, 1.0, 0.9655172413793104, 0.9047619047619048, 0.979381443298969, 0.9894736842105263, 0.7859649122807018, 1.0, 0.9957805907172996, 0.9972972972972973, 0.36363636363636365, 0.8791208791208791, 0.95, 1.0, 0.990215264187867, 0.9820359281437125, 0.9147286821705426, 0.819718309859155, 0.8888888888888888, 0.9375, 1.0, 0.850909090909091, 0.8363636363636364, 0.9459459459459459, 1.0, 0.8726415094339622, 0.8869565217391304, 0.9457013574660633, 0.9299999999999999, 0.9913793103448276, 1.0, 0.8905852417302799, 0.9743589743589743, 0.9393939393939394, 0.6451612903225806, 0.9676190476190476, 0.7708333333333334, 0.75, 0.8692307692307693, 0.9832935560859188, 0.8481481481481481, 0.9565217391304348, 0.9, 0.8893805309734513, 0.988950276243094, 0.8925619834710744, 0.6363636363636364, 0.8157894736842105, 0.9230769230769231, 0.8892307692307693, 0.95625, 1.0, 0.8481848184818481, 0.9758064516129032, 0.9512195121951219, 1.0, 1.0, 0.8524590163934427, 0.9285714285714286, 0.9522184300341296, 0.9452054794520548, 0.968299711815562, 0.7962962962962963, 0.9892241379310345, 0.8780487804878049, 0.9459459459459459, 1.0, 0.7469879518072289, 0.7679324894514767, 1.0, 0.9922077922077922, 0.9743589743589743, 0.52, 1.0, 0.9363636363636364, 0.9807692307692307, 0.9829059829059829, 0.9344262295081968, 0.655011655011655, 0.9827586206896551, 0.5714285714285714, 0.9735099337748344, 0.9812734082397003, 0.6521739130434783, 0.9388646288209607, 0.8076923076923077, 0.6378378378378378, 1.0, 0.9637681159420289, 0.8974358974358975, 0.9285714285714286, 0.9652509652509652, 1.0, 0.9591836734693877, 0.75, 0.9628571428571429, 0.9555555555555556, 0.9801980198019802, 0.9606741573033708, 0.9523809523809523, 0.9453441295546559, 1.0, 0.9345549738219895, 1.0, 0.9090909090909091, 1.0, 0.9742268041237113, 0.9591346153846154, 0.9879518072289156, 0.9274809160305344, 0.9375, 0.962962962962963, 1.0, 0.9963833634719711, 0.7558139534883721, 0.7102040816326531, 0.9109311740890689, 0.6298701298701299, 0.8846153846153846, 0.9604221635883905, 0.9947089947089947, 0.9396551724137931, 0.9393939393939394, 0.8297872340425532, 0.8775510204081632, 0.966183574879227, 0.9574074074074074, 0.9331983805668016, 0.9710144927536232, 0.8681318681318682, 1.0, 0.8, 0.948, 1.0, 0.9733333333333334, 0.75, 0.8421052631578947, 0.9964973730297724, 1.0, 0.8888888888888888, 0.9649122807017544, 0.8918918918918919, 0.8202247191011236, 0.9705882352941176, 0.9375, 0.9521410579345089, 0.8496932515337423, 1.0, 0.8122448979591836, 0.7234042553191489, 0.9283018867924528, 0.644, 0.9484536082474226, 0.9259259259259259, 1.0, 1.0, 0.9459459459459459, 0.962962962962963, 0.945859872611465, 1.0, 0.7886178861788617, 1.0, 0.8170212765957447, 0.8799019607843137, 0.984375, 0.7931034482758621, 0.8795986622073578, 0.5873015873015873, 1.0, 0.8838526912181304, 0.9166666666666666, 0.9130434782608696, 0.979746835443038, 0.9436201780415431, 1.0, 0.8873994638069705, 0.9387096774193548, 0.8566433566433567, 0.9565217391304348, 1.0, 0.933852140077821, 0.9, 0.9743589743589743, 1.0, 1.0, 0.8125, 0.7671232876712328, 0.9642857142857143, 1.0, 0.9777777777777777, 0.8125, 0.9545454545454546, 0.9552715654952076, 0.9697885196374623, 0.8947368421052632, 0.96, 0.9404761904761905, 0.8205128205128205, 1.0, 0.7857142857142857, 0.9266917293233082, 1.0, 0.848, 1.0, 1.0, 0.6428571428571428, 0.8197424892703863, 0.8498896247240618, 1.0, 1.0, 0.9621749408983451, 0.6923076923076923, 1.0, 0.8571428571428572, 0.2857142857142857, 0.9365079365079365, 1.0, 0.9647058823529412, 0.9785407725321889, 0.892156862745098, 0.9535714285714285, 0.6818181818181819, 1.0, 0.9462809917355371, 0.9473684210526316, 0.9767441860465116, 0.9166666666666666, 0.9822834645669292, 0.9069767441860466, 1.0, 0.9501084598698482, 0.9476744186046512, 0.9666666666666667, 1.0, 0.9151138716356108, 0.9635036496350365, 0.9393939393939394, 0.8663967611336032, 0.9390519187358917, 0.8032258064516129, 1.0, 0.8366013071895425, 0.9934354485776805, 0.9668874172185431, 0.868421052631579, 0.806941431670282, 0.8372093023255813, 0.7702702702702703, 0.8473053892215568, 1.0, 0.9067524115755627, 0.8888888888888888, 1.0, 0.9945652173913043, 0.9215686274509804, 0.9748427672955975, 0.8979591836734694, 0.9858356940509915, 0.9487870619946092, 1.0, 1.0, 0.9554973821989529, 0.7142857142857143, 0.9890710382513661, 0.9149560117302052, 0.9744094488188977, 1.0, 0.9675810473815462, 0.99812382739212, 0.8058608058608059, 0.9090909090909091, 0.925, 0.9591836734693877, 0.980440097799511, 0.8933717579250721, 0.9523809523809523, 0.8620689655172413, 0.9263157894736842, 1.0, 0.941320293398533, 0.76953125, 0.9617834394904459, 0.9189189189189189, 1.0, 0.9757174392935982, 1.0, 0.8778467908902692, 0.7666666666666666, 0.8125, 0.9585585585585585, 0.9818181818181818, 0.855072463768116, 1.0, 0.9696969696969697, 0.8235294117647058, 0.9405684754521964, 0.9391771019677997, 1.0, 0.9914163090128756, 0.9244444444444444, 0.9186046511627907, 0.907563025210084, 0.9522673031026253, 1.0, 0.9680365296803652, 0.9758771929824561, 0.8867924528301887, 1.0, 0.9743589743589743, 0.852803738317757, 0.9823529411764705, 0.8888888888888888, 0.9883449883449883, 1.0, 0.8701657458563536, 1.0, 0.9557522123893806, 0.9233716475095786, 1.0, 0.8916666666666666, 0.9393939393939394, 0.8518518518518519, 0.9761904761904762, 0.9959677419354839, 1.0, 0.9938900203665988, 0.975, 0.7777777777777778, 0.831140350877193, 0.9831932773109243, 1.0, 0.9794661190965093, 1.0, 1.0, 0.9974489795918368, 0.9322033898305084, 0.9285714285714286, 0.990625, 0.9, 0.9764705882352941, 0.9411764705882353, 0.8837209302325582, 0.9855072463768116, 0.9703703703703703, 1.0, 0.9857142857142858, 0.8703703703703703, 0.973568281938326, 0.9635922330097088, 0.8768115942028986, 0.8461538461538461, 0.8181818181818181, 0.970873786407767, 0.8947368421052632, 0.8627450980392157, 0.9022082018927444, 1.0, 1.0, 0.9835164835164835, 0.42380952380952386, 0.993006993006993, 0.9809069212410502, 0.9166666666666666, 0.9565217391304348, 0.8642384105960265, 1.0, 0.7707006369426752, 0.8888888888888888, 1.0, 1.0, 0.6428571428571428, 0.8, 0.6401673640167365, 0.951048951048951, 0.8260869565217391, 0.9163763066202091, 0.9790209790209791, 1.0, 0.9658314350797267, 0.95, 0.7156862745098039, 0.7175925925925926, 0.9270833333333334, 0.6466165413533835, 0.9171974522292994, 0.8866498740554156, 0.97, 0.9666666666666667, 0.9140811455847255, 0.9444444444444444, 0.9678800856531049, 1.0, 0.9644444444444444, 0.9507246376811594, 1.0, 1.0, 0.984375, 0.8571428571428572, 0.78125, 0.8546511627906976, 1.0, 0.973170731707317, 0.8947368421052632, 0.9604221635883905, 0.978021978021978, 0.9566787003610109, 1.0, 0.9375, 0.868421052631579, 0.9876543209876543, 0.9712643678160919, 1.0, 1.0, 0.8, 1.0, 0.9230769230769231, 1.0, 0.7307692307692308, 0.9342105263157895, 0.858974358974359, 0.9315789473684211, 0.8770949720670391, 0.9285714285714286, 0.8878205128205128, 0.8163771712158809, 0.8260869565217391, 0.9057750759878419, 1.0, 0.935483870967742, 0.9721115537848606, 0.9238578680203046, 0.9852941176470589, 1.0, 0.9491525423728814, 0.9857142857142858, 0.9230769230769231, 1.0, 0.9107142857142857, 0.9639175257731959, 0.9709302325581395, 0.9516129032258065, 0.9436152570480929, 0.995850622406639, 0.9023255813953488, 1.0, 0.896551724137931, 0.9730941704035875, 1.0, 0.6571428571428571, 0.889967637540453, 1.0, 0.6, 1.0, 0.962962962962963, 0.924187725631769, 0.9117647058823529, 0.7756756756756756, 0.9, 0.9673024523160763, 0.7619047619047619, 0.9795918367346939, 0.9487179487179487, 0.812206572769953, 0.9578947368421052, 0.8125, 0.9344262295081968, 0.8135593220338984, 0.9407744874715261, 0.9393939393939394, 1.0, 0.9444444444444444, 0.9210526315789473, 0.8990384615384616, 0.9385964912280702, 1.0, 0.9684684684684685, 0.9565217391304348, 1.0, 0.9647058823529412, 0.9724770642201834, 1.0, 0.8291457286432161, 0.8823529411764706, 0.8823529411764706, 1.0, 0.8260869565217391, 0.8534704370179949, 1.0, 0.9, 0.9428571428571428, 0.9269406392694064, 0.9625, 0.7857142857142857, 0.94, 0.8958333333333334, 0.9482288828337875, 0.9473684210526316, 0.9393939393939394, 0.8947368421052632, 1.0, 0.967741935483871, 0.9545454545454546, 0.8327974276527331, 0.9166666666666666, 0.6693989071038251, 1.0, 0.8, 1.0, 0.8888888888888888, 0.99, 0.7768052516411379, 0.9912087912087912, 0.4029850746268657, 0.7557251908396947, 0.935483870967742, 0.9185185185185185, 0.9543147208121827, 0.972972972972973, 0.92, 0.8808290155440415, 0.6013986013986015, 0.99, 0.9298245614035088, 0.9464285714285714, 0.8831683168316832, 0.8928571428571429, 0.8695652173913043, 0.9523809523809523, 1.0, 0.8333333333333334, 0.9606299212598425, 0.9545454545454546, 1.0, 1.0, 0.9672131147540983, 0.9736842105263158, 0.852760736196319, 0.9597989949748744, 1.0, 1.0, 1.0, 1.0, 0.9024390243902439, 0.9473684210526316, 0.9615384615384616, 0.9933184855233853, 1.0, 0.9885057471264368, 0.903061224489796, 0.8568181818181818, 0.7786561264822134, 0.8666666666666667, 0.947261663286004, 0.9285714285714286, 1.0, 1.0, 1.0, 0.7492957746478873, 0.989501312335958, 0.8070652173913043, 0.9970588235294118, 0.6666666666666667, 0.825, 0.9661016949152542, 0.9753694581280788, 0.9416498993963782, 0.9090909090909091, 0.9090909090909091, 0.9547738693467337, 0.9594594594594594, 0.9615384615384616, 0.9375, 0.9776785714285714, 0.9764705882352941, 0.6634615384615384, 0.9393063583815029, 0.8457446808510638, 0.9896907216494846, 0.9850746268656716, 0.8045977011494253, 1.0, 0.9375, 0.9702380952380952, 0.9444444444444444, 0.8412162162162162, 0.9696969696969697, 1.0, 0.9039145907473309, 1.0, 0.9637883008356546, 1.0, 0.9285714285714286, 0.9591836734693877, 1.0, 1.0, 0.9691358024691358, 0.8048780487804879, 0.5901639344262295, 0.9080882352941176, 0.9736842105263158, 0.7434782608695651, 0.9444444444444444, 0.8439490445859873, 0.7, 0.7450199203187251, 1.0, 0.5951417004048583, 0.7777777777777778, 0.9245283018867925, 0.8921933085501859]\n",
      "CPU times: user 6h 12min 38s, sys: 11.2 s, total: 6h 12min 49s\n",
      "Wall time: 6h 12min 39s\n"
     ]
    }
   ],
   "source": [
    "%%time\n",
    "\n",
    "model.eval()\n",
    "#model.to(device)\n",
    "\n",
    "test_metrics = []\n",
    "hyps = []\n",
    "all_preds=[]\n",
    "with torch.no_grad():\n",
    "    for batch in tqdm(test_loader, desc='testing'):\n",
    "        batch['input_ids']=batch['input_ids'].to(device)\n",
    "        phrases = tokenizer.batch_decode(batch['labels'], skip_special_tokens=True)\n",
    "        hypotheses = []\n",
    "        \n",
    "        for tens_to_be, phrase in zip(batch['input_ids'],phrases):\n",
    "            max_len = len(phrase)\n",
    "            try: \n",
    "                one_pred = model.generate(\n",
    "                    tens_to_be.unsqueeze(0),\n",
    "                    do_sample=True, \n",
    "                    num_beams=10,\n",
    "                    num_return_sequences=1, \n",
    "                    repetition_penalty=1.2,\n",
    "                    max_length=max_len \n",
    "                )\n",
    "                hyps.append(one_pred.tolist()[0])\n",
    "            except Error as e:\n",
    "                print(f\"There was an error: {e}\\nOn phrase:{phrase}\")\n",
    "                hyps.append([0 for i in range(100)])\n",
    "                pass\n",
    "                \n",
    "        hyps = tokenizer.batch_decode(hyps, skip_special_tokens=True)\n",
    "\n",
    "        all_preds.append(hyps)\n",
    "        for generated, label in zip(hyps, phrases):\n",
    "            metric = Levenshtein.normalized_similarity(generated, label)\n",
    "            test_metrics.append(metric)\n",
    "        hyps=[]\n",
    "\n",
    "print(test_metrics)"
   ]
  },
  {
   "cell_type": "code",
   "execution_count": 43,
   "id": "e6ec5dca",
   "metadata": {
    "execution": {
     "iopub.execute_input": "2024-05-19T08:55:31.470693Z",
     "iopub.status.busy": "2024-05-19T08:55:31.470415Z",
     "iopub.status.idle": "2024-05-19T08:55:31.475211Z",
     "shell.execute_reply": "2024-05-19T08:55:31.474339Z"
    },
    "papermill": {
     "duration": 0.037169,
     "end_time": "2024-05-19T08:55:31.477302",
     "exception": false,
     "start_time": "2024-05-19T08:55:31.440133",
     "status": "completed"
    },
    "tags": []
   },
   "outputs": [
    {
     "name": "stdout",
     "output_type": "stream",
     "text": [
      "the average normalized levenshtein similarity is: 0.9161015384469102\n"
     ]
    }
   ],
   "source": [
    "test_average = sum(test_metrics)/len(test_metrics)\n",
    "print(f\"the average normalized levenshtein similarity is: {test_average}\")"
   ]
  },
  {
   "cell_type": "code",
   "execution_count": 46,
   "id": "50d2464f",
   "metadata": {
    "execution": {
     "iopub.execute_input": "2024-05-19T08:55:31.792574Z",
     "iopub.status.busy": "2024-05-19T08:55:31.792332Z",
     "iopub.status.idle": "2024-05-19T08:55:31.796015Z",
     "shell.execute_reply": "2024-05-19T08:55:31.795047Z"
    },
    "papermill": {
     "duration": 0.037122,
     "end_time": "2024-05-19T08:55:31.797892",
     "exception": false,
     "start_time": "2024-05-19T08:55:31.760770",
     "status": "completed"
    },
    "tags": []
   },
   "outputs": [],
   "source": [
    "orig_df = df"
   ]
  },
  {
   "cell_type": "code",
   "execution_count": 47,
   "id": "05300287",
   "metadata": {
    "execution": {
     "iopub.execute_input": "2024-05-19T08:55:31.857910Z",
     "iopub.status.busy": "2024-05-19T08:55:31.857624Z",
     "iopub.status.idle": "2024-05-19T08:55:31.863110Z",
     "shell.execute_reply": "2024-05-19T08:55:31.862173Z"
    },
    "papermill": {
     "duration": 0.037851,
     "end_time": "2024-05-19T08:55:31.865020",
     "exception": false,
     "start_time": "2024-05-19T08:55:31.827169",
     "status": "completed"
    },
    "tags": []
   },
   "outputs": [
    {
     "data": {
      "text/plain": [
       "14982"
      ]
     },
     "execution_count": 47,
     "metadata": {},
     "output_type": "execute_result"
    }
   ],
   "source": [
    "len(test_metrics)"
   ]
  },
  {
   "cell_type": "code",
   "execution_count": 48,
   "id": "9779ea74",
   "metadata": {
    "execution": {
     "iopub.execute_input": "2024-05-19T08:55:31.925514Z",
     "iopub.status.busy": "2024-05-19T08:55:31.925274Z",
     "iopub.status.idle": "2024-05-19T08:55:31.930568Z",
     "shell.execute_reply": "2024-05-19T08:55:31.929560Z"
    },
    "papermill": {
     "duration": 0.038007,
     "end_time": "2024-05-19T08:55:31.932467",
     "exception": false,
     "start_time": "2024-05-19T08:55:31.894460",
     "status": "completed"
    },
    "tags": []
   },
   "outputs": [
    {
     "data": {
      "text/plain": [
       "375"
      ]
     },
     "execution_count": 48,
     "metadata": {},
     "output_type": "execute_result"
    }
   ],
   "source": [
    "len(all_preds)"
   ]
  },
  {
   "cell_type": "code",
   "execution_count": 49,
   "id": "8034c338",
   "metadata": {
    "execution": {
     "iopub.execute_input": "2024-05-19T08:55:31.993823Z",
     "iopub.status.busy": "2024-05-19T08:55:31.993550Z",
     "iopub.status.idle": "2024-05-19T08:55:31.998889Z",
     "shell.execute_reply": "2024-05-19T08:55:31.998039Z"
    },
    "papermill": {
     "duration": 0.038167,
     "end_time": "2024-05-19T08:55:32.000973",
     "exception": false,
     "start_time": "2024-05-19T08:55:31.962806",
     "status": "completed"
    },
    "tags": []
   },
   "outputs": [],
   "source": [
    "preds = [j for i in all_preds for j in i]"
   ]
  },
  {
   "cell_type": "code",
   "execution_count": 50,
   "id": "60fd2bb0",
   "metadata": {
    "execution": {
     "iopub.execute_input": "2024-05-19T08:55:32.061431Z",
     "iopub.status.busy": "2024-05-19T08:55:32.061181Z",
     "iopub.status.idle": "2024-05-19T08:55:32.066405Z",
     "shell.execute_reply": "2024-05-19T08:55:32.065576Z"
    },
    "papermill": {
     "duration": 0.037735,
     "end_time": "2024-05-19T08:55:32.068256",
     "exception": false,
     "start_time": "2024-05-19T08:55:32.030521",
     "status": "completed"
    },
    "tags": []
   },
   "outputs": [
    {
     "data": {
      "text/plain": [
       "14982"
      ]
     },
     "execution_count": 50,
     "metadata": {},
     "output_type": "execute_result"
    }
   ],
   "source": [
    "len(preds)"
   ]
  },
  {
   "cell_type": "code",
   "execution_count": 51,
   "id": "e043eda4",
   "metadata": {
    "execution": {
     "iopub.execute_input": "2024-05-19T08:55:32.129089Z",
     "iopub.status.busy": "2024-05-19T08:55:32.128853Z",
     "iopub.status.idle": "2024-05-19T08:55:32.137438Z",
     "shell.execute_reply": "2024-05-19T08:55:32.136582Z"
    },
    "papermill": {
     "duration": 0.041229,
     "end_time": "2024-05-19T08:55:32.139271",
     "exception": false,
     "start_time": "2024-05-19T08:55:32.098042",
     "status": "completed"
    },
    "tags": []
   },
   "outputs": [],
   "source": [
    "data = {'prediction':preds, 'metric':test_metrics}\n",
    "test_data_df = pd.DataFrame(data)"
   ]
  },
  {
   "cell_type": "code",
   "execution_count": 52,
   "id": "e7063cb1",
   "metadata": {
    "execution": {
     "iopub.execute_input": "2024-05-19T08:55:32.199889Z",
     "iopub.status.busy": "2024-05-19T08:55:32.199579Z",
     "iopub.status.idle": "2024-05-19T08:55:32.210993Z",
     "shell.execute_reply": "2024-05-19T08:55:32.210003Z"
    },
    "papermill": {
     "duration": 0.043804,
     "end_time": "2024-05-19T08:55:32.212836",
     "exception": false,
     "start_time": "2024-05-19T08:55:32.169032",
     "status": "completed"
    },
    "tags": []
   },
   "outputs": [
    {
     "data": {
      "text/html": [
       "<div>\n",
       "<style scoped>\n",
       "    .dataframe tbody tr th:only-of-type {\n",
       "        vertical-align: middle;\n",
       "    }\n",
       "\n",
       "    .dataframe tbody tr th {\n",
       "        vertical-align: top;\n",
       "    }\n",
       "\n",
       "    .dataframe thead th {\n",
       "        text-align: right;\n",
       "    }\n",
       "</style>\n",
       "<table border=\"1\" class=\"dataframe\">\n",
       "  <thead>\n",
       "    <tr style=\"text-align: right;\">\n",
       "      <th></th>\n",
       "      <th>prediction</th>\n",
       "      <th>metric</th>\n",
       "    </tr>\n",
       "  </thead>\n",
       "  <tbody>\n",
       "    <tr>\n",
       "      <th>0</th>\n",
       "      <td>Проблемы этого типа, взятые из книг, часто уяз...</td>\n",
       "      <td>0.985816</td>\n",
       "    </tr>\n",
       "    <tr>\n",
       "      <th>1</th>\n",
       "      <td>Чтобы две ладьи могли атаковать друг друга, он...</td>\n",
       "      <td>0.984064</td>\n",
       "    </tr>\n",
       "    <tr>\n",
       "      <th>2</th>\n",
       "      <td>Пусть $B_W$ — базис для W. Расширьте его до ба...</td>\n",
       "      <td>0.892256</td>\n",
       "    </tr>\n",
       "    <tr>\n",
       "      <th>3</th>\n",
       "      <td>$\\left(1-\\left(1-\\frac1n\\right)^{f(n)}\\right)^...</td>\n",
       "      <td>0.952381</td>\n",
       "    </tr>\n",
       "    <tr>\n",
       "      <th>4</th>\n",
       "      <td>$$x=5\\pm2\\sqrt{6}$$</td>\n",
       "      <td>1.000000</td>\n",
       "    </tr>\n",
       "    <tr>\n",
       "      <th>...</th>\n",
       "      <td>...</td>\n",
       "      <td>...</td>\n",
       "    </tr>\n",
       "    <tr>\n",
       "      <th>14977</th>\n",
       "      <td>$$ \\sum_{n\\geq 2}\\frac{a_n^2}{2n+1}\\geq 0 \\tag...</td>\n",
       "      <td>1.000000</td>\n",
       "    </tr>\n",
       "    <tr>\n",
       "      <th>14978</th>\n",
       "      <td>\\begin{align} \\lambda^*(E + \\lambda^*(E^\\compl...</td>\n",
       "      <td>0.595142</td>\n",
       "    </tr>\n",
       "    <tr>\n",
       "      <th>14979</th>\n",
       "      <td>$$=b_i*b_m+s^b*b_i-x^b*b_i+b_m*x^i+s^b*x^i-b^i$$</td>\n",
       "      <td>0.777778</td>\n",
       "    </tr>\n",
       "    <tr>\n",
       "      <th>14980</th>\n",
       "      <td>$t\\leq m(U_t)\\leq t\\sum_{n=1}^{\\infty}2^{1-n}=2t$</td>\n",
       "      <td>0.924528</td>\n",
       "    </tr>\n",
       "    <tr>\n",
       "      <th>14981</th>\n",
       "      <td>Мы знаем, что $dx\\wedge dY= dx\\otimes dY-dY\\ot...</td>\n",
       "      <td>0.892193</td>\n",
       "    </tr>\n",
       "  </tbody>\n",
       "</table>\n",
       "<p>14982 rows × 2 columns</p>\n",
       "</div>"
      ],
      "text/plain": [
       "                                              prediction    metric\n",
       "0      Проблемы этого типа, взятые из книг, часто уяз...  0.985816\n",
       "1      Чтобы две ладьи могли атаковать друг друга, он...  0.984064\n",
       "2      Пусть $B_W$ — базис для W. Расширьте его до ба...  0.892256\n",
       "3      $\\left(1-\\left(1-\\frac1n\\right)^{f(n)}\\right)^...  0.952381\n",
       "4                                    $$x=5\\pm2\\sqrt{6}$$  1.000000\n",
       "...                                                  ...       ...\n",
       "14977  $$ \\sum_{n\\geq 2}\\frac{a_n^2}{2n+1}\\geq 0 \\tag...  1.000000\n",
       "14978  \\begin{align} \\lambda^*(E + \\lambda^*(E^\\compl...  0.595142\n",
       "14979   $$=b_i*b_m+s^b*b_i-x^b*b_i+b_m*x^i+s^b*x^i-b^i$$  0.777778\n",
       "14980  $t\\leq m(U_t)\\leq t\\sum_{n=1}^{\\infty}2^{1-n}=2t$  0.924528\n",
       "14981  Мы знаем, что $dx\\wedge dY= dx\\otimes dY-dY\\ot...  0.892193\n",
       "\n",
       "[14982 rows x 2 columns]"
      ]
     },
     "execution_count": 52,
     "metadata": {},
     "output_type": "execute_result"
    }
   ],
   "source": [
    "test_data_df"
   ]
  },
  {
   "cell_type": "code",
   "execution_count": 53,
   "id": "85e41181",
   "metadata": {
    "execution": {
     "iopub.execute_input": "2024-05-19T08:55:32.281155Z",
     "iopub.status.busy": "2024-05-19T08:55:32.280849Z",
     "iopub.status.idle": "2024-05-19T08:55:32.286284Z",
     "shell.execute_reply": "2024-05-19T08:55:32.285356Z"
    },
    "papermill": {
     "duration": 0.042104,
     "end_time": "2024-05-19T08:55:32.288535",
     "exception": false,
     "start_time": "2024-05-19T08:55:32.246431",
     "status": "completed"
    },
    "tags": []
   },
   "outputs": [],
   "source": [
    "orig_df.reset_index(inplace=True)"
   ]
  },
  {
   "cell_type": "code",
   "execution_count": 54,
   "id": "5793fb7e",
   "metadata": {
    "execution": {
     "iopub.execute_input": "2024-05-19T08:55:32.360011Z",
     "iopub.status.busy": "2024-05-19T08:55:32.359691Z",
     "iopub.status.idle": "2024-05-19T08:55:32.371055Z",
     "shell.execute_reply": "2024-05-19T08:55:32.370028Z"
    },
    "papermill": {
     "duration": 0.049415,
     "end_time": "2024-05-19T08:55:32.373415",
     "exception": false,
     "start_time": "2024-05-19T08:55:32.324000",
     "status": "completed"
    },
    "tags": []
   },
   "outputs": [],
   "source": [
    "fin_df = pd.concat([orig_df, test_data_df], axis=1)"
   ]
  },
  {
   "cell_type": "code",
   "execution_count": 55,
   "id": "6786d0bc",
   "metadata": {
    "execution": {
     "iopub.execute_input": "2024-05-19T08:55:32.438340Z",
     "iopub.status.busy": "2024-05-19T08:55:32.438061Z",
     "iopub.status.idle": "2024-05-19T08:55:32.455376Z",
     "shell.execute_reply": "2024-05-19T08:55:32.454491Z"
    },
    "papermill": {
     "duration": 0.051999,
     "end_time": "2024-05-19T08:55:32.457648",
     "exception": false,
     "start_time": "2024-05-19T08:55:32.405649",
     "status": "completed"
    },
    "tags": []
   },
   "outputs": [
    {
     "data": {
      "text/html": [
       "<div>\n",
       "<style scoped>\n",
       "    .dataframe tbody tr th:only-of-type {\n",
       "        vertical-align: middle;\n",
       "    }\n",
       "\n",
       "    .dataframe tbody tr th {\n",
       "        vertical-align: top;\n",
       "    }\n",
       "\n",
       "    .dataframe thead th {\n",
       "        text-align: right;\n",
       "    }\n",
       "</style>\n",
       "<table border=\"1\" class=\"dataframe\">\n",
       "  <thead>\n",
       "    <tr style=\"text-align: right;\">\n",
       "      <th></th>\n",
       "      <th>index</th>\n",
       "      <th>Unnamed: 0</th>\n",
       "      <th>text_id</th>\n",
       "      <th>output_texts</th>\n",
       "      <th>input_texts</th>\n",
       "      <th>tags</th>\n",
       "      <th>augmentation</th>\n",
       "      <th>formulae_only</th>\n",
       "      <th>prediction</th>\n",
       "      <th>metric</th>\n",
       "    </tr>\n",
       "  </thead>\n",
       "  <tbody>\n",
       "    <tr>\n",
       "      <th>0</th>\n",
       "      <td>0</td>\n",
       "      <td>7643</td>\n",
       "      <td>809475</td>\n",
       "      <td>Проблемы этого типа, взятые из книг, часто уяз...</td>\n",
       "      <td>Проблемы этого типа, взятые из книг, часто уяз...</td>\n",
       "      <td>complex-analysis</td>\n",
       "      <td>num2word</td>\n",
       "      <td>False</td>\n",
       "      <td>Проблемы этого типа, взятые из книг, часто уяз...</td>\n",
       "      <td>0.985816</td>\n",
       "    </tr>\n",
       "    <tr>\n",
       "      <th>1</th>\n",
       "      <td>1</td>\n",
       "      <td>2341</td>\n",
       "      <td>806979</td>\n",
       "      <td>Чтобы две ладьи могли атаковать друг друга, он...</td>\n",
       "      <td>Чтобы две ладьи могли атаковать друг друга, он...</td>\n",
       "      <td>combinatorics</td>\n",
       "      <td>all_augments</td>\n",
       "      <td>False</td>\n",
       "      <td>Чтобы две ладьи могли атаковать друг друга, он...</td>\n",
       "      <td>0.984064</td>\n",
       "    </tr>\n",
       "    <tr>\n",
       "      <th>2</th>\n",
       "      <td>2</td>\n",
       "      <td>3345</td>\n",
       "      <td>903541</td>\n",
       "      <td>Пусть $B_W$ — базис для $W$. Расширьте его до ...</td>\n",
       "      <td>Пусть B_W — базис для W. Расширьте его до бази...</td>\n",
       "      <td>linear-algebra</td>\n",
       "      <td>rand_delet_and_typo</td>\n",
       "      <td>False</td>\n",
       "      <td>Пусть $B_W$ — базис для W. Расширьте его до ба...</td>\n",
       "      <td>0.892256</td>\n",
       "    </tr>\n",
       "    <tr>\n",
       "      <th>3</th>\n",
       "      <td>3</td>\n",
       "      <td>315</td>\n",
       "      <td>109760</td>\n",
       "      <td>$$\\r\\n\\left(1-\\left(1-\\frac1n\\right)^{f(n)}\\ri...</td>\n",
       "      <td>\\r\\n\\left 1-\\left 1-\\frac1n\\right)^{f n)}\\ri...</td>\n",
       "      <td>limits</td>\n",
       "      <td>rand_delet_and_typo</td>\n",
       "      <td>True</td>\n",
       "      <td>$\\left(1-\\left(1-\\frac1n\\right)^{f(n)}\\right)^...</td>\n",
       "      <td>0.952381</td>\n",
       "    </tr>\n",
       "    <tr>\n",
       "      <th>4</th>\n",
       "      <td>4</td>\n",
       "      <td>11423</td>\n",
       "      <td>113713</td>\n",
       "      <td>$$x=5\\pm2\\sqrt{6}$$</td>\n",
       "      <td>$$x=пять\\pmвторой\\sqrt{шесть}$$</td>\n",
       "      <td>Other</td>\n",
       "      <td>num2word</td>\n",
       "      <td>True</td>\n",
       "      <td>$$x=5\\pm2\\sqrt{6}$$</td>\n",
       "      <td>1.000000</td>\n",
       "    </tr>\n",
       "    <tr>\n",
       "      <th>...</th>\n",
       "      <td>...</td>\n",
       "      <td>...</td>\n",
       "      <td>...</td>\n",
       "      <td>...</td>\n",
       "      <td>...</td>\n",
       "      <td>...</td>\n",
       "      <td>...</td>\n",
       "      <td>...</td>\n",
       "      <td>...</td>\n",
       "      <td>...</td>\n",
       "    </tr>\n",
       "    <tr>\n",
       "      <th>14977</th>\n",
       "      <td>14977</td>\n",
       "      <td>5871</td>\n",
       "      <td>135529</td>\n",
       "      <td>$$ \\sum_{n\\geq 2}\\frac{a_n^2}{2n+1}\\geq 0 \\tag...</td>\n",
       "      <td>$$ \\sum_{n\\geq два}\\frac{a_n^второй}{дваn+перв...</td>\n",
       "      <td>Other</td>\n",
       "      <td>num2word</td>\n",
       "      <td>True</td>\n",
       "      <td>$$ \\sum_{n\\geq 2}\\frac{a_n^2}{2n+1}\\geq 0 \\tag...</td>\n",
       "      <td>1.000000</td>\n",
       "    </tr>\n",
       "    <tr>\n",
       "      <th>14978</th>\n",
       "      <td>14978</td>\n",
       "      <td>4970</td>\n",
       "      <td>83950</td>\n",
       "      <td>\\begin{align}\\r\\n\\lambda^*(E)+\\lambda^*(E^\\com...</td>\n",
       "      <td>\\begin{align \\r\\n\\lambda^*( э прописная   плюс...</td>\n",
       "      <td>real-analysis</td>\n",
       "      <td>all_augments</td>\n",
       "      <td>True</td>\n",
       "      <td>\\begin{align} \\lambda^*(E + \\lambda^*(E^\\compl...</td>\n",
       "      <td>0.595142</td>\n",
       "    </tr>\n",
       "    <tr>\n",
       "      <th>14979</th>\n",
       "      <td>14979</td>\n",
       "      <td>669</td>\n",
       "      <td>140304</td>\n",
       "      <td>$$ = b_i*b_m+s*b*b_i-x*b*b_i+b_m*x*i+s*b*x*i-b...</td>\n",
       "      <td>$$  равняется   би _ и * бэ _ эм +s*b* бэ _i-x...</td>\n",
       "      <td>Other</td>\n",
       "      <td>synonyms</td>\n",
       "      <td>True</td>\n",
       "      <td>$$=b_i*b_m+s^b*b_i-x^b*b_i+b_m*x^i+s^b*x^i-b^i$$</td>\n",
       "      <td>0.777778</td>\n",
       "    </tr>\n",
       "    <tr>\n",
       "      <th>14980</th>\n",
       "      <td>14980</td>\n",
       "      <td>9301</td>\n",
       "      <td>65347</td>\n",
       "      <td>$$ t\\leq m(U_t)\\leq t\\sum_{n=1}^{\\infty}2^{1-n...</td>\n",
       "      <td>t\\leq m(U_t)\\leq t\\sum_{n=1}У{\\infty}2^{1-n}=2t</td>\n",
       "      <td>Other</td>\n",
       "      <td>rand_delet_and_typo</td>\n",
       "      <td>True</td>\n",
       "      <td>$t\\leq m(U_t)\\leq t\\sum_{n=1}^{\\infty}2^{1-n}=2t$</td>\n",
       "      <td>0.924528</td>\n",
       "    </tr>\n",
       "    <tr>\n",
       "      <th>14981</th>\n",
       "      <td>14981</td>\n",
       "      <td>7702</td>\n",
       "      <td>938191</td>\n",
       "      <td>Мы знаем, что $$dx\\wedge dy= dx\\otimes dy -dy\\...</td>\n",
       "      <td>Мы знаем, что dxдwedgee dУ= dx\\otimes dУ -dУ\\o...</td>\n",
       "      <td>Other</td>\n",
       "      <td>rand_delet_and_typo</td>\n",
       "      <td>False</td>\n",
       "      <td>Мы знаем, что $dx\\wedge dY= dx\\otimes dY-dY\\ot...</td>\n",
       "      <td>0.892193</td>\n",
       "    </tr>\n",
       "  </tbody>\n",
       "</table>\n",
       "<p>14982 rows × 10 columns</p>\n",
       "</div>"
      ],
      "text/plain": [
       "       index  Unnamed: 0  text_id  \\\n",
       "0          0        7643   809475   \n",
       "1          1        2341   806979   \n",
       "2          2        3345   903541   \n",
       "3          3         315   109760   \n",
       "4          4       11423   113713   \n",
       "...      ...         ...      ...   \n",
       "14977  14977        5871   135529   \n",
       "14978  14978        4970    83950   \n",
       "14979  14979         669   140304   \n",
       "14980  14980        9301    65347   \n",
       "14981  14981        7702   938191   \n",
       "\n",
       "                                            output_texts  \\\n",
       "0      Проблемы этого типа, взятые из книг, часто уяз...   \n",
       "1      Чтобы две ладьи могли атаковать друг друга, он...   \n",
       "2      Пусть $B_W$ — базис для $W$. Расширьте его до ...   \n",
       "3      $$\\r\\n\\left(1-\\left(1-\\frac1n\\right)^{f(n)}\\ri...   \n",
       "4                                    $$x=5\\pm2\\sqrt{6}$$   \n",
       "...                                                  ...   \n",
       "14977  $$ \\sum_{n\\geq 2}\\frac{a_n^2}{2n+1}\\geq 0 \\tag...   \n",
       "14978  \\begin{align}\\r\\n\\lambda^*(E)+\\lambda^*(E^\\com...   \n",
       "14979  $$ = b_i*b_m+s*b*b_i-x*b*b_i+b_m*x*i+s*b*x*i-b...   \n",
       "14980  $$ t\\leq m(U_t)\\leq t\\sum_{n=1}^{\\infty}2^{1-n...   \n",
       "14981  Мы знаем, что $$dx\\wedge dy= dx\\otimes dy -dy\\...   \n",
       "\n",
       "                                             input_texts              tags  \\\n",
       "0      Проблемы этого типа, взятые из книг, часто уяз...  complex-analysis   \n",
       "1      Чтобы две ладьи могли атаковать друг друга, он...     combinatorics   \n",
       "2      Пусть B_W — базис для W. Расширьте его до бази...    linear-algebra   \n",
       "3        \\r\\n\\left 1-\\left 1-\\frac1n\\right)^{f n)}\\ri...            limits   \n",
       "4                        $$x=пять\\pmвторой\\sqrt{шесть}$$             Other   \n",
       "...                                                  ...               ...   \n",
       "14977  $$ \\sum_{n\\geq два}\\frac{a_n^второй}{дваn+перв...             Other   \n",
       "14978  \\begin{align \\r\\n\\lambda^*( э прописная   плюс...     real-analysis   \n",
       "14979  $$  равняется   би _ и * бэ _ эм +s*b* бэ _i-x...             Other   \n",
       "14980   t\\leq m(U_t)\\leq t\\sum_{n=1}У{\\infty}2^{1-n}=2t              Other   \n",
       "14981  Мы знаем, что dxдwedgee dУ= dx\\otimes dУ -dУ\\o...             Other   \n",
       "\n",
       "              augmentation  formulae_only  \\\n",
       "0                 num2word          False   \n",
       "1             all_augments          False   \n",
       "2      rand_delet_and_typo          False   \n",
       "3      rand_delet_and_typo           True   \n",
       "4                 num2word           True   \n",
       "...                    ...            ...   \n",
       "14977             num2word           True   \n",
       "14978         all_augments           True   \n",
       "14979             synonyms           True   \n",
       "14980  rand_delet_and_typo           True   \n",
       "14981  rand_delet_and_typo          False   \n",
       "\n",
       "                                              prediction    metric  \n",
       "0      Проблемы этого типа, взятые из книг, часто уяз...  0.985816  \n",
       "1      Чтобы две ладьи могли атаковать друг друга, он...  0.984064  \n",
       "2      Пусть $B_W$ — базис для W. Расширьте его до ба...  0.892256  \n",
       "3      $\\left(1-\\left(1-\\frac1n\\right)^{f(n)}\\right)^...  0.952381  \n",
       "4                                    $$x=5\\pm2\\sqrt{6}$$  1.000000  \n",
       "...                                                  ...       ...  \n",
       "14977  $$ \\sum_{n\\geq 2}\\frac{a_n^2}{2n+1}\\geq 0 \\tag...  1.000000  \n",
       "14978  \\begin{align} \\lambda^*(E + \\lambda^*(E^\\compl...  0.595142  \n",
       "14979   $$=b_i*b_m+s^b*b_i-x^b*b_i+b_m*x^i+s^b*x^i-b^i$$  0.777778  \n",
       "14980  $t\\leq m(U_t)\\leq t\\sum_{n=1}^{\\infty}2^{1-n}=2t$  0.924528  \n",
       "14981  Мы знаем, что $dx\\wedge dY= dx\\otimes dY-dY\\ot...  0.892193  \n",
       "\n",
       "[14982 rows x 10 columns]"
      ]
     },
     "execution_count": 55,
     "metadata": {},
     "output_type": "execute_result"
    }
   ],
   "source": [
    "fin_df"
   ]
  },
  {
   "cell_type": "code",
   "execution_count": 57,
   "id": "1c42cb9f",
   "metadata": {
    "execution": {
     "iopub.execute_input": "2024-05-19T08:55:32.614727Z",
     "iopub.status.busy": "2024-05-19T08:55:32.614407Z",
     "iopub.status.idle": "2024-05-19T08:55:32.620477Z",
     "shell.execute_reply": "2024-05-19T08:55:32.619374Z"
    },
    "papermill": {
     "duration": 0.041455,
     "end_time": "2024-05-19T08:55:32.622342",
     "exception": false,
     "start_time": "2024-05-19T08:55:32.580887",
     "status": "completed"
    },
    "tags": []
   },
   "outputs": [],
   "source": [
    "bad_df = fin_df[fin_df['metric']<0.7]"
   ]
  },
  {
   "cell_type": "code",
   "execution_count": 58,
   "id": "7229c59d",
   "metadata": {
    "execution": {
     "iopub.execute_input": "2024-05-19T08:55:32.687127Z",
     "iopub.status.busy": "2024-05-19T08:55:32.686555Z",
     "iopub.status.idle": "2024-05-19T08:55:32.694546Z",
     "shell.execute_reply": "2024-05-19T08:55:32.693733Z"
    },
    "papermill": {
     "duration": 0.042758,
     "end_time": "2024-05-19T08:55:32.696577",
     "exception": false,
     "start_time": "2024-05-19T08:55:32.653819",
     "status": "completed"
    },
    "tags": []
   },
   "outputs": [
    {
     "data": {
      "text/plain": [
       "tags\n",
       "Other                       231\n",
       "calculus                     55\n",
       "probability                  43\n",
       "linear-algebra               42\n",
       "real-analysis                40\n",
       "abstract-algebra             29\n",
       "algebra-precalculus          20\n",
       "sequences-and-series         18\n",
       "trigonometry                 18\n",
       "complex-analysis             16\n",
       "elementary-number-theory     14\n",
       "general-topology             14\n",
       "combinatorics                14\n",
       "integration                  10\n",
       "number-theory                 9\n",
       "limits                        5\n",
       "matrices                      5\n",
       "Name: count, dtype: int64"
      ]
     },
     "execution_count": 58,
     "metadata": {},
     "output_type": "execute_result"
    }
   ],
   "source": [
    "bad_df['tags'].value_counts()"
   ]
  },
  {
   "cell_type": "code",
   "execution_count": 59,
   "id": "095d6e81",
   "metadata": {
    "execution": {
     "iopub.execute_input": "2024-05-19T08:55:32.763115Z",
     "iopub.status.busy": "2024-05-19T08:55:32.762846Z",
     "iopub.status.idle": "2024-05-19T08:55:32.771877Z",
     "shell.execute_reply": "2024-05-19T08:55:32.771020Z"
    },
    "papermill": {
     "duration": 0.04359,
     "end_time": "2024-05-19T08:55:32.774049",
     "exception": false,
     "start_time": "2024-05-19T08:55:32.730459",
     "status": "completed"
    },
    "tags": []
   },
   "outputs": [
    {
     "data": {
      "text/plain": [
       "tags\n",
       "Other                       5501\n",
       "calculus                    1689\n",
       "real-analysis               1157\n",
       "linear-algebra              1069\n",
       "probability                  723\n",
       "abstract-algebra             683\n",
       "algebra-precalculus          637\n",
       "elementary-number-theory     542\n",
       "sequences-and-series         483\n",
       "combinatorics                421\n",
       "integration                  399\n",
       "general-topology             371\n",
       "complex-analysis             352\n",
       "number-theory                320\n",
       "trigonometry                 270\n",
       "limits                       211\n",
       "matrices                     154\n",
       "Name: count, dtype: int64"
      ]
     },
     "execution_count": 59,
     "metadata": {},
     "output_type": "execute_result"
    }
   ],
   "source": [
    "fin_df['tags'].value_counts()"
   ]
  },
  {
   "cell_type": "code",
   "execution_count": null,
   "id": "cd756ce4",
   "metadata": {
    "execution": {
     "iopub.execute_input": "2024-05-13T02:56:56.038139Z",
     "iopub.status.busy": "2024-05-13T02:56:56.037897Z",
     "iopub.status.idle": "2024-05-13T02:56:56.050314Z"
    },
    "papermill": {
     "duration": 0.031128,
     "end_time": "2024-05-19T08:55:32.839164",
     "exception": false,
     "start_time": "2024-05-19T08:55:32.808036",
     "status": "completed"
    },
    "tags": []
   },
   "outputs": [],
   "source": []
  },
  {
   "cell_type": "code",
   "execution_count": 60,
   "id": "44a3373a",
   "metadata": {
    "execution": {
     "iopub.execute_input": "2024-05-19T08:55:32.905925Z",
     "iopub.status.busy": "2024-05-19T08:55:32.905647Z",
     "iopub.status.idle": "2024-05-19T08:55:32.915556Z",
     "shell.execute_reply": "2024-05-19T08:55:32.914644Z"
    },
    "papermill": {
     "duration": 0.044646,
     "end_time": "2024-05-19T08:55:32.917526",
     "exception": false,
     "start_time": "2024-05-19T08:55:32.872880",
     "status": "completed"
    },
    "tags": []
   },
   "outputs": [
    {
     "data": {
      "text/plain": [
       "0.9175130397737546"
      ]
     },
     "execution_count": 60,
     "metadata": {},
     "output_type": "execute_result"
    }
   ],
   "source": [
    "fin_df[fin_df['metric']>0.4]['metric'].mean()"
   ]
  },
  {
   "cell_type": "code",
   "execution_count": 61,
   "id": "2c036960",
   "metadata": {
    "execution": {
     "iopub.execute_input": "2024-05-19T08:55:32.983372Z",
     "iopub.status.busy": "2024-05-19T08:55:32.983126Z",
     "iopub.status.idle": "2024-05-19T08:55:32.989871Z",
     "shell.execute_reply": "2024-05-19T08:55:32.988849Z"
    },
    "papermill": {
     "duration": 0.041932,
     "end_time": "2024-05-19T08:55:32.992086",
     "exception": false,
     "start_time": "2024-05-19T08:55:32.950154",
     "status": "completed"
    },
    "tags": []
   },
   "outputs": [
    {
     "data": {
      "text/plain": [
       "0.9454545454545454"
      ]
     },
     "execution_count": 61,
     "metadata": {},
     "output_type": "execute_result"
    }
   ],
   "source": [
    "fin_df['metric'].median()"
   ]
  },
  {
   "cell_type": "code",
   "execution_count": 62,
   "id": "d00ad99c",
   "metadata": {
    "execution": {
     "iopub.execute_input": "2024-05-19T08:55:33.059414Z",
     "iopub.status.busy": "2024-05-19T08:55:33.059140Z",
     "iopub.status.idle": "2024-05-19T08:55:33.062960Z",
     "shell.execute_reply": "2024-05-19T08:55:33.062125Z"
    },
    "papermill": {
     "duration": 0.038278,
     "end_time": "2024-05-19T08:55:33.064907",
     "exception": false,
     "start_time": "2024-05-19T08:55:33.026629",
     "status": "completed"
    },
    "tags": []
   },
   "outputs": [],
   "source": [
    "from datetime import datetime"
   ]
  },
  {
   "cell_type": "code",
   "execution_count": 63,
   "id": "71073a64",
   "metadata": {
    "execution": {
     "iopub.execute_input": "2024-05-19T08:55:33.130058Z",
     "iopub.status.busy": "2024-05-19T08:55:33.129768Z",
     "iopub.status.idle": "2024-05-19T08:55:33.462508Z",
     "shell.execute_reply": "2024-05-19T08:55:33.461468Z"
    },
    "papermill": {
     "duration": 0.368008,
     "end_time": "2024-05-19T08:55:33.464976",
     "exception": false,
     "start_time": "2024-05-19T08:55:33.096968",
     "status": "completed"
    },
    "tags": []
   },
   "outputs": [],
   "source": [
    "\n",
    "fin_df.to_parquet(f\"FULL_INF_{datetime.now().strftime('%d_%m_%Y')}.parquet\")"
   ]
  },
  {
   "cell_type": "code",
   "execution_count": 64,
   "id": "ea9ef3de",
   "metadata": {
    "execution": {
     "iopub.execute_input": "2024-05-19T08:55:33.597768Z",
     "iopub.status.busy": "2024-05-19T08:55:33.597160Z",
     "iopub.status.idle": "2024-05-19T08:55:41.626141Z",
     "shell.execute_reply": "2024-05-19T08:55:41.625283Z"
    },
    "papermill": {
     "duration": 8.064277,
     "end_time": "2024-05-19T08:55:41.628358",
     "exception": false,
     "start_time": "2024-05-19T08:55:33.564081",
     "status": "completed"
    },
    "tags": []
   },
   "outputs": [],
   "source": [
    "\n",
    "fin_df.to_excel(f\"FULL_INF_{datetime.now().strftime('%d_%m_%Y')}.xlsx\", engine=\"xlsxwriter\")"
   ]
  },
  {
   "cell_type": "code",
   "execution_count": 65,
   "id": "1d3959c1",
   "metadata": {
    "execution": {
     "iopub.execute_input": "2024-05-19T08:55:41.694596Z",
     "iopub.status.busy": "2024-05-19T08:55:41.694028Z",
     "iopub.status.idle": "2024-05-19T08:55:41.698543Z",
     "shell.execute_reply": "2024-05-19T08:55:41.697669Z"
    },
    "papermill": {
     "duration": 0.039295,
     "end_time": "2024-05-19T08:55:41.700408",
     "exception": false,
     "start_time": "2024-05-19T08:55:41.661113",
     "status": "completed"
    },
    "tags": []
   },
   "outputs": [],
   "source": [
    "# ключевая информация на инференс 1 итерации:\n",
    "# 1) у модели плохо с внезапными большими переносами строк и ДЛИННЫМИ фразами\n",
    "# 2) там где скор >0.96 в основном разница чисто косметическая -- в пробелах\n",
    "# 3) дополнить аугментацию $$ и $, распространить примеры\n",
    "# 4) хотелось бы числительные\n",
    "\n",
    "# ВЫВОДЫ -- аугментировать датасет на числительные + удаление ТОЛЬКО $$ \n",
    "# и ничего больше\n",
    "# дообучить и сравнить результаты"
   ]
  }
 ],
 "metadata": {
  "kaggle": {
   "accelerator": "nvidiaTeslaT4",
   "dataSources": [
    {
     "datasetId": 4990343,
     "sourceId": 8395289,
     "sourceType": "datasetVersion"
    },
    {
     "datasetId": 5037227,
     "sourceId": 8452219,
     "sourceType": "datasetVersion"
    },
    {
     "isSourceIdPinned": true,
     "modelInstanceId": 34412,
     "sourceId": 40887,
     "sourceType": "modelInstanceVersion"
    },
    {
     "isSourceIdPinned": true,
     "modelInstanceId": 34413,
     "sourceId": 40888,
     "sourceType": "modelInstanceVersion"
    },
    {
     "modelInstanceId": 34417,
     "sourceId": 40892,
     "sourceType": "modelInstanceVersion"
    },
    {
     "isSourceIdPinned": true,
     "modelInstanceId": 39338,
     "sourceId": 46974,
     "sourceType": "modelInstanceVersion"
    },
    {
     "isSourceIdPinned": true,
     "modelInstanceId": 39465,
     "sourceId": 47132,
     "sourceType": "modelInstanceVersion"
    },
    {
     "isSourceIdPinned": true,
     "modelInstanceId": 43575,
     "sourceId": 51812,
     "sourceType": "modelInstanceVersion"
    }
   ],
   "dockerImageVersionId": 30699,
   "isGpuEnabled": true,
   "isInternetEnabled": true,
   "language": "python",
   "sourceType": "notebook"
  },
  "kernelspec": {
   "display_name": "Python 3 (ipykernel)",
   "language": "python",
   "name": "python3"
  },
  "language_info": {
   "codemirror_mode": {
    "name": "ipython",
    "version": 3
   },
   "file_extension": ".py",
   "mimetype": "text/x-python",
   "name": "python",
   "nbconvert_exporter": "python",
   "pygments_lexer": "ipython3",
   "version": "3.10.9"
  },
  "papermill": {
   "default_parameters": {},
   "duration": 22458.478719,
   "end_time": "2024-05-19T08:55:45.534386",
   "environment_variables": {},
   "exception": null,
   "input_path": "__notebook__.ipynb",
   "output_path": "__notebook__.ipynb",
   "parameters": {},
   "start_time": "2024-05-19T02:41:27.055667",
   "version": "2.5.0"
  },
  "widgets": {
   "application/vnd.jupyter.widget-state+json": {
    "state": {
     "2f026e217e604d6dbb8513b89b9db5ed": {
      "model_module": "@jupyter-widgets/controls",
      "model_module_version": "1.5.0",
      "model_name": "DescriptionStyleModel",
      "state": {
       "_model_module": "@jupyter-widgets/controls",
       "_model_module_version": "1.5.0",
       "_model_name": "DescriptionStyleModel",
       "_view_count": null,
       "_view_module": "@jupyter-widgets/base",
       "_view_module_version": "1.2.0",
       "_view_name": "StyleView",
       "description_width": ""
      }
     },
     "33b3118519604ddc8d3f095724d10245": {
      "model_module": "@jupyter-widgets/controls",
      "model_module_version": "1.5.0",
      "model_name": "FloatProgressModel",
      "state": {
       "_dom_classes": [],
       "_model_module": "@jupyter-widgets/controls",
       "_model_module_version": "1.5.0",
       "_model_name": "FloatProgressModel",
       "_view_count": null,
       "_view_module": "@jupyter-widgets/controls",
       "_view_module_version": "1.5.0",
       "_view_name": "ProgressView",
       "bar_style": "success",
       "description": "",
       "description_tooltip": null,
       "layout": "IPY_MODEL_55b6e69552bc4bb78644fdaaa406c725",
       "max": 375,
       "min": 0,
       "orientation": "horizontal",
       "style": "IPY_MODEL_f4dc34b51b414db5892042bb7d433eaa",
       "value": 375
      }
     },
     "37cc64cb601d428b90898a6e2dc299d9": {
      "model_module": "@jupyter-widgets/controls",
      "model_module_version": "1.5.0",
      "model_name": "DescriptionStyleModel",
      "state": {
       "_model_module": "@jupyter-widgets/controls",
       "_model_module_version": "1.5.0",
       "_model_name": "DescriptionStyleModel",
       "_view_count": null,
       "_view_module": "@jupyter-widgets/base",
       "_view_module_version": "1.2.0",
       "_view_name": "StyleView",
       "description_width": ""
      }
     },
     "55b6e69552bc4bb78644fdaaa406c725": {
      "model_module": "@jupyter-widgets/base",
      "model_module_version": "1.2.0",
      "model_name": "LayoutModel",
      "state": {
       "_model_module": "@jupyter-widgets/base",
       "_model_module_version": "1.2.0",
       "_model_name": "LayoutModel",
       "_view_count": null,
       "_view_module": "@jupyter-widgets/base",
       "_view_module_version": "1.2.0",
       "_view_name": "LayoutView",
       "align_content": null,
       "align_items": null,
       "align_self": null,
       "border": null,
       "bottom": null,
       "display": null,
       "flex": null,
       "flex_flow": null,
       "grid_area": null,
       "grid_auto_columns": null,
       "grid_auto_flow": null,
       "grid_auto_rows": null,
       "grid_column": null,
       "grid_gap": null,
       "grid_row": null,
       "grid_template_areas": null,
       "grid_template_columns": null,
       "grid_template_rows": null,
       "height": null,
       "justify_content": null,
       "justify_items": null,
       "left": null,
       "margin": null,
       "max_height": null,
       "max_width": null,
       "min_height": null,
       "min_width": null,
       "object_fit": null,
       "object_position": null,
       "order": null,
       "overflow": null,
       "overflow_x": null,
       "overflow_y": null,
       "padding": null,
       "right": null,
       "top": null,
       "visibility": null,
       "width": null
      }
     },
     "617428dd462f42c3b77030e94a0aa7a5": {
      "model_module": "@jupyter-widgets/base",
      "model_module_version": "1.2.0",
      "model_name": "LayoutModel",
      "state": {
       "_model_module": "@jupyter-widgets/base",
       "_model_module_version": "1.2.0",
       "_model_name": "LayoutModel",
       "_view_count": null,
       "_view_module": "@jupyter-widgets/base",
       "_view_module_version": "1.2.0",
       "_view_name": "LayoutView",
       "align_content": null,
       "align_items": null,
       "align_self": null,
       "border": null,
       "bottom": null,
       "display": null,
       "flex": null,
       "flex_flow": null,
       "grid_area": null,
       "grid_auto_columns": null,
       "grid_auto_flow": null,
       "grid_auto_rows": null,
       "grid_column": null,
       "grid_gap": null,
       "grid_row": null,
       "grid_template_areas": null,
       "grid_template_columns": null,
       "grid_template_rows": null,
       "height": null,
       "justify_content": null,
       "justify_items": null,
       "left": null,
       "margin": null,
       "max_height": null,
       "max_width": null,
       "min_height": null,
       "min_width": null,
       "object_fit": null,
       "object_position": null,
       "order": null,
       "overflow": null,
       "overflow_x": null,
       "overflow_y": null,
       "padding": null,
       "right": null,
       "top": null,
       "visibility": null,
       "width": null
      }
     },
     "62b1c26857fc469581cafdc28acc706a": {
      "model_module": "@jupyter-widgets/controls",
      "model_module_version": "1.5.0",
      "model_name": "HTMLModel",
      "state": {
       "_dom_classes": [],
       "_model_module": "@jupyter-widgets/controls",
       "_model_module_version": "1.5.0",
       "_model_name": "HTMLModel",
       "_view_count": null,
       "_view_module": "@jupyter-widgets/controls",
       "_view_module_version": "1.5.0",
       "_view_name": "HTMLView",
       "description": "",
       "description_tooltip": null,
       "layout": "IPY_MODEL_617428dd462f42c3b77030e94a0aa7a5",
       "placeholder": "​",
       "style": "IPY_MODEL_2f026e217e604d6dbb8513b89b9db5ed",
       "value": " 375/375 [6:12:39&lt;00:00, 48.17s/it]"
      }
     },
     "8c6c8bbd842a4fcd9346002fe4c797f3": {
      "model_module": "@jupyter-widgets/controls",
      "model_module_version": "1.5.0",
      "model_name": "HTMLModel",
      "state": {
       "_dom_classes": [],
       "_model_module": "@jupyter-widgets/controls",
       "_model_module_version": "1.5.0",
       "_model_name": "HTMLModel",
       "_view_count": null,
       "_view_module": "@jupyter-widgets/controls",
       "_view_module_version": "1.5.0",
       "_view_name": "HTMLView",
       "description": "",
       "description_tooltip": null,
       "layout": "IPY_MODEL_d30dac3fbc104944ae27cd2309af7415",
       "placeholder": "​",
       "style": "IPY_MODEL_37cc64cb601d428b90898a6e2dc299d9",
       "value": "testing: 100%"
      }
     },
     "d30dac3fbc104944ae27cd2309af7415": {
      "model_module": "@jupyter-widgets/base",
      "model_module_version": "1.2.0",
      "model_name": "LayoutModel",
      "state": {
       "_model_module": "@jupyter-widgets/base",
       "_model_module_version": "1.2.0",
       "_model_name": "LayoutModel",
       "_view_count": null,
       "_view_module": "@jupyter-widgets/base",
       "_view_module_version": "1.2.0",
       "_view_name": "LayoutView",
       "align_content": null,
       "align_items": null,
       "align_self": null,
       "border": null,
       "bottom": null,
       "display": null,
       "flex": null,
       "flex_flow": null,
       "grid_area": null,
       "grid_auto_columns": null,
       "grid_auto_flow": null,
       "grid_auto_rows": null,
       "grid_column": null,
       "grid_gap": null,
       "grid_row": null,
       "grid_template_areas": null,
       "grid_template_columns": null,
       "grid_template_rows": null,
       "height": null,
       "justify_content": null,
       "justify_items": null,
       "left": null,
       "margin": null,
       "max_height": null,
       "max_width": null,
       "min_height": null,
       "min_width": null,
       "object_fit": null,
       "object_position": null,
       "order": null,
       "overflow": null,
       "overflow_x": null,
       "overflow_y": null,
       "padding": null,
       "right": null,
       "top": null,
       "visibility": null,
       "width": null
      }
     },
     "ebd18799277c44139ff012465d156fca": {
      "model_module": "@jupyter-widgets/controls",
      "model_module_version": "1.5.0",
      "model_name": "HBoxModel",
      "state": {
       "_dom_classes": [],
       "_model_module": "@jupyter-widgets/controls",
       "_model_module_version": "1.5.0",
       "_model_name": "HBoxModel",
       "_view_count": null,
       "_view_module": "@jupyter-widgets/controls",
       "_view_module_version": "1.5.0",
       "_view_name": "HBoxView",
       "box_style": "",
       "children": [
        "IPY_MODEL_8c6c8bbd842a4fcd9346002fe4c797f3",
        "IPY_MODEL_33b3118519604ddc8d3f095724d10245",
        "IPY_MODEL_62b1c26857fc469581cafdc28acc706a"
       ],
       "layout": "IPY_MODEL_f433fdadcb14420cb50099f8caae0fdd"
      }
     },
     "f433fdadcb14420cb50099f8caae0fdd": {
      "model_module": "@jupyter-widgets/base",
      "model_module_version": "1.2.0",
      "model_name": "LayoutModel",
      "state": {
       "_model_module": "@jupyter-widgets/base",
       "_model_module_version": "1.2.0",
       "_model_name": "LayoutModel",
       "_view_count": null,
       "_view_module": "@jupyter-widgets/base",
       "_view_module_version": "1.2.0",
       "_view_name": "LayoutView",
       "align_content": null,
       "align_items": null,
       "align_self": null,
       "border": null,
       "bottom": null,
       "display": null,
       "flex": null,
       "flex_flow": null,
       "grid_area": null,
       "grid_auto_columns": null,
       "grid_auto_flow": null,
       "grid_auto_rows": null,
       "grid_column": null,
       "grid_gap": null,
       "grid_row": null,
       "grid_template_areas": null,
       "grid_template_columns": null,
       "grid_template_rows": null,
       "height": null,
       "justify_content": null,
       "justify_items": null,
       "left": null,
       "margin": null,
       "max_height": null,
       "max_width": null,
       "min_height": null,
       "min_width": null,
       "object_fit": null,
       "object_position": null,
       "order": null,
       "overflow": null,
       "overflow_x": null,
       "overflow_y": null,
       "padding": null,
       "right": null,
       "top": null,
       "visibility": null,
       "width": null
      }
     },
     "f4dc34b51b414db5892042bb7d433eaa": {
      "model_module": "@jupyter-widgets/controls",
      "model_module_version": "1.5.0",
      "model_name": "ProgressStyleModel",
      "state": {
       "_model_module": "@jupyter-widgets/controls",
       "_model_module_version": "1.5.0",
       "_model_name": "ProgressStyleModel",
       "_view_count": null,
       "_view_module": "@jupyter-widgets/base",
       "_view_module_version": "1.2.0",
       "_view_name": "StyleView",
       "bar_color": null,
       "description_width": ""
      }
     }
    },
    "version_major": 2,
    "version_minor": 0
   }
  }
 },
 "nbformat": 4,
 "nbformat_minor": 5
}
