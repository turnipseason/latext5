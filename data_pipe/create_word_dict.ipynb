{
 "cells": [
  {
   "cell_type": "code",
   "execution_count": 7,
   "id": "da01c01a",
   "metadata": {},
   "outputs": [],
   "source": [
    "from sys import argv"
   ]
  },
  {
   "cell_type": "code",
   "execution_count": null,
   "id": "de6dd3b0",
   "metadata": {},
   "outputs": [],
   "source": [
    "path = argv[1]\n",
    "\n",
    "import pandas as pd\n",
    "df = pd.read_json(path)[['body_markdown','tags']]\n",
    "df.info()"
   ]
  },
  {
   "cell_type": "code",
   "execution_count": 5,
   "id": "1e9e143a",
   "metadata": {},
   "outputs": [],
   "source": [
    "new = df.head(10)"
   ]
  },
  {
   "cell_type": "code",
   "execution_count": 1,
   "id": "4cc297b5",
   "metadata": {},
   "outputs": [
    {
     "name": "stdout",
     "output_type": "stream",
     "text": [
      "<class 'pandas.core.frame.DataFrame'>\n",
      "RangeIndex: 121700 entries, 0 to 121699\n",
      "Data columns (total 2 columns):\n",
      " #   Column   Non-Null Count   Dtype \n",
      "---  ------   --------------   ----- \n",
      " 0   answers  90892 non-null   object\n",
      " 1   tags     121700 non-null  object\n",
      "dtypes: object(2)\n",
      "memory usage: 1.9+ MB\n"
     ]
    }
   ],
   "source": [
    "import pandas as pd\n",
    "df = pd.read_json('1414384\\MathStackExchangeAPI_Part_1_TimeStamps_1512760268_1535031491.json\\MathStackExchangeAPI_Part_1_TimeStamps_1512760268_1535031491.json')[['answers','tags']]\n",
    "df.info()"
   ]
  },
  {
   "cell_type": "code",
   "execution_count": 2,
   "id": "8d42ca3d",
   "metadata": {},
   "outputs": [
    {
     "data": {
      "text/html": [
       "<div>\n",
       "<style scoped>\n",
       "    .dataframe tbody tr th:only-of-type {\n",
       "        vertical-align: middle;\n",
       "    }\n",
       "\n",
       "    .dataframe tbody tr th {\n",
       "        vertical-align: top;\n",
       "    }\n",
       "\n",
       "    .dataframe thead th {\n",
       "        text-align: right;\n",
       "    }\n",
       "</style>\n",
       "<table border=\"1\" class=\"dataframe\">\n",
       "  <thead>\n",
       "    <tr style=\"text-align: right;\">\n",
       "      <th></th>\n",
       "      <th>answers</th>\n",
       "      <th>tags</th>\n",
       "    </tr>\n",
       "  </thead>\n",
       "  <tbody>\n",
       "    <tr>\n",
       "      <th>0</th>\n",
       "      <td>NaN</td>\n",
       "      <td>[inequality, convex-analysis, norm, projection]</td>\n",
       "    </tr>\n",
       "    <tr>\n",
       "      <th>1</th>\n",
       "      <td>NaN</td>\n",
       "      <td>[representation-theory, lie-groups, lie-algebras]</td>\n",
       "    </tr>\n",
       "    <tr>\n",
       "      <th>2</th>\n",
       "      <td>NaN</td>\n",
       "      <td>[multivariable-calculus]</td>\n",
       "    </tr>\n",
       "    <tr>\n",
       "      <th>3</th>\n",
       "      <td>NaN</td>\n",
       "      <td>[partial-derivative, jacobian]</td>\n",
       "    </tr>\n",
       "    <tr>\n",
       "      <th>4</th>\n",
       "      <td>[{'community_owned_date': 1535031083, 'answer_...</td>\n",
       "      <td>[sequences-and-series, logic, set-theory, ordi...</td>\n",
       "    </tr>\n",
       "    <tr>\n",
       "      <th>5</th>\n",
       "      <td>NaN</td>\n",
       "      <td>[game-theory]</td>\n",
       "    </tr>\n",
       "    <tr>\n",
       "      <th>6</th>\n",
       "      <td>NaN</td>\n",
       "      <td>[linear-algebra]</td>\n",
       "    </tr>\n",
       "    <tr>\n",
       "      <th>7</th>\n",
       "      <td>[{'answer_id': 2892122, 'body_markdown': 'Hint...</td>\n",
       "      <td>[integration, analysis]</td>\n",
       "    </tr>\n",
       "    <tr>\n",
       "      <th>8</th>\n",
       "      <td>NaN</td>\n",
       "      <td>[p-adic-number-theory, nonarchimedian-analysis]</td>\n",
       "    </tr>\n",
       "    <tr>\n",
       "      <th>9</th>\n",
       "      <td>NaN</td>\n",
       "      <td>[integration, definite-integrals, special-func...</td>\n",
       "    </tr>\n",
       "  </tbody>\n",
       "</table>\n",
       "</div>"
      ],
      "text/plain": [
       "                                             answers  \\\n",
       "0                                                NaN   \n",
       "1                                                NaN   \n",
       "2                                                NaN   \n",
       "3                                                NaN   \n",
       "4  [{'community_owned_date': 1535031083, 'answer_...   \n",
       "5                                                NaN   \n",
       "6                                                NaN   \n",
       "7  [{'answer_id': 2892122, 'body_markdown': 'Hint...   \n",
       "8                                                NaN   \n",
       "9                                                NaN   \n",
       "\n",
       "                                                tags  \n",
       "0    [inequality, convex-analysis, norm, projection]  \n",
       "1  [representation-theory, lie-groups, lie-algebras]  \n",
       "2                           [multivariable-calculus]  \n",
       "3                     [partial-derivative, jacobian]  \n",
       "4  [sequences-and-series, logic, set-theory, ordi...  \n",
       "5                                      [game-theory]  \n",
       "6                                   [linear-algebra]  \n",
       "7                            [integration, analysis]  \n",
       "8    [p-adic-number-theory, nonarchimedian-analysis]  \n",
       "9  [integration, definite-integrals, special-func...  "
      ]
     },
     "execution_count": 2,
     "metadata": {},
     "output_type": "execute_result"
    }
   ],
   "source": [
    "df.head(10)"
   ]
  },
  {
   "cell_type": "code",
   "execution_count": 7,
   "id": "bdb40f67",
   "metadata": {},
   "outputs": [],
   "source": [
    "# удаляем все вопросы у которых нет ответов (нулевые ответы)\n",
    "df = df[~df['answers'].isnull()]"
   ]
  },
  {
   "cell_type": "code",
   "execution_count": 11,
   "id": "bd142138",
   "metadata": {},
   "outputs": [
    {
     "data": {
      "text/html": [
       "<div>\n",
       "<style scoped>\n",
       "    .dataframe tbody tr th:only-of-type {\n",
       "        vertical-align: middle;\n",
       "    }\n",
       "\n",
       "    .dataframe tbody tr th {\n",
       "        vertical-align: top;\n",
       "    }\n",
       "\n",
       "    .dataframe thead th {\n",
       "        text-align: right;\n",
       "    }\n",
       "</style>\n",
       "<table border=\"1\" class=\"dataframe\">\n",
       "  <thead>\n",
       "    <tr style=\"text-align: right;\">\n",
       "      <th></th>\n",
       "      <th>answers</th>\n",
       "      <th>tags</th>\n",
       "    </tr>\n",
       "  </thead>\n",
       "  <tbody>\n",
       "    <tr>\n",
       "      <th>4</th>\n",
       "      <td>[{'community_owned_date': 1535031083, 'answer_...</td>\n",
       "      <td>[sequences-and-series, logic, set-theory, ordi...</td>\n",
       "    </tr>\n",
       "    <tr>\n",
       "      <th>7</th>\n",
       "      <td>[{'answer_id': 2892122, 'body_markdown': 'Hint...</td>\n",
       "      <td>[integration, analysis]</td>\n",
       "    </tr>\n",
       "    <tr>\n",
       "      <th>11</th>\n",
       "      <td>[{'answer_id': 2892113, 'body_markdown': 'As I...</td>\n",
       "      <td>[linear-algebra, functions]</td>\n",
       "    </tr>\n",
       "    <tr>\n",
       "      <th>12</th>\n",
       "      <td>[{'answer_id': 2892117, 'body_markdown': '\r\n",
       "I ...</td>\n",
       "      <td>[complex-analysis]</td>\n",
       "    </tr>\n",
       "    <tr>\n",
       "      <th>23</th>\n",
       "      <td>[{'answer_id': 2892082, 'body_markdown': 'It i...</td>\n",
       "      <td>[calculus, differential-equations, derivatives]</td>\n",
       "    </tr>\n",
       "    <tr>\n",
       "      <th>...</th>\n",
       "      <td>...</td>\n",
       "      <td>...</td>\n",
       "    </tr>\n",
       "    <tr>\n",
       "      <th>121695</th>\n",
       "      <td>[{'answer_id': 2557628, 'body_markdown': '*Not...</td>\n",
       "      <td>[set-theory, forcing]</td>\n",
       "    </tr>\n",
       "    <tr>\n",
       "      <th>121696</th>\n",
       "      <td>[{'answer_id': 2557604, 'body_markdown': 'What...</td>\n",
       "      <td>[finite-fields]</td>\n",
       "    </tr>\n",
       "    <tr>\n",
       "      <th>121697</th>\n",
       "      <td>[{'answer_id': 2557652, 'body_markdown': 'Let&amp;...</td>\n",
       "      <td>[polynomials]</td>\n",
       "    </tr>\n",
       "    <tr>\n",
       "      <th>121698</th>\n",
       "      <td>[{'answer_id': 2557602, 'body_markdown': 'Hint...</td>\n",
       "      <td>[real-analysis, measure-theory, lebesgue-integ...</td>\n",
       "    </tr>\n",
       "    <tr>\n",
       "      <th>121699</th>\n",
       "      <td>[{'answer_id': 2557583, 'body_markdown': 'Hint...</td>\n",
       "      <td>[abstract-algebra]</td>\n",
       "    </tr>\n",
       "  </tbody>\n",
       "</table>\n",
       "<p>90892 rows × 2 columns</p>\n",
       "</div>"
      ],
      "text/plain": [
       "                                                  answers  \\\n",
       "4       [{'community_owned_date': 1535031083, 'answer_...   \n",
       "7       [{'answer_id': 2892122, 'body_markdown': 'Hint...   \n",
       "11      [{'answer_id': 2892113, 'body_markdown': 'As I...   \n",
       "12      [{'answer_id': 2892117, 'body_markdown': '\n",
       "I ...   \n",
       "23      [{'answer_id': 2892082, 'body_markdown': 'It i...   \n",
       "...                                                   ...   \n",
       "121695  [{'answer_id': 2557628, 'body_markdown': '*Not...   \n",
       "121696  [{'answer_id': 2557604, 'body_markdown': 'What...   \n",
       "121697  [{'answer_id': 2557652, 'body_markdown': 'Let&...   \n",
       "121698  [{'answer_id': 2557602, 'body_markdown': 'Hint...   \n",
       "121699  [{'answer_id': 2557583, 'body_markdown': 'Hint...   \n",
       "\n",
       "                                                     tags  \n",
       "4       [sequences-and-series, logic, set-theory, ordi...  \n",
       "7                                 [integration, analysis]  \n",
       "11                            [linear-algebra, functions]  \n",
       "12                                     [complex-analysis]  \n",
       "23        [calculus, differential-equations, derivatives]  \n",
       "...                                                   ...  \n",
       "121695                              [set-theory, forcing]  \n",
       "121696                                    [finite-fields]  \n",
       "121697                                      [polynomials]  \n",
       "121698  [real-analysis, measure-theory, lebesgue-integ...  \n",
       "121699                                 [abstract-algebra]  \n",
       "\n",
       "[90892 rows x 2 columns]"
      ]
     },
     "execution_count": 11,
     "metadata": {},
     "output_type": "execute_result"
    }
   ],
   "source": [
    "df"
   ]
  },
  {
   "cell_type": "code",
   "execution_count": 20,
   "id": "17b8db98",
   "metadata": {},
   "outputs": [],
   "source": [
    "# восстанавливаем правильную индексацию\n",
    "df=df.reset_index()"
   ]
  },
  {
   "cell_type": "code",
   "execution_count": null,
   "id": "577e0ce5",
   "metadata": {},
   "outputs": [],
   "source": [
    "# собираем это в один 'плоский' датафрейм\n",
    "rows = []\n",
    "i=list(df['tags'].keys())[0]\n",
    "progress = 0\n",
    "\n",
    "for answers in df['answers']:\n",
    "    if answers is not None:\n",
    "        for answer in answers:\n",
    "            row = {}\n",
    "            markdown = answer['body_markdown']\n",
    "            row['markdown']=markdown\n",
    "            row['tags']=df['tags'][i]\n",
    "            rows.append(row)\n",
    "    i+=1 \n",
    "    progress+=1\n",
    "    print(progress/len(df))\n",
    "\n",
    "df_rows = pd.DataFrame.from_dict(rows)"
   ]
  },
  {
   "cell_type": "code",
   "execution_count": 33,
   "id": "304e1365",
   "metadata": {},
   "outputs": [
    {
     "name": "stdout",
     "output_type": "stream",
     "text": [
      "                                                 markdown  \\\n",
      "0       They just mean that the sequence has indices $...   \n",
      "1       Hint:\\r\\n\\begin{align}\\r\\n\\ln  \\left( \\prod_{j...   \n",
      "2       As I mentioned in my comment, [the definition ...   \n",
      "3       \\r\\nI think you can not apply the identity the...   \n",
      "4       The maximum modulus principle states that a ho...   \n",
      "...                                                   ...   \n",
      "147065  If you want to simplify the calculations you c...   \n",
      "147066  Let&#39;s say the parameter $d$ is real.  Then...   \n",
      "147067  Hint: If $m(E) &gt; 0,$ then $M(\\chi_E)(x) &gt...   \n",
      "147068        Hint: $$(xyx^{-1})^2=(xyx^{-1})(xyx^{-1})$$   \n",
      "147069  Base case: when $n=1$, we have of course $$(xy...   \n",
      "\n",
      "                                                     tags  \n",
      "0       [sequences-and-series, logic, set-theory, ordi...  \n",
      "1                                 [integration, analysis]  \n",
      "2                             [linear-algebra, functions]  \n",
      "3                                      [complex-analysis]  \n",
      "4                                      [complex-analysis]  \n",
      "...                                                   ...  \n",
      "147065                                    [finite-fields]  \n",
      "147066                                      [polynomials]  \n",
      "147067  [real-analysis, measure-theory, lebesgue-integ...  \n",
      "147068                                 [abstract-algebra]  \n",
      "147069                                 [abstract-algebra]  \n",
      "\n",
      "[147070 rows x 2 columns]\n"
     ]
    }
   ],
   "source": [
    "print(df_rows)"
   ]
  },
  {
   "cell_type": "code",
   "execution_count": 26,
   "id": "f7d24354",
   "metadata": {},
   "outputs": [],
   "source": [
    "# на входе у нас уже не джейсон, а датафрейм df_rows\n",
    "# из предыдущей ячейки\n",
    "\n",
    "import re\n",
    "import json\n",
    "\n",
    "\n",
    "\n",
    "def extract_substrings(text): \n",
    "    # Находим фразы, начинающиеся и заканчивающиеся знаками доллара или начинающиеся и заканчивающиеся /begin{} и /end{} \n",
    "    matches = re.findall(r'(\\$\\$.+?\\$\\$|\\$.+?\\$|/begin\\{(.*?)\\}(.*?)/end\\{\\2\\})', text) \n",
    "    return [match[0] if match[0] else f'/begin{{{match[1]}}}{match[2]}/end{{{match[1]}}}' for match in matches] \n",
    "    # разделить поэтапно\n",
    "\n",
    "def process_json_file(input_json):\n",
    "#     # Загружаем данные из JSON-файла\n",
    "#     with open(file_path, 'r', encoding='utf-8') as json_file:\n",
    "#         input_json = json.load(json_file)\n",
    "\n",
    "    # Извлекаем нужные данные из JSON\n",
    "    data = {'body_markdown': input_json['markdown']}\n",
    "\n",
    "    # Преобразуем данные в DataFrame, добавляя индекс\n",
    "    df = pd.DataFrame(data)\n",
    "\n",
    "    # Создаем новый столбец для хранения вычлененных подстрок\n",
    "    df['formulae'] = df['body_markdown'].apply(extract_substrings)\n",
    "    df['tags'] = input_json['tags']\n",
    "\n",
    "    # Создаем новый DataFrame для хранения вычлененных подстрок\n",
    "    extracted_phrases_df = pd.DataFrame({'extracted_phrases': [item for sublist in df['formulae'].tolist() for item in sublist]})\n",
    "\n",
    "    # Заменяем подстроки на [[i]] в исходной таблице\n",
    "    for index, row in df.iterrows():\n",
    "        for i, substring in enumerate(row['formulae']):\n",
    "            df.at[index, 'body_markdown'] = df.at[index, 'body_markdown'].replace(substring, f'[[{i}]]')\n",
    "\n",
    "    # Возвращаем результат\n",
    "    return df, extracted_phrases_df\n",
    "\n",
    "# Пример использования\n",
    "#json_file_path = '100_questions.json'\n",
    "result_dataframe, extracted_phrases_dataframe = process_json_file(df_rows)"
   ]
  },
  {
   "cell_type": "code",
   "execution_count": 84,
   "id": "2a455d2e",
   "metadata": {},
   "outputs": [
    {
     "name": "stdout",
     "output_type": "stream",
     "text": [
      "                                            body_markdown  \\\n",
      "0       They just mean that the sequence has indices [...   \n",
      "1       Hint:\\r\\n\\begin{align}\\r\\n\\ln  \\left( \\prod_{j...   \n",
      "2       As I mentioned in my comment, [the definition ...   \n",
      "3       \\r\\nI think you can not apply the identity the...   \n",
      "4       The maximum modulus principle states that a ho...   \n",
      "...                                                   ...   \n",
      "147065  If you want to simplify the calculations you c...   \n",
      "147066  Let&#39;s say the parameter [[0]] is real.  Th...   \n",
      "147067         Hint: If [[0]] then [[1]] for every [[2]]    \n",
      "147068  Hint: [[0]](xyx^{-1})^2=(xyx^{-1})(xyx^{-1})[[0]]   \n",
      "147069  Base case: when [[0]], we have of course [[1]]...   \n",
      "\n",
      "                                                 formulae  \\\n",
      "0       [$1, 2, 3, \\ldots$, $\\omega$, $A$, $\\omega$, $...   \n",
      "1                                                      []   \n",
      "2       [$1$, $f\\colon \\mathbb{R}^{m} \\to \\mathbb{R}^{...   \n",
      "3       [$S$, $f=g$, $D$, $D$, $S=\\partial \\mathbb D$,...   \n",
      "4       [$h(z)=f(z)-g(z)$, $\\partial\\Bbb D$, $0\\leq|h(...   \n",
      "...                                                   ...   \n",
      "147065  [$ax^3+bx^2+cx+d$, $a,b,c,d\\in \\{0,1\\}$, $15$,...   \n",
      "147066  [$d$, $\\text{Im}((X+iY)^4 + a (X+iY)^3 +b (X+i...   \n",
      "147067      [$m(E) &gt; 0,$, $M(\\chi_E)(x) &gt; 0$, $x.$]   \n",
      "147068                                           [$$, $$]   \n",
      "147069    [$n=1$, $$, $$, $n=k$, $$, $$, $n=k+1$, $$, $$]   \n",
      "\n",
      "                                                     tags  \n",
      "0       [sequences-and-series, logic, set-theory, ordi...  \n",
      "1                                 [integration, analysis]  \n",
      "2                             [linear-algebra, functions]  \n",
      "3                                      [complex-analysis]  \n",
      "4                                      [complex-analysis]  \n",
      "...                                                   ...  \n",
      "147065                                    [finite-fields]  \n",
      "147066                                      [polynomials]  \n",
      "147067  [real-analysis, measure-theory, lebesgue-integ...  \n",
      "147068                                 [abstract-algebra]  \n",
      "147069                                 [abstract-algebra]  \n",
      "\n",
      "[147070 rows x 3 columns]\n"
     ]
    }
   ],
   "source": [
    "print(result_dataframe)\n"
   ]
  },
  {
   "cell_type": "code",
   "execution_count": 34,
   "id": "dbe66130",
   "metadata": {},
   "outputs": [
    {
     "data": {
      "text/html": [
       "<div>\n",
       "<style scoped>\n",
       "    .dataframe tbody tr th:only-of-type {\n",
       "        vertical-align: middle;\n",
       "    }\n",
       "\n",
       "    .dataframe tbody tr th {\n",
       "        vertical-align: top;\n",
       "    }\n",
       "\n",
       "    .dataframe thead th {\n",
       "        text-align: right;\n",
       "    }\n",
       "</style>\n",
       "<table border=\"1\" class=\"dataframe\">\n",
       "  <thead>\n",
       "    <tr style=\"text-align: right;\">\n",
       "      <th></th>\n",
       "      <th>extracted_phrases</th>\n",
       "    </tr>\n",
       "  </thead>\n",
       "  <tbody>\n",
       "    <tr>\n",
       "      <th>0</th>\n",
       "      <td>$1, 2, 3, \\ldots$</td>\n",
       "    </tr>\n",
       "    <tr>\n",
       "      <th>1</th>\n",
       "      <td>$\\omega$</td>\n",
       "    </tr>\n",
       "    <tr>\n",
       "      <th>2</th>\n",
       "      <td>$A$</td>\n",
       "    </tr>\n",
       "    <tr>\n",
       "      <th>3</th>\n",
       "      <td>$\\omega$</td>\n",
       "    </tr>\n",
       "    <tr>\n",
       "      <th>4</th>\n",
       "      <td>$A$</td>\n",
       "    </tr>\n",
       "    <tr>\n",
       "      <th>...</th>\n",
       "      <td>...</td>\n",
       "    </tr>\n",
       "    <tr>\n",
       "      <th>1652143</th>\n",
       "      <td>$$</td>\n",
       "    </tr>\n",
       "    <tr>\n",
       "      <th>1652144</th>\n",
       "      <td>$$</td>\n",
       "    </tr>\n",
       "    <tr>\n",
       "      <th>1652145</th>\n",
       "      <td>$n=k+1$</td>\n",
       "    </tr>\n",
       "    <tr>\n",
       "      <th>1652146</th>\n",
       "      <td>$$</td>\n",
       "    </tr>\n",
       "    <tr>\n",
       "      <th>1652147</th>\n",
       "      <td>$$</td>\n",
       "    </tr>\n",
       "  </tbody>\n",
       "</table>\n",
       "<p>1652148 rows × 1 columns</p>\n",
       "</div>"
      ],
      "text/plain": [
       "         extracted_phrases\n",
       "0        $1, 2, 3, \\ldots$\n",
       "1                 $\\omega$\n",
       "2                      $A$\n",
       "3                 $\\omega$\n",
       "4                      $A$\n",
       "...                    ...\n",
       "1652143                 $$\n",
       "1652144                 $$\n",
       "1652145            $n=k+1$\n",
       "1652146                 $$\n",
       "1652147                 $$\n",
       "\n",
       "[1652148 rows x 1 columns]"
      ]
     },
     "execution_count": 34,
     "metadata": {},
     "output_type": "execute_result"
    }
   ],
   "source": [
    "extracted_phrases_dataframe"
   ]
  },
  {
   "cell_type": "code",
   "execution_count": null,
   "id": "a5a1eab6",
   "metadata": {},
   "outputs": [],
   "source": [
    "text = \"\"\n",
    "i=0\n",
    "for phrase in extracted_phrases_dataframe['extracted_phrases']:\n",
    "    if phrase!=\"$$\" and len(phrase)>3:\n",
    "        text += phrase\n",
    "        print(f\"phrase: {phrase}\")\n",
    "    elif phrase == \"$$\": \n",
    "        print('empty')\n",
    "    elif len(phrase)<=3:\n",
    "        print('too short')\n",
    "    print(f\"progress = {i/1652148}\")"
   ]
  },
  {
   "cell_type": "code",
   "execution_count": 44,
   "id": "5e55ab1f",
   "metadata": {},
   "outputs": [
    {
     "name": "stderr",
     "output_type": "stream",
     "text": [
      "[nltk_data] Downloading package punkt to\n",
      "[nltk_data]     C:\\Users\\blody\\AppData\\Roaming\\nltk_data...\n",
      "[nltk_data]   Unzipping tokenizers\\punkt.zip.\n"
     ]
    },
    {
     "data": {
      "text/plain": [
       "[('$', 1848992),\n",
       " ('{', 483068),\n",
       " ('}', 483006),\n",
       " (')', 393361),\n",
       " ('(', 391370),\n",
       " (',', 198702),\n",
       " (';', 126767),\n",
       " ('=', 125391),\n",
       " ('x', 116375),\n",
       " ('&', 111960)]"
      ]
     },
     "execution_count": 44,
     "metadata": {},
     "output_type": "execute_result"
    }
   ],
   "source": [
    "import nltk\n",
    "nltk.download('punkt')\n",
    "\n",
    "allWords = nltk.tokenize.word_tokenize(text)\n",
    "allWordDist = nltk.FreqDist(allWords)\n",
    "allWordDist.most_common(10)"
   ]
  },
  {
   "cell_type": "code",
   "execution_count": null,
   "id": "83418b5e",
   "metadata": {},
   "outputs": [],
   "source": [
    "allWordDist.most_common(500)"
   ]
  },
  {
   "cell_type": "code",
   "execution_count": 80,
   "id": "910c9a59",
   "metadata": {},
   "outputs": [],
   "source": [
    "com_freq = {}\n",
    "for com in allWordDist.most_common():\n",
    "    if com[1]>=500 and len(com[0])>2 and com[0][0]==\"\\\\\":\n",
    "        com_freq[com[0]] = com[1]\n",
    "        "
   ]
  },
  {
   "cell_type": "code",
   "execution_count": null,
   "id": "e4b027f6",
   "metadata": {
    "scrolled": false
   },
   "outputs": [],
   "source": [
    "# команды которые были замечены в использовании больше 500 раз\n",
    "com_freq"
   ]
  },
  {
   "cell_type": "code",
   "execution_count": 140,
   "id": "dd9b89ed",
   "metadata": {},
   "outputs": [],
   "source": [
    "with open(\"most_common.txt\", \"w\",encoding=\"utf-8\") as text_file:\n",
    "    text_file.write(str(allWordDist.most_common()))"
   ]
  },
  {
   "cell_type": "code",
   "execution_count": 82,
   "id": "721919a8",
   "metadata": {},
   "outputs": [
    {
     "data": {
      "text/plain": [
       "159"
      ]
     },
     "execution_count": 82,
     "metadata": {},
     "output_type": "execute_result"
    }
   ],
   "source": [
    "len(com_dsfreq.keys())"
   ]
  },
  {
   "cell_type": "code",
   "execution_count": 106,
   "id": "e2cc131d",
   "metadata": {},
   "outputs": [],
   "source": [
    "# далее - списки из наиболее часто употребляемых команд из статьи \n",
    "# https://blog.writefull.com/the-100-most-frequent-latex-commands/\n",
    "# и из com_freq\n",
    "\n",
    "# команды из статьи\n",
    "freq_list_from_paper = ['\\\\frac', '\\\\right', '\\\\left','\\\\alpha','\\\\mu',\n",
    "                        '\\\\pi','\\\\sigma','\\\\sum','\\\\lambda','\\\\beta',\n",
    "                       '\\\\nu','\\\\delta','\\\\Delta','\\\\rho','\\\\phi',\n",
    "                        '\\\\Phi','\\\\gamma','\\\\Gamma','\\\\omega','\\\\Omega',\n",
    "                        '\\\\over','\\\\bar','\\\\sqrt','\\\\theta','\\\\Theta',\n",
    "                        '\\\\tau','\\\\rangle','\\\\hat','\\\\tilde','\\\\cal',\n",
    "                        '\\\\psi','\\\\vec','\\\\langle','\\\\epsilon','\\\\varepsilon',\n",
    "                        '\\\\cdot','\\\\in','\\\\xi','\\\\Xi','\\\\infty',\n",
    "                        '\\\\mathcal','\\\\times','\\\\prime','\\\\pm','\\\\be',\n",
    "                        '\\\\ee','\\\\chi','\\\\ell','\\\\text','\\\\to',\n",
    "                        '\\\\varphi','\\\\leq','\\\\cos','\\\\overline','\\\\sin',\n",
    "                        '\\\\kappa','\\\\rightarrow','\\\\Righarrow','\\\\dagger','\\\\otimes',\n",
    "                        '\\\\equiv','\\\\zeta','\\\\dot','\\\\ln']\n",
    "\n",
    "# команды из ответов, употреблявшиеся больше 500 раз\n",
    "freq_list_from_data = ['\\\\frac','\\\\in','\\\\to','\\\\sqrt','\\\\mathcal',\n",
    "                       '\\\\infty','\\\\alpha','\\\\pi','\\\\times','\\\\le',\n",
    "                       '\\\\text','\\\\phi','\\\\epsilon','\\\\leq','\\\\cdot',\n",
    "                       '\\\\lambda','\\\\theta','\\\\dfrac','\\\\right','\\\\left',\n",
    "                       '\\\\cap','\\\\ldots','\\\\delta','\\\\sin','\\\\partial',\n",
    "                       '\\\\dots','\\\\sum','\\\\ge','\\\\beta','\\\\equiv',\n",
    "                       '\\\\geq','\\\\vec','\\\\overline','\\\\cos','\\\\sigma',\n",
    "                       '\\\\mu','\\\\operatorname','\\\\mathrm','\\\\rightarrow','\\\\lim',\n",
    "                       '\\\\neq','\\\\subset','\\\\langle','\\\\forall','\\\\tag',\n",
    "                       '\\\\subseteq','\\\\varphi','\\\\binom','\\\\omega','\\\\implies',\n",
    "                       '\\\\gamma','\\\\log','\\\\bar','\\\\ln','\\\\cup',\n",
    "                       '\\\\varepsilon','\\\\Omega','\\\\cdots','\\\\pm','\\\\mid',\n",
    "                       '\\\\circ','\\\\ne','\\\\mathfrak','\\hat','\\\\bmatrix',\n",
    "                       '\\\\Delta','\\\\psi','\\\\tau','\\\\int','\\\\rangle',\n",
    "                       '\\\\mapsto','\\\\mod']\n",
    "\n"
   ]
  },
  {
   "cell_type": "code",
   "execution_count": 131,
   "id": "4cbc1f88",
   "metadata": {},
   "outputs": [
    {
     "name": "stdout",
     "output_type": "stream",
     "text": [
      "Количество пересечений: 43\n",
      "['\\\\frac', '\\\\in', '\\\\to', '\\\\sqrt', '\\\\mathcal', '\\\\infty', '\\\\alpha', '\\\\pi', '\\\\times', '\\\\text', '\\\\phi', '\\\\epsilon', '\\\\leq', '\\\\cdot', '\\\\lambda', '\\\\theta', '\\\\right', '\\\\left', '\\\\delta', '\\\\sin', '\\\\beta', '\\\\equiv', '\\\\vec', '\\\\overline', '\\\\cos', '\\\\sigma', '\\\\mu', '\\\\rightarrow', '\\\\langle', '\\\\varphi', '\\\\omega', '\\\\gamma', '\\\\bar', '\\\\ln', '\\\\varepsilon', '\\\\Omega', '\\\\pm', '\\\\hat', '\\\\Delta', '\\\\psi', '\\\\tau', '\\\\rangle', '\\\\sum']\n"
     ]
    }
   ],
   "source": [
    "# находим пересечения -- слова, которые есть и в первом и во втором списках\n",
    "# всего 43 пересечения\n",
    "overall_frequents = set(freq_list_from_paper).intersection(freq_list_from_data)\n",
    "print(f\"Количество пересечений: {len(overall_frequents)}\")\n",
    "\n",
    "# отсортировыываем в порядке убывания частоты использования, основываясь на данных, \n",
    "# полученных из вопросов\n",
    "sorted_frequents = sorted(overall_frequents, key=lambda x: com_freq[x],reverse=True)\n",
    "\n",
    "# итоговый список слов, к которым необходимо сделать словарь\n",
    "print(sorted_frequents)"
   ]
  },
  {
   "cell_type": "code",
   "execution_count": null,
   "id": "be257819",
   "metadata": {},
   "outputs": [],
   "source": [
    "# некоторые команды не являются напрямую математическими операциями ИЛИ являются надстрочными символами\n",
    "# или ещё каким-либо образом не заменяются простой заменой\n",
    "# т.ч. в первой итерации не рассматривались\n",
    "# это были команды: \\frac, \\mathcal, \\text, \\left и \\right, \\vec, \\overline, \\langle, \\rangle, \\bar, \\hat \n",
    "\n",
    "# т.ж. была удалена команда: \\phi --> varphi (чтобы мы приводили \\phi и 'фи' к \\varphi)\n",
    "# удалена \\epsilon --> добавлена к \\varepsilon: 'эпсилон', '\\epsilon'\n",
    "# \\rightarrow и \\to -- один и тот же символ, т.ч. предположим что \\to проще писать и будем приводить к нему\n",
    "# т.е. удалим \\rightarrow из словаря\n",
    "\n",
    "# к некоторым греческим буквам были добавлены их заглавные эквиваленты\n",
    "\n",
    "#  некоторые альтернативы для дальнейших имплементаций\n",
    "# '\\\\frac' : ['дробь от а делить на б', 'а делить на б']\n",
    "# '\\\\to': ['\\rightarrow','следовательно', 'откуда следует', 'отображение из а в б', \n",
    "#                              'влечёт', 'отсюда следует', 'если а то б', 'стремится к'],\n",
    "#  '\\\\sum': ['сумма', 'сумма от а до б']}\n",
    "\n",
    "# от себя т.ж. были добавлены '!', '^' и '_' (командами не являются, но необходимы)\n",
    "# при дальнейшем рассмотрении были найдены в списке наиболее частых символов\n",
    "# ('^', 18076)\n",
    "# ('!', 9246)\n",
    "# ('_', 8401)\n",
    "\n",
    "\n",
    "replacement_dict = { '\\\\in': ['принадлежит', 'входит в', 'из'],\n",
    "                     '\\\\to': ['\\\\rightarrow','следовательно', 'откуда следует', 'влечёт', 'отсюда следует', 'стремится к'],\n",
    "                     '\\\\sqrt': ['корень из', 'корень квадратный из', 'квадратный корень из'],\n",
    "                     '\\\\infty': ['бесконечность'],\n",
    "                     '\\\\alpha': ['альфа'],\n",
    "                     '\\\\pi': ['пи'],\n",
    "                     '\\\\times': ['умножить на', 'произведение'],\n",
    "                     '\\\\varphi': ['фи','\\\\phi'],\n",
    "                     '\\\\leq': ['меньше или равно', '\\\\leqslant'],\n",
    "                     '\\\\cdot': ['умножить на', 'скалярное произведение', 'внутреннее произведение'],\n",
    "                     '\\\\Lambda': ['лямбда большая', 'лямбда заглавная'],\n",
    "                     '\\\\lambda': ['лямбда', 'лямбда малая'],\n",
    "                     '\\\\Theta': ['тета большая', 'тета заглавная'],\n",
    "                     '\\\\theta': ['тета', 'тета малая'],\n",
    "                     '\\\\Delta': ['дельта большая', 'дельта заглавная'],\n",
    "                     '\\\\delta': [ 'дельта','дельта малая'],\n",
    "                     '\\\\sin': ['синус'],\n",
    "                     '\\\\beta': ['бета'],\n",
    "                     '\\\\equiv': ['эквивалентно', 'тождественно равно', 'тождественно равняется'],\n",
    "                     '\\\\cos': ['косинус'],\n",
    "                     '\\\\Sigma': ['сигма'], \n",
    "                     '\\\\sigma':['сигма малая'],\n",
    "                     '\\\\mu': ['мю'],\n",
    "                     '\\\\Omega': ['омега заглавная', 'омега большая'],\n",
    "                     '\\\\omega': ['омега','омега малая'],\n",
    "                     '\\\\gamma': ['гамма','гамма малая'],\n",
    "                     '\\\\ln': ['натуральный логарифм','логарифм по основанию e' ,'логарифм'],\n",
    "                     '\\\\varepsilon': ['\\\\epsilon','эпсилон'],\n",
    "                     '\\\\pm': ['плюс минус', 'плюс-минус'],\n",
    "                     '\\\\psi': ['пси', 'пси малая'],\n",
    "                     '\\\\Psi': ['пси большая', 'пси заглавная'],\n",
    "                     '\\\\tau': ['тау', 'тау малая'],\n",
    "                     '\\\\sum': ['сумма'],\n",
    "                     '^' : ['в степени'],\n",
    "                     '_' : ['с индексом'],\n",
    "                     '!': ['факториал'] }"
   ]
  },
  {
   "cell_type": "code",
   "execution_count": 139,
   "id": "4e6ec716",
   "metadata": {},
   "outputs": [
    {
     "data": {
      "text/plain": [
       "36"
      ]
     },
     "execution_count": 139,
     "metadata": {},
     "output_type": "execute_result"
    }
   ],
   "source": [
    "# итого, длина начального словаря замен - 36 слов. \n",
    "len(replacement_dict)\n"
   ]
  },
  {
   "cell_type": "code",
   "execution_count": 177,
   "id": "89321476",
   "metadata": {},
   "outputs": [],
   "source": [
    "# окончательно\n",
    "final = [(text, form, tags) for (text, form, tags) in zip(result_dataframe['body_markdown'],\n",
    "                                                        result_dataframe['formulae'],\n",
    "                                                        result_dataframe['tags']) if len(form) and '$$' not in form]"
   ]
  },
  {
   "cell_type": "code",
   "execution_count": 178,
   "id": "2fa00c58",
   "metadata": {},
   "outputs": [
    {
     "data": {
      "text/plain": [
       "62254"
      ]
     },
     "execution_count": 178,
     "metadata": {},
     "output_type": "execute_result"
    }
   ],
   "source": [
    "len(final)"
   ]
  },
  {
   "cell_type": "code",
   "execution_count": 165,
   "id": "23549ef3",
   "metadata": {},
   "outputs": [
    {
     "data": {
      "text/plain": [
       "147070"
      ]
     },
     "execution_count": 165,
     "metadata": {},
     "output_type": "execute_result"
    }
   ],
   "source": [
    "len(result_dataframe)"
   ]
  },
  {
   "cell_type": "code",
   "execution_count": 167,
   "id": "bab08cdf",
   "metadata": {},
   "outputs": [],
   "source": [
    "fin_df = pd.DataFrame.from_records(final, columns =['body_markdown', 'formulae', 'tags'])"
   ]
  },
  {
   "cell_type": "code",
   "execution_count": 179,
   "id": "bad07562",
   "metadata": {},
   "outputs": [
    {
     "data": {
      "text/html": [
       "<div>\n",
       "<style scoped>\n",
       "    .dataframe tbody tr th:only-of-type {\n",
       "        vertical-align: middle;\n",
       "    }\n",
       "\n",
       "    .dataframe tbody tr th {\n",
       "        vertical-align: top;\n",
       "    }\n",
       "\n",
       "    .dataframe thead th {\n",
       "        text-align: right;\n",
       "    }\n",
       "</style>\n",
       "<table border=\"1\" class=\"dataframe\">\n",
       "  <thead>\n",
       "    <tr style=\"text-align: right;\">\n",
       "      <th></th>\n",
       "      <th>body_markdown</th>\n",
       "      <th>formulae</th>\n",
       "      <th>tags</th>\n",
       "    </tr>\n",
       "  </thead>\n",
       "  <tbody>\n",
       "    <tr>\n",
       "      <th>0</th>\n",
       "      <td>They just mean that the sequence has indices [...</td>\n",
       "      <td>[$1, 2, 3, \\ldots$, $\\omega$, $A$, $\\omega$, $...</td>\n",
       "      <td>[sequences-and-series, logic, set-theory, ordi...</td>\n",
       "    </tr>\n",
       "    <tr>\n",
       "      <th>1</th>\n",
       "      <td>\\r\\nI think you can not apply the identity the...</td>\n",
       "      <td>[$S$, $f=g$, $D$, $D$, $S=\\partial \\mathbb D$,...</td>\n",
       "      <td>[complex-analysis]</td>\n",
       "    </tr>\n",
       "    <tr>\n",
       "      <th>2</th>\n",
       "      <td>The maximum modulus principle states that a ho...</td>\n",
       "      <td>[$h(z)=f(z)-g(z)$, $\\partial\\Bbb D$, $0\\leq|h(...</td>\n",
       "      <td>[complex-analysis]</td>\n",
       "    </tr>\n",
       "    <tr>\n",
       "      <th>3</th>\n",
       "      <td>When you rearrange the differential equation, ...</td>\n",
       "      <td>[$y&amp;#39;$, $0$, $x$, $y&amp;#39;$]</td>\n",
       "      <td>[calculus, differential-equations, derivatives]</td>\n",
       "    </tr>\n",
       "    <tr>\n",
       "      <th>4</th>\n",
       "      <td>I&amp;#39;ll try to give some more details as an a...</td>\n",
       "      <td>[$\\,P^2=P$, $\\;P(I-P)=0$, $\\operatorname{Im}(I...</td>\n",
       "      <td>[linear-algebra, diagonalization]</td>\n",
       "    </tr>\n",
       "    <tr>\n",
       "      <th>...</th>\n",
       "      <td>...</td>\n",
       "      <td>...</td>\n",
       "      <td>...</td>\n",
       "    </tr>\n",
       "    <tr>\n",
       "      <th>62249</th>\n",
       "      <td>*Not quite an answer, but too long for a comme...</td>\n",
       "      <td>[$V$, $L$, $\\neg CH$, $\\Pi_1$, $\\Sigma_1$, $\\n...</td>\n",
       "      <td>[set-theory, forcing]</td>\n",
       "    </tr>\n",
       "    <tr>\n",
       "      <th>62250</th>\n",
       "      <td>What I would do:\\r\\n\\r\\n- The polynomial [[0]]...</td>\n",
       "      <td>[$x^4+x^3+1$, $2^4=16$, $15$, $x+x^2$, $3$, $5...</td>\n",
       "      <td>[finite-fields]</td>\n",
       "    </tr>\n",
       "    <tr>\n",
       "      <th>62251</th>\n",
       "      <td>If you want to simplify the calculations you c...</td>\n",
       "      <td>[$ax^3+bx^2+cx+d$, $a,b,c,d\\in \\{0,1\\}$, $15$,...</td>\n",
       "      <td>[finite-fields]</td>\n",
       "    </tr>\n",
       "    <tr>\n",
       "      <th>62252</th>\n",
       "      <td>Let&amp;#39;s say the parameter [[0]] is real.  Th...</td>\n",
       "      <td>[$d$, $\\text{Im}((X+iY)^4 + a (X+iY)^3 +b (X+i...</td>\n",
       "      <td>[polynomials]</td>\n",
       "    </tr>\n",
       "    <tr>\n",
       "      <th>62253</th>\n",
       "      <td>Hint: If [[0]] then [[1]] for every [[2]]</td>\n",
       "      <td>[$m(E) &amp;gt; 0,$, $M(\\chi_E)(x) &amp;gt; 0$, $x.$]</td>\n",
       "      <td>[real-analysis, measure-theory, lebesgue-integ...</td>\n",
       "    </tr>\n",
       "  </tbody>\n",
       "</table>\n",
       "<p>62254 rows × 3 columns</p>\n",
       "</div>"
      ],
      "text/plain": [
       "                                           body_markdown  \\\n",
       "0      They just mean that the sequence has indices [...   \n",
       "1      \\r\\nI think you can not apply the identity the...   \n",
       "2      The maximum modulus principle states that a ho...   \n",
       "3      When you rearrange the differential equation, ...   \n",
       "4      I&#39;ll try to give some more details as an a...   \n",
       "...                                                  ...   \n",
       "62249  *Not quite an answer, but too long for a comme...   \n",
       "62250  What I would do:\\r\\n\\r\\n- The polynomial [[0]]...   \n",
       "62251  If you want to simplify the calculations you c...   \n",
       "62252  Let&#39;s say the parameter [[0]] is real.  Th...   \n",
       "62253         Hint: If [[0]] then [[1]] for every [[2]]    \n",
       "\n",
       "                                                formulae  \\\n",
       "0      [$1, 2, 3, \\ldots$, $\\omega$, $A$, $\\omega$, $...   \n",
       "1      [$S$, $f=g$, $D$, $D$, $S=\\partial \\mathbb D$,...   \n",
       "2      [$h(z)=f(z)-g(z)$, $\\partial\\Bbb D$, $0\\leq|h(...   \n",
       "3                         [$y&#39;$, $0$, $x$, $y&#39;$]   \n",
       "4      [$\\,P^2=P$, $\\;P(I-P)=0$, $\\operatorname{Im}(I...   \n",
       "...                                                  ...   \n",
       "62249  [$V$, $L$, $\\neg CH$, $\\Pi_1$, $\\Sigma_1$, $\\n...   \n",
       "62250  [$x^4+x^3+1$, $2^4=16$, $15$, $x+x^2$, $3$, $5...   \n",
       "62251  [$ax^3+bx^2+cx+d$, $a,b,c,d\\in \\{0,1\\}$, $15$,...   \n",
       "62252  [$d$, $\\text{Im}((X+iY)^4 + a (X+iY)^3 +b (X+i...   \n",
       "62253      [$m(E) &gt; 0,$, $M(\\chi_E)(x) &gt; 0$, $x.$]   \n",
       "\n",
       "                                                    tags  \n",
       "0      [sequences-and-series, logic, set-theory, ordi...  \n",
       "1                                     [complex-analysis]  \n",
       "2                                     [complex-analysis]  \n",
       "3        [calculus, differential-equations, derivatives]  \n",
       "4                      [linear-algebra, diagonalization]  \n",
       "...                                                  ...  \n",
       "62249                              [set-theory, forcing]  \n",
       "62250                                    [finite-fields]  \n",
       "62251                                    [finite-fields]  \n",
       "62252                                      [polynomials]  \n",
       "62253  [real-analysis, measure-theory, lebesgue-integ...  \n",
       "\n",
       "[62254 rows x 3 columns]"
      ]
     },
     "execution_count": 179,
     "metadata": {},
     "output_type": "execute_result"
    }
   ],
   "source": [
    "fin_df"
   ]
  },
  {
   "cell_type": "code",
   "execution_count": null,
   "id": "19cc6328",
   "metadata": {},
   "outputs": [],
   "source": []
  }
 ],
 "metadata": {
  "kernelspec": {
   "display_name": "i2dl_env",
   "language": "python",
   "name": "i2dl_env"
  },
  "language_info": {
   "codemirror_mode": {
    "name": "ipython",
    "version": 3
   },
   "file_extension": ".py",
   "mimetype": "text/x-python",
   "name": "python",
   "nbconvert_exporter": "python",
   "pygments_lexer": "ipython3",
   "version": "3.11.7"
  }
 },
 "nbformat": 4,
 "nbformat_minor": 5
}
