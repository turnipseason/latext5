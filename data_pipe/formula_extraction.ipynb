{
 "cells": [
  {
   "cell_type": "code",
   "execution_count": 1,
   "id": "0d8bd325",
   "metadata": {},
   "outputs": [],
   "source": [
    "import pandas as pd\n",
    "import re"
   ]
  },
  {
   "cell_type": "code",
   "execution_count": null,
   "id": "0902e5f5",
   "metadata": {},
   "outputs": [],
   "source": [
    "df = pd.read_json('1414384\\MathStackExchangeAPI_Part_1_TimeStamps_1512760268_1535031491.json\\MathStackExchangeAPI_Part_1_TimeStamps_1512760268_1535031491.json')[['answers','tags']]\n",
    "df.info()"
   ]
  },
  {
   "cell_type": "code",
   "execution_count": 3,
   "id": "b997f9d5",
   "metadata": {},
   "outputs": [
    {
     "name": "stdout",
     "output_type": "stream",
     "text": [
      "<class 'pandas.core.frame.DataFrame'>\n",
      "RangeIndex: 163100 entries, 0 to 163099\n",
      "Data columns (total 2 columns):\n",
      " #   Column   Non-Null Count   Dtype \n",
      "---  ------   --------------   ----- \n",
      " 0   answers  128942 non-null  object\n",
      " 1   tags     163100 non-null  object\n",
      "dtypes: object(2)\n",
      "memory usage: 2.5+ MB\n"
     ]
    }
   ],
   "source": [
    "df_2 = pd.read_json(\"1414384\\MathStackExchangeAPI_Part_2_TimeStamps_1484447260_1512760268.json\\MathStackExchangeAPI_Part_2_TimeStamps_1484447260_1512760268.json\")[['answers','tags']]\n",
    "df_2.info()"
   ]
  },
  {
   "cell_type": "code",
   "execution_count": 5,
   "id": "c374649d",
   "metadata": {},
   "outputs": [],
   "source": [
    "# сверху первые два джейсона\n",
    "# а тут будут остальные\n",
    "\n",
    "df_3 = pd.read_json(\"1414384\\MathStackExchangeAPI_Part_3_TimeStamps_1470978327_1484447260.json\\MathStackExchangeAPI_Part_3_TimeStamps_1470978327_1484447260.json\")[['answers','tags']]\n",
    "df_4 = pd.read_json(\"1414384\\MathStackExchangeAPI_Part_4_TimeStamps_1439982779_1470978327.json\\MathStackExchangeAPI_Part_4_TimeStamps_1439982779_1470978327.json\")[['answers','tags']]\n",
    "df_5 = pd.read_json(\"1414384\\MathStackExchangeAPI_Part_5_TimeStamps_1416592625_1439982779.json\\MathStackExchangeAPI_Part_5_TimeStamps_1416592625_1439982779.json\")[['answers','tags']]\n",
    "df_6 = pd.read_json(\"1414384\\MathStackExchangeAPI_Part_6_TimeStamps_1393683354_1416592625.json\\MathStackExchangeAPI_Part_6_TimeStamps_1393683354_1416592625.json\")[['answers','tags']]\n",
    "df_7 = pd.read_json(\"1414384\\MathStackExchangeAPI_Part_7_TimeStamps_1367752303_1393683354.json\\MathStackExchangeAPI_Part_7_TimeStamps_1367752303_1393683354.json\")[['answers','tags']]\n",
    "df_8 = pd.read_json(\"1414384\\MathStackExchangeAPI_Part_8_TimeStamps_1269700400_1367752303.json\\MathStackExchangeAPI_Part_8_TimeStamps_1269700400_1367752303.json\")[['answers','tags']]\n"
   ]
  },
  {
   "cell_type": "code",
   "execution_count": 6,
   "id": "b32123e3",
   "metadata": {},
   "outputs": [],
   "source": [
    "df = pd.concat([df_3, df_4, df_5, df_6, df_7, df_8])"
   ]
  },
  {
   "cell_type": "code",
   "execution_count": 7,
   "id": "c4b5c709",
   "metadata": {},
   "outputs": [
    {
     "name": "stdout",
     "output_type": "stream",
     "text": [
      "<class 'pandas.core.frame.DataFrame'>\n",
      "Int64Index: 697538 entries, 0 to 126637\n",
      "Data columns (total 2 columns):\n",
      " #   Column   Non-Null Count   Dtype \n",
      "---  ------   --------------   ----- \n",
      " 0   answers  605757 non-null  object\n",
      " 1   tags     697538 non-null  object\n",
      "dtypes: object(2)\n",
      "memory usage: 16.0+ MB\n"
     ]
    }
   ],
   "source": [
    "df.info()"
   ]
  },
  {
   "cell_type": "code",
   "execution_count": 8,
   "id": "c2282cda",
   "metadata": {},
   "outputs": [],
   "source": [
    "df = df[~df['answers'].isnull()]"
   ]
  },
  {
   "cell_type": "code",
   "execution_count": 9,
   "id": "aed52ac5",
   "metadata": {},
   "outputs": [
    {
     "name": "stdout",
     "output_type": "stream",
     "text": [
      "<class 'pandas.core.frame.DataFrame'>\n",
      "Int64Index: 605757 entries, 0 to 126637\n",
      "Data columns (total 2 columns):\n",
      " #   Column   Non-Null Count   Dtype \n",
      "---  ------   --------------   ----- \n",
      " 0   answers  605757 non-null  object\n",
      " 1   tags     605757 non-null  object\n",
      "dtypes: object(2)\n",
      "memory usage: 13.9+ MB\n"
     ]
    }
   ],
   "source": [
    "df.info()"
   ]
  },
  {
   "cell_type": "code",
   "execution_count": 10,
   "id": "fdd976d8",
   "metadata": {},
   "outputs": [],
   "source": [
    "df=df.reset_index(drop=True)"
   ]
  },
  {
   "cell_type": "code",
   "execution_count": 11,
   "id": "df69e679",
   "metadata": {},
   "outputs": [
    {
     "name": "stdout",
     "output_type": "stream",
     "text": [
      "<class 'pandas.core.frame.DataFrame'>\n",
      "RangeIndex: 605757 entries, 0 to 605756\n",
      "Data columns (total 2 columns):\n",
      " #   Column   Non-Null Count   Dtype \n",
      "---  ------   --------------   ----- \n",
      " 0   answers  605757 non-null  object\n",
      " 1   tags     605757 non-null  object\n",
      "dtypes: object(2)\n",
      "memory usage: 9.2+ MB\n"
     ]
    }
   ],
   "source": [
    "df.info()"
   ]
  },
  {
   "cell_type": "code",
   "execution_count": 12,
   "id": "475abd3a",
   "metadata": {},
   "outputs": [
    {
     "data": {
      "text/html": [
       "<div>\n",
       "<style scoped>\n",
       "    .dataframe tbody tr th:only-of-type {\n",
       "        vertical-align: middle;\n",
       "    }\n",
       "\n",
       "    .dataframe tbody tr th {\n",
       "        vertical-align: top;\n",
       "    }\n",
       "\n",
       "    .dataframe thead th {\n",
       "        text-align: right;\n",
       "    }\n",
       "</style>\n",
       "<table border=\"1\" class=\"dataframe\">\n",
       "  <thead>\n",
       "    <tr style=\"text-align: right;\">\n",
       "      <th></th>\n",
       "      <th>answers</th>\n",
       "      <th>tags</th>\n",
       "    </tr>\n",
       "  </thead>\n",
       "  <tbody>\n",
       "    <tr>\n",
       "      <th>0</th>\n",
       "      <td>[{'answer_id': 2098361, 'body_markdown': 'For ...</td>\n",
       "      <td>[inequality, floor-function]</td>\n",
       "    </tr>\n",
       "    <tr>\n",
       "      <th>1</th>\n",
       "      <td>[{'answer_id': 2098260, 'body_markdown': 'It s...</td>\n",
       "      <td>[real-analysis, measure-theory]</td>\n",
       "    </tr>\n",
       "    <tr>\n",
       "      <th>2</th>\n",
       "      <td>[{'answer_id': 2098256, 'body_markdown': 'No. ...</td>\n",
       "      <td>[real-analysis, integration, functional-analysis]</td>\n",
       "    </tr>\n",
       "    <tr>\n",
       "      <th>3</th>\n",
       "      <td>[{'answer_id': 2098281, 'body_markdown': 'Spec...</td>\n",
       "      <td>[graphing-functions]</td>\n",
       "    </tr>\n",
       "    <tr>\n",
       "      <th>4</th>\n",
       "      <td>[{'answer_id': 2098252, 'body_markdown': 'The ...</td>\n",
       "      <td>[complex-analysis, complex-numbers]</td>\n",
       "    </tr>\n",
       "  </tbody>\n",
       "</table>\n",
       "</div>"
      ],
      "text/plain": [
       "                                             answers  \\\n",
       "0  [{'answer_id': 2098361, 'body_markdown': 'For ...   \n",
       "1  [{'answer_id': 2098260, 'body_markdown': 'It s...   \n",
       "2  [{'answer_id': 2098256, 'body_markdown': 'No. ...   \n",
       "3  [{'answer_id': 2098281, 'body_markdown': 'Spec...   \n",
       "4  [{'answer_id': 2098252, 'body_markdown': 'The ...   \n",
       "\n",
       "                                                tags  \n",
       "0                       [inequality, floor-function]  \n",
       "1                    [real-analysis, measure-theory]  \n",
       "2  [real-analysis, integration, functional-analysis]  \n",
       "3                               [graphing-functions]  \n",
       "4                [complex-analysis, complex-numbers]  "
      ]
     },
     "execution_count": 12,
     "metadata": {},
     "output_type": "execute_result"
    }
   ],
   "source": [
    "df.head()"
   ]
  },
  {
   "cell_type": "code",
   "execution_count": 16,
   "id": "7e099eda",
   "metadata": {},
   "outputs": [],
   "source": [
    "from html import unescape\n",
    "from tqdm import tqdm"
   ]
  },
  {
   "cell_type": "code",
   "execution_count": 18,
   "id": "b46bc830",
   "metadata": {},
   "outputs": [
    {
     "name": "stderr",
     "output_type": "stream",
     "text": [
      "100%|███████████████████████████████████████████████████████████████████████| 605757/605757 [01:00<00:00, 10087.55it/s]\n"
     ]
    }
   ],
   "source": [
    "# собираем это в один 'плоский' датафрейм\n",
    "# и заодно избавляем от html чтобы два раза не ходить\n",
    "rows = []\n",
    "i=list(df['tags'].keys())[0]\n",
    "#progress = 0\n",
    "text_num = 0\n",
    "\n",
    "for answers in tqdm(df['answers']):\n",
    "    if answers is not None:\n",
    "        for answer in answers:\n",
    "            row = {}\n",
    "            markdown = answer['body_markdown']\n",
    "            row['text_id']=text_num\n",
    "            row['markdown']= unescape(markdown) # собствено преобразование html-я\n",
    "            row['tags']=df['tags'][i]\n",
    "            rows.append(row)\n",
    "            text_num +=1\n",
    "    i+=1 \n",
    "df_rows = pd.DataFrame.from_dict(rows)"
   ]
  },
  {
   "cell_type": "code",
   "execution_count": 21,
   "id": "f5483f12",
   "metadata": {},
   "outputs": [
    {
     "name": "stdout",
     "output_type": "stream",
     "text": [
      "began extraction\n",
      "applied extraction\n"
     ]
    },
    {
     "name": "stderr",
     "output_type": "stream",
     "text": [
      "1027017it [00:12, 80599.35it/s]\n"
     ]
    },
    {
     "name": "stdout",
     "output_type": "stream",
     "text": [
      "created individual formulae dataframe\n"
     ]
    },
    {
     "name": "stderr",
     "output_type": "stream",
     "text": [
      "1027017it [29:05, 588.40it/s] "
     ]
    },
    {
     "name": "stdout",
     "output_type": "stream",
     "text": [
      "changed all formulae in text to [[{formula_num}]]\n"
     ]
    },
    {
     "name": "stderr",
     "output_type": "stream",
     "text": [
      "\n"
     ]
    }
   ],
   "source": [
    "def extract_substrings(text): \n",
    "    # находим фразы, начинающиеся и заканчивающиеся знаками доллара или начинающиеся и заканчивающиеся \\\\begin{} и \\\\end{} \n",
    "    matches = re.findall(r'(?<=.)?(\\$\\$.+?\\$\\$|\\$.+?\\$|\\\\begin\\{(.*?)\\}(.*?)\\\\end\\{\\2\\})(?=.*$)', text, flags=re.DOTALL) \n",
    "    return [match[0] if match[0] else f'/begin{{{match[1]}}}{match[2]}/end{{{match[1]}}}' for match in matches] \n",
    "    # разделить поэтапно\n",
    "\n",
    "def process_json_file(inp_df):\n",
    "    data = {'body_markdown': inp_df['markdown']}\n",
    "    \n",
    "    # преобразуем данные в DataFrame, добавляя индекс\n",
    "    df = pd.DataFrame(data)\n",
    "    print('began extraction')\n",
    "    # воздаем новый столбец для хранения вычлененных подстрок\n",
    "    df['formulae'] = df['body_markdown'].apply(extract_substrings)\n",
    "    df['tags'] = inp_df['tags']\n",
    "    df['text_id'] = inp_df['text_id']\n",
    "    print(\"applied extraction\")\n",
    "    \n",
    "    # создаем новый DataFrame для хранения вычлененных подстрок\n",
    "    extr_frms=[]\n",
    "    for text_id, sublist in tqdm(enumerate(df['formulae'])):\n",
    "        for ind, item in enumerate(sublist):\n",
    "            entry = {}\n",
    "            entry['text_id'] = text_id\n",
    "            entry['formula_index'] = ind\n",
    "            entry['original_formula'] = item\n",
    "            extr_frms.append(entry)\n",
    "            \n",
    "    extracted_phrases_df = pd.DataFrame.from_dict(extr_frms)\n",
    "    print(\"created individual formulae dataframe\")\n",
    "    \n",
    "    # заменяем подстроки на [[i]] в исходной таблице\n",
    "    for index, row in tqdm(df.iterrows()):\n",
    "        for i, formula in enumerate(row['formulae']):\n",
    "            df.at[index, 'body_markdown'] = df.at[index, 'body_markdown'].replace(formula, f'[[{i}]]', 1)\n",
    "    print(\"changed all formulae in text to [[{formula_num}]]\")\n",
    "    # возвращаем результат\n",
    "    return df, extracted_phrases_df\n",
    "\n",
    "res_df, extracted_phrases_dataframe = process_json_file(df_rows)\n"
   ]
  },
  {
   "cell_type": "code",
   "execution_count": 22,
   "id": "45cab50a",
   "metadata": {},
   "outputs": [
    {
     "data": {
      "text/html": [
       "<div>\n",
       "<style scoped>\n",
       "    .dataframe tbody tr th:only-of-type {\n",
       "        vertical-align: middle;\n",
       "    }\n",
       "\n",
       "    .dataframe tbody tr th {\n",
       "        vertical-align: top;\n",
       "    }\n",
       "\n",
       "    .dataframe thead th {\n",
       "        text-align: right;\n",
       "    }\n",
       "</style>\n",
       "<table border=\"1\" class=\"dataframe\">\n",
       "  <thead>\n",
       "    <tr style=\"text-align: right;\">\n",
       "      <th></th>\n",
       "      <th>text_id</th>\n",
       "      <th>formula_index</th>\n",
       "      <th>original_formula</th>\n",
       "    </tr>\n",
       "  </thead>\n",
       "  <tbody>\n",
       "    <tr>\n",
       "      <th>0</th>\n",
       "      <td>0</td>\n",
       "      <td>0</td>\n",
       "      <td>$0\\lt a\\lt 1$</td>\n",
       "    </tr>\n",
       "    <tr>\n",
       "      <th>1</th>\n",
       "      <td>0</td>\n",
       "      <td>1</td>\n",
       "      <td>$b\\gt 0$</td>\n",
       "    </tr>\n",
       "    <tr>\n",
       "      <th>2</th>\n",
       "      <td>0</td>\n",
       "      <td>2</td>\n",
       "      <td>$$1-\\frac{\\lfloor a\\cdot\\min\\{N,K\\}\\rfloor}{N}...</td>\n",
       "    </tr>\n",
       "    <tr>\n",
       "      <th>3</th>\n",
       "      <td>0</td>\n",
       "      <td>3</td>\n",
       "      <td>$$-\\frac{(\\lfloor a\\cdot\\mathrm{min}\\{N,K\\}\\rf...</td>\n",
       "    </tr>\n",
       "    <tr>\n",
       "      <th>4</th>\n",
       "      <td>0</td>\n",
       "      <td>4</td>\n",
       "      <td>$K\\ge N$</td>\n",
       "    </tr>\n",
       "    <tr>\n",
       "      <th>5</th>\n",
       "      <td>0</td>\n",
       "      <td>5</td>\n",
       "      <td>$$\\begin{align}(1)&amp;\\iff -\\frac{(\\lfloor a\\cdot...</td>\n",
       "    </tr>\n",
       "    <tr>\n",
       "      <th>6</th>\n",
       "      <td>0</td>\n",
       "      <td>6</td>\n",
       "      <td>$(2)$</td>\n",
       "    </tr>\n",
       "    <tr>\n",
       "      <th>7</th>\n",
       "      <td>0</td>\n",
       "      <td>7</td>\n",
       "      <td>$(N-\\lfloor aN\\rfloor)(N-aN)\\gt 0$</td>\n",
       "    </tr>\n",
       "    <tr>\n",
       "      <th>8</th>\n",
       "      <td>0</td>\n",
       "      <td>8</td>\n",
       "      <td>$$\\begin{align}(2)&amp;\\iff (N-aN)\\lfloor aN\\rfloo...</td>\n",
       "    </tr>\n",
       "    <tr>\n",
       "      <th>9</th>\n",
       "      <td>0</td>\n",
       "      <td>9</td>\n",
       "      <td>$0\\lt a\\lt 1$</td>\n",
       "    </tr>\n",
       "  </tbody>\n",
       "</table>\n",
       "</div>"
      ],
      "text/plain": [
       "   text_id  formula_index                                   original_formula\n",
       "0        0              0                                      $0\\lt a\\lt 1$\n",
       "1        0              1                                           $b\\gt 0$\n",
       "2        0              2  $$1-\\frac{\\lfloor a\\cdot\\min\\{N,K\\}\\rfloor}{N}...\n",
       "3        0              3  $$-\\frac{(\\lfloor a\\cdot\\mathrm{min}\\{N,K\\}\\rf...\n",
       "4        0              4                                           $K\\ge N$\n",
       "5        0              5  $$\\begin{align}(1)&\\iff -\\frac{(\\lfloor a\\cdot...\n",
       "6        0              6                                              $(2)$\n",
       "7        0              7                 $(N-\\lfloor aN\\rfloor)(N-aN)\\gt 0$\n",
       "8        0              8  $$\\begin{align}(2)&\\iff (N-aN)\\lfloor aN\\rfloo...\n",
       "9        0              9                                      $0\\lt a\\lt 1$"
      ]
     },
     "execution_count": 22,
     "metadata": {},
     "output_type": "execute_result"
    }
   ],
   "source": [
    "extracted_phrases_dataframe.head(10)"
   ]
  },
  {
   "cell_type": "code",
   "execution_count": 23,
   "id": "7db18145",
   "metadata": {},
   "outputs": [
    {
     "data": {
      "text/html": [
       "<div>\n",
       "<style scoped>\n",
       "    .dataframe tbody tr th:only-of-type {\n",
       "        vertical-align: middle;\n",
       "    }\n",
       "\n",
       "    .dataframe tbody tr th {\n",
       "        vertical-align: top;\n",
       "    }\n",
       "\n",
       "    .dataframe thead th {\n",
       "        text-align: right;\n",
       "    }\n",
       "</style>\n",
       "<table border=\"1\" class=\"dataframe\">\n",
       "  <thead>\n",
       "    <tr style=\"text-align: right;\">\n",
       "      <th></th>\n",
       "      <th>body_markdown</th>\n",
       "      <th>formulae</th>\n",
       "      <th>tags</th>\n",
       "      <th>text_id</th>\n",
       "    </tr>\n",
       "  </thead>\n",
       "  <tbody>\n",
       "    <tr>\n",
       "      <th>0</th>\n",
       "      <td>For [[0]] and [[1]] such that \\r\\n[[2]]\\r\\nthe...</td>\n",
       "      <td>[$0\\lt a\\lt 1$, $b\\gt 0$, $$1-\\frac{\\lfloor a\\...</td>\n",
       "      <td>[inequality, floor-function]</td>\n",
       "      <td>0</td>\n",
       "    </tr>\n",
       "    <tr>\n",
       "      <th>1</th>\n",
       "      <td>It suffices to look at the case [[0]]. Let [[1...</td>\n",
       "      <td>[$n=2$, $E$, $E_1 = \\{x\\in E : f_1(x) \\ge f_2(...</td>\n",
       "      <td>[real-analysis, measure-theory]</td>\n",
       "      <td>1</td>\n",
       "    </tr>\n",
       "    <tr>\n",
       "      <th>2</th>\n",
       "      <td>Since [[0]] are measurable, so are [[1]], and ...</td>\n",
       "      <td>[$f_i$, $f_i - f_j$, $L_{ij} = \\{x: f_i(x) \\le...</td>\n",
       "      <td>[real-analysis, measure-theory]</td>\n",
       "      <td>2</td>\n",
       "    </tr>\n",
       "    <tr>\n",
       "      <th>3</th>\n",
       "      <td>No. Take [[0]] to be the indicator of [[1]]. T...</td>\n",
       "      <td>[$g$, $[0,1]$, $\\|g\\|_2 = 1$, $$\\int_{\\Bbb R} ...</td>\n",
       "      <td>[real-analysis, integration, functional-analysis]</td>\n",
       "      <td>3</td>\n",
       "    </tr>\n",
       "    <tr>\n",
       "      <th>4</th>\n",
       "      <td>Specify that you want a parametric plot and ex...</td>\n",
       "      <td>[]</td>\n",
       "      <td>[graphing-functions]</td>\n",
       "      <td>4</td>\n",
       "    </tr>\n",
       "    <tr>\n",
       "      <th>5</th>\n",
       "      <td>The absolute value is very simple:\\r\\n\\r\\n[[0]...</td>\n",
       "      <td>[$$|z^4|=|-1+\\sqrt3 i|=2$$, $$|z|=\\sqrt[4]2$$]</td>\n",
       "      <td>[complex-analysis, complex-numbers]</td>\n",
       "      <td>5</td>\n",
       "    </tr>\n",
       "    <tr>\n",
       "      <th>6</th>\n",
       "      <td>Observe that [[0]]. Then the roots of the equa...</td>\n",
       "      <td>[$-1+\\sqrt{3}i=2e^{\\frac{2\\pi i}{3}}$, $$\\r\\nz...</td>\n",
       "      <td>[complex-analysis, complex-numbers]</td>\n",
       "      <td>6</td>\n",
       "    </tr>\n",
       "    <tr>\n",
       "      <th>7</th>\n",
       "      <td>HINT:\\r\\n\\r\\ncis[[0]]\\r\\n\\r\\n[[1]]cis[[2]]\\r\\n...</td>\n",
       "      <td>[$(2y)-1=\\cos2y+i\\sin2y-1=-2\\sin^2y+2i\\sin y\\c...</td>\n",
       "      <td>[calculus, algebra-precalculus, trigonometry]</td>\n",
       "      <td>7</td>\n",
       "    </tr>\n",
       "    <tr>\n",
       "      <th>8</th>\n",
       "      <td>If [[0]], it's known that for [[1]] a prime, [...</td>\n",
       "      <td>[$a\\in F$, $p$, $X^p-a$, $F$, $X^p-a$, $F$, $X...</td>\n",
       "      <td>[abstract-algebra, polynomials, irreducible-po...</td>\n",
       "      <td>8</td>\n",
       "    </tr>\n",
       "    <tr>\n",
       "      <th>9</th>\n",
       "      <td>Sure, you can do that -- many math textbooks h...</td>\n",
       "      <td>[]</td>\n",
       "      <td>[proof-writing, article-writing]</td>\n",
       "      <td>9</td>\n",
       "    </tr>\n",
       "  </tbody>\n",
       "</table>\n",
       "</div>"
      ],
      "text/plain": [
       "                                       body_markdown  \\\n",
       "0  For [[0]] and [[1]] such that \\r\\n[[2]]\\r\\nthe...   \n",
       "1  It suffices to look at the case [[0]]. Let [[1...   \n",
       "2  Since [[0]] are measurable, so are [[1]], and ...   \n",
       "3  No. Take [[0]] to be the indicator of [[1]]. T...   \n",
       "4  Specify that you want a parametric plot and ex...   \n",
       "5  The absolute value is very simple:\\r\\n\\r\\n[[0]...   \n",
       "6  Observe that [[0]]. Then the roots of the equa...   \n",
       "7  HINT:\\r\\n\\r\\ncis[[0]]\\r\\n\\r\\n[[1]]cis[[2]]\\r\\n...   \n",
       "8  If [[0]], it's known that for [[1]] a prime, [...   \n",
       "9  Sure, you can do that -- many math textbooks h...   \n",
       "\n",
       "                                            formulae  \\\n",
       "0  [$0\\lt a\\lt 1$, $b\\gt 0$, $$1-\\frac{\\lfloor a\\...   \n",
       "1  [$n=2$, $E$, $E_1 = \\{x\\in E : f_1(x) \\ge f_2(...   \n",
       "2  [$f_i$, $f_i - f_j$, $L_{ij} = \\{x: f_i(x) \\le...   \n",
       "3  [$g$, $[0,1]$, $\\|g\\|_2 = 1$, $$\\int_{\\Bbb R} ...   \n",
       "4                                                 []   \n",
       "5     [$$|z^4|=|-1+\\sqrt3 i|=2$$, $$|z|=\\sqrt[4]2$$]   \n",
       "6  [$-1+\\sqrt{3}i=2e^{\\frac{2\\pi i}{3}}$, $$\\r\\nz...   \n",
       "7  [$(2y)-1=\\cos2y+i\\sin2y-1=-2\\sin^2y+2i\\sin y\\c...   \n",
       "8  [$a\\in F$, $p$, $X^p-a$, $F$, $X^p-a$, $F$, $X...   \n",
       "9                                                 []   \n",
       "\n",
       "                                                tags  text_id  \n",
       "0                       [inequality, floor-function]        0  \n",
       "1                    [real-analysis, measure-theory]        1  \n",
       "2                    [real-analysis, measure-theory]        2  \n",
       "3  [real-analysis, integration, functional-analysis]        3  \n",
       "4                               [graphing-functions]        4  \n",
       "5                [complex-analysis, complex-numbers]        5  \n",
       "6                [complex-analysis, complex-numbers]        6  \n",
       "7      [calculus, algebra-precalculus, trigonometry]        7  \n",
       "8  [abstract-algebra, polynomials, irreducible-po...        8  \n",
       "9                   [proof-writing, article-writing]        9  "
      ]
     },
     "execution_count": 23,
     "metadata": {},
     "output_type": "execute_result"
    }
   ],
   "source": [
    "res_df.head(10)"
   ]
  },
  {
   "cell_type": "code",
   "execution_count": 24,
   "id": "4a2a3e21",
   "metadata": {},
   "outputs": [],
   "source": [
    "final = [(t_id, text, form, tags) for (t_id, text, form, tags) in zip(res_df['text_id'],\n",
    "                                                          res_df['body_markdown'],\n",
    "                                                        res_df['formulae'],\n",
    "                                                        res_df['tags']) if len(form)]"
   ]
  },
  {
   "cell_type": "code",
   "execution_count": 25,
   "id": "2d6deafc",
   "metadata": {},
   "outputs": [
    {
     "data": {
      "text/plain": [
       "926327"
      ]
     },
     "execution_count": 25,
     "metadata": {},
     "output_type": "execute_result"
    }
   ],
   "source": [
    "len(final)"
   ]
  },
  {
   "cell_type": "code",
   "execution_count": 26,
   "id": "66f6c0b7",
   "metadata": {},
   "outputs": [],
   "source": [
    "fin_df = pd.DataFrame.from_records(final, columns =['text_id','body_markdown', 'formulae', 'tags'])"
   ]
  },
  {
   "cell_type": "code",
   "execution_count": 27,
   "id": "d08d535a",
   "metadata": {},
   "outputs": [
    {
     "data": {
      "text/html": [
       "<div>\n",
       "<style scoped>\n",
       "    .dataframe tbody tr th:only-of-type {\n",
       "        vertical-align: middle;\n",
       "    }\n",
       "\n",
       "    .dataframe tbody tr th {\n",
       "        vertical-align: top;\n",
       "    }\n",
       "\n",
       "    .dataframe thead th {\n",
       "        text-align: right;\n",
       "    }\n",
       "</style>\n",
       "<table border=\"1\" class=\"dataframe\">\n",
       "  <thead>\n",
       "    <tr style=\"text-align: right;\">\n",
       "      <th></th>\n",
       "      <th>text_id</th>\n",
       "      <th>body_markdown</th>\n",
       "      <th>formulae</th>\n",
       "      <th>tags</th>\n",
       "    </tr>\n",
       "  </thead>\n",
       "  <tbody>\n",
       "    <tr>\n",
       "      <th>0</th>\n",
       "      <td>0</td>\n",
       "      <td>For [[0]] and [[1]] such that \\r\\n[[2]]\\r\\nthe...</td>\n",
       "      <td>[$0\\lt a\\lt 1$, $b\\gt 0$, $$1-\\frac{\\lfloor a\\...</td>\n",
       "      <td>[inequality, floor-function]</td>\n",
       "    </tr>\n",
       "    <tr>\n",
       "      <th>1</th>\n",
       "      <td>1</td>\n",
       "      <td>It suffices to look at the case [[0]]. Let [[1...</td>\n",
       "      <td>[$n=2$, $E$, $E_1 = \\{x\\in E : f_1(x) \\ge f_2(...</td>\n",
       "      <td>[real-analysis, measure-theory]</td>\n",
       "    </tr>\n",
       "    <tr>\n",
       "      <th>2</th>\n",
       "      <td>2</td>\n",
       "      <td>Since [[0]] are measurable, so are [[1]], and ...</td>\n",
       "      <td>[$f_i$, $f_i - f_j$, $L_{ij} = \\{x: f_i(x) \\le...</td>\n",
       "      <td>[real-analysis, measure-theory]</td>\n",
       "    </tr>\n",
       "    <tr>\n",
       "      <th>3</th>\n",
       "      <td>3</td>\n",
       "      <td>No. Take [[0]] to be the indicator of [[1]]. T...</td>\n",
       "      <td>[$g$, $[0,1]$, $\\|g\\|_2 = 1$, $$\\int_{\\Bbb R} ...</td>\n",
       "      <td>[real-analysis, integration, functional-analysis]</td>\n",
       "    </tr>\n",
       "    <tr>\n",
       "      <th>4</th>\n",
       "      <td>5</td>\n",
       "      <td>The absolute value is very simple:\\r\\n\\r\\n[[0]...</td>\n",
       "      <td>[$$|z^4|=|-1+\\sqrt3 i|=2$$, $$|z|=\\sqrt[4]2$$]</td>\n",
       "      <td>[complex-analysis, complex-numbers]</td>\n",
       "    </tr>\n",
       "    <tr>\n",
       "      <th>...</th>\n",
       "      <td>...</td>\n",
       "      <td>...</td>\n",
       "      <td>...</td>\n",
       "      <td>...</td>\n",
       "    </tr>\n",
       "    <tr>\n",
       "      <th>926322</th>\n",
       "      <td>1026986</td>\n",
       "      <td>Another one that is understandable by high sch...</td>\n",
       "      <td>[$n$, $n^2$, $n$, $(2k)^2 = 2(2k^2)$, $(2k+1)^...</td>\n",
       "      <td>[elementary-number-theory, proof-writing, radi...</td>\n",
       "    </tr>\n",
       "    <tr>\n",
       "      <th>926323</th>\n",
       "      <td>1026987</td>\n",
       "      <td>Let [[0]] be the polynomial equations this hav...</td>\n",
       "      <td>[$x^2-2=0$, $\\pm1,\\pm2$, $\\pm \\sqrt2$]</td>\n",
       "      <td>[elementary-number-theory, proof-writing, radi...</td>\n",
       "    </tr>\n",
       "    <tr>\n",
       "      <th>926324</th>\n",
       "      <td>1026989</td>\n",
       "      <td>This proof is by descent (aka the Well-orderin...</td>\n",
       "      <td>[$n$, $n^2&lt;D&lt;(n+1)^2$, $\\sqrt{D}$, $D=2$, $n=1...</td>\n",
       "      <td>[elementary-number-theory, proof-writing, radi...</td>\n",
       "    </tr>\n",
       "    <tr>\n",
       "      <th>926325</th>\n",
       "      <td>1027011</td>\n",
       "      <td>&gt; A *countably infinite* set is a set for whic...</td>\n",
       "      <td>[$a_1,a_2,a_3,...$, $0,1,-1,2,-2,3,-3,...$, $\\...</td>\n",
       "      <td>[elementary-set-theory, intuition, infinity, faq]</td>\n",
       "    </tr>\n",
       "    <tr>\n",
       "      <th>926326</th>\n",
       "      <td>1027014</td>\n",
       "      <td>\\r\\n&gt; How there can be different kinds of infi...</td>\n",
       "      <td>[$X$, $P(X)$, $f$, $X$, $P(X)$, $f$, $P(X)$, $...</td>\n",
       "      <td>[elementary-set-theory, intuition, infinity, faq]</td>\n",
       "    </tr>\n",
       "  </tbody>\n",
       "</table>\n",
       "<p>926327 rows × 4 columns</p>\n",
       "</div>"
      ],
      "text/plain": [
       "        text_id                                      body_markdown  \\\n",
       "0             0  For [[0]] and [[1]] such that \\r\\n[[2]]\\r\\nthe...   \n",
       "1             1  It suffices to look at the case [[0]]. Let [[1...   \n",
       "2             2  Since [[0]] are measurable, so are [[1]], and ...   \n",
       "3             3  No. Take [[0]] to be the indicator of [[1]]. T...   \n",
       "4             5  The absolute value is very simple:\\r\\n\\r\\n[[0]...   \n",
       "...         ...                                                ...   \n",
       "926322  1026986  Another one that is understandable by high sch...   \n",
       "926323  1026987  Let [[0]] be the polynomial equations this hav...   \n",
       "926324  1026989  This proof is by descent (aka the Well-orderin...   \n",
       "926325  1027011  > A *countably infinite* set is a set for whic...   \n",
       "926326  1027014  \\r\\n> How there can be different kinds of infi...   \n",
       "\n",
       "                                                 formulae  \\\n",
       "0       [$0\\lt a\\lt 1$, $b\\gt 0$, $$1-\\frac{\\lfloor a\\...   \n",
       "1       [$n=2$, $E$, $E_1 = \\{x\\in E : f_1(x) \\ge f_2(...   \n",
       "2       [$f_i$, $f_i - f_j$, $L_{ij} = \\{x: f_i(x) \\le...   \n",
       "3       [$g$, $[0,1]$, $\\|g\\|_2 = 1$, $$\\int_{\\Bbb R} ...   \n",
       "4          [$$|z^4|=|-1+\\sqrt3 i|=2$$, $$|z|=\\sqrt[4]2$$]   \n",
       "...                                                   ...   \n",
       "926322  [$n$, $n^2$, $n$, $(2k)^2 = 2(2k^2)$, $(2k+1)^...   \n",
       "926323             [$x^2-2=0$, $\\pm1,\\pm2$, $\\pm \\sqrt2$]   \n",
       "926324  [$n$, $n^2<D<(n+1)^2$, $\\sqrt{D}$, $D=2$, $n=1...   \n",
       "926325  [$a_1,a_2,a_3,...$, $0,1,-1,2,-2,3,-3,...$, $\\...   \n",
       "926326  [$X$, $P(X)$, $f$, $X$, $P(X)$, $f$, $P(X)$, $...   \n",
       "\n",
       "                                                     tags  \n",
       "0                            [inequality, floor-function]  \n",
       "1                         [real-analysis, measure-theory]  \n",
       "2                         [real-analysis, measure-theory]  \n",
       "3       [real-analysis, integration, functional-analysis]  \n",
       "4                     [complex-analysis, complex-numbers]  \n",
       "...                                                   ...  \n",
       "926322  [elementary-number-theory, proof-writing, radi...  \n",
       "926323  [elementary-number-theory, proof-writing, radi...  \n",
       "926324  [elementary-number-theory, proof-writing, radi...  \n",
       "926325  [elementary-set-theory, intuition, infinity, faq]  \n",
       "926326  [elementary-set-theory, intuition, infinity, faq]  \n",
       "\n",
       "[926327 rows x 4 columns]"
      ]
     },
     "execution_count": 27,
     "metadata": {},
     "output_type": "execute_result"
    }
   ],
   "source": [
    "fin_df\n"
   ]
  },
  {
   "cell_type": "code",
   "execution_count": 28,
   "id": "83cba2cf",
   "metadata": {},
   "outputs": [],
   "source": [
    "# смотрим уникальные формулы\n",
    "unique_forms = extracted_phrases_dataframe['original_formula'].unique()"
   ]
  },
  {
   "cell_type": "code",
   "execution_count": 29,
   "id": "fb98aabd",
   "metadata": {},
   "outputs": [
    {
     "name": "stdout",
     "output_type": "stream",
     "text": [
      "1175201\n"
     ]
    }
   ],
   "source": [
    "# количество достаточно длинных уникальных формул\n",
    "i = 0\n",
    "for form in unique_forms:\n",
    "    if len(form)>50:\n",
    "        i+=1\n",
    "print(i)"
   ]
  },
  {
   "cell_type": "code",
   "execution_count": 34,
   "id": "e79c4041",
   "metadata": {},
   "outputs": [],
   "source": [
    "# переводим в удобный формат\n",
    "# сохраняем таблицу с формулами\n",
    "extracted_phrases_dataframe.to_parquet(\"formulas_table_3-8.parquet\")"
   ]
  },
  {
   "cell_type": "code",
   "execution_count": 33,
   "id": "21aa8b0f",
   "metadata": {},
   "outputs": [],
   "source": [
    "# сохраняем таблицу с текстами для перевода\n",
    "fin_df.to_parquet(\"markdown_table_3-8.parquet\")"
   ]
  }
 ],
 "metadata": {
  "kernelspec": {
   "display_name": "i2dl_env",
   "language": "python",
   "name": "i2dl_env"
  },
  "language_info": {
   "codemirror_mode": {
    "name": "ipython",
    "version": 3
   },
   "file_extension": ".py",
   "mimetype": "text/x-python",
   "name": "python",
   "nbconvert_exporter": "python",
   "pygments_lexer": "ipython3",
   "version": "3.11.7"
  }
 },
 "nbformat": 4,
 "nbformat_minor": 5
}
